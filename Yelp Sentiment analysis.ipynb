{
 "cells": [
  {
   "cell_type": "markdown",
   "metadata": {},
   "source": [
    "# Introduction :\n",
    "- Yelp is a which publish crowd-sourced reviews about local businesses, as well as the online reservation service Yelp Reservations. The company also trains small businesses in how to respond to reviews, hosts social events for reviewers, and provides data about businesses, including health inspection scores.\n",
    "\n",
    "- Yelp was founded in 2004 by former PayPal employees. By 2010 it had $30 million in revenues and the website had published more than 4.5 million crowd-sourced reviews."
   ]
  },
  {
   "cell_type": "markdown",
   "metadata": {},
   "source": [
    "**Attribues of review table are as following :**\n",
    "\n",
    "- review_id: ID of the review\n",
    "- user_id: ID of the user\n",
    "- business_id: ID of the business\n",
    "- stars: ratings of the business\n",
    "- date: review date\n",
    "- text: review from the user\n",
    "- useful: number of users who vote a review as usefull\n",
    "- funny: number of users who vote a review as funny\n",
    "- cool: number of users who vote a review as cool"
   ]
  },
  {
   "cell_type": "markdown",
   "metadata": {},
   "source": [
    "### Yelp Reviews Dataset Exploring"
   ]
  },
  {
   "cell_type": "code",
   "execution_count": 1,
   "metadata": {},
   "outputs": [],
   "source": [
    "import json  \n",
    "import pandas as pd  \n",
    "from pandas.io.json import json_normalize  \n",
    "import numpy as np\n",
    "import matplotlib.pyplot as plt\n",
    "import seaborn as sns\n",
    "import time\n",
    "import csv\n",
    "from sklearn.model_selection import train_test_split\n",
    "from sklearn.feature_extraction.text import CountVectorizer\n",
    "from sklearn.feature_extraction.text import CountVectorizer\n",
    "from sklearn.svm import LinearSVC\n",
    "pd.set_option('display.float_format', lambda x: '%.4f' % x)"
   ]
  },
  {
   "cell_type": "code",
   "execution_count": 2,
   "metadata": {},
   "outputs": [],
   "source": [
    "reviews = pd.read_csv('yelp_review.csv')"
   ]
  },
  {
   "cell_type": "code",
   "execution_count": 3,
   "metadata": {},
   "outputs": [
    {
     "name": "stdout",
     "output_type": "stream",
     "text": [
      "<class 'pandas.core.frame.DataFrame'>\n",
      "RangeIndex: 5261668 entries, 0 to 5261667\n",
      "Data columns (total 9 columns):\n",
      " #   Column       Dtype \n",
      "---  ------       ----- \n",
      " 0   review_id    object\n",
      " 1   user_id      object\n",
      " 2   business_id  object\n",
      " 3   stars        int64 \n",
      " 4   date         object\n",
      " 5   text         object\n",
      " 6   useful       int64 \n",
      " 7   funny        int64 \n",
      " 8   cool         int64 \n",
      "dtypes: int64(4), object(5)\n",
      "memory usage: 361.3+ MB\n"
     ]
    }
   ],
   "source": [
    "reviews.info()"
   ]
  },
  {
   "cell_type": "code",
   "execution_count": 4,
   "metadata": {},
   "outputs": [
    {
     "data": {
      "text/html": [
       "<div>\n",
       "<style scoped>\n",
       "    .dataframe tbody tr th:only-of-type {\n",
       "        vertical-align: middle;\n",
       "    }\n",
       "\n",
       "    .dataframe tbody tr th {\n",
       "        vertical-align: top;\n",
       "    }\n",
       "\n",
       "    .dataframe thead th {\n",
       "        text-align: right;\n",
       "    }\n",
       "</style>\n",
       "<table border=\"1\" class=\"dataframe\">\n",
       "  <thead>\n",
       "    <tr style=\"text-align: right;\">\n",
       "      <th></th>\n",
       "      <th>review_id</th>\n",
       "      <th>user_id</th>\n",
       "      <th>business_id</th>\n",
       "      <th>stars</th>\n",
       "      <th>date</th>\n",
       "      <th>text</th>\n",
       "      <th>useful</th>\n",
       "      <th>funny</th>\n",
       "      <th>cool</th>\n",
       "    </tr>\n",
       "  </thead>\n",
       "  <tbody>\n",
       "    <tr>\n",
       "      <th>0</th>\n",
       "      <td>vkVSCC7xljjrAI4UGfnKEQ</td>\n",
       "      <td>bv2nCi5Qv5vroFiqKGopiw</td>\n",
       "      <td>AEx2SYEUJmTxVVB18LlCwA</td>\n",
       "      <td>5</td>\n",
       "      <td>2016-05-28</td>\n",
       "      <td>Super simple place but amazing nonetheless. It...</td>\n",
       "      <td>0</td>\n",
       "      <td>0</td>\n",
       "      <td>0</td>\n",
       "    </tr>\n",
       "    <tr>\n",
       "      <th>1</th>\n",
       "      <td>n6QzIUObkYshz4dz2QRJTw</td>\n",
       "      <td>bv2nCi5Qv5vroFiqKGopiw</td>\n",
       "      <td>VR6GpWIda3SfvPC-lg9H3w</td>\n",
       "      <td>5</td>\n",
       "      <td>2016-05-28</td>\n",
       "      <td>Small unassuming place that changes their menu...</td>\n",
       "      <td>0</td>\n",
       "      <td>0</td>\n",
       "      <td>0</td>\n",
       "    </tr>\n",
       "    <tr>\n",
       "      <th>2</th>\n",
       "      <td>MV3CcKScW05u5LVfF6ok0g</td>\n",
       "      <td>bv2nCi5Qv5vroFiqKGopiw</td>\n",
       "      <td>CKC0-MOWMqoeWf6s-szl8g</td>\n",
       "      <td>5</td>\n",
       "      <td>2016-05-28</td>\n",
       "      <td>Lester's is located in a beautiful neighborhoo...</td>\n",
       "      <td>0</td>\n",
       "      <td>0</td>\n",
       "      <td>0</td>\n",
       "    </tr>\n",
       "    <tr>\n",
       "      <th>3</th>\n",
       "      <td>IXvOzsEMYtiJI0CARmj77Q</td>\n",
       "      <td>bv2nCi5Qv5vroFiqKGopiw</td>\n",
       "      <td>ACFtxLv8pGrrxMm6EgjreA</td>\n",
       "      <td>4</td>\n",
       "      <td>2016-05-28</td>\n",
       "      <td>Love coming here. Yes the place always needs t...</td>\n",
       "      <td>0</td>\n",
       "      <td>0</td>\n",
       "      <td>0</td>\n",
       "    </tr>\n",
       "    <tr>\n",
       "      <th>4</th>\n",
       "      <td>L_9BTb55X0GDtThi6GlZ6w</td>\n",
       "      <td>bv2nCi5Qv5vroFiqKGopiw</td>\n",
       "      <td>s2I_Ni76bjJNK9yG60iD-Q</td>\n",
       "      <td>4</td>\n",
       "      <td>2016-05-28</td>\n",
       "      <td>Had their chocolate almond croissant and it wa...</td>\n",
       "      <td>0</td>\n",
       "      <td>0</td>\n",
       "      <td>0</td>\n",
       "    </tr>\n",
       "  </tbody>\n",
       "</table>\n",
       "</div>"
      ],
      "text/plain": [
       "                review_id                 user_id             business_id  \\\n",
       "0  vkVSCC7xljjrAI4UGfnKEQ  bv2nCi5Qv5vroFiqKGopiw  AEx2SYEUJmTxVVB18LlCwA   \n",
       "1  n6QzIUObkYshz4dz2QRJTw  bv2nCi5Qv5vroFiqKGopiw  VR6GpWIda3SfvPC-lg9H3w   \n",
       "2  MV3CcKScW05u5LVfF6ok0g  bv2nCi5Qv5vroFiqKGopiw  CKC0-MOWMqoeWf6s-szl8g   \n",
       "3  IXvOzsEMYtiJI0CARmj77Q  bv2nCi5Qv5vroFiqKGopiw  ACFtxLv8pGrrxMm6EgjreA   \n",
       "4  L_9BTb55X0GDtThi6GlZ6w  bv2nCi5Qv5vroFiqKGopiw  s2I_Ni76bjJNK9yG60iD-Q   \n",
       "\n",
       "   stars        date                                               text  \\\n",
       "0      5  2016-05-28  Super simple place but amazing nonetheless. It...   \n",
       "1      5  2016-05-28  Small unassuming place that changes their menu...   \n",
       "2      5  2016-05-28  Lester's is located in a beautiful neighborhoo...   \n",
       "3      4  2016-05-28  Love coming here. Yes the place always needs t...   \n",
       "4      4  2016-05-28  Had their chocolate almond croissant and it wa...   \n",
       "\n",
       "   useful  funny  cool  \n",
       "0       0      0     0  \n",
       "1       0      0     0  \n",
       "2       0      0     0  \n",
       "3       0      0     0  \n",
       "4       0      0     0  "
      ]
     },
     "execution_count": 4,
     "metadata": {},
     "output_type": "execute_result"
    }
   ],
   "source": [
    "reviews.head()"
   ]
  },
  {
   "cell_type": "code",
   "execution_count": 5,
   "metadata": {},
   "outputs": [
    {
     "data": {
      "text/plain": [
       "5261668"
      ]
     },
     "execution_count": 5,
     "metadata": {},
     "output_type": "execute_result"
    }
   ],
   "source": [
    "reviews[\"review_id\"].nunique()"
   ]
  },
  {
   "cell_type": "code",
   "execution_count": 6,
   "metadata": {},
   "outputs": [
    {
     "name": "stdout",
     "output_type": "stream",
     "text": [
      "<class 'pandas.core.frame.DataFrame'>\n",
      "RangeIndex: 5261668 entries, 0 to 5261667\n",
      "Data columns (total 9 columns):\n",
      " #   Column       Dtype \n",
      "---  ------       ----- \n",
      " 0   review_id    object\n",
      " 1   user_id      object\n",
      " 2   business_id  object\n",
      " 3   stars        int64 \n",
      " 4   date         object\n",
      " 5   text         object\n",
      " 6   useful       int64 \n",
      " 7   funny        int64 \n",
      " 8   cool         int64 \n",
      "dtypes: int64(4), object(5)\n",
      "memory usage: 361.3+ MB\n"
     ]
    }
   ],
   "source": [
    "reviews.info()"
   ]
  },
  {
   "cell_type": "code",
   "execution_count": 7,
   "metadata": {},
   "outputs": [],
   "source": [
    "# Distribution graphs (histogram/bar graph) of column data\n",
    "def plotPerColumnDistribution(df, nGraphShown, nGraphPerRow):\n",
    "    nunique = df.nunique()\n",
    "    df = df[[col for col in df if nunique[col] > 1 and nunique[col] < 50]] # For displaying purposes, pick columns that have between 1 and 50 unique values\n",
    "    nRow, nCol = df.shape\n",
    "    columnNames = list(df)\n",
    "    nGraphRow = (nCol + nGraphPerRow - 1) / nGraphPerRow\n",
    "    plt.figure(num = None, figsize = (6 * nGraphPerRow, 8 * nGraphRow), dpi = 80, facecolor = 'w', edgecolor = 'k')\n",
    "    for i in range(min(nCol, nGraphShown)):\n",
    "        plt.subplot(nGraphRow, nGraphPerRow, i + 1)\n",
    "        columnDf = df.iloc[:, i]\n",
    "        if (not np.issubdtype(type(columnDf.iloc[0]), np.number)):\n",
    "            valueCounts = columnDf.value_counts()\n",
    "            valueCounts.plot.bar()\n",
    "        else:\n",
    "            columnDf.hist()\n",
    "        plt.ylabel('counts')\n",
    "        plt.xticks(rotation = 90)\n",
    "        plt.title(f'{columnNames[i]} (column {i})')\n",
    "    plt.tight_layout(pad = 1.0, w_pad = 1.0, h_pad = 1.0)\n",
    "    plt.show()"
   ]
  },
  {
   "cell_type": "markdown",
   "metadata": {},
   "source": [
    "##### Rating distribution :"
   ]
  },
  {
   "cell_type": "code",
   "execution_count": 8,
   "metadata": {},
   "outputs": [
    {
     "data": {
      "image/png": "[encoded data removed]",
      "text/plain": [
       "<Figure size 1440x640 with 1 Axes>"
      ]
     },
     "metadata": {},
     "output_type": "display_data"
    }
   ],
   "source": [
    "plotPerColumnDistribution(reviews,8,3)"
   ]
  },
  {
   "cell_type": "code",
   "execution_count": 9,
   "metadata": {},
   "outputs": [],
   "source": [
    "# Correlation matrix\n",
    "def plotCorrelationMatrix(df, graphWidth):\n",
    "    filename = df.columns.name\n",
    "    df = df.dropna('columns') # drop columns with NaN\n",
    "    df = df[[col for col in df if df[col].nunique() > 1]] # keep columns where there are more than 1 unique values\n",
    "    if df.shape[1] < 2:\n",
    "        print(f'No correlation plots shown: The number of non-NaN or constant columns ({df.shape[1]}) is less than 2')\n",
    "        return\n",
    "    corr = df.corr()\n",
    "    plt.figure(num=None, figsize=(graphWidth, graphWidth), dpi=80, facecolor='w', edgecolor='k')\n",
    "    corrMat = plt.matshow(corr, fignum = 1)\n",
    "    plt.xticks(range(len(corr.columns)), corr.columns, rotation=90)\n",
    "    plt.yticks(range(len(corr.columns)), corr.columns)\n",
    "    plt.gca().xaxis.tick_bottom()\n",
    "    plt.colorbar(corrMat)\n",
    "    plt.title(f'Correlation Matrix for {filename}', fontsize=15)\n",
    "    plt.show()"
   ]
  },
  {
   "cell_type": "code",
   "execution_count": 10,
   "metadata": {},
   "outputs": [
    {
     "data": {
      "image/png": "[encoded data removed]",
      "text/plain": [
       "<Figure size 960x960 with 2 Axes>"
      ]
     },
     "metadata": {},
     "output_type": "display_data"
    }
   ],
   "source": [
    "plotCorrelationMatrix(reviews,12)"
   ]
  },
  {
   "cell_type": "code",
   "execution_count": 11,
   "metadata": {},
   "outputs": [
    {
     "data": {
      "text/plain": [
       "\"Bought groupon $39 for 4 months from groupon, the sign up guy tried so hard to sell a 'new' package to me.  I asked him if I can make up my mind after I tried the gym out first, but he insisted I do it now or else the price will go up.  As a matter of fact, he has a price increase meeting tomorrow....hahaha\\n\\nDid not opt for the 'new' package, stuck with my original package.  He seemed upset...said fine, your membership expires in 4 months, you just get your membership and nothing else, you will have to pay for parking too.  I told him...but I see that there is a sign that says one hr free parking.  umm...err...ehhh...yeah, well, only one hr free, after that you will have to pay $3\\\\/hr.  whatever...\\n\\nAfter signing everything, he said you will get your access card after you finish your assessment (aka personal trainer sales pitch).  I told  him I do not need an assessment as I will only be using the treadmill.  He said I HAVE to get an assessment for insurance purpose....LAAAME!\\n\\nwill update after my physical assessment.\""
      ]
     },
     "execution_count": 11,
     "metadata": {},
     "output_type": "execute_result"
    }
   ],
   "source": [
    "reviews['text'][5261663]"
   ]
  },
  {
   "cell_type": "code",
   "execution_count": 12,
   "metadata": {},
   "outputs": [
    {
     "data": {
      "text/plain": [
       "36"
      ]
     },
     "execution_count": 12,
     "metadata": {},
     "output_type": "execute_result"
    }
   ],
   "source": [
    "reviews['useful'][5261663]"
   ]
  },
  {
   "cell_type": "code",
   "execution_count": 13,
   "metadata": {},
   "outputs": [
    {
     "data": {
      "text/plain": [
       "3"
      ]
     },
     "execution_count": 13,
     "metadata": {},
     "output_type": "execute_result"
    }
   ],
   "source": [
    "reviews['cool'][5261663]"
   ]
  },
  {
   "cell_type": "code",
   "execution_count": 14,
   "metadata": {},
   "outputs": [
    {
     "data": {
      "text/plain": [
       "3"
      ]
     },
     "execution_count": 14,
     "metadata": {},
     "output_type": "execute_result"
    }
   ],
   "source": [
    "reviews['funny'][5261663]"
   ]
  },
  {
   "cell_type": "code",
   "execution_count": 15,
   "metadata": {},
   "outputs": [
    {
     "data": {
      "text/plain": [
       "1"
      ]
     },
     "execution_count": 15,
     "metadata": {},
     "output_type": "execute_result"
    }
   ],
   "source": [
    "reviews['stars'][5261663]"
   ]
  },
  {
   "cell_type": "code",
   "execution_count": 16,
   "metadata": {},
   "outputs": [],
   "source": [
    "# Scatter and density plots\n",
    "def plotScatterMatrix(df, plotSize, textSize):\n",
    "    df = df.select_dtypes(include =[np.number]) # keep only numerical columns\n",
    "    # Remove rows and columns that would lead to df being singular\n",
    "    df = df.dropna('columns')\n",
    "    df = df[[col for col in df if df[col].nunique() > 1]] # keep columns where there are more than 1 unique values\n",
    "    columnNames = list(df)\n",
    "    if len(columnNames) > 10: # reduce the number of columns for matrix inversion of kernel density plots\n",
    "        columnNames = columnNames[:10]\n",
    "    df = df[columnNames]\n",
    "    ax = pd.plotting.scatter_matrix(df, alpha=0.75, figsize=[plotSize, plotSize], diagonal='kde')\n",
    "    corrs = df.corr().values\n",
    "    for i, j in zip(*plt.np.triu_indices_from(ax, k = 1)):\n",
    "        ax[i, j].annotate('Corr. coef = %.3f' % corrs[i, j], (0.8, 0.2), xycoords='axes fraction', ha='center', va='center', size=textSize)\n",
    "    plt.suptitle('Scatter and Density Plot')\n",
    "    plt.show()"
   ]
  },
  {
   "cell_type": "code",
   "execution_count": 17,
   "metadata": {},
   "outputs": [],
   "source": [
    "#plotScatterMatrix(review,12,15)"
   ]
  },
  {
   "cell_type": "code",
   "execution_count": 18,
   "metadata": {},
   "outputs": [
    {
     "data": {
      "text/plain": [
       "review_id      0\n",
       "user_id        0\n",
       "business_id    0\n",
       "stars          0\n",
       "date           0\n",
       "text           0\n",
       "useful         0\n",
       "funny          0\n",
       "cool           0\n",
       "dtype: int64"
      ]
     },
     "execution_count": 18,
     "metadata": {},
     "output_type": "execute_result"
    }
   ],
   "source": [
    "reviews.isnull().sum()"
   ]
  },
  {
   "cell_type": "code",
   "execution_count": 19,
   "metadata": {
    "scrolled": true
   },
   "outputs": [
    {
     "data": {
      "text/plain": [
       "0"
      ]
     },
     "execution_count": 19,
     "metadata": {},
     "output_type": "execute_result"
    }
   ],
   "source": [
    "reviews.review_id.duplicated().sum()"
   ]
  },
  {
   "cell_type": "markdown",
   "metadata": {},
   "source": [
    "**No Nulls or Duplicates**"
   ]
  },
  {
   "cell_type": "markdown",
   "metadata": {},
   "source": [
    "## Yelp Business Dataset Exploring"
   ]
  },
  {
   "cell_type": "markdown",
   "metadata": {},
   "source": [
    "**Attributes of business table are as following:**\n",
    "\n",
    "- business_id: ID of the business\n",
    "- name: name of the business\n",
    "- address: address of the business\n",
    "- city: city of the business\n",
    "- state: state of the business\n",
    "- postal_code: postal code of the business\n",
    "- latitude: latitude of the business\n",
    "- longitude: longitude of the business\n",
    "- stars: average rating of the business\n",
    "- review_count: number of reviews received\n",
    "- is_open: 1 if the business is open, 0 therwise\n",
    "- categories: multiple categories of the business"
   ]
  },
  {
   "cell_type": "code",
   "execution_count": 20,
   "metadata": {},
   "outputs": [
    {
     "data": {
      "text/html": [
       "<div>\n",
       "<style scoped>\n",
       "    .dataframe tbody tr th:only-of-type {\n",
       "        vertical-align: middle;\n",
       "    }\n",
       "\n",
       "    .dataframe tbody tr th {\n",
       "        vertical-align: top;\n",
       "    }\n",
       "\n",
       "    .dataframe thead th {\n",
       "        text-align: right;\n",
       "    }\n",
       "</style>\n",
       "<table border=\"1\" class=\"dataframe\">\n",
       "  <thead>\n",
       "    <tr style=\"text-align: right;\">\n",
       "      <th></th>\n",
       "      <th>business_id</th>\n",
       "      <th>name</th>\n",
       "      <th>address</th>\n",
       "      <th>city</th>\n",
       "      <th>state</th>\n",
       "      <th>postal_code</th>\n",
       "      <th>latitude</th>\n",
       "      <th>longitude</th>\n",
       "      <th>stars</th>\n",
       "      <th>review_count</th>\n",
       "      <th>is_open</th>\n",
       "      <th>attributes</th>\n",
       "      <th>categories</th>\n",
       "      <th>hours</th>\n",
       "    </tr>\n",
       "  </thead>\n",
       "  <tbody>\n",
       "    <tr>\n",
       "      <th>0</th>\n",
       "      <td>f9NumwFMBDn751xgFiRbNA</td>\n",
       "      <td>The Range At Lake Norman</td>\n",
       "      <td>10913 Bailey Rd</td>\n",
       "      <td>Cornelius</td>\n",
       "      <td>NC</td>\n",
       "      <td>28031</td>\n",
       "      <td>35.4627</td>\n",
       "      <td>-80.8526</td>\n",
       "      <td>3.5000</td>\n",
       "      <td>36</td>\n",
       "      <td>1</td>\n",
       "      <td>{'BusinessAcceptsCreditCards': 'True', 'BikePa...</td>\n",
       "      <td>Active Life, Gun/Rifle Ranges, Guns &amp; Ammo, Sh...</td>\n",
       "      <td>{'Monday': '10:0-18:0', 'Tuesday': '11:0-20:0'...</td>\n",
       "    </tr>\n",
       "    <tr>\n",
       "      <th>1</th>\n",
       "      <td>Yzvjg0SayhoZgCljUJRF9Q</td>\n",
       "      <td>Carlos Santo, NMD</td>\n",
       "      <td>8880 E Via Linda, Ste 107</td>\n",
       "      <td>Scottsdale</td>\n",
       "      <td>AZ</td>\n",
       "      <td>85258</td>\n",
       "      <td>33.5694</td>\n",
       "      <td>-111.8903</td>\n",
       "      <td>5.0000</td>\n",
       "      <td>4</td>\n",
       "      <td>1</td>\n",
       "      <td>{'GoodForKids': 'True', 'ByAppointmentOnly': '...</td>\n",
       "      <td>Health &amp; Medical, Fitness &amp; Instruction, Yoga,...</td>\n",
       "      <td>NaN</td>\n",
       "    </tr>\n",
       "    <tr>\n",
       "      <th>2</th>\n",
       "      <td>XNoUzKckATkOD1hP6vghZg</td>\n",
       "      <td>Felinus</td>\n",
       "      <td>3554 Rue Notre-Dame O</td>\n",
       "      <td>Montreal</td>\n",
       "      <td>QC</td>\n",
       "      <td>H4C 1P4</td>\n",
       "      <td>45.4800</td>\n",
       "      <td>-73.5801</td>\n",
       "      <td>5.0000</td>\n",
       "      <td>5</td>\n",
       "      <td>1</td>\n",
       "      <td>NaN</td>\n",
       "      <td>Pets, Pet Services, Pet Groomers</td>\n",
       "      <td>NaN</td>\n",
       "    </tr>\n",
       "    <tr>\n",
       "      <th>3</th>\n",
       "      <td>6OAZjbxqM5ol29BuHsil3w</td>\n",
       "      <td>Nevada House of Hose</td>\n",
       "      <td>1015 Sharp Cir</td>\n",
       "      <td>North Las Vegas</td>\n",
       "      <td>NV</td>\n",
       "      <td>89030</td>\n",
       "      <td>36.2197</td>\n",
       "      <td>-115.1277</td>\n",
       "      <td>2.5000</td>\n",
       "      <td>3</td>\n",
       "      <td>0</td>\n",
       "      <td>{'BusinessAcceptsCreditCards': 'True', 'ByAppo...</td>\n",
       "      <td>Hardware Stores, Home Services, Building Suppl...</td>\n",
       "      <td>{'Monday': '7:0-16:0', 'Tuesday': '7:0-16:0', ...</td>\n",
       "    </tr>\n",
       "    <tr>\n",
       "      <th>4</th>\n",
       "      <td>51M2Kk903DFYI6gnB5I6SQ</td>\n",
       "      <td>USE MY GUY SERVICES LLC</td>\n",
       "      <td>4827 E Downing Cir</td>\n",
       "      <td>Mesa</td>\n",
       "      <td>AZ</td>\n",
       "      <td>85205</td>\n",
       "      <td>33.4281</td>\n",
       "      <td>-111.7266</td>\n",
       "      <td>4.5000</td>\n",
       "      <td>26</td>\n",
       "      <td>1</td>\n",
       "      <td>{'BusinessAcceptsCreditCards': 'True', 'ByAppo...</td>\n",
       "      <td>Home Services, Plumbing, Electricians, Handyma...</td>\n",
       "      <td>{'Monday': '0:0-0:0', 'Tuesday': '9:0-16:0', '...</td>\n",
       "    </tr>\n",
       "  </tbody>\n",
       "</table>\n",
       "</div>"
      ],
      "text/plain": [
       "              business_id                      name  \\\n",
       "0  f9NumwFMBDn751xgFiRbNA  The Range At Lake Norman   \n",
       "1  Yzvjg0SayhoZgCljUJRF9Q         Carlos Santo, NMD   \n",
       "2  XNoUzKckATkOD1hP6vghZg                   Felinus   \n",
       "3  6OAZjbxqM5ol29BuHsil3w      Nevada House of Hose   \n",
       "4  51M2Kk903DFYI6gnB5I6SQ   USE MY GUY SERVICES LLC   \n",
       "\n",
       "                     address             city state postal_code  latitude  \\\n",
       "0            10913 Bailey Rd        Cornelius    NC       28031   35.4627   \n",
       "1  8880 E Via Linda, Ste 107       Scottsdale    AZ       85258   33.5694   \n",
       "2      3554 Rue Notre-Dame O         Montreal    QC     H4C 1P4   45.4800   \n",
       "3             1015 Sharp Cir  North Las Vegas    NV       89030   36.2197   \n",
       "4         4827 E Downing Cir             Mesa    AZ       85205   33.4281   \n",
       "\n",
       "   longitude  stars  review_count  is_open  \\\n",
       "0   -80.8526 3.5000            36        1   \n",
       "1  -111.8903 5.0000             4        1   \n",
       "2   -73.5801 5.0000             5        1   \n",
       "3  -115.1277 2.5000             3        0   \n",
       "4  -111.7266 4.5000            26        1   \n",
       "\n",
       "                                          attributes  \\\n",
       "0  {'BusinessAcceptsCreditCards': 'True', 'BikePa...   \n",
       "1  {'GoodForKids': 'True', 'ByAppointmentOnly': '...   \n",
       "2                                                NaN   \n",
       "3  {'BusinessAcceptsCreditCards': 'True', 'ByAppo...   \n",
       "4  {'BusinessAcceptsCreditCards': 'True', 'ByAppo...   \n",
       "\n",
       "                                          categories  \\\n",
       "0  Active Life, Gun/Rifle Ranges, Guns & Ammo, Sh...   \n",
       "1  Health & Medical, Fitness & Instruction, Yoga,...   \n",
       "2                   Pets, Pet Services, Pet Groomers   \n",
       "3  Hardware Stores, Home Services, Building Suppl...   \n",
       "4  Home Services, Plumbing, Electricians, Handyma...   \n",
       "\n",
       "                                               hours  \n",
       "0  {'Monday': '10:0-18:0', 'Tuesday': '11:0-20:0'...  \n",
       "1                                                NaN  \n",
       "2                                                NaN  \n",
       "3  {'Monday': '7:0-16:0', 'Tuesday': '7:0-16:0', ...  \n",
       "4  {'Monday': '0:0-0:0', 'Tuesday': '9:0-16:0', '...  "
      ]
     },
     "execution_count": 20,
     "metadata": {},
     "output_type": "execute_result"
    }
   ],
   "source": [
    "business = pd.read_csv('yelp_business.csv')\n",
    "business.head()"
   ]
  },
  {
   "cell_type": "code",
   "execution_count": 21,
   "metadata": {},
   "outputs": [
    {
     "data": {
      "text/html": [
       "<div>\n",
       "<style scoped>\n",
       "    .dataframe tbody tr th:only-of-type {\n",
       "        vertical-align: middle;\n",
       "    }\n",
       "\n",
       "    .dataframe tbody tr th {\n",
       "        vertical-align: top;\n",
       "    }\n",
       "\n",
       "    .dataframe thead th {\n",
       "        text-align: right;\n",
       "    }\n",
       "</style>\n",
       "<table border=\"1\" class=\"dataframe\">\n",
       "  <thead>\n",
       "    <tr style=\"text-align: right;\">\n",
       "      <th></th>\n",
       "      <th>business_id</th>\n",
       "      <th>name</th>\n",
       "      <th>address</th>\n",
       "      <th>city</th>\n",
       "      <th>state</th>\n",
       "      <th>postal_code</th>\n",
       "      <th>latitude</th>\n",
       "      <th>longitude</th>\n",
       "      <th>stars</th>\n",
       "      <th>review_count</th>\n",
       "      <th>is_open</th>\n",
       "      <th>attributes</th>\n",
       "      <th>categories</th>\n",
       "      <th>hours</th>\n",
       "    </tr>\n",
       "  </thead>\n",
       "  <tbody>\n",
       "    <tr>\n",
       "      <th>0</th>\n",
       "      <td>f9NumwFMBDn751xgFiRbNA</td>\n",
       "      <td>The Range At Lake Norman</td>\n",
       "      <td>10913 Bailey Rd</td>\n",
       "      <td>Cornelius</td>\n",
       "      <td>NC</td>\n",
       "      <td>28031</td>\n",
       "      <td>35.4627</td>\n",
       "      <td>-80.8526</td>\n",
       "      <td>3.5000</td>\n",
       "      <td>36</td>\n",
       "      <td>1</td>\n",
       "      <td>{'BusinessAcceptsCreditCards': 'True', 'BikePa...</td>\n",
       "      <td>Active Life, Gun/Rifle Ranges, Guns &amp; Ammo, Sh...</td>\n",
       "      <td>{'Monday': '10:0-18:0', 'Tuesday': '11:0-20:0'...</td>\n",
       "    </tr>\n",
       "    <tr>\n",
       "      <th>1</th>\n",
       "      <td>Yzvjg0SayhoZgCljUJRF9Q</td>\n",
       "      <td>Carlos Santo, NMD</td>\n",
       "      <td>8880 E Via Linda, Ste 107</td>\n",
       "      <td>Scottsdale</td>\n",
       "      <td>AZ</td>\n",
       "      <td>85258</td>\n",
       "      <td>33.5694</td>\n",
       "      <td>-111.8903</td>\n",
       "      <td>5.0000</td>\n",
       "      <td>4</td>\n",
       "      <td>1</td>\n",
       "      <td>{'GoodForKids': 'True', 'ByAppointmentOnly': '...</td>\n",
       "      <td>Health &amp; Medical, Fitness &amp; Instruction, Yoga,...</td>\n",
       "      <td>NaN</td>\n",
       "    </tr>\n",
       "    <tr>\n",
       "      <th>2</th>\n",
       "      <td>XNoUzKckATkOD1hP6vghZg</td>\n",
       "      <td>Felinus</td>\n",
       "      <td>3554 Rue Notre-Dame O</td>\n",
       "      <td>Montreal</td>\n",
       "      <td>QC</td>\n",
       "      <td>H4C 1P4</td>\n",
       "      <td>45.4800</td>\n",
       "      <td>-73.5801</td>\n",
       "      <td>5.0000</td>\n",
       "      <td>5</td>\n",
       "      <td>1</td>\n",
       "      <td>NaN</td>\n",
       "      <td>Pets, Pet Services, Pet Groomers</td>\n",
       "      <td>NaN</td>\n",
       "    </tr>\n",
       "    <tr>\n",
       "      <th>3</th>\n",
       "      <td>6OAZjbxqM5ol29BuHsil3w</td>\n",
       "      <td>Nevada House of Hose</td>\n",
       "      <td>1015 Sharp Cir</td>\n",
       "      <td>North Las Vegas</td>\n",
       "      <td>NV</td>\n",
       "      <td>89030</td>\n",
       "      <td>36.2197</td>\n",
       "      <td>-115.1277</td>\n",
       "      <td>2.5000</td>\n",
       "      <td>3</td>\n",
       "      <td>0</td>\n",
       "      <td>{'BusinessAcceptsCreditCards': 'True', 'ByAppo...</td>\n",
       "      <td>Hardware Stores, Home Services, Building Suppl...</td>\n",
       "      <td>{'Monday': '7:0-16:0', 'Tuesday': '7:0-16:0', ...</td>\n",
       "    </tr>\n",
       "    <tr>\n",
       "      <th>4</th>\n",
       "      <td>51M2Kk903DFYI6gnB5I6SQ</td>\n",
       "      <td>USE MY GUY SERVICES LLC</td>\n",
       "      <td>4827 E Downing Cir</td>\n",
       "      <td>Mesa</td>\n",
       "      <td>AZ</td>\n",
       "      <td>85205</td>\n",
       "      <td>33.4281</td>\n",
       "      <td>-111.7266</td>\n",
       "      <td>4.5000</td>\n",
       "      <td>26</td>\n",
       "      <td>1</td>\n",
       "      <td>{'BusinessAcceptsCreditCards': 'True', 'ByAppo...</td>\n",
       "      <td>Home Services, Plumbing, Electricians, Handyma...</td>\n",
       "      <td>{'Monday': '0:0-0:0', 'Tuesday': '9:0-16:0', '...</td>\n",
       "    </tr>\n",
       "  </tbody>\n",
       "</table>\n",
       "</div>"
      ],
      "text/plain": [
       "              business_id                      name  \\\n",
       "0  f9NumwFMBDn751xgFiRbNA  The Range At Lake Norman   \n",
       "1  Yzvjg0SayhoZgCljUJRF9Q         Carlos Santo, NMD   \n",
       "2  XNoUzKckATkOD1hP6vghZg                   Felinus   \n",
       "3  6OAZjbxqM5ol29BuHsil3w      Nevada House of Hose   \n",
       "4  51M2Kk903DFYI6gnB5I6SQ   USE MY GUY SERVICES LLC   \n",
       "\n",
       "                     address             city state postal_code  latitude  \\\n",
       "0            10913 Bailey Rd        Cornelius    NC       28031   35.4627   \n",
       "1  8880 E Via Linda, Ste 107       Scottsdale    AZ       85258   33.5694   \n",
       "2      3554 Rue Notre-Dame O         Montreal    QC     H4C 1P4   45.4800   \n",
       "3             1015 Sharp Cir  North Las Vegas    NV       89030   36.2197   \n",
       "4         4827 E Downing Cir             Mesa    AZ       85205   33.4281   \n",
       "\n",
       "   longitude  stars  review_count  is_open  \\\n",
       "0   -80.8526 3.5000            36        1   \n",
       "1  -111.8903 5.0000             4        1   \n",
       "2   -73.5801 5.0000             5        1   \n",
       "3  -115.1277 2.5000             3        0   \n",
       "4  -111.7266 4.5000            26        1   \n",
       "\n",
       "                                          attributes  \\\n",
       "0  {'BusinessAcceptsCreditCards': 'True', 'BikePa...   \n",
       "1  {'GoodForKids': 'True', 'ByAppointmentOnly': '...   \n",
       "2                                                NaN   \n",
       "3  {'BusinessAcceptsCreditCards': 'True', 'ByAppo...   \n",
       "4  {'BusinessAcceptsCreditCards': 'True', 'ByAppo...   \n",
       "\n",
       "                                          categories  \\\n",
       "0  Active Life, Gun/Rifle Ranges, Guns & Ammo, Sh...   \n",
       "1  Health & Medical, Fitness & Instruction, Yoga,...   \n",
       "2                   Pets, Pet Services, Pet Groomers   \n",
       "3  Hardware Stores, Home Services, Building Suppl...   \n",
       "4  Home Services, Plumbing, Electricians, Handyma...   \n",
       "\n",
       "                                               hours  \n",
       "0  {'Monday': '10:0-18:0', 'Tuesday': '11:0-20:0'...  \n",
       "1                                                NaN  \n",
       "2                                                NaN  \n",
       "3  {'Monday': '7:0-16:0', 'Tuesday': '7:0-16:0', ...  \n",
       "4  {'Monday': '0:0-0:0', 'Tuesday': '9:0-16:0', '...  "
      ]
     },
     "execution_count": 21,
     "metadata": {},
     "output_type": "execute_result"
    }
   ],
   "source": [
    "## remove quotation marks in name and address column\n",
    "business.name=business.name.str.replace('\"','')\n",
    "business.address=business.address.str.replace('\"','')\n",
    "\n",
    "## filter restaurants of US\n",
    "states = [\"AL\", \"AK\", \"AZ\", \"AR\", \"CA\", \"CO\", \"CT\", \"DC\", \"DE\", \"FL\", \"GA\", \n",
    "          \"HI\", \"ID\", \"IL\", \"IN\", \"IA\", \"KS\", \"KY\", \"LA\", \"ME\", \"MD\", \n",
    "          \"MA\", \"MI\", \"MN\", \"MS\", \"MO\", \"MT\", \"NE\", \"NV\", \"NH\", \"NJ\", \n",
    "          \"NM\", \"NY\", \"NC\", \"ND\", \"OH\", \"OK\", \"OR\", \"PA\", \"RI\", \"SC\", \n",
    "          \"SD\", \"TN\", \"TX\", \"UT\", \"VT\", \"VA\", \"WA\", \"WV\", \"WI\", \"WY\"]\n",
    "usa=business.loc[business['state'].isin(states)]\n",
    "business.head()"
   ]
  },
  {
   "cell_type": "code",
   "execution_count": 22,
   "metadata": {},
   "outputs": [
    {
     "name": "stderr",
     "output_type": "stream",
     "text": [
      "<ipython-input-22-a7515825291a>:6: DeprecationWarning: The default dtype for empty Series will be 'object' instead of 'float64' in a future version. Specify a dtype explicitly to silence this warning.\n",
      "  us_restaurants['category']=pd.Series()\n",
      "<ipython-input-22-a7515825291a>:6: SettingWithCopyWarning: \n",
      "A value is trying to be set on a copy of a slice from a DataFrame.\n",
      "Try using .loc[row_indexer,col_indexer] = value instead\n",
      "\n",
      "See the caveats in the documentation: https://pandas.pydata.org/pandas-docs/stable/user_guide/indexing.html#returning-a-view-versus-a-copy\n",
      "  us_restaurants['category']=pd.Series()\n",
      "C:\\Anaconda3\\lib\\site-packages\\pandas\\core\\indexing.py:966: SettingWithCopyWarning: \n",
      "A value is trying to be set on a copy of a slice from a DataFrame.\n",
      "Try using .loc[row_indexer,col_indexer] = value instead\n",
      "\n",
      "See the caveats in the documentation: https://pandas.pydata.org/pandas-docs/stable/user_guide/indexing.html#returning-a-view-versus-a-copy\n",
      "  self.obj[item] = s\n"
     ]
    },
    {
     "data": {
      "text/plain": [
       "8             NaN\n",
       "20            NaN\n",
       "33            NaN\n",
       "36        Mexican\n",
       "41     Vietnamese\n",
       "42       American\n",
       "44        Mexican\n",
       "46       American\n",
       "49            NaN\n",
       "50        Chinese\n",
       "54            NaN\n",
       "59            NaN\n",
       "61       American\n",
       "63            NaN\n",
       "83       American\n",
       "86            NaN\n",
       "89           Thai\n",
       "100           NaN\n",
       "101           NaN\n",
       "102           NaN\n",
       "Name: category, dtype: object"
      ]
     },
     "execution_count": 22,
     "metadata": {},
     "output_type": "execute_result"
    }
   ],
   "source": [
    "## select all restaurants in USA\n",
    "us_restaurants=usa[usa['categories'].str.contains('Restaurants') == True]\n",
    "\n",
    "## select out 16 cuisine types of restaurants and rename the category\n",
    "us_restaurants.is_copy=False\n",
    "us_restaurants['category']=pd.Series()\n",
    "us_restaurants.loc[us_restaurants.categories.str.contains('American'),'category'] = 'American'\n",
    "us_restaurants.loc[us_restaurants.categories.str.contains('Mexican'), 'category'] = 'Mexican'\n",
    "us_restaurants.loc[us_restaurants.categories.str.contains('Italian'), 'category'] = 'Italian'\n",
    "us_restaurants.loc[us_restaurants.categories.str.contains('Japanese'), 'category'] = 'Japanese'\n",
    "us_restaurants.loc[us_restaurants.categories.str.contains('Chinese'), 'category'] = 'Chinese'\n",
    "us_restaurants.loc[us_restaurants.categories.str.contains('Thai'), 'category'] = 'Thai'\n",
    "us_restaurants.loc[us_restaurants.categories.str.contains('Mediterranean'), 'category'] = 'Mediterranean'\n",
    "us_restaurants.loc[us_restaurants.categories.str.contains('French'), 'category'] = 'French'\n",
    "us_restaurants.loc[us_restaurants.categories.str.contains('Vietnamese'), 'category'] = 'Vietnamese'\n",
    "us_restaurants.loc[us_restaurants.categories.str.contains('Greek'),'category'] = 'Greek'\n",
    "us_restaurants.loc[us_restaurants.categories.str.contains('Indian'),'category'] = 'Indian'\n",
    "us_restaurants.loc[us_restaurants.categories.str.contains('Korean'),'category'] = 'Korean'\n",
    "us_restaurants.loc[us_restaurants.categories.str.contains('Hawaiian'),'category'] = 'Hawaiian'\n",
    "us_restaurants.loc[us_restaurants.categories.str.contains('African'),'category'] = 'African'\n",
    "us_restaurants.loc[us_restaurants.categories.str.contains('Spanish'),'category'] = 'Spanish'\n",
    "us_restaurants.loc[us_restaurants.categories.str.contains('Middle_eastern'),'category'] = 'Middle_eastern'\n",
    "us_restaurants.category[:20]"
   ]
  },
  {
   "cell_type": "code",
   "execution_count": 23,
   "metadata": {},
   "outputs": [
    {
     "data": {
      "text/html": [
       "<div>\n",
       "<style scoped>\n",
       "    .dataframe tbody tr th:only-of-type {\n",
       "        vertical-align: middle;\n",
       "    }\n",
       "\n",
       "    .dataframe tbody tr th {\n",
       "        vertical-align: top;\n",
       "    }\n",
       "\n",
       "    .dataframe thead th {\n",
       "        text-align: right;\n",
       "    }\n",
       "</style>\n",
       "<table border=\"1\" class=\"dataframe\">\n",
       "  <thead>\n",
       "    <tr style=\"text-align: right;\">\n",
       "      <th></th>\n",
       "      <th>business_id</th>\n",
       "      <th>name</th>\n",
       "      <th>address</th>\n",
       "      <th>city</th>\n",
       "      <th>state</th>\n",
       "      <th>postal_code</th>\n",
       "      <th>latitude</th>\n",
       "      <th>longitude</th>\n",
       "      <th>stars</th>\n",
       "      <th>review_count</th>\n",
       "      <th>is_open</th>\n",
       "      <th>attributes</th>\n",
       "      <th>categories</th>\n",
       "      <th>hours</th>\n",
       "      <th>category</th>\n",
       "    </tr>\n",
       "  </thead>\n",
       "  <tbody>\n",
       "    <tr>\n",
       "      <th>8</th>\n",
       "      <td>pQeaRpvuhoEqudo3uymHIQ</td>\n",
       "      <td>The Empanadas House</td>\n",
       "      <td>404 E Green St</td>\n",
       "      <td>Champaign</td>\n",
       "      <td>IL</td>\n",
       "      <td>61820</td>\n",
       "      <td>40.1104</td>\n",
       "      <td>-88.2331</td>\n",
       "      <td>4.5000</td>\n",
       "      <td>5</td>\n",
       "      <td>1</td>\n",
       "      <td>{'RestaurantsAttire': \"u'casual'\", 'Restaurant...</td>\n",
       "      <td>Ethnic Food, Food Trucks, Specialty Food, Impo...</td>\n",
       "      <td>{'Monday': '11:30-14:30', 'Tuesday': '11:30-14...</td>\n",
       "      <td>NaN</td>\n",
       "    </tr>\n",
       "    <tr>\n",
       "      <th>20</th>\n",
       "      <td>CsLQLiRoafpJPJSkNX2h5Q</td>\n",
       "      <td>Middle East Deli</td>\n",
       "      <td>4508 E Independence Blvd</td>\n",
       "      <td>Charlotte</td>\n",
       "      <td>NC</td>\n",
       "      <td>28205</td>\n",
       "      <td>35.1949</td>\n",
       "      <td>-80.7674</td>\n",
       "      <td>3.0000</td>\n",
       "      <td>5</td>\n",
       "      <td>0</td>\n",
       "      <td>{'RestaurantsGoodForGroups': 'True', 'OutdoorS...</td>\n",
       "      <td>Food, Restaurants, Grocery, Middle Eastern</td>\n",
       "      <td>NaN</td>\n",
       "      <td>NaN</td>\n",
       "    </tr>\n",
       "    <tr>\n",
       "      <th>33</th>\n",
       "      <td>vjTVxnsQEZ34XjYNS-XUpA</td>\n",
       "      <td>Wetzel's Pretzels</td>\n",
       "      <td>4550 East Cactus Rd, #KSFC-4</td>\n",
       "      <td>Phoenix</td>\n",
       "      <td>AZ</td>\n",
       "      <td>85032</td>\n",
       "      <td>33.6028</td>\n",
       "      <td>-111.9835</td>\n",
       "      <td>4.0000</td>\n",
       "      <td>10</td>\n",
       "      <td>1</td>\n",
       "      <td>{'GoodForKids': 'True', 'RestaurantsTakeOut': ...</td>\n",
       "      <td>Food, Pretzels, Bakeries, Fast Food, Restaurants</td>\n",
       "      <td>{'Monday': '10:0-21:0', 'Tuesday': '10:0-21:0'...</td>\n",
       "      <td>NaN</td>\n",
       "    </tr>\n",
       "    <tr>\n",
       "      <th>36</th>\n",
       "      <td>fnZrZlqW1Z8iWgTVDfv_MA</td>\n",
       "      <td>Carl's Jr</td>\n",
       "      <td>9595 W Tropicana Ave</td>\n",
       "      <td>Las Vegas</td>\n",
       "      <td>NV</td>\n",
       "      <td>89147</td>\n",
       "      <td>36.0997</td>\n",
       "      <td>-115.3016</td>\n",
       "      <td>2.5000</td>\n",
       "      <td>15</td>\n",
       "      <td>0</td>\n",
       "      <td>{'Alcohol': \"u'none'\", 'WiFi': \"u'no'\", 'GoodF...</td>\n",
       "      <td>Mexican, Restaurants, Fast Food</td>\n",
       "      <td>NaN</td>\n",
       "      <td>Mexican</td>\n",
       "    </tr>\n",
       "    <tr>\n",
       "      <th>41</th>\n",
       "      <td>98hyK2QEUeI8v2y0AghfZA</td>\n",
       "      <td>Pho Lee's Vietnamese Restaurant</td>\n",
       "      <td>1541 E 38th St, Ste 101</td>\n",
       "      <td>Cleveland</td>\n",
       "      <td>OH</td>\n",
       "      <td>44114</td>\n",
       "      <td>41.5122</td>\n",
       "      <td>-81.6633</td>\n",
       "      <td>4.5000</td>\n",
       "      <td>23</td>\n",
       "      <td>1</td>\n",
       "      <td>{'BusinessParking': 'None', 'Ambience': \"{'tou...</td>\n",
       "      <td>Restaurants, Vietnamese, Soup</td>\n",
       "      <td>{'Monday': '11:0-20:0', 'Wednesday': '11:0-20:...</td>\n",
       "      <td>Vietnamese</td>\n",
       "    </tr>\n",
       "    <tr>\n",
       "      <th>...</th>\n",
       "      <td>...</td>\n",
       "      <td>...</td>\n",
       "      <td>...</td>\n",
       "      <td>...</td>\n",
       "      <td>...</td>\n",
       "      <td>...</td>\n",
       "      <td>...</td>\n",
       "      <td>...</td>\n",
       "      <td>...</td>\n",
       "      <td>...</td>\n",
       "      <td>...</td>\n",
       "      <td>...</td>\n",
       "      <td>...</td>\n",
       "      <td>...</td>\n",
       "      <td>...</td>\n",
       "    </tr>\n",
       "    <tr>\n",
       "      <th>209380</th>\n",
       "      <td>YZeUH6zYS0dq5QHLYZhUnQ</td>\n",
       "      <td>Hooters</td>\n",
       "      <td>2820 N 75th Ave</td>\n",
       "      <td>Phoenix</td>\n",
       "      <td>AZ</td>\n",
       "      <td>85035</td>\n",
       "      <td>33.4791</td>\n",
       "      <td>-112.2211</td>\n",
       "      <td>2.0000</td>\n",
       "      <td>106</td>\n",
       "      <td>1</td>\n",
       "      <td>{'NoiseLevel': \"'very_loud'\", 'WiFi': \"'no'\", ...</td>\n",
       "      <td>Nightlife, American (Traditional), Chicken Win...</td>\n",
       "      <td>NaN</td>\n",
       "      <td>American</td>\n",
       "    </tr>\n",
       "    <tr>\n",
       "      <th>209381</th>\n",
       "      <td>xVpE01l6ZXdEtVf5PkRpDg</td>\n",
       "      <td>Julep</td>\n",
       "      <td>829 E Washington Ave</td>\n",
       "      <td>Madison</td>\n",
       "      <td>WI</td>\n",
       "      <td>53703</td>\n",
       "      <td>43.0810</td>\n",
       "      <td>-89.3740</td>\n",
       "      <td>4.0000</td>\n",
       "      <td>95</td>\n",
       "      <td>0</td>\n",
       "      <td>{'NoiseLevel': \"u'average'\", 'BikeParking': 'T...</td>\n",
       "      <td>Nightlife, Diners, Bars, Southern, Restaurants</td>\n",
       "      <td>{'Monday': '16:0-22:0', 'Tuesday': '16:0-22:0'...</td>\n",
       "      <td>NaN</td>\n",
       "    </tr>\n",
       "    <tr>\n",
       "      <th>209383</th>\n",
       "      <td>BAVuLTDmpSzDCk37A5HjtQ</td>\n",
       "      <td>Bruegger's Bagels</td>\n",
       "      <td>27045 Lorain Rd</td>\n",
       "      <td>North Olmsted</td>\n",
       "      <td>OH</td>\n",
       "      <td>44070</td>\n",
       "      <td>41.4166</td>\n",
       "      <td>-81.9214</td>\n",
       "      <td>3.0000</td>\n",
       "      <td>13</td>\n",
       "      <td>0</td>\n",
       "      <td>{'NoiseLevel': \"u'average'\", 'BikeParking': 'F...</td>\n",
       "      <td>Restaurants, Sandwiches, Food, Breakfast &amp; Bru...</td>\n",
       "      <td>{'Monday': '5:30-15:0', 'Tuesday': '5:30-15:0'...</td>\n",
       "      <td>NaN</td>\n",
       "    </tr>\n",
       "    <tr>\n",
       "      <th>209385</th>\n",
       "      <td>hskVqZCPqy-omm9CHi44xQ</td>\n",
       "      <td>Domino's</td>\n",
       "      <td>6420 Rea Rd, Suite B1</td>\n",
       "      <td>Charlotte</td>\n",
       "      <td>NC</td>\n",
       "      <td>28226</td>\n",
       "      <td>35.0785</td>\n",
       "      <td>-80.8184</td>\n",
       "      <td>2.0000</td>\n",
       "      <td>16</td>\n",
       "      <td>1</td>\n",
       "      <td>{'BusinessAcceptsCreditCards': 'True', 'Restau...</td>\n",
       "      <td>Restaurants, Pizza, Sandwiches, Fast Food, Chi...</td>\n",
       "      <td>{'Monday': '10:30-0:0', 'Tuesday': '10:30-0:0'...</td>\n",
       "      <td>NaN</td>\n",
       "    </tr>\n",
       "    <tr>\n",
       "      <th>209390</th>\n",
       "      <td>SYa2j1boLF8DcGVOYfHPcA</td>\n",
       "      <td>Five Guys</td>\n",
       "      <td>7014-590 E Camelback Rd</td>\n",
       "      <td>Scottsdale</td>\n",
       "      <td>AZ</td>\n",
       "      <td>85251</td>\n",
       "      <td>33.5041</td>\n",
       "      <td>-111.9294</td>\n",
       "      <td>3.5000</td>\n",
       "      <td>97</td>\n",
       "      <td>1</td>\n",
       "      <td>{'BusinessAcceptsCreditCards': 'True', 'Restau...</td>\n",
       "      <td>American (New), Food, Burgers, Restaurants, Fa...</td>\n",
       "      <td>{'Monday': '11:0-22:0', 'Tuesday': '11:0-22:0'...</td>\n",
       "      <td>American</td>\n",
       "    </tr>\n",
       "  </tbody>\n",
       "</table>\n",
       "<p>38245 rows × 15 columns</p>\n",
       "</div>"
      ],
      "text/plain": [
       "                   business_id                             name  \\\n",
       "8       pQeaRpvuhoEqudo3uymHIQ              The Empanadas House   \n",
       "20      CsLQLiRoafpJPJSkNX2h5Q                 Middle East Deli   \n",
       "33      vjTVxnsQEZ34XjYNS-XUpA                Wetzel's Pretzels   \n",
       "36      fnZrZlqW1Z8iWgTVDfv_MA                        Carl's Jr   \n",
       "41      98hyK2QEUeI8v2y0AghfZA  Pho Lee's Vietnamese Restaurant   \n",
       "...                        ...                              ...   \n",
       "209380  YZeUH6zYS0dq5QHLYZhUnQ                          Hooters   \n",
       "209381  xVpE01l6ZXdEtVf5PkRpDg                            Julep   \n",
       "209383  BAVuLTDmpSzDCk37A5HjtQ                Bruegger's Bagels   \n",
       "209385  hskVqZCPqy-omm9CHi44xQ                         Domino's   \n",
       "209390  SYa2j1boLF8DcGVOYfHPcA                        Five Guys   \n",
       "\n",
       "                             address           city state postal_code  \\\n",
       "8                     404 E Green St      Champaign    IL       61820   \n",
       "20          4508 E Independence Blvd      Charlotte    NC       28205   \n",
       "33      4550 East Cactus Rd, #KSFC-4        Phoenix    AZ       85032   \n",
       "36              9595 W Tropicana Ave      Las Vegas    NV       89147   \n",
       "41           1541 E 38th St, Ste 101      Cleveland    OH       44114   \n",
       "...                              ...            ...   ...         ...   \n",
       "209380               2820 N 75th Ave        Phoenix    AZ       85035   \n",
       "209381          829 E Washington Ave        Madison    WI       53703   \n",
       "209383               27045 Lorain Rd  North Olmsted    OH       44070   \n",
       "209385         6420 Rea Rd, Suite B1      Charlotte    NC       28226   \n",
       "209390       7014-590 E Camelback Rd     Scottsdale    AZ       85251   \n",
       "\n",
       "        latitude  longitude  stars  review_count  is_open  \\\n",
       "8        40.1104   -88.2331 4.5000             5        1   \n",
       "20       35.1949   -80.7674 3.0000             5        0   \n",
       "33       33.6028  -111.9835 4.0000            10        1   \n",
       "36       36.0997  -115.3016 2.5000            15        0   \n",
       "41       41.5122   -81.6633 4.5000            23        1   \n",
       "...          ...        ...    ...           ...      ...   \n",
       "209380   33.4791  -112.2211 2.0000           106        1   \n",
       "209381   43.0810   -89.3740 4.0000            95        0   \n",
       "209383   41.4166   -81.9214 3.0000            13        0   \n",
       "209385   35.0785   -80.8184 2.0000            16        1   \n",
       "209390   33.5041  -111.9294 3.5000            97        1   \n",
       "\n",
       "                                               attributes  \\\n",
       "8       {'RestaurantsAttire': \"u'casual'\", 'Restaurant...   \n",
       "20      {'RestaurantsGoodForGroups': 'True', 'OutdoorS...   \n",
       "33      {'GoodForKids': 'True', 'RestaurantsTakeOut': ...   \n",
       "36      {'Alcohol': \"u'none'\", 'WiFi': \"u'no'\", 'GoodF...   \n",
       "41      {'BusinessParking': 'None', 'Ambience': \"{'tou...   \n",
       "...                                                   ...   \n",
       "209380  {'NoiseLevel': \"'very_loud'\", 'WiFi': \"'no'\", ...   \n",
       "209381  {'NoiseLevel': \"u'average'\", 'BikeParking': 'T...   \n",
       "209383  {'NoiseLevel': \"u'average'\", 'BikeParking': 'F...   \n",
       "209385  {'BusinessAcceptsCreditCards': 'True', 'Restau...   \n",
       "209390  {'BusinessAcceptsCreditCards': 'True', 'Restau...   \n",
       "\n",
       "                                               categories  \\\n",
       "8       Ethnic Food, Food Trucks, Specialty Food, Impo...   \n",
       "20             Food, Restaurants, Grocery, Middle Eastern   \n",
       "33       Food, Pretzels, Bakeries, Fast Food, Restaurants   \n",
       "36                        Mexican, Restaurants, Fast Food   \n",
       "41                          Restaurants, Vietnamese, Soup   \n",
       "...                                                   ...   \n",
       "209380  Nightlife, American (Traditional), Chicken Win...   \n",
       "209381     Nightlife, Diners, Bars, Southern, Restaurants   \n",
       "209383  Restaurants, Sandwiches, Food, Breakfast & Bru...   \n",
       "209385  Restaurants, Pizza, Sandwiches, Fast Food, Chi...   \n",
       "209390  American (New), Food, Burgers, Restaurants, Fa...   \n",
       "\n",
       "                                                    hours    category  \n",
       "8       {'Monday': '11:30-14:30', 'Tuesday': '11:30-14...         NaN  \n",
       "20                                                    NaN         NaN  \n",
       "33      {'Monday': '10:0-21:0', 'Tuesday': '10:0-21:0'...         NaN  \n",
       "36                                                    NaN     Mexican  \n",
       "41      {'Monday': '11:0-20:0', 'Wednesday': '11:0-20:...  Vietnamese  \n",
       "...                                                   ...         ...  \n",
       "209380                                                NaN    American  \n",
       "209381  {'Monday': '16:0-22:0', 'Tuesday': '16:0-22:0'...         NaN  \n",
       "209383  {'Monday': '5:30-15:0', 'Tuesday': '5:30-15:0'...         NaN  \n",
       "209385  {'Monday': '10:30-0:0', 'Tuesday': '10:30-0:0'...         NaN  \n",
       "209390  {'Monday': '11:0-22:0', 'Tuesday': '11:0-22:0'...    American  \n",
       "\n",
       "[38245 rows x 15 columns]"
      ]
     },
     "execution_count": 23,
     "metadata": {},
     "output_type": "execute_result"
    }
   ],
   "source": [
    "us_restaurants"
   ]
  },
  {
   "cell_type": "code",
   "execution_count": 24,
   "metadata": {},
   "outputs": [
    {
     "name": "stderr",
     "output_type": "stream",
     "text": [
      "<ipython-input-24-b8190b65da72>:1: SettingWithCopyWarning: \n",
      "A value is trying to be set on a copy of a slice from a DataFrame\n",
      "\n",
      "See the caveats in the documentation: https://pandas.pydata.org/pandas-docs/stable/user_guide/indexing.html#returning-a-view-versus-a-copy\n",
      "  us_restaurants.dropna(axis=0,subset=['category'],inplace=True)\n"
     ]
    }
   ],
   "source": [
    "us_restaurants.dropna(axis=0,subset=['category'],inplace=True)"
   ]
  },
  {
   "cell_type": "code",
   "execution_count": 25,
   "metadata": {},
   "outputs": [
    {
     "name": "stdout",
     "output_type": "stream",
     "text": [
      "<class 'pandas.core.frame.DataFrame'>\n",
      "Int64Index: 22779 entries, 36 to 209390\n",
      "Data columns (total 15 columns):\n",
      " #   Column        Non-Null Count  Dtype  \n",
      "---  ------        --------------  -----  \n",
      " 0   business_id   22779 non-null  object \n",
      " 1   name          22779 non-null  object \n",
      " 2   address       22635 non-null  object \n",
      " 3   city          22779 non-null  object \n",
      " 4   state         22779 non-null  object \n",
      " 5   postal_code   22763 non-null  object \n",
      " 6   latitude      22779 non-null  float64\n",
      " 7   longitude     22779 non-null  float64\n",
      " 8   stars         22779 non-null  float64\n",
      " 9   review_count  22779 non-null  int64  \n",
      " 10  is_open       22779 non-null  int64  \n",
      " 11  attributes    22556 non-null  object \n",
      " 12  categories    22779 non-null  object \n",
      " 13  hours         19006 non-null  object \n",
      " 14  category      22779 non-null  object \n",
      "dtypes: float64(3), int64(2), object(10)\n",
      "memory usage: 2.8+ MB\n"
     ]
    }
   ],
   "source": [
    "us_restaurants.info()"
   ]
  },
  {
   "cell_type": "code",
   "execution_count": 26,
   "metadata": {},
   "outputs": [
    {
     "data": {
      "text/html": [
       "<div>\n",
       "<style scoped>\n",
       "    .dataframe tbody tr th:only-of-type {\n",
       "        vertical-align: middle;\n",
       "    }\n",
       "\n",
       "    .dataframe tbody tr th {\n",
       "        vertical-align: top;\n",
       "    }\n",
       "\n",
       "    .dataframe thead th {\n",
       "        text-align: right;\n",
       "    }\n",
       "</style>\n",
       "<table border=\"1\" class=\"dataframe\">\n",
       "  <thead>\n",
       "    <tr style=\"text-align: right;\">\n",
       "      <th></th>\n",
       "      <th>business_id</th>\n",
       "      <th>name</th>\n",
       "      <th>address</th>\n",
       "      <th>city</th>\n",
       "      <th>state</th>\n",
       "      <th>postal_code</th>\n",
       "      <th>latitude</th>\n",
       "      <th>longitude</th>\n",
       "      <th>stars</th>\n",
       "      <th>review_count</th>\n",
       "      <th>is_open</th>\n",
       "      <th>attributes</th>\n",
       "      <th>categories</th>\n",
       "      <th>hours</th>\n",
       "      <th>category</th>\n",
       "    </tr>\n",
       "  </thead>\n",
       "  <tbody>\n",
       "    <tr>\n",
       "      <th>36</th>\n",
       "      <td>fnZrZlqW1Z8iWgTVDfv_MA</td>\n",
       "      <td>Carl's Jr</td>\n",
       "      <td>9595 W Tropicana Ave</td>\n",
       "      <td>Las Vegas</td>\n",
       "      <td>NV</td>\n",
       "      <td>89147</td>\n",
       "      <td>36.0997</td>\n",
       "      <td>-115.3016</td>\n",
       "      <td>2.5000</td>\n",
       "      <td>15</td>\n",
       "      <td>0</td>\n",
       "      <td>{'Alcohol': \"u'none'\", 'WiFi': \"u'no'\", 'GoodF...</td>\n",
       "      <td>Mexican, Restaurants, Fast Food</td>\n",
       "      <td>NaN</td>\n",
       "      <td>Mexican</td>\n",
       "    </tr>\n",
       "    <tr>\n",
       "      <th>41</th>\n",
       "      <td>98hyK2QEUeI8v2y0AghfZA</td>\n",
       "      <td>Pho Lee's Vietnamese Restaurant</td>\n",
       "      <td>1541 E 38th St, Ste 101</td>\n",
       "      <td>Cleveland</td>\n",
       "      <td>OH</td>\n",
       "      <td>44114</td>\n",
       "      <td>41.5122</td>\n",
       "      <td>-81.6633</td>\n",
       "      <td>4.5000</td>\n",
       "      <td>23</td>\n",
       "      <td>1</td>\n",
       "      <td>{'BusinessParking': 'None', 'Ambience': \"{'tou...</td>\n",
       "      <td>Restaurants, Vietnamese, Soup</td>\n",
       "      <td>{'Monday': '11:0-20:0', 'Wednesday': '11:0-20:...</td>\n",
       "      <td>Vietnamese</td>\n",
       "    </tr>\n",
       "    <tr>\n",
       "      <th>42</th>\n",
       "      <td>fhNf_sg-XzZ3e7HEVGuOZg</td>\n",
       "      <td>Meat Chix And Wieners</td>\n",
       "      <td>6530 S Decatur Blvd</td>\n",
       "      <td>Las Vegas</td>\n",
       "      <td>NV</td>\n",
       "      <td>89118</td>\n",
       "      <td>36.0712</td>\n",
       "      <td>-115.2075</td>\n",
       "      <td>3.0000</td>\n",
       "      <td>10</td>\n",
       "      <td>0</td>\n",
       "      <td>{'RestaurantsPriceRange2': '2', 'BusinessParki...</td>\n",
       "      <td>Burgers, Restaurants, American (Traditional), ...</td>\n",
       "      <td>{'Monday': '11:0-22:0', 'Tuesday': '11:0-22:0'...</td>\n",
       "      <td>American</td>\n",
       "    </tr>\n",
       "    <tr>\n",
       "      <th>44</th>\n",
       "      <td>Ga2Bt7xfqoggTypWD5VpoQ</td>\n",
       "      <td>Amando's Bros</td>\n",
       "      <td>2602 W Southern Ave</td>\n",
       "      <td>Tempe</td>\n",
       "      <td>AZ</td>\n",
       "      <td>85282</td>\n",
       "      <td>33.3932</td>\n",
       "      <td>-111.9763</td>\n",
       "      <td>4.0000</td>\n",
       "      <td>9</td>\n",
       "      <td>0</td>\n",
       "      <td>{'Caters': 'False', 'RestaurantsGoodForGroups'...</td>\n",
       "      <td>Mexican, Restaurants</td>\n",
       "      <td>{'Monday': '7:0-20:0', 'Tuesday': '7:0-20:0', ...</td>\n",
       "      <td>Mexican</td>\n",
       "    </tr>\n",
       "    <tr>\n",
       "      <th>46</th>\n",
       "      <td>xFc50drSPxXkcLvX5ygqrg</td>\n",
       "      <td>Boomer's Sweet Home Chicago</td>\n",
       "      <td>5932 W Bell Rd, Ste D-109</td>\n",
       "      <td>Glendale</td>\n",
       "      <td>AZ</td>\n",
       "      <td>85308</td>\n",
       "      <td>33.6404</td>\n",
       "      <td>-112.1870</td>\n",
       "      <td>3.5000</td>\n",
       "      <td>12</td>\n",
       "      <td>0</td>\n",
       "      <td>{'BusinessAcceptsCreditCards': 'True', 'Busine...</td>\n",
       "      <td>Burgers, Fast Food, American (New), Restaurant...</td>\n",
       "      <td>NaN</td>\n",
       "      <td>American</td>\n",
       "    </tr>\n",
       "  </tbody>\n",
       "</table>\n",
       "</div>"
      ],
      "text/plain": [
       "               business_id                             name  \\\n",
       "36  fnZrZlqW1Z8iWgTVDfv_MA                        Carl's Jr   \n",
       "41  98hyK2QEUeI8v2y0AghfZA  Pho Lee's Vietnamese Restaurant   \n",
       "42  fhNf_sg-XzZ3e7HEVGuOZg            Meat Chix And Wieners   \n",
       "44  Ga2Bt7xfqoggTypWD5VpoQ                    Amando's Bros   \n",
       "46  xFc50drSPxXkcLvX5ygqrg      Boomer's Sweet Home Chicago   \n",
       "\n",
       "                      address       city state postal_code  latitude  \\\n",
       "36       9595 W Tropicana Ave  Las Vegas    NV       89147   36.0997   \n",
       "41    1541 E 38th St, Ste 101  Cleveland    OH       44114   41.5122   \n",
       "42        6530 S Decatur Blvd  Las Vegas    NV       89118   36.0712   \n",
       "44        2602 W Southern Ave      Tempe    AZ       85282   33.3932   \n",
       "46  5932 W Bell Rd, Ste D-109   Glendale    AZ       85308   33.6404   \n",
       "\n",
       "    longitude  stars  review_count  is_open  \\\n",
       "36  -115.3016 2.5000            15        0   \n",
       "41   -81.6633 4.5000            23        1   \n",
       "42  -115.2075 3.0000            10        0   \n",
       "44  -111.9763 4.0000             9        0   \n",
       "46  -112.1870 3.5000            12        0   \n",
       "\n",
       "                                           attributes  \\\n",
       "36  {'Alcohol': \"u'none'\", 'WiFi': \"u'no'\", 'GoodF...   \n",
       "41  {'BusinessParking': 'None', 'Ambience': \"{'tou...   \n",
       "42  {'RestaurantsPriceRange2': '2', 'BusinessParki...   \n",
       "44  {'Caters': 'False', 'RestaurantsGoodForGroups'...   \n",
       "46  {'BusinessAcceptsCreditCards': 'True', 'Busine...   \n",
       "\n",
       "                                           categories  \\\n",
       "36                    Mexican, Restaurants, Fast Food   \n",
       "41                      Restaurants, Vietnamese, Soup   \n",
       "42  Burgers, Restaurants, American (Traditional), ...   \n",
       "44                               Mexican, Restaurants   \n",
       "46  Burgers, Fast Food, American (New), Restaurant...   \n",
       "\n",
       "                                                hours    category  \n",
       "36                                                NaN     Mexican  \n",
       "41  {'Monday': '11:0-20:0', 'Wednesday': '11:0-20:...  Vietnamese  \n",
       "42  {'Monday': '11:0-22:0', 'Tuesday': '11:0-22:0'...    American  \n",
       "44  {'Monday': '7:0-20:0', 'Tuesday': '7:0-20:0', ...     Mexican  \n",
       "46                                                NaN    American  "
      ]
     },
     "execution_count": 26,
     "metadata": {},
     "output_type": "execute_result"
    }
   ],
   "source": [
    "us_restaurants.head()"
   ]
  },
  {
   "cell_type": "code",
   "execution_count": 27,
   "metadata": {},
   "outputs": [
    {
     "data": {
      "text/html": [
       "<div>\n",
       "<style scoped>\n",
       "    .dataframe tbody tr th:only-of-type {\n",
       "        vertical-align: middle;\n",
       "    }\n",
       "\n",
       "    .dataframe tbody tr th {\n",
       "        vertical-align: top;\n",
       "    }\n",
       "\n",
       "    .dataframe thead th {\n",
       "        text-align: right;\n",
       "    }\n",
       "</style>\n",
       "<table border=\"1\" class=\"dataframe\">\n",
       "  <thead>\n",
       "    <tr style=\"text-align: right;\">\n",
       "      <th></th>\n",
       "      <th>business_id</th>\n",
       "      <th>name</th>\n",
       "      <th>address</th>\n",
       "      <th>city</th>\n",
       "      <th>state</th>\n",
       "      <th>postal_code</th>\n",
       "      <th>latitude</th>\n",
       "      <th>longitude</th>\n",
       "      <th>stars</th>\n",
       "      <th>review_count</th>\n",
       "      <th>is_open</th>\n",
       "      <th>attributes</th>\n",
       "      <th>categories</th>\n",
       "      <th>hours</th>\n",
       "      <th>category</th>\n",
       "    </tr>\n",
       "  </thead>\n",
       "  <tbody>\n",
       "    <tr>\n",
       "      <th>0</th>\n",
       "      <td>fnZrZlqW1Z8iWgTVDfv_MA</td>\n",
       "      <td>Carl's Jr</td>\n",
       "      <td>9595 W Tropicana Ave</td>\n",
       "      <td>Las Vegas</td>\n",
       "      <td>NV</td>\n",
       "      <td>89147</td>\n",
       "      <td>36.0997</td>\n",
       "      <td>-115.3016</td>\n",
       "      <td>2.5000</td>\n",
       "      <td>15</td>\n",
       "      <td>0</td>\n",
       "      <td>{'Alcohol': \"u'none'\", 'WiFi': \"u'no'\", 'GoodF...</td>\n",
       "      <td>Mexican, Restaurants, Fast Food</td>\n",
       "      <td>NaN</td>\n",
       "      <td>Mexican</td>\n",
       "    </tr>\n",
       "    <tr>\n",
       "      <th>1</th>\n",
       "      <td>98hyK2QEUeI8v2y0AghfZA</td>\n",
       "      <td>Pho Lee's Vietnamese Restaurant</td>\n",
       "      <td>1541 E 38th St, Ste 101</td>\n",
       "      <td>Cleveland</td>\n",
       "      <td>OH</td>\n",
       "      <td>44114</td>\n",
       "      <td>41.5122</td>\n",
       "      <td>-81.6633</td>\n",
       "      <td>4.5000</td>\n",
       "      <td>23</td>\n",
       "      <td>1</td>\n",
       "      <td>{'BusinessParking': 'None', 'Ambience': \"{'tou...</td>\n",
       "      <td>Restaurants, Vietnamese, Soup</td>\n",
       "      <td>{'Monday': '11:0-20:0', 'Wednesday': '11:0-20:...</td>\n",
       "      <td>Vietnamese</td>\n",
       "    </tr>\n",
       "    <tr>\n",
       "      <th>2</th>\n",
       "      <td>fhNf_sg-XzZ3e7HEVGuOZg</td>\n",
       "      <td>Meat Chix And Wieners</td>\n",
       "      <td>6530 S Decatur Blvd</td>\n",
       "      <td>Las Vegas</td>\n",
       "      <td>NV</td>\n",
       "      <td>89118</td>\n",
       "      <td>36.0712</td>\n",
       "      <td>-115.2075</td>\n",
       "      <td>3.0000</td>\n",
       "      <td>10</td>\n",
       "      <td>0</td>\n",
       "      <td>{'RestaurantsPriceRange2': '2', 'BusinessParki...</td>\n",
       "      <td>Burgers, Restaurants, American (Traditional), ...</td>\n",
       "      <td>{'Monday': '11:0-22:0', 'Tuesday': '11:0-22:0'...</td>\n",
       "      <td>American</td>\n",
       "    </tr>\n",
       "    <tr>\n",
       "      <th>3</th>\n",
       "      <td>Ga2Bt7xfqoggTypWD5VpoQ</td>\n",
       "      <td>Amando's Bros</td>\n",
       "      <td>2602 W Southern Ave</td>\n",
       "      <td>Tempe</td>\n",
       "      <td>AZ</td>\n",
       "      <td>85282</td>\n",
       "      <td>33.3932</td>\n",
       "      <td>-111.9763</td>\n",
       "      <td>4.0000</td>\n",
       "      <td>9</td>\n",
       "      <td>0</td>\n",
       "      <td>{'Caters': 'False', 'RestaurantsGoodForGroups'...</td>\n",
       "      <td>Mexican, Restaurants</td>\n",
       "      <td>{'Monday': '7:0-20:0', 'Tuesday': '7:0-20:0', ...</td>\n",
       "      <td>Mexican</td>\n",
       "    </tr>\n",
       "    <tr>\n",
       "      <th>4</th>\n",
       "      <td>xFc50drSPxXkcLvX5ygqrg</td>\n",
       "      <td>Boomer's Sweet Home Chicago</td>\n",
       "      <td>5932 W Bell Rd, Ste D-109</td>\n",
       "      <td>Glendale</td>\n",
       "      <td>AZ</td>\n",
       "      <td>85308</td>\n",
       "      <td>33.6404</td>\n",
       "      <td>-112.1870</td>\n",
       "      <td>3.5000</td>\n",
       "      <td>12</td>\n",
       "      <td>0</td>\n",
       "      <td>{'BusinessAcceptsCreditCards': 'True', 'Busine...</td>\n",
       "      <td>Burgers, Fast Food, American (New), Restaurant...</td>\n",
       "      <td>NaN</td>\n",
       "      <td>American</td>\n",
       "    </tr>\n",
       "  </tbody>\n",
       "</table>\n",
       "</div>"
      ],
      "text/plain": [
       "              business_id                             name  \\\n",
       "0  fnZrZlqW1Z8iWgTVDfv_MA                        Carl's Jr   \n",
       "1  98hyK2QEUeI8v2y0AghfZA  Pho Lee's Vietnamese Restaurant   \n",
       "2  fhNf_sg-XzZ3e7HEVGuOZg            Meat Chix And Wieners   \n",
       "3  Ga2Bt7xfqoggTypWD5VpoQ                    Amando's Bros   \n",
       "4  xFc50drSPxXkcLvX5ygqrg      Boomer's Sweet Home Chicago   \n",
       "\n",
       "                     address       city state postal_code  latitude  \\\n",
       "0       9595 W Tropicana Ave  Las Vegas    NV       89147   36.0997   \n",
       "1    1541 E 38th St, Ste 101  Cleveland    OH       44114   41.5122   \n",
       "2        6530 S Decatur Blvd  Las Vegas    NV       89118   36.0712   \n",
       "3        2602 W Southern Ave      Tempe    AZ       85282   33.3932   \n",
       "4  5932 W Bell Rd, Ste D-109   Glendale    AZ       85308   33.6404   \n",
       "\n",
       "   longitude  stars  review_count  is_open  \\\n",
       "0  -115.3016 2.5000            15        0   \n",
       "1   -81.6633 4.5000            23        1   \n",
       "2  -115.2075 3.0000            10        0   \n",
       "3  -111.9763 4.0000             9        0   \n",
       "4  -112.1870 3.5000            12        0   \n",
       "\n",
       "                                          attributes  \\\n",
       "0  {'Alcohol': \"u'none'\", 'WiFi': \"u'no'\", 'GoodF...   \n",
       "1  {'BusinessParking': 'None', 'Ambience': \"{'tou...   \n",
       "2  {'RestaurantsPriceRange2': '2', 'BusinessParki...   \n",
       "3  {'Caters': 'False', 'RestaurantsGoodForGroups'...   \n",
       "4  {'BusinessAcceptsCreditCards': 'True', 'Busine...   \n",
       "\n",
       "                                          categories  \\\n",
       "0                    Mexican, Restaurants, Fast Food   \n",
       "1                      Restaurants, Vietnamese, Soup   \n",
       "2  Burgers, Restaurants, American (Traditional), ...   \n",
       "3                               Mexican, Restaurants   \n",
       "4  Burgers, Fast Food, American (New), Restaurant...   \n",
       "\n",
       "                                               hours    category  \n",
       "0                                                NaN     Mexican  \n",
       "1  {'Monday': '11:0-20:0', 'Wednesday': '11:0-20:...  Vietnamese  \n",
       "2  {'Monday': '11:0-22:0', 'Tuesday': '11:0-22:0'...    American  \n",
       "3  {'Monday': '7:0-20:0', 'Tuesday': '7:0-20:0', ...     Mexican  \n",
       "4                                                NaN    American  "
      ]
     },
     "execution_count": 27,
     "metadata": {},
     "output_type": "execute_result"
    }
   ],
   "source": [
    "us_restaurants = us_restaurants.reset_index(drop=True)\n",
    "us_restaurants.head()"
   ]
  },
  {
   "cell_type": "code",
   "execution_count": 28,
   "metadata": {},
   "outputs": [
    {
     "data": {
      "text/plain": [
       "business_id        0\n",
       "name               0\n",
       "address          144\n",
       "city               0\n",
       "state              0\n",
       "postal_code       16\n",
       "latitude           0\n",
       "longitude          0\n",
       "stars              0\n",
       "review_count       0\n",
       "is_open            0\n",
       "attributes       223\n",
       "categories         0\n",
       "hours           3773\n",
       "category           0\n",
       "dtype: int64"
      ]
     },
     "execution_count": 28,
     "metadata": {},
     "output_type": "execute_result"
    }
   ],
   "source": [
    "us_restaurants.isnull().sum()"
   ]
  },
  {
   "cell_type": "code",
   "execution_count": 29,
   "metadata": {},
   "outputs": [
    {
     "data": {
      "text/plain": [
       "{'Monday': '0:0-0:0', 'Tuesday': '0:0-0:0', 'Wednesday': '0:0-0:0', 'Thursday': '0:0-0:0', 'Friday': '0:0-0:0', 'Saturday': '0:0-0:0', 'Sunday': '0:0-0:0'}                  951\n",
       "{'Monday': '11:0-22:0', 'Tuesday': '11:0-22:0', 'Wednesday': '11:0-22:0', 'Thursday': '11:0-22:0', 'Friday': '11:0-23:0', 'Saturday': '11:0-23:0', 'Sunday': '11:0-22:0'}    410\n",
       "{'Monday': '11:0-22:0', 'Tuesday': '11:0-22:0', 'Wednesday': '11:0-22:0', 'Thursday': '11:0-22:0', 'Friday': '11:0-22:0', 'Saturday': '11:0-22:0', 'Sunday': '11:0-22:0'}    336\n",
       "{'Monday': '11:0-21:0', 'Tuesday': '11:0-21:0', 'Wednesday': '11:0-21:0', 'Thursday': '11:0-21:0', 'Friday': '11:0-21:0', 'Saturday': '11:0-21:0', 'Sunday': '11:0-21:0'}    244\n",
       "{'Monday': '11:0-21:0', 'Tuesday': '11:0-21:0', 'Wednesday': '11:0-21:0', 'Thursday': '11:0-21:0', 'Friday': '11:0-22:0', 'Saturday': '11:0-22:0', 'Sunday': '11:0-21:0'}    239\n",
       "                                                                                                                                                                            ... \n",
       "{'Tuesday': '16:0-22:0', 'Wednesday': '16:0-22:0', 'Thursday': '16:0-22:0', 'Friday': '16:0-22:0', 'Saturday': '16:0-22:0', 'Sunday': '11:30-15:0'}                            1\n",
       "{'Monday': '10:30-17:0', 'Tuesday': '11:0-20:0', 'Wednesday': '11:0-20:0', 'Thursday': '11:0-20:0', 'Friday': '11:0-20:0', 'Saturday': '11:0-20:0', 'Sunday': '9:0-19:0'}      1\n",
       "{'Monday': '17:0-2:0', 'Tuesday': '11:30-2:0', 'Wednesday': '11:30-2:0', 'Thursday': '11:30-2:0', 'Friday': '11:30-2:0', 'Saturday': '11:30-2:0', 'Sunday': '11:30-1:0'}       1\n",
       "{'Thursday': '14:0-22:0', 'Friday': '11:0-0:0', 'Saturday': '11:0-0:0', 'Sunday': '11:0-18:0'}                                                                                 1\n",
       "{'Tuesday': '12:0-20:0', 'Wednesday': '12:0-20:0', 'Thursday': '12:0-20:0', 'Friday': '12:0-19:30', 'Saturday': '12:0-19:30'}                                                  1\n",
       "Name: hours, Length: 8630, dtype: int64"
      ]
     },
     "execution_count": 29,
     "metadata": {},
     "output_type": "execute_result"
    }
   ],
   "source": [
    "us_restaurants[\"hours\"].value_counts()"
   ]
  },
  {
   "cell_type": "code",
   "execution_count": 30,
   "metadata": {},
   "outputs": [
    {
     "data": {
      "text/plain": [
       "(22779, 15)"
      ]
     },
     "execution_count": 30,
     "metadata": {},
     "output_type": "execute_result"
    }
   ],
   "source": [
    "us_restaurants.shape"
   ]
  },
  {
   "cell_type": "code",
   "execution_count": 31,
   "metadata": {},
   "outputs": [],
   "source": [
    "us_restaurants = us_restaurants.fillna(us_restaurants['hours'].value_counts().index[0])"
   ]
  },
  {
   "cell_type": "code",
   "execution_count": null,
   "metadata": {},
   "outputs": [],
   "source": []
  },
  {
   "cell_type": "code",
   "execution_count": 32,
   "metadata": {},
   "outputs": [
    {
     "data": {
      "text/plain": [
       "business_id     0\n",
       "name            0\n",
       "address         0\n",
       "city            0\n",
       "state           0\n",
       "postal_code     0\n",
       "latitude        0\n",
       "longitude       0\n",
       "stars           0\n",
       "review_count    0\n",
       "is_open         0\n",
       "attributes      0\n",
       "categories      0\n",
       "hours           0\n",
       "category        0\n",
       "dtype: int64"
      ]
     },
     "execution_count": 32,
     "metadata": {},
     "output_type": "execute_result"
    }
   ],
   "source": [
    "us_restaurants.isnull().sum()"
   ]
  },
  {
   "cell_type": "code",
   "execution_count": 33,
   "metadata": {},
   "outputs": [
    {
     "data": {
      "text/plain": [
       "0"
      ]
     },
     "execution_count": 33,
     "metadata": {},
     "output_type": "execute_result"
    }
   ],
   "source": [
    "us_restaurants.duplicated().sum()"
   ]
  },
  {
   "cell_type": "code",
   "execution_count": 34,
   "metadata": {},
   "outputs": [
    {
     "data": {
      "text/plain": [
       "(22779, 15)"
      ]
     },
     "execution_count": 34,
     "metadata": {},
     "output_type": "execute_result"
    }
   ],
   "source": [
    "us_restaurants.shape"
   ]
  },
  {
   "cell_type": "code",
   "execution_count": 35,
   "metadata": {},
   "outputs": [],
   "source": [
    "### Merging the two datasets together to get a new one"
   ]
  },
  {
   "cell_type": "code",
   "execution_count": 36,
   "metadata": {},
   "outputs": [],
   "source": [
    "us_restaurants_reviews = pd.merge(us_restaurants,reviews,on=\"business_id\")"
   ]
  },
  {
   "cell_type": "code",
   "execution_count": 37,
   "metadata": {},
   "outputs": [
    {
     "name": "stdout",
     "output_type": "stream",
     "text": [
      "<class 'pandas.core.frame.DataFrame'>\n",
      "Int64Index: 1952262 entries, 0 to 1952261\n",
      "Data columns (total 23 columns):\n",
      " #   Column        Dtype  \n",
      "---  ------        -----  \n",
      " 0   business_id   object \n",
      " 1   name          object \n",
      " 2   address       object \n",
      " 3   city          object \n",
      " 4   state         object \n",
      " 5   postal_code   object \n",
      " 6   latitude      float64\n",
      " 7   longitude     float64\n",
      " 8   stars_x       float64\n",
      " 9   review_count  int64  \n",
      " 10  is_open       int64  \n",
      " 11  attributes    object \n",
      " 12  categories    object \n",
      " 13  hours         object \n",
      " 14  category      object \n",
      " 15  review_id     object \n",
      " 16  user_id       object \n",
      " 17  stars_y       int64  \n",
      " 18  date          object \n",
      " 19  text          object \n",
      " 20  useful        int64  \n",
      " 21  funny         int64  \n",
      " 22  cool          int64  \n",
      "dtypes: float64(3), int64(6), object(14)\n",
      "memory usage: 357.5+ MB\n"
     ]
    }
   ],
   "source": [
    "us_restaurants_reviews.info()"
   ]
  },
  {
   "cell_type": "code",
   "execution_count": 38,
   "metadata": {},
   "outputs": [
    {
     "data": {
      "text/plain": [
       "business_id     0\n",
       "name            0\n",
       "address         0\n",
       "city            0\n",
       "state           0\n",
       "postal_code     0\n",
       "latitude        0\n",
       "longitude       0\n",
       "stars_x         0\n",
       "review_count    0\n",
       "is_open         0\n",
       "attributes      0\n",
       "categories      0\n",
       "hours           0\n",
       "category        0\n",
       "review_id       0\n",
       "user_id         0\n",
       "stars_y         0\n",
       "date            0\n",
       "text            0\n",
       "useful          0\n",
       "funny           0\n",
       "cool            0\n",
       "dtype: int64"
      ]
     },
     "execution_count": 38,
     "metadata": {},
     "output_type": "execute_result"
    }
   ],
   "source": [
    "us_restaurants_reviews.isnull().sum()"
   ]
  },
  {
   "cell_type": "code",
   "execution_count": 39,
   "metadata": {},
   "outputs": [
    {
     "data": {
      "text/html": [
       "<div>\n",
       "<style scoped>\n",
       "    .dataframe tbody tr th:only-of-type {\n",
       "        vertical-align: middle;\n",
       "    }\n",
       "\n",
       "    .dataframe tbody tr th {\n",
       "        vertical-align: top;\n",
       "    }\n",
       "\n",
       "    .dataframe thead th {\n",
       "        text-align: right;\n",
       "    }\n",
       "</style>\n",
       "<table border=\"1\" class=\"dataframe\">\n",
       "  <thead>\n",
       "    <tr style=\"text-align: right;\">\n",
       "      <th></th>\n",
       "      <th>business_id</th>\n",
       "      <th>name</th>\n",
       "      <th>address</th>\n",
       "      <th>city</th>\n",
       "      <th>state</th>\n",
       "      <th>postal_code</th>\n",
       "      <th>latitude</th>\n",
       "      <th>longitude</th>\n",
       "      <th>stars_x</th>\n",
       "      <th>review_count</th>\n",
       "      <th>...</th>\n",
       "      <th>hours</th>\n",
       "      <th>category</th>\n",
       "      <th>review_id</th>\n",
       "      <th>user_id</th>\n",
       "      <th>stars_y</th>\n",
       "      <th>date</th>\n",
       "      <th>text</th>\n",
       "      <th>useful</th>\n",
       "      <th>funny</th>\n",
       "      <th>cool</th>\n",
       "    </tr>\n",
       "  </thead>\n",
       "  <tbody>\n",
       "    <tr>\n",
       "      <th>0</th>\n",
       "      <td>fnZrZlqW1Z8iWgTVDfv_MA</td>\n",
       "      <td>Carl's Jr</td>\n",
       "      <td>9595 W Tropicana Ave</td>\n",
       "      <td>Las Vegas</td>\n",
       "      <td>NV</td>\n",
       "      <td>89147</td>\n",
       "      <td>36.0997</td>\n",
       "      <td>-115.3016</td>\n",
       "      <td>2.5000</td>\n",
       "      <td>15</td>\n",
       "      <td>...</td>\n",
       "      <td>{'Monday': '0:0-0:0', 'Tuesday': '0:0-0:0', 'W...</td>\n",
       "      <td>Mexican</td>\n",
       "      <td>i2Soid_X8XsSTyIrPOst6g</td>\n",
       "      <td>xammeA3ftpFoAN13v5Blyg</td>\n",
       "      <td>1</td>\n",
       "      <td>2015-04-02</td>\n",
       "      <td>WORST experience EVER!!!!! never have i ate an...</td>\n",
       "      <td>2</td>\n",
       "      <td>0</td>\n",
       "      <td>0</td>\n",
       "    </tr>\n",
       "    <tr>\n",
       "      <th>1</th>\n",
       "      <td>fnZrZlqW1Z8iWgTVDfv_MA</td>\n",
       "      <td>Carl's Jr</td>\n",
       "      <td>9595 W Tropicana Ave</td>\n",
       "      <td>Las Vegas</td>\n",
       "      <td>NV</td>\n",
       "      <td>89147</td>\n",
       "      <td>36.0997</td>\n",
       "      <td>-115.3016</td>\n",
       "      <td>2.5000</td>\n",
       "      <td>15</td>\n",
       "      <td>...</td>\n",
       "      <td>{'Monday': '0:0-0:0', 'Tuesday': '0:0-0:0', 'W...</td>\n",
       "      <td>Mexican</td>\n",
       "      <td>Xg7HuBvuZHTBog1G_2Wk0w</td>\n",
       "      <td>0PXhJMztE3ijzQPjiwPERg</td>\n",
       "      <td>3</td>\n",
       "      <td>2015-03-23</td>\n",
       "      <td>Beer battered cod fish seems really rubbery. I...</td>\n",
       "      <td>0</td>\n",
       "      <td>0</td>\n",
       "      <td>0</td>\n",
       "    </tr>\n",
       "    <tr>\n",
       "      <th>2</th>\n",
       "      <td>fnZrZlqW1Z8iWgTVDfv_MA</td>\n",
       "      <td>Carl's Jr</td>\n",
       "      <td>9595 W Tropicana Ave</td>\n",
       "      <td>Las Vegas</td>\n",
       "      <td>NV</td>\n",
       "      <td>89147</td>\n",
       "      <td>36.0997</td>\n",
       "      <td>-115.3016</td>\n",
       "      <td>2.5000</td>\n",
       "      <td>15</td>\n",
       "      <td>...</td>\n",
       "      <td>{'Monday': '0:0-0:0', 'Tuesday': '0:0-0:0', 'W...</td>\n",
       "      <td>Mexican</td>\n",
       "      <td>WUAt5-krh075Ie44np8Hew</td>\n",
       "      <td>YDkC5VVT8s9NlIZtAr8NUA</td>\n",
       "      <td>5</td>\n",
       "      <td>2010-11-27</td>\n",
       "      <td>So why would I be giving a Fast Food chain loc...</td>\n",
       "      <td>0</td>\n",
       "      <td>0</td>\n",
       "      <td>0</td>\n",
       "    </tr>\n",
       "    <tr>\n",
       "      <th>3</th>\n",
       "      <td>fnZrZlqW1Z8iWgTVDfv_MA</td>\n",
       "      <td>Carl's Jr</td>\n",
       "      <td>9595 W Tropicana Ave</td>\n",
       "      <td>Las Vegas</td>\n",
       "      <td>NV</td>\n",
       "      <td>89147</td>\n",
       "      <td>36.0997</td>\n",
       "      <td>-115.3016</td>\n",
       "      <td>2.5000</td>\n",
       "      <td>15</td>\n",
       "      <td>...</td>\n",
       "      <td>{'Monday': '0:0-0:0', 'Tuesday': '0:0-0:0', 'W...</td>\n",
       "      <td>Mexican</td>\n",
       "      <td>IH998Fi8vDa6In8oyYa3bA</td>\n",
       "      <td>77lef7kKkoOVupY-7AmieQ</td>\n",
       "      <td>4</td>\n",
       "      <td>2011-04-07</td>\n",
       "      <td>Customer service has been top notch on every v...</td>\n",
       "      <td>0</td>\n",
       "      <td>0</td>\n",
       "      <td>0</td>\n",
       "    </tr>\n",
       "    <tr>\n",
       "      <th>4</th>\n",
       "      <td>fnZrZlqW1Z8iWgTVDfv_MA</td>\n",
       "      <td>Carl's Jr</td>\n",
       "      <td>9595 W Tropicana Ave</td>\n",
       "      <td>Las Vegas</td>\n",
       "      <td>NV</td>\n",
       "      <td>89147</td>\n",
       "      <td>36.0997</td>\n",
       "      <td>-115.3016</td>\n",
       "      <td>2.5000</td>\n",
       "      <td>15</td>\n",
       "      <td>...</td>\n",
       "      <td>{'Monday': '0:0-0:0', 'Tuesday': '0:0-0:0', 'W...</td>\n",
       "      <td>Mexican</td>\n",
       "      <td>S9vIs-je49jqbhpWSQ8yHg</td>\n",
       "      <td>mxtalrN7VHVQwGjv8ln5yg</td>\n",
       "      <td>2</td>\n",
       "      <td>2016-03-19</td>\n",
       "      <td>I come here bout 3x's a mo. &amp; I just can't do ...</td>\n",
       "      <td>0</td>\n",
       "      <td>0</td>\n",
       "      <td>0</td>\n",
       "    </tr>\n",
       "  </tbody>\n",
       "</table>\n",
       "<p>5 rows × 23 columns</p>\n",
       "</div>"
      ],
      "text/plain": [
       "              business_id       name               address       city state  \\\n",
       "0  fnZrZlqW1Z8iWgTVDfv_MA  Carl's Jr  9595 W Tropicana Ave  Las Vegas    NV   \n",
       "1  fnZrZlqW1Z8iWgTVDfv_MA  Carl's Jr  9595 W Tropicana Ave  Las Vegas    NV   \n",
       "2  fnZrZlqW1Z8iWgTVDfv_MA  Carl's Jr  9595 W Tropicana Ave  Las Vegas    NV   \n",
       "3  fnZrZlqW1Z8iWgTVDfv_MA  Carl's Jr  9595 W Tropicana Ave  Las Vegas    NV   \n",
       "4  fnZrZlqW1Z8iWgTVDfv_MA  Carl's Jr  9595 W Tropicana Ave  Las Vegas    NV   \n",
       "\n",
       "  postal_code  latitude  longitude  stars_x  review_count  ...  \\\n",
       "0       89147   36.0997  -115.3016   2.5000            15  ...   \n",
       "1       89147   36.0997  -115.3016   2.5000            15  ...   \n",
       "2       89147   36.0997  -115.3016   2.5000            15  ...   \n",
       "3       89147   36.0997  -115.3016   2.5000            15  ...   \n",
       "4       89147   36.0997  -115.3016   2.5000            15  ...   \n",
       "\n",
       "                                               hours category  \\\n",
       "0  {'Monday': '0:0-0:0', 'Tuesday': '0:0-0:0', 'W...  Mexican   \n",
       "1  {'Monday': '0:0-0:0', 'Tuesday': '0:0-0:0', 'W...  Mexican   \n",
       "2  {'Monday': '0:0-0:0', 'Tuesday': '0:0-0:0', 'W...  Mexican   \n",
       "3  {'Monday': '0:0-0:0', 'Tuesday': '0:0-0:0', 'W...  Mexican   \n",
       "4  {'Monday': '0:0-0:0', 'Tuesday': '0:0-0:0', 'W...  Mexican   \n",
       "\n",
       "                review_id                 user_id stars_y        date  \\\n",
       "0  i2Soid_X8XsSTyIrPOst6g  xammeA3ftpFoAN13v5Blyg       1  2015-04-02   \n",
       "1  Xg7HuBvuZHTBog1G_2Wk0w  0PXhJMztE3ijzQPjiwPERg       3  2015-03-23   \n",
       "2  WUAt5-krh075Ie44np8Hew  YDkC5VVT8s9NlIZtAr8NUA       5  2010-11-27   \n",
       "3  IH998Fi8vDa6In8oyYa3bA  77lef7kKkoOVupY-7AmieQ       4  2011-04-07   \n",
       "4  S9vIs-je49jqbhpWSQ8yHg  mxtalrN7VHVQwGjv8ln5yg       2  2016-03-19   \n",
       "\n",
       "                                                text  useful funny cool  \n",
       "0  WORST experience EVER!!!!! never have i ate an...       2     0    0  \n",
       "1  Beer battered cod fish seems really rubbery. I...       0     0    0  \n",
       "2  So why would I be giving a Fast Food chain loc...       0     0    0  \n",
       "3  Customer service has been top notch on every v...       0     0    0  \n",
       "4  I come here bout 3x's a mo. & I just can't do ...       0     0    0  \n",
       "\n",
       "[5 rows x 23 columns]"
      ]
     },
     "execution_count": 39,
     "metadata": {},
     "output_type": "execute_result"
    }
   ],
   "source": [
    "us_restaurants_reviews.head()"
   ]
  },
  {
   "cell_type": "markdown",
   "metadata": {},
   "source": [
    "- As we know the column star **[stars_x in us_restaurants_reviews dataframe]** in business is about average rating of the business\n",
    "- And star **[stars_y in us_restaurants_reviews dataframe]** in reviews is about rating of the review"
   ]
  },
  {
   "cell_type": "markdown",
   "metadata": {},
   "source": [
    "We will rename these columns"
   ]
  },
  {
   "cell_type": "code",
   "execution_count": 40,
   "metadata": {},
   "outputs": [],
   "source": [
    "us_restaurants_reviews.rename(columns={\"stars_x\":\"business_star\",\"stars_y\":\"review_star\"},inplace=True)"
   ]
  },
  {
   "cell_type": "code",
   "execution_count": 41,
   "metadata": {},
   "outputs": [
    {
     "data": {
      "text/plain": [
       "Index(['business_id', 'name', 'address', 'city', 'state', 'postal_code',\n",
       "       'latitude', 'longitude', 'business_star', 'review_count', 'is_open',\n",
       "       'attributes', 'categories', 'hours', 'category', 'review_id', 'user_id',\n",
       "       'review_star', 'date', 'text', 'useful', 'funny', 'cool'],\n",
       "      dtype='object')"
      ]
     },
     "execution_count": 41,
     "metadata": {},
     "output_type": "execute_result"
    }
   ],
   "source": [
    "us_restaurants_reviews.columns"
   ]
  },
  {
   "cell_type": "markdown",
   "metadata": {},
   "source": [
    "**We will add column of number of words in review and label of negative and postive reviews**"
   ]
  },
  {
   "cell_type": "code",
   "execution_count": 42,
   "metadata": {},
   "outputs": [],
   "source": [
    "us_restaurants_reviews['num_words_review'] = us_restaurants_reviews.text.str.replace('\\n',''). \\\n",
    "                                          str.replace('[!\"#$%&\\()*+,-./:;<=>?@[\\\\]^_`{|}~]','').map(lambda x: len(x.split()))"
   ]
  },
  {
   "cell_type": "markdown",
   "metadata": {},
   "source": [
    "**Add label review as positive or negative**"
   ]
  },
  {
   "cell_type": "code",
   "execution_count": 43,
   "metadata": {},
   "outputs": [],
   "source": [
    "us_restaurants_reviews['labels'] = ''\n",
    "us_restaurants_reviews.loc[us_restaurants_reviews.review_star >= 4, \"labels\"] = \"positive\"\n",
    "us_restaurants_reviews.loc[us_restaurants_reviews.review_star == 3, \"labels\"] = \"neutral\"\n",
    "us_restaurants_reviews.loc[us_restaurants_reviews.review_star < 3, \"labels\"] = \"negative\""
   ]
  },
  {
   "cell_type": "code",
   "execution_count": 44,
   "metadata": {
    "scrolled": false
   },
   "outputs": [
    {
     "data": {
      "text/plain": [
       "positive    1289667\n",
       "negative     406438\n",
       "neutral      256157\n",
       "Name: labels, dtype: int64"
      ]
     },
     "execution_count": 44,
     "metadata": {},
     "output_type": "execute_result"
    }
   ],
   "source": [
    "us_restaurants_reviews.labels.value_counts()"
   ]
  },
  {
   "cell_type": "markdown",
   "metadata": {},
   "source": [
    "**We can drop neutral reviews for better analysis**"
   ]
  },
  {
   "cell_type": "code",
   "execution_count": 45,
   "metadata": {},
   "outputs": [],
   "source": [
    "us_restaurants_reviews.drop(us_restaurants_reviews[us_restaurants_reviews['labels'] =='neural'].index, axis=0, inplace=True)\n",
    "us_restaurants_reviews.reset_index(drop=True, inplace=True)"
   ]
  },
  {
   "cell_type": "code",
   "execution_count": 46,
   "metadata": {},
   "outputs": [
    {
     "data": {
      "text/plain": [
       "(1952262, 25)"
      ]
     },
     "execution_count": 46,
     "metadata": {},
     "output_type": "execute_result"
    }
   ],
   "source": [
    "us_restaurants_reviews.shape"
   ]
  },
  {
   "cell_type": "code",
   "execution_count": 47,
   "metadata": {},
   "outputs": [
    {
     "data": {
      "text/plain": [
       "False"
      ]
     },
     "execution_count": 47,
     "metadata": {},
     "output_type": "execute_result"
    }
   ],
   "source": [
    "us_restaurants_reviews.isnull().sum().any()"
   ]
  },
  {
   "cell_type": "markdown",
   "metadata": {},
   "source": [
    "**Ok we will move to Analysis**"
   ]
  },
  {
   "cell_type": "markdown",
   "metadata": {},
   "source": [
    "## Analysis"
   ]
  },
  {
   "cell_type": "markdown",
   "metadata": {},
   "source": [
    "**The top 10 cites**"
   ]
  },
  {
   "cell_type": "code",
   "execution_count": 48,
   "metadata": {},
   "outputs": [
    {
     "data": {
      "text/plain": [
       "Las Vegas     4376\n",
       "Phoenix       2593\n",
       "Charlotte     1697\n",
       "Pittsburgh    1496\n",
       "Scottsdale    1089\n",
       "Cleveland      823\n",
       "Mesa           799\n",
       "Madison        688\n",
       "Tempe          648\n",
       "Henderson      576\n",
       "Name: city, dtype: int64"
      ]
     },
     "execution_count": 48,
     "metadata": {},
     "output_type": "execute_result"
    }
   ],
   "source": [
    "us_restaurants.city.value_counts()[0:10]"
   ]
  },
  {
   "cell_type": "code",
   "execution_count": 49,
   "metadata": {},
   "outputs": [
    {
     "data": {
      "image/png": "[encoded data removed]",
      "text/plain": [
       "<Figure size 864x576 with 1 Axes>"
      ]
     },
     "metadata": {
      "needs_background": "light"
     },
     "output_type": "display_data"
    }
   ],
   "source": [
    "plt.figure(figsize=(12,8))\n",
    "top_10 = us_restaurants.city.value_counts()[0:10]\n",
    "sns.barplot(top_10.index,top_10.values,palette=sns.color_palette(\"GnBu_r\", len(top_10)))\n",
    "plt.title(\"Count Of Restaurants in Top 10 Cites\",fontsize=16)\n",
    "plt.xlabel(\"City\",fontsize=12,labelpad=10)\n",
    "plt.ylabel(\"Number of Restaurants\",fontsize=12,labelpad=10)\n",
    "plt.tick_params(labelsize=14)\n",
    "plt.xticks(rotation=25)\n",
    "for n,m in enumerate(top_10):\n",
    "    plt.text(n,m*1.02,str(m),horizontalalignment ='center',fontweight='bold', fontsize=14)"
   ]
  },
  {
   "cell_type": "markdown",
   "metadata": {},
   "source": [
    "**Distribution of restaurants in each category**"
   ]
  },
  {
   "cell_type": "code",
   "execution_count": 50,
   "metadata": {},
   "outputs": [
    {
     "data": {
      "text/plain": [
       "15"
      ]
     },
     "execution_count": 50,
     "metadata": {},
     "output_type": "execute_result"
    }
   ],
   "source": [
    "us_restaurants[\"category\"].nunique()"
   ]
  },
  {
   "cell_type": "code",
   "execution_count": 51,
   "metadata": {},
   "outputs": [
    {
     "data": {
      "text/plain": [
       "array(['Mexican', 'Vietnamese', 'American', 'Chinese', 'Thai', 'Italian',\n",
       "       'Mediterranean', 'Japanese', 'Indian', 'Spanish', 'African',\n",
       "       'Greek', 'Korean', 'French', 'Hawaiian'], dtype=object)"
      ]
     },
     "execution_count": 51,
     "metadata": {},
     "output_type": "execute_result"
    }
   ],
   "source": [
    "us_restaurants[\"category\"].unique()"
   ]
  },
  {
   "cell_type": "code",
   "execution_count": 52,
   "metadata": {
    "scrolled": false
   },
   "outputs": [
    {
     "data": {
      "image/png": "[encoded data removed]",
      "text/plain": [
       "<Figure size 864x576 with 1 Axes>"
      ]
     },
     "metadata": {
      "needs_background": "light"
     },
     "output_type": "display_data"
    }
   ],
   "source": [
    "plt.figure(figsize=(12,8))\n",
    "dis_category = us_restaurants.category.value_counts()\n",
    "sns.countplot(y='category',data=us_restaurants_reviews, \n",
    "              order = dis_category.index, palette= sns.color_palette(\"GnBu_r\", len(dis_category)))\n",
    "plt.title('Distribution of restaurants in each category', fontsize=15)\n",
    "plt.xlabel('Number of Restaurants by Category', fontsize=14, labelpad=10)\n",
    "plt.ylabel('Category', fontsize=14)\n",
    "plt.tick_params(labelsize=14)\n",
    "for  m, n in enumerate(us_restaurants_reviews.category.value_counts()):\n",
    "    plt.text(n, m+0.15, str(n), fontweight='bold', fontsize=14)"
   ]
  },
  {
   "cell_type": "markdown",
   "metadata": {},
   "source": [
    "**Distribution of restaurants in each state**"
   ]
  },
  {
   "cell_type": "code",
   "execution_count": 53,
   "metadata": {},
   "outputs": [
    {
     "data": {
      "image/png": "[encoded data removed]",
      "text/plain": [
       "<Figure size 864x576 with 1 Axes>"
      ]
     },
     "metadata": {
      "needs_background": "light"
     },
     "output_type": "display_data"
    }
   ],
   "source": [
    "plt.figure(figsize=(12,8))\n",
    "top_10_state = us_restaurants.state.value_counts()[0:10]\n",
    "sns.barplot(top_10_state.index,top_10_state.values,palette=sns.color_palette(\"GnBu_r\", len(top_10_state)))\n",
    "plt.title(\"Count Of Restaurants in Top 10 states\",fontsize=16)\n",
    "plt.xlabel(\"State\",fontsize=12,labelpad=10)\n",
    "plt.ylabel(\"Number of Restaurants\",fontsize=12,labelpad=10)\n",
    "plt.tick_params(labelsize=14)\n",
    "plt.xticks(rotation=25)\n",
    "for n,m in enumerate(top_10_state):\n",
    "    plt.text(n,m*1.02,str(m),horizontalalignment ='center',fontweight='bold', fontsize=14)"
   ]
  },
  {
   "cell_type": "markdown",
   "metadata": {},
   "source": [
    "**Distribution Of Reviews in Top 10 cites**"
   ]
  },
  {
   "cell_type": "code",
   "execution_count": 54,
   "metadata": {},
   "outputs": [
    {
     "data": {
      "image/png": "[encoded data removed]",
      "text/plain": [
       "<Figure size 864x576 with 1 Axes>"
      ]
     },
     "metadata": {
      "needs_background": "light"
     },
     "output_type": "display_data"
    }
   ],
   "source": [
    "plt.figure(figsize=(12,8))\n",
    "top_10_state = us_restaurants.groupby(\"city\")[\"review_count\"].sum().sort_values(ascending=False)[0:10]\n",
    "sns.barplot(top_10_state.index,top_10_state.values,palette=sns.color_palette(\"GnBu_r\", len(top_10_state)))\n",
    "plt.title(\"Count Of Reviews in Top 10 cites\",fontsize=16)\n",
    "plt.xlabel(\"City\",fontsize=12,labelpad=10)\n",
    "plt.ylabel(\"Number of Reviews\",fontsize=12,labelpad=10)\n",
    "plt.tick_params(labelsize=15)\n",
    "plt.xticks(rotation=25)\n",
    "for n,m in enumerate(top_10_state):\n",
    "    plt.text(n,m*1.02,str(m),horizontalalignment ='center',fontweight='bold', fontsize=12)"
   ]
  },
  {
   "cell_type": "markdown",
   "metadata": {},
   "source": [
    "### Reviews Distribution\n",
    "**Distribution of reviews by cuisine type**"
   ]
  },
  {
   "cell_type": "code",
   "execution_count": 55,
   "metadata": {},
   "outputs": [
    {
     "data": {
      "image/png": "[encoded data removed]",
      "text/plain": [
       "<Figure size 864x576 with 1 Axes>"
      ]
     },
     "metadata": {
      "needs_background": "light"
     },
     "output_type": "display_data"
    }
   ],
   "source": [
    "plt.figure(figsize=(12,8))\n",
    "dis_category = us_restaurants.groupby(\"category\")[\"review_count\"].sum().sort_values(ascending=False)\n",
    "sns.barplot(y=dis_category.index,x=dis_category.values,palette= sns.color_palette(\"RdBu_r\", len(dis_category)))\n",
    "plt.title('Distribution of reviews by cuisine type', fontsize=15)\n",
    "plt.xlabel('Number of Reviews ', fontsize=14, labelpad=10)\n",
    "plt.ylabel('Category', fontsize=14)\n",
    "plt.tick_params(labelsize=14)\n",
    "for  m, n in enumerate(dis_category):\n",
    "    plt.text(n, m+0.15, str(n), fontweight='bold', fontsize=14)"
   ]
  },
  {
   "cell_type": "markdown",
   "metadata": {},
   "source": [
    "**Distribution of reviews for Top 10 Restaurants**"
   ]
  },
  {
   "cell_type": "code",
   "execution_count": 56,
   "metadata": {
    "scrolled": false
   },
   "outputs": [
    {
     "data": {
      "image/png": "[encoded data removed]",
      "text/plain": [
       "<Figure size 864x576 with 1 Axes>"
      ]
     },
     "metadata": {
      "needs_background": "light"
     },
     "output_type": "display_data"
    }
   ],
   "source": [
    "plt.figure(figsize=(12,8))\n",
    "dis_category = us_restaurants.groupby(\"name\")[\"review_count\"].sum().sort_values(ascending=False)[0:10]\n",
    "sns.barplot(y=dis_category.index,x=dis_category.values,palette= sns.color_palette(\"RdBu_r\", len(dis_category)))\n",
    "plt.title('Distribution of reviews for Top 10 Restaurants', fontsize=15)\n",
    "plt.xlabel('Count of Reviews ', fontsize=14, labelpad=10)\n",
    "plt.ylabel('Name Of Restaurant', fontsize=14)\n",
    "plt.tick_params(labelsize=14)\n",
    "for  m, n in enumerate(dis_category):\n",
    "    plt.text(n, m+0.15, str(n), fontweight='bold', fontsize=14)"
   ]
  },
  {
   "cell_type": "markdown",
   "metadata": {},
   "source": [
    "**Distribution of Rating by US Restaurants**"
   ]
  },
  {
   "cell_type": "code",
   "execution_count": 57,
   "metadata": {
    "scrolled": false
   },
   "outputs": [
    {
     "data": {
      "image/png": "[encoded data removed]",
      "text/plain": [
       "<Figure size 864x576 with 1 Axes>"
      ]
     },
     "metadata": {
      "needs_background": "light"
     },
     "output_type": "display_data"
    }
   ],
   "source": [
    "plt.figure(figsize=(12,8))\n",
    "rating = us_restaurants.stars.value_counts().sort_index()\n",
    "sns.barplot(rating.index,rating.values,palette=sns.color_palette(\"RdBu_r\", len(rating)))\n",
    "plt.title(\"Buseniss Rating\",fontsize=16)\n",
    "plt.xlabel(\"Rating\",fontsize=14,labelpad=12)\n",
    "plt.ylabel(\"Count of Restaurants\",fontsize=14,labelpad=12)\n",
    "plt.tick_params(labelsize=15)\n",
    "plt.xticks(rotation=25)\n",
    "for n,m in enumerate(rating):\n",
    "    plt.text(n,m*1.02,str(m),horizontalalignment ='center',fontweight='bold', fontsize=14)"
   ]
  },
  {
   "cell_type": "markdown",
   "metadata": {},
   "source": [
    "**Distribution of Rating by Reviews**"
   ]
  },
  {
   "cell_type": "code",
   "execution_count": 58,
   "metadata": {
    "scrolled": false
   },
   "outputs": [
    {
     "data": {
      "image/png": "[encoded data removed]",
      "text/plain": [
       "<Figure size 864x576 with 1 Axes>"
      ]
     },
     "metadata": {
      "needs_background": "light"
     },
     "output_type": "display_data"
    }
   ],
   "source": [
    "plt.figure(figsize=(12,8))\n",
    "rating = us_restaurants_reviews.review_star.value_counts().sort_index()\n",
    "sns.barplot(rating.index,rating.values,palette=sns.color_palette(\"RdBu_r\", len(rating)))\n",
    "plt.title(\"Reviews Rating\",fontsize=16)\n",
    "plt.xlabel(\"Rating\",fontsize=14,labelpad=12)\n",
    "plt.ylabel(\"Count of Reviews\",fontsize=14,labelpad=12)\n",
    "plt.tick_params(labelsize=15)\n",
    "plt.xticks(rotation=0)\n",
    "for n,m in enumerate(rating):\n",
    "    plt.text(n,m*1.02,str(m),horizontalalignment ='center',fontweight='bold', fontsize=14)"
   ]
  },
  {
   "cell_type": "markdown",
   "metadata": {},
   "source": [
    "**Average length of words in each category**"
   ]
  },
  {
   "cell_type": "code",
   "execution_count": 59,
   "metadata": {},
   "outputs": [
    {
     "data": {
      "image/png": "[encoded data removed]",
      "text/plain": [
       "<Figure size 792x576 with 2 Axes>"
      ]
     },
     "metadata": {
      "needs_background": "light"
     },
     "output_type": "display_data"
    }
   ],
   "source": [
    "num_words = us_restaurants_reviews.groupby(['category','labels'])['num_words_review'].mean().round().unstack()\n",
    "plt.figure(figsize=(11,8))\n",
    "sns.heatmap(num_words, cmap='YlGnBu', fmt='g',annot=True, linewidths=1)\n",
    "plt.tick_params(labelsize=15)"
   ]
  },
  {
   "cell_type": "markdown",
   "metadata": {},
   "source": [
    "## Reviews Analysis"
   ]
  },
  {
   "cell_type": "markdown",
   "metadata": {},
   "source": [
    "**Now we will search for postive and negative words in reviews**"
   ]
  },
  {
   "cell_type": "code",
   "execution_count": 60,
   "metadata": {},
   "outputs": [],
   "source": [
    "## Change all text to lower letter\n",
    "us_restaurants_reviews.text = us_restaurants_reviews.text.str.lower()"
   ]
  },
  {
   "cell_type": "code",
   "execution_count": 61,
   "metadata": {},
   "outputs": [],
   "source": [
    "## Remove all symbols and punctuation\n",
    "us_restaurants_reviews['cleaned_review'] = us_restaurants_reviews.text.str.replace('\\n','').\\\n",
    "                                str.replace('[!\"#$%&\\()*+,-./:;<=>?@[\\\\]^_`{|}~]','')"
   ]
  },
  {
   "cell_type": "markdown",
   "metadata": {},
   "source": [
    "**import positive file which contains common meaningless positive words such as good**"
   ]
  },
  {
   "cell_type": "code",
   "execution_count": 62,
   "metadata": {},
   "outputs": [],
   "source": [
    "positive_words = open('positive.txt')\n",
    "reader =csv.reader(positive_words)\n",
    "positive_words = [word[0] for word in reader]"
   ]
  },
  {
   "cell_type": "markdown",
   "metadata": {},
   "source": [
    "**import negative file which contains common meaningless negative words such as bad**"
   ]
  },
  {
   "cell_type": "code",
   "execution_count": 63,
   "metadata": {},
   "outputs": [],
   "source": [
    "negative_words = open('negative.txt')\n",
    "reader =csv.reader(negative_words)\n",
    "negative_words = [word[0] for word in reader]"
   ]
  },
  {
   "cell_type": "code",
   "execution_count": 64,
   "metadata": {},
   "outputs": [],
   "source": [
    "## get dataset by category\n",
    "def get_dataset(category):\n",
    "    df = us_restaurants_reviews[['cleaned_review','labels']][us_restaurants_reviews.category==category]\n",
    "    df.reset_index(drop=True, inplace =True)\n",
    "    df.rename(columns={'cleaned_review':'text'}, inplace=True)\n",
    "    return df"
   ]
  },
  {
   "cell_type": "code",
   "execution_count": 65,
   "metadata": {},
   "outputs": [],
   "source": [
    "## only keep positive and negative words\n",
    "def filter_words(review):\n",
    "    words = [word for word in review.split() if word in positive_words + negative_words]\n",
    "    words = ' '.join(words)\n",
    "    return words"
   ]
  },
  {
   "cell_type": "code",
   "execution_count": 66,
   "metadata": {},
   "outputs": [
    {
     "data": {
      "text/plain": [
       "array(['Mexican', 'American', 'Chinese', 'Thai', 'Italian', 'Vietnamese',\n",
       "       'Mediterranean', 'Japanese', 'Indian', 'Spanish', 'African',\n",
       "       'Greek', 'French', 'Hawaiian', 'Korean'], dtype=object)"
      ]
     },
     "execution_count": 66,
     "metadata": {},
     "output_type": "execute_result"
    }
   ],
   "source": [
    "us_restaurants_reviews.category.unique()"
   ]
  },
  {
   "cell_type": "code",
   "execution_count": 67,
   "metadata": {},
   "outputs": [],
   "source": [
    "French_reviews = get_dataset('French')"
   ]
  },
  {
   "cell_type": "code",
   "execution_count": 68,
   "metadata": {},
   "outputs": [
    {
     "data": {
      "text/plain": [
       "(53621, 2)"
      ]
     },
     "execution_count": 68,
     "metadata": {},
     "output_type": "execute_result"
    }
   ],
   "source": [
    "French_reviews.shape"
   ]
  },
  {
   "cell_type": "code",
   "execution_count": 69,
   "metadata": {},
   "outputs": [
    {
     "data": {
      "text/html": [
       "<div>\n",
       "<style scoped>\n",
       "    .dataframe tbody tr th:only-of-type {\n",
       "        vertical-align: middle;\n",
       "    }\n",
       "\n",
       "    .dataframe tbody tr th {\n",
       "        vertical-align: top;\n",
       "    }\n",
       "\n",
       "    .dataframe thead th {\n",
       "        text-align: right;\n",
       "    }\n",
       "</style>\n",
       "<table border=\"1\" class=\"dataframe\">\n",
       "  <thead>\n",
       "    <tr style=\"text-align: right;\">\n",
       "      <th></th>\n",
       "      <th>text</th>\n",
       "      <th>labels</th>\n",
       "    </tr>\n",
       "  </thead>\n",
       "  <tbody>\n",
       "    <tr>\n",
       "      <th>0</th>\n",
       "      <td>my wife and i brought my father to global rest...</td>\n",
       "      <td>positive</td>\n",
       "    </tr>\n",
       "    <tr>\n",
       "      <th>1</th>\n",
       "      <td>wow  love the new location we just came in for...</td>\n",
       "      <td>positive</td>\n",
       "    </tr>\n",
       "    <tr>\n",
       "      <th>2</th>\n",
       "      <td>easily one of the best restaurants in all of c...</td>\n",
       "      <td>positive</td>\n",
       "    </tr>\n",
       "  </tbody>\n",
       "</table>\n",
       "</div>"
      ],
      "text/plain": [
       "                                                text    labels\n",
       "0  my wife and i brought my father to global rest...  positive\n",
       "1  wow  love the new location we just came in for...  positive\n",
       "2  easily one of the best restaurants in all of c...  positive"
      ]
     },
     "execution_count": 69,
     "metadata": {},
     "output_type": "execute_result"
    }
   ],
   "source": [
    "French_reviews.head(3)"
   ]
  },
  {
   "cell_type": "code",
   "execution_count": 70,
   "metadata": {},
   "outputs": [],
   "source": [
    "## train and test dataset split\n",
    "french_train , french_test = train_test_split(French_reviews[[\"text\",\"labels\"]],test_size = 0.5)"
   ]
  },
  {
   "cell_type": "code",
   "execution_count": 71,
   "metadata": {},
   "outputs": [
    {
     "data": {
      "text/plain": [
       "(26810, 2)"
      ]
     },
     "execution_count": 71,
     "metadata": {},
     "output_type": "execute_result"
    }
   ],
   "source": [
    "french_train.shape"
   ]
  },
  {
   "cell_type": "code",
   "execution_count": 72,
   "metadata": {},
   "outputs": [],
   "source": [
    "## filter words\n",
    "french_train.text = french_train.text.apply(filter_words)"
   ]
  },
  {
   "cell_type": "code",
   "execution_count": 73,
   "metadata": {},
   "outputs": [],
   "source": [
    "## prepare datasets fol ML\n",
    "x_french_train = list(french_train['text'])\n",
    "y_french_train = list(french_train['labels'])\n",
    "\n",
    "x_french_test = list(french_test['text'])\n",
    "y_french_test = list(french_test['labels'])"
   ]
  },
  {
   "cell_type": "code",
   "execution_count": 74,
   "metadata": {},
   "outputs": [
    {
     "data": {
      "text/plain": [
       "(26810, 3529)"
      ]
     },
     "execution_count": 74,
     "metadata": {},
     "output_type": "execute_result"
    }
   ],
   "source": [
    "## get bag of words : the frequencies of various words appeared in each review\n",
    "vectorizer = CountVectorizer()\n",
    "feature_train_counts=vectorizer.fit_transform(x_french_train)\n",
    "feature_train_counts.shape"
   ]
  },
  {
   "cell_type": "code",
   "execution_count": 75,
   "metadata": {},
   "outputs": [
    {
     "name": "stderr",
     "output_type": "stream",
     "text": [
      "C:\\Anaconda3\\lib\\site-packages\\sklearn\\svm\\_base.py:976: ConvergenceWarning: Liblinear failed to converge, increase the number of iterations.\n",
      "  warnings.warn(\"Liblinear failed to converge, increase \"\n"
     ]
    },
    {
     "data": {
      "text/plain": [
       "LinearSVC()"
      ]
     },
     "execution_count": 75,
     "metadata": {},
     "output_type": "execute_result"
    }
   ],
   "source": [
    "## run model\n",
    "svm = LinearSVC()\n",
    "svm.fit(feature_train_counts, y_french_train)"
   ]
  },
  {
   "cell_type": "code",
   "execution_count": 76,
   "metadata": {},
   "outputs": [],
   "source": [
    "## create dataframe for score of each word in a review calculated by svm model\n",
    "coeff = svm.coef_[0]\n",
    "French_words_score = pd.DataFrame({'score': coeff, 'word': vectorizer.get_feature_names()})"
   ]
  },
  {
   "cell_type": "code",
   "execution_count": 77,
   "metadata": {},
   "outputs": [
    {
     "data": {
      "text/plain": [
       "array([ 0.        , -0.28702898,  0.        , ..., -0.5496429 ,\n",
       "       -0.05140411,  0.36089388])"
      ]
     },
     "execution_count": 77,
     "metadata": {},
     "output_type": "execute_result"
    }
   ],
   "source": [
    "coeff"
   ]
  },
  {
   "cell_type": "code",
   "execution_count": 78,
   "metadata": {},
   "outputs": [],
   "source": [
    "french_dataset = French_reviews.copy()\n",
    "french_dataset['labels'] = np.where(french_dataset['labels'].str.contains('positive'), 1, 0)"
   ]
  },
  {
   "cell_type": "code",
   "execution_count": 79,
   "metadata": {},
   "outputs": [
    {
     "data": {
      "text/html": [
       "<div>\n",
       "<style scoped>\n",
       "    .dataframe tbody tr th:only-of-type {\n",
       "        vertical-align: middle;\n",
       "    }\n",
       "\n",
       "    .dataframe tbody tr th {\n",
       "        vertical-align: top;\n",
       "    }\n",
       "\n",
       "    .dataframe thead th {\n",
       "        text-align: right;\n",
       "    }\n",
       "</style>\n",
       "<table border=\"1\" class=\"dataframe\">\n",
       "  <thead>\n",
       "    <tr style=\"text-align: right;\">\n",
       "      <th></th>\n",
       "      <th>text</th>\n",
       "      <th>labels</th>\n",
       "    </tr>\n",
       "  </thead>\n",
       "  <tbody>\n",
       "    <tr>\n",
       "      <th>0</th>\n",
       "      <td>my wife and i brought my father to global rest...</td>\n",
       "      <td>1</td>\n",
       "    </tr>\n",
       "    <tr>\n",
       "      <th>1</th>\n",
       "      <td>wow  love the new location we just came in for...</td>\n",
       "      <td>1</td>\n",
       "    </tr>\n",
       "    <tr>\n",
       "      <th>2</th>\n",
       "      <td>easily one of the best restaurants in all of c...</td>\n",
       "      <td>1</td>\n",
       "    </tr>\n",
       "    <tr>\n",
       "      <th>3</th>\n",
       "      <td>okay this was my second trip to global the fir...</td>\n",
       "      <td>0</td>\n",
       "    </tr>\n",
       "    <tr>\n",
       "      <th>4</th>\n",
       "      <td>i sooooooo wanted to give this restaurant 5 st...</td>\n",
       "      <td>1</td>\n",
       "    </tr>\n",
       "  </tbody>\n",
       "</table>\n",
       "</div>"
      ],
      "text/plain": [
       "                                                text  labels\n",
       "0  my wife and i brought my father to global rest...       1\n",
       "1  wow  love the new location we just came in for...       1\n",
       "2  easily one of the best restaurants in all of c...       1\n",
       "3  okay this was my second trip to global the fir...       0\n",
       "4  i sooooooo wanted to give this restaurant 5 st...       1"
      ]
     },
     "execution_count": 79,
     "metadata": {},
     "output_type": "execute_result"
    }
   ],
   "source": [
    "french_dataset.head()"
   ]
  },
  {
   "cell_type": "code",
   "execution_count": 80,
   "metadata": {},
   "outputs": [],
   "source": [
    "from nltk.tokenize import word_tokenize, sent_tokenize\n",
    "import string\n",
    "from nltk.corpus import stopwords\n",
    "from unidecode import unidecode\n",
    "from langdetect import detect\n",
    "from nltk.stem import SnowballStemmer\n",
    "from googletrans import Translator"
   ]
  },
  {
   "cell_type": "code",
   "execution_count": 81,
   "metadata": {},
   "outputs": [],
   "source": [
    "from tqdm import tqdm"
   ]
  },
  {
   "cell_type": "markdown",
   "metadata": {},
   "source": [
    "### Sentiment analysis of French Category reviews"
   ]
  },
  {
   "cell_type": "code",
   "execution_count": 82,
   "metadata": {},
   "outputs": [],
   "source": [
    "## Process the text\n",
    "def process_text(text):\n",
    "    '''\n",
    "    Function : remove punctuation and stop words of the text\n",
    "    Input:\n",
    "        review text\n",
    "    Output:\n",
    "    '''   \n",
    "    ## Remove punctuation from the text\n",
    "    remove_punc = [char for char in text if char not in string.punctuation]\n",
    "    # join the charcters together to form the scentince again\n",
    "    no_punc = \"\".join(remove_punc)\n",
    "    ## Remove stop words from reviews\n",
    "    remove_stop_words = [word for word in no_punc.split() if word.lower() not in stopwords.words('english')]\n",
    "    return remove_stop_words"
   ]
  },
  {
   "cell_type": "markdown",
   "metadata": {},
   "source": [
    "**Let's try this review**"
   ]
  },
  {
   "cell_type": "code",
   "execution_count": 85,
   "metadata": {},
   "outputs": [
    {
     "data": {
      "text/plain": [
       "'My wife took me here on my birthday for breakfast and it was excellent.  \\nThe weather was perfect which made sitting outside overlooking their grounds an absolute \\npleasure.  Our waitress was excellent and our food arrived quickly on the semi-busy \\nSaturday morning.  It looked like the place fills up pretty quickly so the earlier \\nyou get here the better.\\n\\nDo yourself a favor and get their Bloody Mary.  It was \\nphenomenal and simply the best I\\'ve ever had.  I\\'m pretty sure they only use ingredients \\nfrom their garden and blend them fresh when you order it.  It was amazing.\\n\\nWhile EVERYTHING\\non the menu looks excellent, I had the white truffle scrambled eggs vegetable skillet and \\nit was tasty and delicious.  It came with 2 pieces of their griddled bread with was \\namazing and it absolutely made the meal complete.  It was the best \"toast\" I\\'ve ever \\nhad.\\n\\nAnyway, I can\\'t wait to go back!\\'\\n'"
      ]
     },
     "execution_count": 85,
     "metadata": {},
     "output_type": "execute_result"
    }
   ],
   "source": [
    "'''My wife took me here on my birthday for breakfast and it was excellent.  \n",
    "The weather was perfect which made sitting outside overlooking their grounds an absolute \n",
    "pleasure.  Our waitress was excellent and our food arrived quickly on the semi-busy \n",
    "Saturday morning.  It looked like the place fills up pretty quickly so the earlier \n",
    "you get here the better.\\n\\nDo yourself a favor and get their Bloody Mary.  It was \n",
    "phenomenal and simply the best I\\'ve ever had.  I\\'m pretty sure they only use ingredients \n",
    "from their garden and blend them fresh when you order it.  It was amazing.\\n\\nWhile EVERYTHING\n",
    "on the menu looks excellent, I had the white truffle scrambled eggs vegetable skillet and \n",
    "it was tasty and delicious.  It came with 2 pieces of their griddled bread with was \n",
    "amazing and it absolutely made the meal complete.  It was the best \"toast\" I\\'ve ever \n",
    "had.\\n\\nAnyway, I can\\'t wait to go back!'\n",
    "'''"
   ]
  },
  {
   "cell_type": "code",
   "execution_count": 86,
   "metadata": {
    "scrolled": true
   },
   "outputs": [
    {
     "name": "stdout",
     "output_type": "stream",
     "text": [
      "['wife', 'took', 'birthday', 'breakfast', 'excellent', 'weather', 'perfect', 'made', 'sitting', 'outside', 'overlooking', 'grounds', 'absolute', 'pleasure', 'waitress', 'excellent', 'food', 'arrived', 'quickly', 'semibusy', 'Saturday', 'morning', 'looked', 'like', 'place', 'fills', 'pretty', 'quickly', 'earlier', 'get', 'better', 'favor', 'get', 'Bloody', 'Mary', 'phenomenal', 'simply', 'best', 'Ive', 'ever', 'Im', 'pretty', 'sure', 'use', 'ingredients', 'garden', 'blend', 'fresh', 'order', 'amazing', 'EVERYTHING', 'menu', 'looks', 'excellent', 'white', 'truffle', 'scrambled', 'eggs', 'vegetable', 'skillet', 'tasty', 'delicious', 'came', '2', 'pieces', 'griddled', 'bread', 'amazing', 'absolutely', 'made', 'meal', 'complete', 'best', 'toast', 'Ive', 'ever', 'Anyway', 'cant', 'wait', 'go', 'back']\n"
     ]
    }
   ],
   "source": [
    "print(process_text('My wife took me here on my birthday for breakfast and it was excellent.  The weather was perfect which made sitting outside overlooking their grounds an absolute pleasure.  Our waitress was excellent and our food arrived quickly on the semi-busy Saturday morning.  It looked like the place fills up pretty quickly so the earlier you get here the better.\\n\\nDo yourself a favor and get their Bloody Mary.  It was phenomenal and simply the best I\\'ve ever had.  I\\'m pretty sure they only use ingredients from their garden and blend them fresh when you order it.  It was amazing.\\n\\nWhile EVERYTHING on the menu looks excellent, I had the white truffle scrambled eggs vegetable skillet and it was tasty and delicious.  It came with 2 pieces of their griddled bread with was amazing and it absolutely made the meal complete.  It was the best \"toast\" I\\'ve ever had.\\n\\nAnyway, I can\\'t wait to go back!'))"
   ]
  },
  {
   "cell_type": "code",
   "execution_count": 87,
   "metadata": {},
   "outputs": [
    {
     "name": "stdout",
     "output_type": "stream",
     "text": [
      "['Hey', 'sample', 'review', 'happens', 'contain', 'punctuations']\n"
     ]
    }
   ],
   "source": [
    "print(process_text(\"Hey there! This is a sample review, which happens to contain punctuations.\"))"
   ]
  },
  {
   "cell_type": "markdown",
   "metadata": {},
   "source": [
    "**Ok that sounds good**"
   ]
  },
  {
   "cell_type": "code",
   "execution_count": 88,
   "metadata": {},
   "outputs": [],
   "source": [
    "##split dataset to X and Y\n",
    "X,Y= french_dataset['text'],french_dataset['labels']"
   ]
  },
  {
   "cell_type": "code",
   "execution_count": 89,
   "metadata": {},
   "outputs": [],
   "source": [
    "from sklearn.feature_extraction.text import CountVectorizer"
   ]
  },
  {
   "cell_type": "code",
   "execution_count": 90,
   "metadata": {},
   "outputs": [],
   "source": [
    "vectorizer = CountVectorizer(analyzer=process_text).fit(X)"
   ]
  },
  {
   "cell_type": "code",
   "execution_count": 91,
   "metadata": {},
   "outputs": [
    {
     "name": "stdout",
     "output_type": "stream",
     "text": [
      "112412\n"
     ]
    }
   ],
   "source": [
    "## total count of vocabulary words\n",
    "print(len(vectorizer.vocabulary_))"
   ]
  },
  {
   "cell_type": "code",
   "execution_count": 93,
   "metadata": {},
   "outputs": [
    {
     "data": {
      "text/plain": [
       "\"i had the esteemed honor of working for chef bernard during the opening of his new location and i can safely say i have not met anyone more entitled and arrogant in my adult life i worked for two weeks without pay after being promised compensation putting together the tables you sit at during your foray into what may be the most banal dining experience in all of charlotte the man and his wife scare away talented and well meaning people as if it is very rapidly going out of style the grill chef corey is one of the most bush league cooks in fine dining i will have the displeasure of working with don't be surprised if your entree is overcookedthe playlist will play advertisements during service so perk up your ears as no one seems to notice over the modern drivel i think an establishment such as this must only attract the tone deaf and senseless seeking any place which doesn't serve biscuits the cost of food is atrocious for a 3 dollar portion of ribeye or duck you will be charged 30 dollars a brazen display the infinite nerve and sense of grandiose delusional entitlement of this place and owner speaking of place it is oddly situated by some rail road tracks in a row of mind numbing antique stores which actually is perfect nevermind the décor is sickeningly modern in a turn of the century building clueless people completely out of touch with anything than acquiring your money i don't think there is much of a love of anything else while employed there frequently we would be scolded for ruining their dream which in all reality is a nightmare it has two floors and the service staff has to truck your food and dirty dishes up and down all night because who doesn't love a sweaty faced server when you are paying 30 dollars a plate and a dumb waiter was out of the question because the owner was swindled out of a large portion of the building costs by someone who maybe dealt the blow which was coming to these utterly draconian owners\\\\usurious crooks notice the plywood which was painted dark grey to hide the fact that it's cheap plywood at the bar this place is all show and it doesn't take more than a visit to recognize the fact it's vacuous and hollow at its core i will never work for someone again who has such utter contempt for those who toil for him and as he approached me to work for him and never gave any respect to the fact that i worked for him for nothing to make this nightmare come true it was a tumultuous bitter life lesson oh and there are cockroaches bon appetit\""
      ]
     },
     "execution_count": 93,
     "metadata": {},
     "output_type": "execute_result"
    }
   ],
   "source": [
    "X[50]"
   ]
  },
  {
   "cell_type": "code",
   "execution_count": 95,
   "metadata": {},
   "outputs": [
    {
     "name": "stdout",
     "output_type": "stream",
     "text": [
      "  (0, 1951)\t1\n",
      "  (0, 1952)\t2\n",
      "  (0, 4703)\t1\n",
      "  (0, 4749)\t1\n",
      "  (0, 4986)\t1\n",
      "  (0, 5054)\t1\n",
      "  (0, 7497)\t1\n",
      "  (0, 7559)\t1\n",
      "  (0, 7581)\t2\n",
      "  (0, 7908)\t1\n",
      "  (0, 8216)\t1\n",
      "  (0, 8732)\t1\n",
      "  (0, 9367)\t1\n",
      "  (0, 9528)\t1\n",
      "  (0, 9915)\t1\n",
      "  (0, 11033)\t1\n",
      "  (0, 11152)\t1\n",
      "  (0, 12813)\t1\n",
      "  (0, 13595)\t1\n",
      "  (0, 13848)\t1\n",
      "  (0, 14266)\t1\n",
      "  (0, 14544)\t1\n",
      "  (0, 15528)\t1\n",
      "  (0, 17005)\t2\n",
      "  (0, 17332)\t1\n",
      "  :\t:\n",
      "  (0, 97411)\t1\n",
      "  (0, 99690)\t2\n",
      "  (0, 101104)\t1\n",
      "  (0, 101158)\t1\n",
      "  (0, 101305)\t1\n",
      "  (0, 101817)\t1\n",
      "  (0, 102077)\t1\n",
      "  (0, 102734)\t1\n",
      "  (0, 102744)\t1\n",
      "  (0, 103050)\t1\n",
      "  (0, 103113)\t1\n",
      "  (0, 103289)\t2\n",
      "  (0, 105127)\t1\n",
      "  (0, 105130)\t1\n",
      "  (0, 105180)\t1\n",
      "  (0, 106528)\t1\n",
      "  (0, 107085)\t1\n",
      "  (0, 108331)\t1\n",
      "  (0, 108478)\t1\n",
      "  (0, 109408)\t1\n",
      "  (0, 109949)\t1\n",
      "  (0, 110301)\t2\n",
      "  (0, 110312)\t2\n",
      "  (0, 110334)\t2\n",
      "  (0, 110534)\t1\n"
     ]
    }
   ],
   "source": [
    " vectorizer_50 = vectorizer.transform([X[50]])\n",
    "print(vectorizer_50)"
   ]
  },
  {
   "cell_type": "code",
   "execution_count": 97,
   "metadata": {},
   "outputs": [
    {
     "data": {
      "text/plain": [
       "(1, 112412)"
      ]
     },
     "execution_count": 97,
     "metadata": {},
     "output_type": "execute_result"
    }
   ],
   "source": [
    "vectorizer_50.shape"
   ]
  },
  {
   "cell_type": "code",
   "execution_count": 102,
   "metadata": {},
   "outputs": [
    {
     "data": {
      "text/plain": [
       "'adult'"
      ]
     },
     "execution_count": 102,
     "metadata": {},
     "output_type": "execute_result"
    }
   ],
   "source": [
    "vectorizer.get_feature_names()[4986]"
   ]
  },
  {
   "cell_type": "code",
   "execution_count": 104,
   "metadata": {},
   "outputs": [
    {
     "data": {
      "text/plain": [
       "'think'"
      ]
     },
     "execution_count": 104,
     "metadata": {},
     "output_type": "execute_result"
    }
   ],
   "source": [
    "vectorizer.get_feature_names()[99690]"
   ]
  },
  {
   "cell_type": "code",
   "execution_count": 105,
   "metadata": {},
   "outputs": [],
   "source": [
    "X = vectorizer.transform(X)"
   ]
  },
  {
   "cell_type": "code",
   "execution_count": 106,
   "metadata": {},
   "outputs": [
    {
     "data": {
      "text/plain": [
       "(53621, 112412)"
      ]
     },
     "execution_count": 106,
     "metadata": {},
     "output_type": "execute_result"
    }
   ],
   "source": [
    "X.shape"
   ]
  },
  {
   "cell_type": "code",
   "execution_count": 107,
   "metadata": {},
   "outputs": [
    {
     "data": {
      "text/plain": [
       "3190672"
      ]
     },
     "execution_count": 107,
     "metadata": {},
     "output_type": "execute_result"
    }
   ],
   "source": [
    "X.nnz"
   ]
  },
  {
   "cell_type": "code",
   "execution_count": 109,
   "metadata": {},
   "outputs": [],
   "source": [
    "X_train, X_test, y_train, y_test = train_test_split(X, Y, test_size=0.3, random_state=42)"
   ]
  },
  {
   "cell_type": "code",
   "execution_count": 110,
   "metadata": {},
   "outputs": [],
   "source": [
    "from sklearn.naive_bayes import MultinomialNB\n",
    "nb = MultinomialNB()"
   ]
  },
  {
   "cell_type": "code",
   "execution_count": 111,
   "metadata": {},
   "outputs": [
    {
     "data": {
      "text/plain": [
       "MultinomialNB()"
      ]
     },
     "execution_count": 111,
     "metadata": {},
     "output_type": "execute_result"
    }
   ],
   "source": [
    "nb.fit(X_train, y_train)"
   ]
  },
  {
   "cell_type": "code",
   "execution_count": 112,
   "metadata": {},
   "outputs": [],
   "source": [
    "preds = nb.predict(X_test)"
   ]
  },
  {
   "cell_type": "code",
   "execution_count": 114,
   "metadata": {},
   "outputs": [],
   "source": [
    "from sklearn.metrics import confusion_matrix, classification_report"
   ]
  },
  {
   "cell_type": "code",
   "execution_count": 115,
   "metadata": {},
   "outputs": [
    {
     "name": "stdout",
     "output_type": "stream",
     "text": [
      "[[ 3087  1157]\n",
      " [  697 11146]]\n",
      "\n",
      "\n",
      "              precision    recall  f1-score   support\n",
      "\n",
      "           0       0.82      0.73      0.77      4244\n",
      "           1       0.91      0.94      0.92     11843\n",
      "\n",
      "    accuracy                           0.88     16087\n",
      "   macro avg       0.86      0.83      0.85     16087\n",
      "weighted avg       0.88      0.88      0.88     16087\n",
      "\n"
     ]
    }
   ],
   "source": [
    "print(confusion_matrix(y_test, preds))\n",
    "print('\\n')\n",
    "print(classification_report(y_test, preds))"
   ]
  },
  {
   "cell_type": "code",
   "execution_count": 119,
   "metadata": {},
   "outputs": [],
   "source": [
    "positive_review = french_dataset[\"text\"][0]"
   ]
  },
  {
   "cell_type": "code",
   "execution_count": 120,
   "metadata": {},
   "outputs": [],
   "source": [
    "negative_review = french_dataset[\"text\"][3]"
   ]
  },
  {
   "cell_type": "code",
   "execution_count": 121,
   "metadata": {},
   "outputs": [],
   "source": [
    "positive_review_transformed = vectorizer.transform([positive_review])\n",
    "negative_review_transformed = vectorizer.transform([negative_review])"
   ]
  },
  {
   "cell_type": "code",
   "execution_count": 123,
   "metadata": {},
   "outputs": [
    {
     "data": {
      "text/plain": [
       "1"
      ]
     },
     "execution_count": 123,
     "metadata": {},
     "output_type": "execute_result"
    }
   ],
   "source": [
    "nb.predict(positive_review_transformed)[0]"
   ]
  },
  {
   "cell_type": "code",
   "execution_count": 124,
   "metadata": {},
   "outputs": [
    {
     "data": {
      "text/plain": [
       "0"
      ]
     },
     "execution_count": 124,
     "metadata": {},
     "output_type": "execute_result"
    }
   ],
   "source": [
    "nb.predict(negative_review_transformed)[0]"
   ]
  },
  {
   "cell_type": "markdown",
   "metadata": {},
   "source": [
    "## Applying TF-IDF Transformer"
   ]
  },
  {
   "cell_type": "markdown",
   "metadata": {},
   "source": [
    "#### So what is TF-IDF?\n",
    "- TF-IDF stands for term frequency-inverse document frequency, and the tf-idf weight is a weight often used in information retrieval and text mining. This weight is a statistical measure used to evaluate how important a word is to a document in a collection or corpus. The importance increases proportionally to the number of times a word appears in the document but is offset by the frequency of the word in the corpus. Variations of the tf-idf weighting scheme are often used by search engines as a central tool in scoring and ranking a document’s relevance given a user query.\n",
    "\n",
    "- One of the simplest ranking functions is computed by summing the tf-idf for each query term; many more sophisticated ranking functions are variants of this simple model.\n",
    "\n",
    "- Typically, the tf-idf weight is composed by two terms: the first computes the normalized Term Frequency (TF), aka. the number of times a word appears in a document, divided by the total number of words in that document; the second term is the Inverse Document Frequency (IDF), computed as the logarithm of the number of the documents in the corpus divided by the number of documents where the specific term appears.\n",
    "\n",
    "- **TF: Term Frequency**, which measures how frequently a term occurs in a document. Since every document is different in length, it is possible that a term would appear much more times in long documents than shorter ones. Thus, the term frequency is often divided by the document length (aka. the total number of terms in the document) as a way of normalization:\n",
    "**TF(t)** = (Number of times term t appears in a document) / (Total number of terms in the document).\n",
    "\n",
    "- **IDF: Inverse Document Frequency**, which measures how important a term is. While computing TF, all terms are considered equally important. However it is known that certain terms, such as “is”, “of”, and “that”, may appear a lot of times but have little importance. Thus we need to weigh down the frequent terms while scale up the rare ones, by computing the following:\n",
    "**IDF(t)** = log_e(Total number of documents / Number of documents with term t in it)."
   ]
  },
  {
   "cell_type": "code",
   "execution_count": 126,
   "metadata": {},
   "outputs": [],
   "source": [
    "from sklearn.feature_extraction.text import TfidfTransformer\n",
    "from sklearn.pipeline import Pipeline"
   ]
  },
  {
   "cell_type": "code",
   "execution_count": 127,
   "metadata": {},
   "outputs": [],
   "source": [
    "pipeline = Pipeline([\n",
    "    ('vectorizer', CountVectorizer(analyzer=process_text)),\n",
    "    ('classifier', MultinomialNB())\n",
    "])"
   ]
  },
  {
   "cell_type": "code",
   "execution_count": 130,
   "metadata": {},
   "outputs": [],
   "source": [
    "X,y= french_dataset['text'],french_dataset['labels']\n",
    "X_train, X_test, y_train, y_test = train_test_split(X, y, test_size=0.3, random_state=42)"
   ]
  },
  {
   "cell_type": "code",
   "execution_count": 131,
   "metadata": {},
   "outputs": [
    {
     "data": {
      "text/plain": [
       "Pipeline(steps=[('vectorizer',\n",
       "                 CountVectorizer(analyzer=<function process_text at 0x000000C24A0165E0>)),\n",
       "                ('classifier', MultinomialNB())])"
      ]
     },
     "execution_count": 131,
     "metadata": {},
     "output_type": "execute_result"
    }
   ],
   "source": [
    "pipeline.fit(X_train,y_train)"
   ]
  },
  {
   "cell_type": "code",
   "execution_count": 132,
   "metadata": {},
   "outputs": [],
   "source": [
    "preds = pipeline.predict(X_test)"
   ]
  },
  {
   "cell_type": "code",
   "execution_count": 133,
   "metadata": {},
   "outputs": [
    {
     "name": "stdout",
     "output_type": "stream",
     "text": [
      "[[ 3080  1164]\n",
      " [  620 11223]]\n",
      "\n",
      "\n",
      "              precision    recall  f1-score   support\n",
      "\n",
      "           0       0.83      0.73      0.78      4244\n",
      "           1       0.91      0.95      0.93     11843\n",
      "\n",
      "    accuracy                           0.89     16087\n",
      "   macro avg       0.87      0.84      0.85     16087\n",
      "weighted avg       0.89      0.89      0.89     16087\n",
      "\n"
     ]
    }
   ],
   "source": [
    "print(confusion_matrix(y_test, preds))\n",
    "print('\\n')\n",
    "print(classification_report(y_test, preds))"
   ]
  },
  {
   "cell_type": "markdown",
   "metadata": {},
   "source": [
    "### French\n",
    "- For Vietnam restaurants, beside some common requirements, people gave high reviews to some about their clean and fancy environment. But they also complain about dirty ones. So, there may diverse conditions in restaurants which dirty ones can learn from it and know where they need to improve.\n",
    "\n",
    "- Speaking of food, customer like tender taste and they like when restaurants serve generously. It may be a good way to attract customers. And they also like fresh and do not like greasy or bland.\n",
    "\n",
    "- For service, it seems there are serious issues about wrong and slow service. Even ‘rude’ came much more frequently than other types. So, providing good service and having nice and professional waiters are significant."
   ]
  },
  {
   "cell_type": "code",
   "execution_count": null,
   "metadata": {},
   "outputs": [],
   "source": []
  }
 ],
 "metadata": {
  "kernelspec": {
   "display_name": "Python 3",
   "language": "python",
   "name": "python3"
  },
  "language_info": {
   "codemirror_mode": {
    "name": "ipython",
    "version": 3
   },
   "file_extension": ".py",
   "mimetype": "text/x-python",
   "name": "python",
   "nbconvert_exporter": "python",
   "pygments_lexer": "ipython3",
   "version": "3.8.3"
  }
 },
 "nbformat": 4,
 "nbformat_minor": 4
}
