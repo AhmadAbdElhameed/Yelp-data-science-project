{
 "cells": [
  {
   "cell_type": "markdown",
   "metadata": {},
   "source": [
    "## Introduction :\n",
    "- Yelp is a which publish crowd-sourced reviews about local businesses, as well as the online reservation service Yelp Reservations. The company also trains small businesses in how to respond to reviews, hosts social events for reviewers, and provides data about businesses, including health inspection scores.\n",
    "\n",
    "- Yelp was founded in 2004 by former PayPal employees. By 2010 it had $30 million in revenues and the website had published more than 4.5 million crowd-sourced reviews."
   ]
  },
  {
   "cell_type": "markdown",
   "metadata": {},
   "source": [
    "**Attribues of review table are as following :**\n",
    "\n",
    "    review_id: ID of the review\n",
    "    user_id: ID of the user\n",
    "    business_id: ID of the business\n",
    "    stars: ratings of the business\n",
    "    date: review date\n",
    "    text: review from the user\n",
    "    useful: number of users who vote a review as usefull\n",
    "    funny: number of users who vote a review as funny\n",
    "    cool: number of users who vote a review as cool"
   ]
  },
  {
   "cell_type": "markdown",
   "metadata": {},
   "source": [
    "### Import Libraries"
   ]
  },
  {
   "cell_type": "code",
   "execution_count": 1,
   "metadata": {},
   "outputs": [],
   "source": [
    "import json  \n",
    "import pandas as pd  \n",
    "from pandas.io.json import json_normalize  \n",
    "import numpy as np\n",
    "import matplotlib.pyplot as plt\n",
    "import seaborn as sns\n",
    "import time\n",
    "import csv\n",
    "from sklearn.model_selection import train_test_split\n",
    "from sklearn.feature_extraction.text import CountVectorizer\n",
    "from sklearn.feature_extraction.text import CountVectorizer\n",
    "from sklearn.svm import LinearSVC\n",
    "pd.set_option('display.float_format', lambda x: '%.4f' % x)"
   ]
  },
  {
   "cell_type": "markdown",
   "metadata": {},
   "source": [
    "### Import Dataset"
   ]
  },
  {
   "cell_type": "code",
   "execution_count": 2,
   "metadata": {},
   "outputs": [],
   "source": [
    "reviews = pd.read_csv('yelp_review.csv')"
   ]
  },
  {
   "cell_type": "code",
   "execution_count": 3,
   "metadata": {},
   "outputs": [
    {
     "name": "stdout",
     "output_type": "stream",
     "text": [
      "<class 'pandas.core.frame.DataFrame'>\n",
      "RangeIndex: 5261668 entries, 0 to 5261667\n",
      "Data columns (total 9 columns):\n",
      " #   Column       Dtype \n",
      "---  ------       ----- \n",
      " 0   review_id    object\n",
      " 1   user_id      object\n",
      " 2   business_id  object\n",
      " 3   stars        int64 \n",
      " 4   date         object\n",
      " 5   text         object\n",
      " 6   useful       int64 \n",
      " 7   funny        int64 \n",
      " 8   cool         int64 \n",
      "dtypes: int64(4), object(5)\n",
      "memory usage: 361.3+ MB\n"
     ]
    }
   ],
   "source": [
    "reviews.info()"
   ]
  },
  {
   "cell_type": "code",
   "execution_count": 4,
   "metadata": {},
   "outputs": [
    {
     "data": {
      "text/plain": [
       "review_id      0\n",
       "user_id        0\n",
       "business_id    0\n",
       "stars          0\n",
       "date           0\n",
       "text           0\n",
       "useful         0\n",
       "funny          0\n",
       "cool           0\n",
       "dtype: int64"
      ]
     },
     "execution_count": 4,
     "metadata": {},
     "output_type": "execute_result"
    }
   ],
   "source": [
    "reviews.isnull().sum()"
   ]
  },
  {
   "cell_type": "code",
   "execution_count": 5,
   "metadata": {},
   "outputs": [
    {
     "data": {
      "text/html": [
       "<div>\n",
       "<style scoped>\n",
       "    .dataframe tbody tr th:only-of-type {\n",
       "        vertical-align: middle;\n",
       "    }\n",
       "\n",
       "    .dataframe tbody tr th {\n",
       "        vertical-align: top;\n",
       "    }\n",
       "\n",
       "    .dataframe thead th {\n",
       "        text-align: right;\n",
       "    }\n",
       "</style>\n",
       "<table border=\"1\" class=\"dataframe\">\n",
       "  <thead>\n",
       "    <tr style=\"text-align: right;\">\n",
       "      <th></th>\n",
       "      <th>review_id</th>\n",
       "      <th>user_id</th>\n",
       "      <th>business_id</th>\n",
       "      <th>stars</th>\n",
       "      <th>date</th>\n",
       "      <th>text</th>\n",
       "      <th>useful</th>\n",
       "      <th>funny</th>\n",
       "      <th>cool</th>\n",
       "    </tr>\n",
       "  </thead>\n",
       "  <tbody>\n",
       "    <tr>\n",
       "      <th>0</th>\n",
       "      <td>vkVSCC7xljjrAI4UGfnKEQ</td>\n",
       "      <td>bv2nCi5Qv5vroFiqKGopiw</td>\n",
       "      <td>AEx2SYEUJmTxVVB18LlCwA</td>\n",
       "      <td>5</td>\n",
       "      <td>2016-05-28</td>\n",
       "      <td>Super simple place but amazing nonetheless. It...</td>\n",
       "      <td>0</td>\n",
       "      <td>0</td>\n",
       "      <td>0</td>\n",
       "    </tr>\n",
       "    <tr>\n",
       "      <th>1</th>\n",
       "      <td>n6QzIUObkYshz4dz2QRJTw</td>\n",
       "      <td>bv2nCi5Qv5vroFiqKGopiw</td>\n",
       "      <td>VR6GpWIda3SfvPC-lg9H3w</td>\n",
       "      <td>5</td>\n",
       "      <td>2016-05-28</td>\n",
       "      <td>Small unassuming place that changes their menu...</td>\n",
       "      <td>0</td>\n",
       "      <td>0</td>\n",
       "      <td>0</td>\n",
       "    </tr>\n",
       "    <tr>\n",
       "      <th>2</th>\n",
       "      <td>MV3CcKScW05u5LVfF6ok0g</td>\n",
       "      <td>bv2nCi5Qv5vroFiqKGopiw</td>\n",
       "      <td>CKC0-MOWMqoeWf6s-szl8g</td>\n",
       "      <td>5</td>\n",
       "      <td>2016-05-28</td>\n",
       "      <td>Lester's is located in a beautiful neighborhoo...</td>\n",
       "      <td>0</td>\n",
       "      <td>0</td>\n",
       "      <td>0</td>\n",
       "    </tr>\n",
       "  </tbody>\n",
       "</table>\n",
       "</div>"
      ],
      "text/plain": [
       "                review_id                 user_id             business_id  \\\n",
       "0  vkVSCC7xljjrAI4UGfnKEQ  bv2nCi5Qv5vroFiqKGopiw  AEx2SYEUJmTxVVB18LlCwA   \n",
       "1  n6QzIUObkYshz4dz2QRJTw  bv2nCi5Qv5vroFiqKGopiw  VR6GpWIda3SfvPC-lg9H3w   \n",
       "2  MV3CcKScW05u5LVfF6ok0g  bv2nCi5Qv5vroFiqKGopiw  CKC0-MOWMqoeWf6s-szl8g   \n",
       "\n",
       "   stars        date                                               text  \\\n",
       "0      5  2016-05-28  Super simple place but amazing nonetheless. It...   \n",
       "1      5  2016-05-28  Small unassuming place that changes their menu...   \n",
       "2      5  2016-05-28  Lester's is located in a beautiful neighborhoo...   \n",
       "\n",
       "   useful  funny  cool  \n",
       "0       0      0     0  \n",
       "1       0      0     0  \n",
       "2       0      0     0  "
      ]
     },
     "execution_count": 5,
     "metadata": {},
     "output_type": "execute_result"
    }
   ],
   "source": [
    "reviews.head(3)"
   ]
  },
  {
   "cell_type": "code",
   "execution_count": 6,
   "metadata": {},
   "outputs": [
    {
     "data": {
      "text/html": [
       "<div>\n",
       "<style scoped>\n",
       "    .dataframe tbody tr th:only-of-type {\n",
       "        vertical-align: middle;\n",
       "    }\n",
       "\n",
       "    .dataframe tbody tr th {\n",
       "        vertical-align: top;\n",
       "    }\n",
       "\n",
       "    .dataframe thead th {\n",
       "        text-align: right;\n",
       "    }\n",
       "</style>\n",
       "<table border=\"1\" class=\"dataframe\">\n",
       "  <thead>\n",
       "    <tr style=\"text-align: right;\">\n",
       "      <th></th>\n",
       "      <th>stars</th>\n",
       "      <th>useful</th>\n",
       "      <th>funny</th>\n",
       "      <th>cool</th>\n",
       "    </tr>\n",
       "  </thead>\n",
       "  <tbody>\n",
       "    <tr>\n",
       "      <th>count</th>\n",
       "      <td>5261668.0000</td>\n",
       "      <td>5261668.0000</td>\n",
       "      <td>5261668.0000</td>\n",
       "      <td>5261668.0000</td>\n",
       "    </tr>\n",
       "    <tr>\n",
       "      <th>mean</th>\n",
       "      <td>3.7277</td>\n",
       "      <td>1.3851</td>\n",
       "      <td>0.5092</td>\n",
       "      <td>0.5861</td>\n",
       "    </tr>\n",
       "    <tr>\n",
       "      <th>std</th>\n",
       "      <td>1.4336</td>\n",
       "      <td>4.5287</td>\n",
       "      <td>2.6862</td>\n",
       "      <td>2.2337</td>\n",
       "    </tr>\n",
       "    <tr>\n",
       "      <th>min</th>\n",
       "      <td>1.0000</td>\n",
       "      <td>-1.0000</td>\n",
       "      <td>0.0000</td>\n",
       "      <td>-1.0000</td>\n",
       "    </tr>\n",
       "    <tr>\n",
       "      <th>25%</th>\n",
       "      <td>3.0000</td>\n",
       "      <td>0.0000</td>\n",
       "      <td>0.0000</td>\n",
       "      <td>0.0000</td>\n",
       "    </tr>\n",
       "    <tr>\n",
       "      <th>50%</th>\n",
       "      <td>4.0000</td>\n",
       "      <td>0.0000</td>\n",
       "      <td>0.0000</td>\n",
       "      <td>0.0000</td>\n",
       "    </tr>\n",
       "    <tr>\n",
       "      <th>75%</th>\n",
       "      <td>5.0000</td>\n",
       "      <td>2.0000</td>\n",
       "      <td>0.0000</td>\n",
       "      <td>1.0000</td>\n",
       "    </tr>\n",
       "    <tr>\n",
       "      <th>max</th>\n",
       "      <td>5.0000</td>\n",
       "      <td>3364.0000</td>\n",
       "      <td>1481.0000</td>\n",
       "      <td>1105.0000</td>\n",
       "    </tr>\n",
       "  </tbody>\n",
       "</table>\n",
       "</div>"
      ],
      "text/plain": [
       "             stars       useful        funny         cool\n",
       "count 5261668.0000 5261668.0000 5261668.0000 5261668.0000\n",
       "mean        3.7277       1.3851       0.5092       0.5861\n",
       "std         1.4336       4.5287       2.6862       2.2337\n",
       "min         1.0000      -1.0000       0.0000      -1.0000\n",
       "25%         3.0000       0.0000       0.0000       0.0000\n",
       "50%         4.0000       0.0000       0.0000       0.0000\n",
       "75%         5.0000       2.0000       0.0000       1.0000\n",
       "max         5.0000    3364.0000    1481.0000    1105.0000"
      ]
     },
     "execution_count": 6,
     "metadata": {},
     "output_type": "execute_result"
    }
   ],
   "source": [
    "reviews.describe()"
   ]
  },
  {
   "cell_type": "code",
   "execution_count": 47,
   "metadata": {},
   "outputs": [
    {
     "data": {
      "text/plain": [
       "\"Had their chocolate almond croissant and it was amazing! So light and buttery and oh my how chocolaty.\\n\\nIf you're looking for a light breakfast then head out here. Perfect spot for a coffee\\\\/latté before heading out to the old port\""
      ]
     },
     "execution_count": 47,
     "metadata": {},
     "output_type": "execute_result"
    }
   ],
   "source": [
    "reviews[\"text\"][4]"
   ]
  },
  {
   "cell_type": "markdown",
   "metadata": {},
   "source": [
    "### Dataset Visualization"
   ]
  },
  {
   "cell_type": "code",
   "execution_count": 9,
   "metadata": {},
   "outputs": [],
   "source": [
    "reviews['length'] = reviews['text'].apply(len)"
   ]
  },
  {
   "cell_type": "code",
   "execution_count": 13,
   "metadata": {},
   "outputs": [
    {
     "data": {
      "image/png": "[encoded data removed]",
      "text/plain": [
       "<Figure size 432x288 with 1 Axes>"
      ]
     },
     "metadata": {
      "needs_background": "light"
     },
     "output_type": "display_data"
    }
   ],
   "source": [
    "reviews['length'].plot(bins=100,kind = \"hist\");"
   ]
  },
  {
   "cell_type": "code",
   "execution_count": 14,
   "metadata": {
    "scrolled": true
   },
   "outputs": [
    {
     "data": {
      "text/plain": [
       "count   5261668.0000\n",
       "mean        611.8673\n",
       "std         572.1642\n",
       "min           1.0000\n",
       "25%         242.0000\n",
       "50%         434.0000\n",
       "75%         780.0000\n",
       "max        5056.0000\n",
       "Name: length, dtype: float64"
      ]
     },
     "execution_count": 14,
     "metadata": {},
     "output_type": "execute_result"
    }
   ],
   "source": [
    "reviews['length'].describe()"
   ]
  },
  {
   "cell_type": "code",
   "execution_count": null,
   "metadata": {},
   "outputs": [],
   "source": [
    "## The max review"
   ]
  },
  {
   "cell_type": "code",
   "execution_count": 15,
   "metadata": {},
   "outputs": [
    {
     "data": {
      "text/plain": [
       "'On the day of execution, on the day of execution\\n\"Only women kneel and smile, ah-ah, ah-ah\"\\n\\n-----------------------------------------\\xad\\xad\\xad\\xad\\xad\\xad\\xad\\xad\\xad\\xad\\xad\\xad\\xad\\xad\\xad\\xad-------------------\\n\\nIn A Sentence™\\nAll shiny and slick with a badass parking garage; however, it\\'s a slimy shitshow .\\n\\nQuick Review™\\n+   Artwork all around. Relatively vertical parking garage with sensor lights to notify of empty carports. Centrally located and accessible from the west via a bridge to avoid the boulevard.  \\n\\n+\\\\/- Venues: Book\\\\/Stage (defunct), Bond, Boulevard Pool, Chandelier, Chelsea, Rose.Rabbit.Lie.\\n\\n-    Where to start? It\\'s a fucking shitshow: bunch of nickel and diming amateurs. \\n\\nEmployee of Excellence™ \\nUnknown names: they used to work at Book\\\\/Stage and probably all got fired.\\n\\n-----------------------------------------\\xad\\xad\\xad\\xad\\xad\\xad\\xad\\xad\\xad\\xad\\xad\\xad\\xad\\xad\\xad\\xad-------------------\\n\\nI have some personal experiences here. I have enough personal experiences here to self-publish a goddamn, shitty book. \\n\\nCosmopolitan is nice and shiny and at first look: a cool, slick resort casino. I was a big fan when Book\\\\/Stage was hosting mini-residencies of eight shows. I practically lived here.\\n\\nYet, my troubles started once Deutsche Bank took over. \\n\\nBoulevard Pool\\nAs chronicled in my Blvd Pool review (linked below), they kept me from entering shows that I had tickets for because I was arriving too late (according to them). To contextualise: they basically did everything that they could to keep me from an Edward Sharpe & The Magnetic Zeros (when it was the full group with Jade still) and I had to sneak into it. Never mind that there thirty minutes of live concert still fucking remaining for me to enjoy after I wasted ten minutes sneaking in. \\n\\nCasino Floor\\\\/Identity® (Player\\'s Club)\\nIn terms of the gaming: I played and played in two promotional offers from Identity®. One of these promotions I recall vividly because it still pisses me off thinking of it today: Adele. Two tickets to Adele at Chelsea (the old Chelsea). One had to be present when they were awarded, so a gift homer if one accrued the points and showed up at the time of the stupid giveaway. Except for one little detail that was so hidden in the fine print one had to be a corporate attorney to catch wind: it was only on specific machines that no employee that I came across could tell me with certainty. Fucking scam artists. \\n\\nConcierge\\nIn terms of the concierge: this is where they earn their rating. I purchased floor tickets to Kevin Hart, early show. Something came up and I couldn\\'t go. I called the concierge and asked if I could switch them to the late show. Paraphrasing: well, those seats are sold out for the late show. \\n\\nOkay, I understand. How about you give me the shittiest tickets you have for that late show and you can give away or sell once more or so whatever the fuck you want with my much more expensive early tickets? I\\'ll paraphrase their response once more: well, tickets are nonrefundable and no exchanges. \\n\\nAlright. I understand the standard, corporate language on the back of ducats. This is not my first rodeo, asshole. I am calling you because you are supposed to be a concierge, asshole. Moreover, why didn\\'t you say this to begin with instead of sharing with me the pointless information that all tickets on the floor were sold out for the late show (if you weren\\'t capable of exchanging)? Fucking assholes. \\n\\nThe tickets went to waste; and you get a fucking one-star for it, you useless scumbags. Enjoy! \\n\\nBook & Stage - Four-stars\\nhttp:\\\\/\\\\/www.yelp.com\\\\/biz\\\\/book-and-stage-las-vegas?hrid=4QDzlC3HGQr_vMk865bYZA&utm_campaign=www_review_share_popup&utm_medium=copy_link&utm_source=(direct)\\n\\nBond - TBD\\nhttp:\\\\/\\\\/www.yelp.com\\\\/biz\\\\/bond-las-vegas\\n\\nBoulevard Pool - Two-stars\\nhttp:\\\\/\\\\/www.yelp.com\\\\/biz\\\\/boulevard-pool-las-vegas?hrid=S2BuqhJipNCkfSClnD20yg&utm_campaign=www_review_share_popup&utm_medium=copy_link&utm_source=(direct)\\n\\nThe Chandelier - TBD\\nhttp:\\\\/\\\\/www.yelp.com\\\\/biz\\\\/the-chandelier-las-vegas\\n\\nThe Chelsea - TBD\\nhttp:\\\\/\\\\/www.yelp.com\\\\/biz\\\\/the-chelsea-las-vegas\\n\\nChino Poblano - TBD\\nhttp:\\\\/\\\\/www.yelp.com\\\\/biz\\\\/china-poblano-las-vegas\\n\\nThe Henry - TBD\\nhttp:\\\\/\\\\/www.yelp.com\\\\/biz\\\\/the-henry-las-vegas\\n\\nHolstein\\'s Shakes & Buns - TBD\\nhttp:\\\\/\\\\/www.yelp.com\\\\/biz\\\\/holsteins-shakes-and-buns-las-vegas\\n\\nJaleo - TBD\\nhttp:\\\\/\\\\/www.yelp.com\\\\/biz\\\\/jaleo-las-vegas\\n\\nP3 Studio - TBD\\nhttp:\\\\/\\\\/www.yelp.com\\\\/biz\\\\/p3-studio-las-vegas\\n\\nRose.Rabbit.Lie - TBD\\nhttp:\\\\/\\\\/www.yelp.com\\\\/biz\\\\/rose-rabbit-lie-las-vegas\\n\\nSecret Pizza - Three-stars\\nhttp:\\\\/\\\\/www.yelp.com\\\\/biz\\\\/secret-pizza-las-vegas?hrid=KZSAZI08xYZ4fUIELN3EaQ&utm_campaign=www_review_share_popup&utm_medium=copy_link&utm_source=(direct)\\n\\nWicked Spoon - TBD\\nhttp:\\\\/\\\\/www.yelp.com\\\\/biz\\\\/wicked-spoon-las-vegas\\n\\n-----------------------------------------\\xad\\xad\\xad\\xad\\xad\\xad\\xad\\xad\\xad\\xad\\xad\\xad\\xad\\xad\\xad\\xad-------------------\\n\\nTourists?\\nLots of them: 98\\\\/2 tourists-to-locals ratio here. Why would locals gamble here? \\n\\nGood for Kids?\\nNo!\\n\\n-----------------------------------------\\xad\\xad\\xad\\xad\\xad\\xad\\xad\\xad\\xad\\xad\\xad\\xad\\xad\\xad\\xad\\xad-------------------\\n\\nRating: One-star, \"Eek! Methinks not.\" (5000 characters.)'"
      ]
     },
     "execution_count": 15,
     "metadata": {},
     "output_type": "execute_result"
    }
   ],
   "source": [
    "reviews[reviews['length'] == 5056]['text'].iloc[0]"
   ]
  },
  {
   "cell_type": "code",
   "execution_count": null,
   "metadata": {},
   "outputs": [],
   "source": [
    "## The min review"
   ]
  },
  {
   "cell_type": "code",
   "execution_count": 16,
   "metadata": {},
   "outputs": [
    {
     "data": {
      "text/plain": [
       "'O'"
      ]
     },
     "execution_count": 16,
     "metadata": {},
     "output_type": "execute_result"
    }
   ],
   "source": [
    "reviews[reviews['length'] == 1]['text'].iloc[0]"
   ]
  },
  {
   "cell_type": "code",
   "execution_count": null,
   "metadata": {},
   "outputs": [],
   "source": [
    "## The mean review"
   ]
  },
  {
   "cell_type": "code",
   "execution_count": 17,
   "metadata": {},
   "outputs": [
    {
     "data": {
      "text/plain": [
       "\"Kantapia is great for what it is - a quick eats restaurant in a student area. \\n\\nThe seating isn't spectacular, the ambience is bare but there is a lively buzz to the restaurant that is endearing. \\n\\nThe staff are friendly and give advice on what to order and take the time to explain the more complicated menu items. The food is okay - the portions are generous. \\n\\nThey have specifically marked vegetarian items on the menu which is a really great point and are sweet to warn that the broth for their ramen is chicken based. \\n\\nGo on a cold day when you're close by and are looking for a good meal to warm you up.\""
      ]
     },
     "execution_count": 17,
     "metadata": {},
     "output_type": "execute_result"
    }
   ],
   "source": [
    "reviews[reviews['length'] == 611]['text'].iloc[0]"
   ]
  },
  {
   "cell_type": "code",
   "execution_count": 21,
   "metadata": {},
   "outputs": [
    {
     "data": {
      "image/png": "[encoded data removed]",
      "text/plain": [
       "<Figure size 1008x576 with 1 Axes>"
      ]
     },
     "metadata": {
      "needs_background": "light"
     },
     "output_type": "display_data"
    }
   ],
   "source": [
    "plt.figure(figsize=(14,8))\n",
    "ind_reviews = reviews.stars.value_counts()\n",
    "sns.countplot(y='stars',data=reviews, \n",
    "              order = ind_reviews.index, palette= sns.color_palette(\"GnBu_r\", len(ind_reviews)))\n",
    "plt.title('Distribution of stars reviews', fontsize=15)\n",
    "plt.xlabel('Number of Reviews', fontsize=14, labelpad=10)\n",
    "plt.ylabel('Stars', fontsize=14)\n",
    "plt.tick_params(labelsize=14)\n",
    "for  m, n in enumerate(reviews.stars.value_counts()):\n",
    "    plt.text(n, m+0.15, str(n), fontweight='bold', fontsize=14)"
   ]
  },
  {
   "cell_type": "code",
   "execution_count": 25,
   "metadata": {},
   "outputs": [
    {
     "data": {
      "text/plain": [
       "<seaborn.axisgrid.FacetGrid at 0x7bb7e20d60>"
      ]
     },
     "execution_count": 25,
     "metadata": {},
     "output_type": "execute_result"
    },
    {
     "data": {
      "image/png": "[encoded data removed]",
      "text/plain": [
       "<Figure size 432x648 with 5 Axes>"
      ]
     },
     "metadata": {
      "needs_background": "light"
     },
     "output_type": "display_data"
    }
   ],
   "source": [
    "## Show the 5 stars column each one in seperate graph\n",
    "vis_5s = sns.FacetGrid(data=reviews ,col=\"stars\",col_wrap= 2)\n",
    "vis_5s.map(plt.hist,\"length\",bins = 20,color = \"b\")"
   ]
  },
  {
   "cell_type": "code",
   "execution_count": 26,
   "metadata": {},
   "outputs": [],
   "source": [
    "df_stars_1 = reviews[reviews['stars'] == 1]\n",
    "df_stars_5 = reviews[reviews['stars'] == 5]"
   ]
  },
  {
   "cell_type": "code",
   "execution_count": 27,
   "metadata": {},
   "outputs": [
    {
     "data": {
      "text/plain": [
       "((731363, 10), (2253347, 10))"
      ]
     },
     "execution_count": 27,
     "metadata": {},
     "output_type": "execute_result"
    }
   ],
   "source": [
    "df_stars_1.shape,df_stars_5.shape"
   ]
  },
  {
   "cell_type": "code",
   "execution_count": 28,
   "metadata": {},
   "outputs": [],
   "source": [
    "df_stars_1_5 = pd.concat([df_stars_1,df_stars_5])"
   ]
  },
  {
   "cell_type": "code",
   "execution_count": 29,
   "metadata": {},
   "outputs": [
    {
     "data": {
      "text/plain": [
       "(2984710, 10)"
      ]
     },
     "execution_count": 29,
     "metadata": {},
     "output_type": "execute_result"
    }
   ],
   "source": [
    "df_stars_1_5.shape"
   ]
  },
  {
   "cell_type": "code",
   "execution_count": 35,
   "metadata": {},
   "outputs": [
    {
     "name": "stdout",
     "output_type": "stream",
     "text": [
      "1 star percentage =  24.50365362128984  %\n"
     ]
    }
   ],
   "source": [
    "print(\"1 star percentage = \",(df_stars_1.shape[0]/df_stars_1_5.shape[0] * 100),\" %\")"
   ]
  },
  {
   "cell_type": "code",
   "execution_count": 36,
   "metadata": {},
   "outputs": [
    {
     "name": "stdout",
     "output_type": "stream",
     "text": [
      "5 star percentage =  75.49634637871016  %\n"
     ]
    }
   ],
   "source": [
    "print(\"5 star percentage = \",(df_stars_5.shape[0]/df_stars_1_5.shape[0] * 100),\" %\")"
   ]
  },
  {
   "cell_type": "code",
   "execution_count": 40,
   "metadata": {},
   "outputs": [
    {
     "data": {
      "image/png": "[encoded data removed]",
      "text/plain": [
       "<Figure size 432x288 with 1 Axes>"
      ]
     },
     "metadata": {
      "needs_background": "light"
     },
     "output_type": "display_data"
    }
   ],
   "source": [
    "sns.countplot(df_stars_1_5['stars'],label = \"Counts\");"
   ]
  },
  {
   "cell_type": "markdown",
   "metadata": {},
   "source": [
    "### Data Preparation : Create Train and Test Datasets"
   ]
  },
  {
   "cell_type": "markdown",
   "metadata": {},
   "source": [
    "#### Remove punctuation"
   ]
  },
  {
   "cell_type": "code",
   "execution_count": 41,
   "metadata": {},
   "outputs": [],
   "source": [
    "from string import punctuation"
   ]
  },
  {
   "cell_type": "code",
   "execution_count": 42,
   "metadata": {},
   "outputs": [
    {
     "data": {
      "text/plain": [
       "'!\"#$%&\\'()*+,-./:;<=>?@[\\\\]^_`{|}~'"
      ]
     },
     "execution_count": 42,
     "metadata": {},
     "output_type": "execute_result"
    }
   ],
   "source": [
    "punctuation"
   ]
  },
  {
   "cell_type": "code",
   "execution_count": 48,
   "metadata": {},
   "outputs": [],
   "source": [
    "sample_review = reviews[\"text\"][4]"
   ]
  },
  {
   "cell_type": "code",
   "execution_count": 55,
   "metadata": {},
   "outputs": [
    {
     "name": "stdout",
     "output_type": "stream",
     "text": [
      "Had their chocolate almond croissant and it was amazing! So light and buttery and oh my how chocolaty.\n",
      "\n",
      "If you're looking for a light breakfast then head out here. Perfect spot for a coffee\\/latté before heading out to the old port\n"
     ]
    }
   ],
   "source": [
    "print(sample_review)"
   ]
  },
  {
   "cell_type": "code",
   "execution_count": 51,
   "metadata": {},
   "outputs": [],
   "source": [
    "punc_removed = [char for char in sample_review if char not in punctuation]"
   ]
  },
  {
   "cell_type": "code",
   "execution_count": 52,
   "metadata": {
    "scrolled": true
   },
   "outputs": [
    {
     "data": {
      "text/plain": [
       "['H',\n",
       " 'a',\n",
       " 'd',\n",
       " ' ',\n",
       " 't',\n",
       " 'h',\n",
       " 'e',\n",
       " 'i',\n",
       " 'r',\n",
       " ' ',\n",
       " 'c',\n",
       " 'h',\n",
       " 'o',\n",
       " 'c',\n",
       " 'o',\n",
       " 'l',\n",
       " 'a',\n",
       " 't',\n",
       " 'e',\n",
       " ' ',\n",
       " 'a',\n",
       " 'l',\n",
       " 'm',\n",
       " 'o',\n",
       " 'n',\n",
       " 'd',\n",
       " ' ',\n",
       " 'c',\n",
       " 'r',\n",
       " 'o',\n",
       " 'i',\n",
       " 's',\n",
       " 's',\n",
       " 'a',\n",
       " 'n',\n",
       " 't',\n",
       " ' ',\n",
       " 'a',\n",
       " 'n',\n",
       " 'd',\n",
       " ' ',\n",
       " 'i',\n",
       " 't',\n",
       " ' ',\n",
       " 'w',\n",
       " 'a',\n",
       " 's',\n",
       " ' ',\n",
       " 'a',\n",
       " 'm',\n",
       " 'a',\n",
       " 'z',\n",
       " 'i',\n",
       " 'n',\n",
       " 'g',\n",
       " ' ',\n",
       " 'S',\n",
       " 'o',\n",
       " ' ',\n",
       " 'l',\n",
       " 'i',\n",
       " 'g',\n",
       " 'h',\n",
       " 't',\n",
       " ' ',\n",
       " 'a',\n",
       " 'n',\n",
       " 'd',\n",
       " ' ',\n",
       " 'b',\n",
       " 'u',\n",
       " 't',\n",
       " 't',\n",
       " 'e',\n",
       " 'r',\n",
       " 'y',\n",
       " ' ',\n",
       " 'a',\n",
       " 'n',\n",
       " 'd',\n",
       " ' ',\n",
       " 'o',\n",
       " 'h',\n",
       " ' ',\n",
       " 'm',\n",
       " 'y',\n",
       " ' ',\n",
       " 'h',\n",
       " 'o',\n",
       " 'w',\n",
       " ' ',\n",
       " 'c',\n",
       " 'h',\n",
       " 'o',\n",
       " 'c',\n",
       " 'o',\n",
       " 'l',\n",
       " 'a',\n",
       " 't',\n",
       " 'y',\n",
       " '\\n',\n",
       " '\\n',\n",
       " 'I',\n",
       " 'f',\n",
       " ' ',\n",
       " 'y',\n",
       " 'o',\n",
       " 'u',\n",
       " 'r',\n",
       " 'e',\n",
       " ' ',\n",
       " 'l',\n",
       " 'o',\n",
       " 'o',\n",
       " 'k',\n",
       " 'i',\n",
       " 'n',\n",
       " 'g',\n",
       " ' ',\n",
       " 'f',\n",
       " 'o',\n",
       " 'r',\n",
       " ' ',\n",
       " 'a',\n",
       " ' ',\n",
       " 'l',\n",
       " 'i',\n",
       " 'g',\n",
       " 'h',\n",
       " 't',\n",
       " ' ',\n",
       " 'b',\n",
       " 'r',\n",
       " 'e',\n",
       " 'a',\n",
       " 'k',\n",
       " 'f',\n",
       " 'a',\n",
       " 's',\n",
       " 't',\n",
       " ' ',\n",
       " 't',\n",
       " 'h',\n",
       " 'e',\n",
       " 'n',\n",
       " ' ',\n",
       " 'h',\n",
       " 'e',\n",
       " 'a',\n",
       " 'd',\n",
       " ' ',\n",
       " 'o',\n",
       " 'u',\n",
       " 't',\n",
       " ' ',\n",
       " 'h',\n",
       " 'e',\n",
       " 'r',\n",
       " 'e',\n",
       " ' ',\n",
       " 'P',\n",
       " 'e',\n",
       " 'r',\n",
       " 'f',\n",
       " 'e',\n",
       " 'c',\n",
       " 't',\n",
       " ' ',\n",
       " 's',\n",
       " 'p',\n",
       " 'o',\n",
       " 't',\n",
       " ' ',\n",
       " 'f',\n",
       " 'o',\n",
       " 'r',\n",
       " ' ',\n",
       " 'a',\n",
       " ' ',\n",
       " 'c',\n",
       " 'o',\n",
       " 'f',\n",
       " 'f',\n",
       " 'e',\n",
       " 'e',\n",
       " 'l',\n",
       " 'a',\n",
       " 't',\n",
       " 't',\n",
       " 'é',\n",
       " ' ',\n",
       " 'b',\n",
       " 'e',\n",
       " 'f',\n",
       " 'o',\n",
       " 'r',\n",
       " 'e',\n",
       " ' ',\n",
       " 'h',\n",
       " 'e',\n",
       " 'a',\n",
       " 'd',\n",
       " 'i',\n",
       " 'n',\n",
       " 'g',\n",
       " ' ',\n",
       " 'o',\n",
       " 'u',\n",
       " 't',\n",
       " ' ',\n",
       " 't',\n",
       " 'o',\n",
       " ' ',\n",
       " 't',\n",
       " 'h',\n",
       " 'e',\n",
       " ' ',\n",
       " 'o',\n",
       " 'l',\n",
       " 'd',\n",
       " ' ',\n",
       " 'p',\n",
       " 'o',\n",
       " 'r',\n",
       " 't']"
      ]
     },
     "execution_count": 52,
     "metadata": {},
     "output_type": "execute_result"
    }
   ],
   "source": [
    "punc_removed"
   ]
  },
  {
   "cell_type": "code",
   "execution_count": 53,
   "metadata": {},
   "outputs": [],
   "source": [
    "punc_removed_joined = ''.join(punc_removed)"
   ]
  },
  {
   "cell_type": "code",
   "execution_count": 57,
   "metadata": {},
   "outputs": [
    {
     "name": "stdout",
     "output_type": "stream",
     "text": [
      "Had their chocolate almond croissant and it was amazing! So light and buttery and oh my how chocolaty.\n",
      "\n",
      "If you're looking for a light breakfast then head out here. Perfect spot for a coffee\\/latté before heading out to the old port\n"
     ]
    }
   ],
   "source": [
    "## Before punctuation removed\n",
    "print(sample_review)"
   ]
  },
  {
   "cell_type": "code",
   "execution_count": 56,
   "metadata": {},
   "outputs": [
    {
     "name": "stdout",
     "output_type": "stream",
     "text": [
      "Had their chocolate almond croissant and it was amazing So light and buttery and oh my how chocolaty\n",
      "\n",
      "If youre looking for a light breakfast then head out here Perfect spot for a coffeelatté before heading out to the old port\n"
     ]
    }
   ],
   "source": [
    "## After punctuation removed\n",
    "print(punc_removed_joined)"
   ]
  },
  {
   "cell_type": "markdown",
   "metadata": {},
   "source": [
    "#### Remove Stop Words"
   ]
  },
  {
   "cell_type": "code",
   "execution_count": 59,
   "metadata": {},
   "outputs": [],
   "source": [
    "from nltk.corpus import stopwords\n",
    "##stopwords.words(\"english\")"
   ]
  },
  {
   "cell_type": "code",
   "execution_count": 60,
   "metadata": {},
   "outputs": [],
   "source": [
    "remove_stop_words = [word for word in punc_removed_joined.split() if word.lower() not in stopwords.words(\"english\")]"
   ]
  },
  {
   "cell_type": "code",
   "execution_count": 61,
   "metadata": {},
   "outputs": [
    {
     "data": {
      "text/plain": [
       "['chocolate',\n",
       " 'almond',\n",
       " 'croissant',\n",
       " 'amazing',\n",
       " 'light',\n",
       " 'buttery',\n",
       " 'oh',\n",
       " 'chocolaty',\n",
       " 'youre',\n",
       " 'looking',\n",
       " 'light',\n",
       " 'breakfast',\n",
       " 'head',\n",
       " 'Perfect',\n",
       " 'spot',\n",
       " 'coffeelatté',\n",
       " 'heading',\n",
       " 'old',\n",
       " 'port']"
      ]
     },
     "execution_count": 61,
     "metadata": {},
     "output_type": "execute_result"
    }
   ],
   "source": [
    "remove_stop_words"
   ]
  },
  {
   "cell_type": "code",
   "execution_count": 64,
   "metadata": {},
   "outputs": [],
   "source": [
    "remove_stop_words_joined = ' '.join(remove_stop_words)"
   ]
  },
  {
   "cell_type": "code",
   "execution_count": 66,
   "metadata": {},
   "outputs": [
    {
     "name": "stdout",
     "output_type": "stream",
     "text": [
      "Had their chocolate almond croissant and it was amazing So light and buttery and oh my how chocolaty\n",
      "\n",
      "If youre looking for a light breakfast then head out here Perfect spot for a coffeelatté before heading out to the old port\n"
     ]
    }
   ],
   "source": [
    "## Before stop words removed\n",
    "print(punc_removed_joined)"
   ]
  },
  {
   "cell_type": "code",
   "execution_count": 67,
   "metadata": {},
   "outputs": [
    {
     "name": "stdout",
     "output_type": "stream",
     "text": [
      "chocolate almond croissant amazing light buttery oh chocolaty youre looking light breakfast head Perfect spot coffeelatté heading old port\n"
     ]
    }
   ],
   "source": [
    "## After stop words removed\n",
    "print(remove_stop_words_joined)"
   ]
  },
  {
   "cell_type": "markdown",
   "metadata": {},
   "source": [
    "#### Count Vectorizer"
   ]
  },
  {
   "cell_type": "code",
   "execution_count": 70,
   "metadata": {},
   "outputs": [],
   "source": [
    "from sklearn.feature_extraction.text  import CountVectorizer\n",
    "\n",
    "vectorizer = CountVectorizer()\n",
    "sentence = vectorizer.fit_transform([sample_review])"
   ]
  },
  {
   "cell_type": "code",
   "execution_count": 74,
   "metadata": {},
   "outputs": [
    {
     "name": "stdout",
     "output_type": "stream",
     "text": [
      "['almond', 'amazing', 'and', 'before', 'breakfast', 'buttery', 'chocolate', 'chocolaty', 'coffee', 'croissant', 'for', 'had', 'head', 'heading', 'here', 'how', 'if', 'it', 'latté', 'light', 'looking', 'my', 'oh', 'old', 'out', 'perfect', 'port', 're', 'so', 'spot', 'the', 'their', 'then', 'to', 'was', 'you']\n"
     ]
    }
   ],
   "source": [
    "print(vectorizer.get_feature_names())"
   ]
  },
  {
   "cell_type": "code",
   "execution_count": 73,
   "metadata": {},
   "outputs": [
    {
     "name": "stdout",
     "output_type": "stream",
     "text": [
      "[[1 1 3 1 1 1 1 1 1 1 2 1 1 1 1 1 1 1 1 2 1 1 1 1 2 1 1 1 1 1 1 1 1 1 1 1]]\n"
     ]
    }
   ],
   "source": [
    "print(sentence.toarray())"
   ]
  },
  {
   "cell_type": "markdown",
   "metadata": {},
   "source": [
    "### Process the Reviews dataset"
   ]
  },
  {
   "cell_type": "code",
   "execution_count": 101,
   "metadata": {},
   "outputs": [],
   "source": [
    "import time"
   ]
  },
  {
   "cell_type": "code",
   "execution_count": 77,
   "metadata": {},
   "outputs": [],
   "source": [
    "def text_cleaning(text):\n",
    "    punc_removed = [char for char in text if char not in punctuation]\n",
    "    punc_removed_joined = ''.join(punc_removed)\n",
    "    remove_stop_words = [word for word in punc_removed_joined.split() if word.lower() not in stopwords.words(\"english\")]\n",
    "    #remove_stop_words_joined = ' '.join(remove_stop_words)\n",
    "    return remove_stop_words"
   ]
  },
  {
   "cell_type": "code",
   "execution_count": null,
   "metadata": {},
   "outputs": [],
   "source": []
  },
  {
   "cell_type": "code",
   "execution_count": 94,
   "metadata": {},
   "outputs": [],
   "source": [
    "mini_df_1 = df_stars_1.iloc[0:1000]"
   ]
  },
  {
   "cell_type": "code",
   "execution_count": 96,
   "metadata": {},
   "outputs": [],
   "source": [
    "mini_df_5 = df_stars_5.iloc[0:1000]"
   ]
  },
  {
   "cell_type": "code",
   "execution_count": 97,
   "metadata": {},
   "outputs": [],
   "source": [
    "mini_df_1_5 = pd.concat([mini_df_1,mini_df_5])"
   ]
  },
  {
   "cell_type": "code",
   "execution_count": 128,
   "metadata": {},
   "outputs": [],
   "source": [
    "df = mini_df_1_5.sample(frac=1).reset_index(drop=True)"
   ]
  },
  {
   "cell_type": "code",
   "execution_count": 131,
   "metadata": {},
   "outputs": [
    {
     "name": "stdout",
     "output_type": "stream",
     "text": [
      "Wall time: 1min 17s\n"
     ]
    }
   ],
   "source": [
    "%%time\n",
    "df_clean = df.text.apply(text_cleaning)"
   ]
  },
  {
   "cell_type": "code",
   "execution_count": 138,
   "metadata": {},
   "outputs": [
    {
     "name": "stdout",
     "output_type": "stream",
     "text": [
      "['Friendly', 'Service', 'DYNAMITE', 'menu', 'coffee', 'teas', 'nifty', 'edibles', 'favorite', 'drink', 'Creme', 'Brûlée', 'Latte', 'completely', 'addicted', 'also', 'Jasmine', 'tea', 'another', 'favorite', 'mine', 'also', 'enjoy', 'fact', 'email', 'receipts', 'less', 'paper', 'impact', 'Earth', 'Sunrise', 'centrally', 'located', 'lovley', 'little', 'gem', 'Las', 'Vegas']\n"
     ]
    }
   ],
   "source": [
    "print(df_clean[1])"
   ]
  },
  {
   "cell_type": "code",
   "execution_count": 139,
   "metadata": {
    "scrolled": true
   },
   "outputs": [
    {
     "data": {
      "text/plain": [
       "'Friendly Service and a DYNAMITE menu of coffee, teas and other nifty edibles. My favorite drink is the Creme Brûlée Latte. I am completely addicted to it. They also have Jasmine tea and that is another favorite of mine. I also enjoy the fact that they can email your receipts to you , less paper and impact on our Earth. Sunrise is centrally located and lovley little gem of Las Vegas.'"
      ]
     },
     "execution_count": 139,
     "metadata": {},
     "output_type": "execute_result"
    }
   ],
   "source": [
    "df['text'].iloc[1]"
   ]
  },
  {
   "cell_type": "markdown",
   "metadata": {},
   "source": [
    "#### Create test data"
   ]
  },
  {
   "cell_type": "code",
   "execution_count": 156,
   "metadata": {
    "scrolled": true
   },
   "outputs": [
    {
     "data": {
      "text/plain": [
       "(400, 10)"
      ]
     },
     "execution_count": 156,
     "metadata": {},
     "output_type": "execute_result"
    }
   ],
   "source": [
    "test_df_1 = df_stars_1.iloc[1000:1200]\n",
    "test_df_5 = df_stars_5.iloc[1000:1200]\n",
    "test_1_5 = pd.concat([test_df_1,test_df_5])\n",
    "test_data = test_1_5.sample(frac=1).reset_index(drop=True)\n",
    "test_data.shape"
   ]
  },
  {
   "cell_type": "code",
   "execution_count": 157,
   "metadata": {},
   "outputs": [
    {
     "data": {
      "text/html": [
       "<div>\n",
       "<style scoped>\n",
       "    .dataframe tbody tr th:only-of-type {\n",
       "        vertical-align: middle;\n",
       "    }\n",
       "\n",
       "    .dataframe tbody tr th {\n",
       "        vertical-align: top;\n",
       "    }\n",
       "\n",
       "    .dataframe thead th {\n",
       "        text-align: right;\n",
       "    }\n",
       "</style>\n",
       "<table border=\"1\" class=\"dataframe\">\n",
       "  <thead>\n",
       "    <tr style=\"text-align: right;\">\n",
       "      <th></th>\n",
       "      <th>review_id</th>\n",
       "      <th>user_id</th>\n",
       "      <th>business_id</th>\n",
       "      <th>stars</th>\n",
       "      <th>date</th>\n",
       "      <th>text</th>\n",
       "      <th>useful</th>\n",
       "      <th>funny</th>\n",
       "      <th>cool</th>\n",
       "      <th>length</th>\n",
       "    </tr>\n",
       "  </thead>\n",
       "  <tbody>\n",
       "    <tr>\n",
       "      <th>0</th>\n",
       "      <td>x5k7uo7ChkXlVvp66aQEuA</td>\n",
       "      <td>6tNME-MMEjhfv0si0imlhw</td>\n",
       "      <td>-K3kqmykKlhlB4arCsLHOw</td>\n",
       "      <td>1</td>\n",
       "      <td>2016-07-04</td>\n",
       "      <td>As bad as it gets....biryani is just average.....</td>\n",
       "      <td>1</td>\n",
       "      <td>1</td>\n",
       "      <td>0</td>\n",
       "      <td>174</td>\n",
       "    </tr>\n",
       "    <tr>\n",
       "      <th>1</th>\n",
       "      <td>8_2PtfZfnuCxymcTcrz63g</td>\n",
       "      <td>DuuKQyCltv6uxZaUOP4m3A</td>\n",
       "      <td>ynqrs5UZJbQbiJA_9e_JAA</td>\n",
       "      <td>1</td>\n",
       "      <td>2017-02-18</td>\n",
       "      <td>Great concept but the actual doughnut is not v...</td>\n",
       "      <td>0</td>\n",
       "      <td>0</td>\n",
       "      <td>0</td>\n",
       "      <td>165</td>\n",
       "    </tr>\n",
       "    <tr>\n",
       "      <th>2</th>\n",
       "      <td>7ltxDXqSKBc_XxQOzWBIdw</td>\n",
       "      <td>duMVXYlygk84Uwq3jxaMVw</td>\n",
       "      <td>MtHG_yRGu4JYGA6GOVMZvg</td>\n",
       "      <td>1</td>\n",
       "      <td>2016-08-24</td>\n",
       "      <td>Let's see...\\nFirst off, they wouldn't check u...</td>\n",
       "      <td>5</td>\n",
       "      <td>0</td>\n",
       "      <td>2</td>\n",
       "      <td>3922</td>\n",
       "    </tr>\n",
       "    <tr>\n",
       "      <th>3</th>\n",
       "      <td>YPkud6xXH0G0G6t9T3WO3Q</td>\n",
       "      <td>0c8vgK5B-Ivu5kcvOPxNIg</td>\n",
       "      <td>NdBY8jlG3EBCULxxh0Lghg</td>\n",
       "      <td>5</td>\n",
       "      <td>2017-03-20</td>\n",
       "      <td>Andi,\\nThank you so much for helping us out.  ...</td>\n",
       "      <td>0</td>\n",
       "      <td>0</td>\n",
       "      <td>0</td>\n",
       "      <td>251</td>\n",
       "    </tr>\n",
       "    <tr>\n",
       "      <th>4</th>\n",
       "      <td>NL6xHzFbxo2HXZJSNG1R9A</td>\n",
       "      <td>3PSmslXPps8aBmSA6mk-9w</td>\n",
       "      <td>s5jo4xojsezzl8TKP7XKtQ</td>\n",
       "      <td>5</td>\n",
       "      <td>2016-10-12</td>\n",
       "      <td>Found this spot on yelp and was surprised at t...</td>\n",
       "      <td>0</td>\n",
       "      <td>0</td>\n",
       "      <td>0</td>\n",
       "      <td>956</td>\n",
       "    </tr>\n",
       "  </tbody>\n",
       "</table>\n",
       "</div>"
      ],
      "text/plain": [
       "                review_id                 user_id             business_id  \\\n",
       "0  x5k7uo7ChkXlVvp66aQEuA  6tNME-MMEjhfv0si0imlhw  -K3kqmykKlhlB4arCsLHOw   \n",
       "1  8_2PtfZfnuCxymcTcrz63g  DuuKQyCltv6uxZaUOP4m3A  ynqrs5UZJbQbiJA_9e_JAA   \n",
       "2  7ltxDXqSKBc_XxQOzWBIdw  duMVXYlygk84Uwq3jxaMVw  MtHG_yRGu4JYGA6GOVMZvg   \n",
       "3  YPkud6xXH0G0G6t9T3WO3Q  0c8vgK5B-Ivu5kcvOPxNIg  NdBY8jlG3EBCULxxh0Lghg   \n",
       "4  NL6xHzFbxo2HXZJSNG1R9A  3PSmslXPps8aBmSA6mk-9w  s5jo4xojsezzl8TKP7XKtQ   \n",
       "\n",
       "   stars        date                                               text  \\\n",
       "0      1  2016-07-04  As bad as it gets....biryani is just average.....   \n",
       "1      1  2017-02-18  Great concept but the actual doughnut is not v...   \n",
       "2      1  2016-08-24  Let's see...\\nFirst off, they wouldn't check u...   \n",
       "3      5  2017-03-20  Andi,\\nThank you so much for helping us out.  ...   \n",
       "4      5  2016-10-12  Found this spot on yelp and was surprised at t...   \n",
       "\n",
       "   useful  funny  cool  length  \n",
       "0       1      1     0     174  \n",
       "1       0      0     0     165  \n",
       "2       5      0     2    3922  \n",
       "3       0      0     0     251  \n",
       "4       0      0     0     956  "
      ]
     },
     "execution_count": 157,
     "metadata": {},
     "output_type": "execute_result"
    }
   ],
   "source": [
    "test_data.head()"
   ]
  },
  {
   "cell_type": "code",
   "execution_count": 158,
   "metadata": {},
   "outputs": [],
   "source": [
    "X,Y = test_data['text'],test_data['stars']"
   ]
  },
  {
   "cell_type": "code",
   "execution_count": 177,
   "metadata": {},
   "outputs": [
    {
     "name": "stdout",
     "output_type": "stream",
     "text": [
      "Wall time: 15.3 s\n"
     ]
    }
   ],
   "source": [
    "%%time\n",
    "vectorizer = CountVectorizer(analyzer=text_cleaning)\n",
    "reviews_count_vectorizer_X = vectorizer.fit_transform(X)"
   ]
  },
  {
   "cell_type": "code",
   "execution_count": 178,
   "metadata": {},
   "outputs": [
    {
     "data": {
      "text/plain": [
       "(400, 6149)"
      ]
     },
     "execution_count": 178,
     "metadata": {},
     "output_type": "execute_result"
    }
   ],
   "source": [
    "reviews_count_vectorizer_X.shape"
   ]
  },
  {
   "cell_type": "markdown",
   "metadata": {},
   "source": [
    "### Apply countVectorizer to Yelp Reviews"
   ]
  },
  {
   "cell_type": "code",
   "execution_count": 140,
   "metadata": {},
   "outputs": [
    {
     "name": "stdout",
     "output_type": "stream",
     "text": [
      "Wall time: 1min 17s\n"
     ]
    }
   ],
   "source": [
    "%%time\n",
    "vectorizer = CountVectorizer(analyzer=text_cleaning)\n",
    "reviews_count_vectorizer = vectorizer.fit_transform(df['text'])"
   ]
  },
  {
   "cell_type": "code",
   "execution_count": 141,
   "metadata": {
    "collapsed": true
   },
   "outputs": [
    {
     "name": "stdout",
     "output_type": "stream",
     "text": [
      "['0', '010', '0381', '05', '079', '1', '10', '100', '1000', '100000', '1000x', '100month', '100s', '101', '1012', '101215', '1015', '1015am', '1019am', '1024', '1027am', '1030', '1030pm', '1035am', '1045pm', '1047pm', '10514', '1052', '107', '108', '1095', '1099', '10K', '10X', '10a', '10am', '10dottys', '10k', '10mile', '10min', '10pm', '10th', '10x', '11', '110', '1100', '1105', '1112', '111am', '112', '1120am', '11213', '1125', '1130', '115', '115pm', '1172015', '1195', '11AM', '11am', '11h', '11h30minuit', '11pm', '12', '120', '1200', '1215', '1215pm', '1220', '1220pm', '1223', '1224', '1226', '1227', '1230', '1232017', '1245', '1246', '125', '1250', '125000', '12900', '1299', '12PM', '12am', '12pm', '13', '130pm', '138', '139', '13th', '14', '1400', '14500', '147', '1499', '14Angostura', '15', '150', '1500', '15000', '150nightso', '1511', '152', '1520', '153', '155', '15900', '1599', '15Roasted', '15h', '15k', '15mins', '16', '165', '16Goat', '16Halloumi', '17', '176', '17900', '1799', '17h15', '17h55', '18', '180', '1800', '18000', '185', '187', '188', '1895', '18year', '19', '1900', '19000', '1951', '1986', '1989', '199', '1994', '1999', '19h30', '19th', '1AM', '1am', '1h', '1p', '1pm', '1s', '1spoken', '1st', '1star', '2', '20', '200', '2000', '20000', '2005', '2006', '2008', '2008ish', '2009', '200pm', '2010', '2012', '2013', '2014', '2015', '2016', '2017', '2017je', '2023', '202pm', '2030', '20min', '20mins', '20s', '20something', '20th', '21', '210', '21115', '212', '215', '2195', '21st', '22', '220', '2200', '22500', '2260person', '23', '230', '23000', '230pm', '237pm', '23h50', '23rd', '24', '2400', '2400yr', '2430', '245', '247', '24h', '24hrs', '24th', '25', '250', '2500', '250crazy', '2530', '255', '25th', '26', '260', '26000', '27', '27000', '2715', '274', '275', '28', '29', '295', '29999', '2K', '2am', '2asked', '2h', '2k', '2minutes', '2nd', '2pm', '2shirt', '3', '30', '300', '3000', '30000', '301', '3045', '30k', '30min', '30mins', '30s', '31', '312', '32', '3200', '32125', '325', '33', '330', '330430', '3315', '34', '340', '34000', '340pm', '345', '35', '350', '35lbs', '35min', '36', '360', '37', '375', '37500', '376', '38', '387', '395', '399', '3D', '3RD', '3am', '3d', '3h', '3h40', '3ish', '3m', '3min', '3pm', '3rd', '3star', '4', '40', '400', '4000', '40000', '400pm', '40minutes', '40s', '40th', '41000', '412', '415', '42', '42012', '421', '428i', '42bucks', '430', '430pm', '44', '440000', '45', '450', '453', '45mins', '4600', '469', '470', '48', '48pm', '49', '490', '4900', '495', '499', '4999', '4am', '4legged', '4mins', '4pm', '4pm7pm', '4th', '4x4', '4x6s', '5', '50', '500', '5000', '5000000', '500GB', '5050', '5070', '50s', '51', '510', '52', '52716Still', '530PM', '530min', '530pm', '536PM', '537PM', '545', '545am', '546', '5499', '5500', '550000', '56', '57', '58', '5900', '5916', '595', '599', '5995', '5Church', '5ft', '5k', '5month', '5pm', '5s', '5star', '5th', '5then', '5x', '5x7', '6', '60', '600', '6000', '6090', '60day', '612', '62015', '6247', '62716', '630am', '630pm', '635', '639PM', '645', '645pm', '65', '6500', '650pm', '67', '6700', '68', '6800', '69', '695', '699', '6K', '6PM', '6am', '6inch', '6k', '6oz', '6pack', '6person', '6pm', '6taco', '6x6', '7', '70', '700', '7000', '700696', '7023751256', '7023812120', '70on', '70s', '710', '711', '72', '720', '7200', '72000', '72317', '7232016', '72500', '730', '745', '75', '750', '7500', '750pm', '775', '78', '79', '795', '799', '7am', '7pm', '7th', '8', '80', '800', '8000', '800pm', '8090000', '80s', '80sretro', '81', '810', '830', '830AM', '830am', '839pm', '840am', '845pm', '85', '88', '888', '8882337613', '89', '89148', '8Fries', '8Kopanisti', '8a2p', '8am', '8ft', '8ish', '8k', '8oz', '8pm', '8x10', '8x10s', '9', '90', '900', '900p', '900pm', '900pm1200am', '90hr', '90s', '90°', '910', '914', '91717', '91817', '92', '920', '925', '93', '930', '9301000pm', '930am', '930pm', '932016', '940', '945', '945pm', '95', '950am', '9600', '98', '99', '998', '999', '9K', '9am', '9k', '9pm', '9th', 'AAA', 'ABC', 'ABSOLUTELY', 'ABUSE', 'AC', 'ACDC', 'ACRYLIC', 'ACTUAL', 'ACTUALLY', 'ADD', 'AGREES', 'AH', 'AKA', 'ALCOOL', 'ALLOW', 'ALMOST', 'ALSO', 'ALWAYS', 'AMAZEBALLS', 'AMAZING', 'AMAZON', 'AMC', 'AMERICA', 'AMIE', 'ANDif', 'ANIMALS', 'ANOTHER', 'ANYWHERE', 'AP', 'APPEARS', 'AR', 'ARKKEEvieillissantinconfortable', 'ARMS', 'ASAP', 'ASK', 'ASKED', 'ASSHOLE', 'ASU', 'ATE', 'ATLEAST', 'ATM', 'ATMs', 'AUDACITY', 'AUTHENTIC', 'AVAILABLE', 'AVANCE', 'AVIS', 'AVOID', 'AWAY', 'AWESOME', 'AWFUL', 'AYCE', 'AZ', 'Aardvark', 'Abercrombie', 'Abhorrent', 'Abnormally', 'Abridged', 'Absolute', 'Absolutely', 'Academy', 'Accommodating', 'According', 'Ace', 'Actually', 'Acura', 'Adams', 'Add', 'Adding', 'Additionally', 'Adidas', 'Adorable', 'Advantage', 'Advisor', 'Affairs', 'Affordable', 'Affordabledeliciousgreat', 'Afraid', 'African', 'Africansafarithemed', 'Agree', 'Ah', 'Ahh', 'Ahi', 'Ailes', 'Aimes', 'Aioli', 'Air', 'Airport', 'Airworx', 'Akexandra', 'Akira', 'Akron', 'Al', 'Alarms', 'Alas', 'Albertsons', 'Aldi', 'Ale', 'Alec', 'Alee', 'Alegno', 'Alexa', 'Alexis', 'Alfredo', 'Algebra', 'Alice', 'Alignment', 'AllAmerican', 'Allezy', 'Allstate', 'Almond', 'Almost', 'Aloha', 'Along', 'Aloo', 'Alors', 'Already', 'Alright', 'Also', 'Altered', 'Alternative', 'Although', 'Altima', 'Altogether', 'Alvarez', 'Always', 'Alyssa', 'Amateur', 'Amazing', 'Amazon', 'Amazoncom', 'Amazons', 'Ambassador', 'Ambiance', 'Ambience', 'Ambivalence', 'Ambivalent', 'Ambridge', 'America', 'American', 'Americanized', 'Americas', 'Amish', 'Ammendment', 'Among', 'Amusezvous', 'Amy', 'Anaheim', 'Anal', 'Anchovies', 'Andra', 'Andre', 'Andrew', 'AndrewANS', 'Angel', 'Angie', 'Angry', 'Angus', 'Animal', 'Anita', 'Anjum', 'Anjums', 'Ann', 'Anniversary', 'Another', 'Answer', 'Anthony', 'Anthropologie', 'Anthropologists', 'Anthros', 'Antonios', 'Anymore', 'Anyone', 'Anything', 'Anytime', 'Anyway', 'Anyways', 'Anywho', 'Apartment', 'Apartments', 'Aphrodite', 'Apparently', 'Appears', 'Appetizer', 'AppetizersBao', 'Apple', 'Applebees', 'Apples', 'Appointments', 'Appoitment', 'Approx', 'Approximately', 'Apps', 'April', 'Après', 'Arab', 'Arabic', 'Arancini', 'Araujo', 'Arcade', 'Arcadia', 'Area', 'Arent', 'Arepa', 'Argentina', 'Ari', 'Aria', 'Arizona', 'Armed', 'Arnold', 'Around', 'Arrancini', 'Arrival', 'Arrived', 'Arrivé', 'Arrow', 'Arrowhead', 'Art', 'Arthur', 'Arti', 'Artichoke', 'Artistry', 'Ash', 'Asheville', 'Ashley', 'Asia', 'Asian', 'Asians', 'Aside', 'Ask', 'Asked', 'Aspinwall', 'Assume', 'Atacama', 'Atherton', 'Atlantic', 'Atmoic', 'Atmosphere', 'Atrias', 'Attempts', 'Attended', 'Attention', 'Attentive', 'Auction', 'Aug', 'August', 'Aunt', 'Ausflipper', 'Aussi', 'Australian', 'Authentic', 'Authority', 'Auto', 'AutoNation', 'Autozone', 'Ave', 'Avec', 'Aveda', 'Avenue', 'Aviation', 'Avis', 'Avocado', 'Avoid', 'Avondale', 'Awesome', 'Awful', 'Awsome', 'Az', 'Aztec', 'Azure', 'B', 'BABY', 'BACK', 'BAD', 'BAM', 'BAR', 'BARRIQUES', 'BASED', 'BB', 'BBB', 'BBQ', 'BEAST', 'BEAUTIFUL', 'BEEF', 'BEER', 'BEST', 'BEWARE', 'BF', 'BHC', 'BIG', 'BIT', 'BITCHES', 'BIÈRES', 'BJs', 'BLOATED', 'BLOWN', 'BLT', 'BMW', 'BOISSON', 'BOLERO', 'BOMBDOTCOM', 'BOMBToute', 'BON', 'BOOOOO', 'BOULE', 'BOY', 'BP', 'BREAKING', 'BROWN', 'BRUNCH', 'BS', 'BUILD', 'BUILT', 'BULL', 'BURIED', 'BUSINESS', 'BUY', 'BUYER', 'BUYERS', 'BW', 'BYO', 'BYOB', 'BYOW', 'Bachi', 'Back', 'Bacon', 'Bad', 'Bagel', 'Bagels', 'Bahama', 'Bahn', 'Baileys', 'Baingan', 'Baja', 'Baked', 'Bakery', 'Bakes', 'Baled', 'Bali', 'Ballroom', 'Balls', 'Bally', 'Ballys', 'Bamboo', 'Banana', 'Banh', 'Bank', 'Banoffee', 'Bao', 'Baptiste', 'Bar', 'BarBurrito', 'BarBurritos', 'Barbacoa', 'Barbary', 'Barbecue', 'Barber', 'Barbie', 'Barely', 'Barge', 'Bark', 'Barked', 'Barking', 'Barn', 'Barnacle', 'Barrel', 'Barrio', 'Barriques', 'Barros', 'Barry', 'Bars', 'Bartenders', 'Bartha', 'Barwith', 'Base', 'Based', 'Bashas', 'Basically', 'Basil', 'Basket', 'Baskin', 'Bassewitz', 'Bathurst', 'Batman', 'Battali', 'Bauer', 'Baxter', 'Bay', 'Bayview', 'Bazaar', 'Bazooka', 'Bbq', 'Beach', 'Beachwood', 'Bean', 'Beans', 'Bear', 'Beast', 'Beats', 'Beaucoup', 'Beauharnois', 'Beaumont', 'Beautiful', 'Beauty', 'Beaver', 'Becky', 'Beef', 'Beer', 'Beers', 'BeersPerfectly', 'Beet', 'Bei', 'Bel', 'Believe', 'Bell', 'Bellagio', 'Belle', 'Bellini', 'Bellisimo', 'Belly', 'Benadryl', 'Bene', 'Benefit', 'Bennett', 'Bennys', 'BentonConventionCenter', 'Bernabo', 'Bernardins', 'Besides', 'Best', 'Beth', 'Bethany', 'Better', 'Beurk', 'Beverage', 'Beverly', 'Beware', 'Beyoncé', 'Beyond', 'Bfast', 'Bharta', 'Bianco', 'Bic', 'Bicycle', 'Bien', 'Biergarten', 'Big', 'Biggest', 'Bike', 'Bill', 'Billet', 'Bills', 'Billy', 'Biltmore', 'Binh', 'Biria', 'Birthday', 'BirthdayWe', 'Birthing', 'Biryani', 'Bisbee', 'Biscuits', 'Bisque', 'Bistecca', 'Bistro', 'Biteswhich', 'Bizarre', 'Bizarreje', 'Black', 'Blackened', 'Blackhawk', 'Blacks', 'Blah', 'Blake', 'Blanca', 'Blanco', 'Blancos', 'Bland', 'Blech', 'Blergh', 'Bleu', 'Blick', 'Blo', 'Bloody', 'Bloom', 'Bloor', 'Blows', 'Blue', 'Blueberries', 'Blueberry', 'Blurts', 'Blvd', 'Boa', 'Boars', 'Boas', 'Boat', 'Boba', 'Boca', 'Bocadillo', 'Boccas', 'Bocconcini', 'Body', 'BofA', 'Bogus', 'Boiled', 'Boiling', 'Bolan', 'Bolero', 'Bollywood', 'BombayGrille', 'Bombaygrille', 'Bombs', 'Bombshells', 'Bon', 'Boneless', 'Bonitas', 'Bonjour', 'Bonne', 'Bonnie', 'Bonus', 'Boo', 'Book', 'Booking', 'Bootlegger', 'Borders', 'Boring', 'Born', 'Bosa', 'Boston', 'Botero', 'Bottle', 'Bottom', 'Bottomlineexcellent', 'Bouffe', 'Bought', 'Bouillabaisse', 'Boulder', 'Boulevard', 'Bounce', 'Bound', 'Bourbon', 'Boustan', 'Boustanque', 'Bowes', 'Bowl', 'Bowled', 'Bowling', 'Box', 'Boy', 'Boys', 'Brace', 'Bracken', 'Brad', 'Brady', 'Braggs', 'Braid', 'Bramble', 'Brandon', 'Brandons', 'Branthouse', 'Bravo', 'Brazil', 'Brazilian', 'Brazlian', 'Bread', 'Breadcrumbs', 'Break', 'Breakfast', 'Breaking', 'Breathing', 'Bref', 'Brefle', 'Brefquand', 'Breftout', 'Brenda', 'Brent', 'Bret', 'Brew', 'Brewery', 'Brewski', 'Bri', 'Brian', 'Brians', 'Brick', 'Bridal', 'Bride', 'Brie', 'Brilliant', 'Brimstone', 'Bring', 'Brio', 'Brioche', 'Brios', 'Brisket', 'Brit', 'Brittany', 'Bro', 'Broadway', 'Brookline', 'Broom', 'Brought', 'Brow', 'Browns', 'Bruce', 'Brugos', 'Brulee', 'Bruleed', 'Brunch', 'Brunches', 'Brush', 'Brushed', 'Brushettas', 'Brussels', 'Brûlée', 'Bs', 'Btw', 'Bubbes', 'Buck', 'Bucks', 'Buddy', 'Budget', 'Budino', 'Buffalo', 'Buffet', 'Buhbye', 'Bula', 'Bulgogi', 'Bulk', 'Bull', 'Bullies', 'Bummer', 'Bun', 'Bundt', 'Buns', 'Bureau', 'Burger', 'Burgers', 'Burgushi', 'Burnt', 'Burrata', 'Burress', 'Burrito', 'Business', 'Butter', 'Buy', 'Buying', 'Byron', 'C', 'CA', 'CAFFEINE', 'CAGES', 'CAKED', 'CALL', 'CALLS', 'CAME', 'CANCEL', 'CANNOT', 'CANT', 'CARE', 'CAREFUL', 'CARES', 'CARLTON', 'CARS', 'CASH', 'CE', 'CES', 'CH', 'CHAMBRES', 'CHARMANT', 'CHEAP', 'CHELSEA', 'CHER', 'CJ', 'CLAIM', 'CLASS', 'CLEAN', 'CLINIC', 'CLT', 'CM', 'CMs', 'COFFEE', 'COLDlike', 'COLOR', 'COME', 'COMMISSIONS', 'COMMISSIONSTHE', 'COMPANY', 'COMPLETE', 'COMPLETELY', 'CON', 'CONSOL', 'CONSUMPTION', 'CORN', 'CORROSION', 'COST', 'COSTS', 'COULD', 'COURSE', 'COURTOIS', 'COVER', 'COVERED', 'COX', 'CPR', 'CRAP', 'CREATE', 'CREDIT', 'CROWD', 'CRTs', 'CRUISES', 'CRYING', 'CUISINE', 'CUSTOMER', 'CUSTOMERS', 'CUT', 'CVS', 'Cab', 'Cabana', 'Cacti', 'Caddy', 'Caesar', 'Caesars', 'Caesers', 'Cafe', 'Caffe', 'Caffeine', 'Cage', 'Cake', 'Cakes', 'Calamari', 'Cali', 'Californai', 'California', 'Calimari', 'Call', 'Called', 'Calli', 'Calling', 'Calmars', 'Calpico', 'Came', 'Camelback', 'Camelot', 'Camp', 'Campbells', 'Canada', 'Canadian', 'Cancelled', 'Candace', 'Candice', 'Candles', 'Candycane', 'Canes', 'Cannoli', 'Cannot', 'Canoli', 'Cant', 'Cantina', 'Canton', 'Cantonese', 'Canyon', 'Capers', 'Capital', 'Capone', 'Cappuccino', 'Caprese', 'Capri', 'Capriottis', 'Captain', 'Car', 'Cara', 'Caramel', 'Carbonara', 'Card', 'Cards', 'Carefully', 'Carfax', 'Cari', 'Caribbean', 'Carlo', 'Carlsbad', 'Carlton', 'Carly', 'Carnival', 'Carolina', 'Carpet', 'Carrie', 'Carson', 'Cartel', 'Carumba', 'Carve', 'Cascabel', 'Case', 'Casey', 'Caseys', 'Cash', 'Cashier', 'Cashiers', 'Casino', 'Castle', 'Castro', 'Cat', 'Catering', 'Catfish', 'Cathy', 'Catrina', 'Cats', 'Caucasian', 'Caught', 'CauliFire', 'Cauliflower', 'Cause', 'Cave', 'Caviar', 'Ce', 'Ceasars', 'Celines', 'Cellar', 'Cellular', 'Celtic', 'Centennial', 'Center', 'CenterDont', 'Centers', 'Central', 'Centre', 'CentreVille', 'Century', 'CenturyLink', 'Cereal', 'Cerrin', 'Certainly', 'Cesar', 'Cest', 'Cette', 'Ceviche', 'Chairs', 'Chalet', 'Chaletsized', 'Challenge', 'Champagne', 'Champaign', 'Chance', 'Chandler', 'Chanel', 'Chang', 'Changs', 'Channel', 'Chapters', 'Charcoal', 'Charge', 'Charged', 'Charlene', 'Charleston', 'Charlotte', 'CharlotteToday', 'Charlottes', 'Charming', 'Cheap', 'Check', 'Checked', 'Checking', 'Cheek', 'Cheer', 'Cheerleaders', 'Cheers', 'Cheese', 'CheeseTheir', 'Cheeseburgers', 'Cheesecake', 'Cheesesteak', 'Cheeta', 'CheezeWiz', 'Chef', 'Chelsea', 'Cherokee', 'Cherries', 'Cherry', 'Cheryl', 'Chestnut', 'Chevre', 'Chevy', 'Chicago', 'Chicagoans', 'Chicken', 'ChickfilA', 'Chickfila', 'Chikfila', 'Child', 'Chile', 'Chili', 'Chillis', 'Chimichanga', 'Chimichangas', 'Chinatown', 'ChinatownAttitude', 'Chinese', 'Chipotle', 'Chips', 'Chiropractic', 'Chloe', 'Chloes', 'Chocolat', 'Chocolate', 'Chocolates', 'Chocolatier', 'Chocolatiers', 'Chocolatina', 'Choice', 'Choix', 'Choose', 'Chop', 'Chow', 'Chowder', 'Chris', 'Christmas', 'Christopher', 'Chuck', 'Chucky', 'Church', 'Ciao', 'Cigar', 'Cinema', 'Cinnamon', 'Circle', 'Circus', 'Cirque', 'Citizen', 'City', 'Civello', 'Civic', 'Civilization', 'Claddagh', 'Clair', 'Clam', 'Clams', 'Clamstrip', 'Clarion', 'Classic', 'Classroom', 'Clean', 'Cleaners', 'Cleaning', 'Cleanings', 'Cleanliness', 'Clear', 'Clearly', 'Clementine', 'Clements', 'Cleveland', 'Clever', 'Clients', 'Cliff', 'Clinic', 'Clipper', 'Clips', 'Cloister', 'Close', 'Closets', 'Clothes', 'Club', 'Clubs', 'Cmon', 'Co', 'CoHoots', 'Coach', 'Coast', 'Cobb', 'CocaCola', 'Cocktail', 'Cocktails', 'Code', 'Coffee', 'Coffees', 'Coke', 'ColaCola', 'Cold', 'Cole', 'Collard', 'Collections', 'Colleen', 'College', 'Colmans', 'Colombian', 'Colonel', 'Colorado', 'Colors', 'Colossally', 'Combo', 'Come', 'Comes', 'Comforting', 'Coming', 'Comment', 'Common', 'Company', 'Companys', 'Compared', 'Comparing', 'Complained', 'Complete', 'Completely', 'Complimentary', 'Concern', 'Conchinita', 'Conclusion', 'Condo', 'Cones', 'Confit', 'Conflict', 'Connecticut', 'Connections', 'Cons', 'Consequently', 'Consider', 'Considering', 'Consistency', 'Consistent', 'Consistently', 'Consol', 'Constant', 'Construction', 'Constructive', 'Consumer', 'Consuming', 'Contacted', 'Container', 'Control', 'Convention', 'Conversation', 'Conversed', 'Cooked', 'Cookies', 'Cool', 'Coolest', 'Cooper', 'CooperStapley', 'Copper', 'Corey', 'Coriander', 'Corinthian', 'Corleone', 'Corliss', 'Cornelius', 'Corner', 'Cornerstone', 'Cornish', 'Corporate', 'Corporation', 'Corral', 'Correct', 'Cosmo', 'Cosmopolitan', 'Costa', 'Costco', 'Could', 'Couldnt', 'Coulter', 'Council', 'County', 'Coup', 'Coupe', 'Couple', 'Course', 'Court', 'Courtat', 'Courteous', 'Courtney', 'Cowfish', 'Coworking', 'Cox', 'Coïncidence', 'Crab', 'Cracker', 'Craft', 'Crafty', 'Craigslist', 'Crap', 'Crawfish', 'Cream', 'Creamy', 'Create', 'Credit', 'Creek', 'Creepy', 'Crema', 'Creme', 'Cremona', 'Crepe', 'Crepes', 'Crescent', 'CrescentAprès', 'Creuset', 'Crew', 'Crisp', 'Crispy', 'Criss', 'Cromwell', 'Crooks', 'Croque', 'Croquettes', 'Crowded', 'Crush', 'Crusted', 'Crème', 'Cub', 'Cuban', 'Cubano', 'Cucumber', 'Cuisine', 'Culinary', 'Cultura', 'Cunningham', 'Cup', 'Cupcakes', 'Curios', 'Curious', 'Curry', 'Curt', 'Curtis', 'Customer', 'Customers', 'Customizable', 'Customize', 'Cute', 'Cutters', 'Cycle', 'Cyclist', 'Cétait', 'DANS', 'DARK', 'DATE', 'DAY', 'DAYS', 'DD', 'DE', 'DEAD', 'DEALERSHIPThey', 'DEAR', 'DEBRIS', 'DECLINING', 'DELICIOUS', 'DEMAND', 'DENIED', 'DENTAL', 'DEPARTMENT', 'DEPTH', 'DIDNT', 'DIE', 'DIFFERENT', 'DIRE', 'DIRT', 'DIRTY', 'DISGRACEFUL', 'DISGUSTING', 'DISTRICT', 'DIY', 'DJ', 'DJing', 'DMV', 'DNA', 'DNAs', 'DOGEVENT', 'DOGS', 'DOLCE', 'DOLE', 'DOLLARS', 'DONC', 'DONE', 'DONT', 'DPA', 'DRINK', 'DSLR', 'DTV', 'DUMP', 'DUST', 'DW', 'DYNAMITE', 'Da', 'Dachs', 'Daddys', 'Daily', 'Dairy', 'Daisho', 'Dakao', 'Dal', 'Dale', 'Dam', 'Damn', 'Damons', 'Dan', 'Dance', 'Dane', 'Danes', 'Danforth', 'Danforthwhich', 'Dani', 'Danica', 'Danicas', 'Daniel', 'Danielle', 'Danielles', 'Daniels', 'Danish', 'Dark', 'Dash', 'Date', 'Dave', 'Daves', 'David', 'Davidis', 'Davidson', 'Davines', 'Day', 'Dayormore', 'Dayorstill', 'Days', 'Dazzling', 'De', 'DeGeneres', 'Dead', 'Dealing', 'Dear', 'Dearest', 'Death', 'Deathly', 'Debbie', 'Debbieesque', 'Dec', 'Decadence', 'Decadent', 'Decatur', 'December', 'Decemberists', 'Deceptive', 'Decided', 'Decor', 'Decore', 'Deep', 'Definately', 'Definetely', 'Definitely', 'Degrees', 'Deity', 'Del', 'Deli', 'Delias', 'Delice', 'Delicious', 'Delightfully', 'Delish', 'Deliver', 'Delivery', 'Delta', 'Deluxe', 'Denise', 'Dennis', 'Dennys', 'Dental', 'Dentistry', 'Denver', 'Department', 'Depeche', 'Depending', 'Depot', 'Der', 'Derrick', 'Des', 'Desert', 'Deserves', 'Despite', 'Dessert', 'Detail', 'Detroit', 'Devil', 'Devils', 'Diablos', 'Diamond', 'Diamonds', 'Diannas', 'Dice', 'Dicks', 'Didnt', 'Diego', 'Différent', 'Digiorno', 'Dillards', 'Dinein', 'Diner', 'Diners', 'Ding', 'Dining', 'Dinner', 'Dipped', 'Direct', 'DirectTV', 'Directly', 'Dirty', 'Disappointed', 'Disappointing', 'Disclaimer', 'Discount', 'Discounted', 'Discovery', 'Discussing', 'Disgusted', 'Disgusting', 'Dish', 'Dishes', 'Disneyland', 'Dispatch', 'Displayed', 'District', 'Dives', 'Divide', 'Divine', 'Doc', 'Docs', 'Doctor', 'Dodge', 'Dodgeball', 'Doesnt', 'Dog', 'Doggie', 'Dogs', 'Dolce', 'Dollar', 'Dolphin', 'Dominic', 'Dominique', 'Dominos', 'Dommage', 'Done', 'Dont', 'Donut', 'Donuts', 'Door', 'Doors', 'Dos', 'Dosa', 'Dot', 'Dots', 'Dottys', 'Double', 'Doubt', 'Doula', 'Doust', 'Downtown', 'Dozen', 'Dr', 'DrLevy', 'Dragon', 'Drais', 'Drake', 'Dream', 'Dress', 'Dresslers', 'Drink', 'Drinks', 'Drive', 'DriveIns', 'Driver', 'Drop', 'Drove', 'Drug', 'DrumsWings', 'Dry', 'Du', 'Dubai', 'Duck', 'Dude', 'Due', 'Duh', 'Duke', 'Duluth', 'Dundas', 'Dunkin', 'Duquesne', 'Durango', 'Dutch', 'Dylan', 'Dyson', 'DÉLICIEUX', 'Désolé', 'E', 'EA', 'EARLY', 'EAT', 'EATEN', 'EDC', 'EFFORT', 'EKG', 'ELSE', 'ELSES', 'EMBARRASSED', 'EMPTY', 'EN', 'ENT', 'EOS', 'ER', 'ERIC', 'ERREUR', 'ESPECIALLY', 'EST', 'ET', 'EVEN', 'EVER', 'EVERY', 'EVERYONE', 'EVERYTHING', 'EVERYWHERE', 'EWC', 'EXACTLY', 'EXCELLENT', 'EXCEPT', 'EXTRA', 'EXTREMELY', 'Eagle', 'Earls', 'Early', 'Earth', 'Easily', 'Easleys', 'East', 'Eastern', 'Eastwood', 'Easy', 'Eat', 'Eats', 'Eba', 'Ebc', 'EcoTint', 'Ecofriendly', 'Economy', 'Ecos', 'Edge', 'Edinburgh', 'Edit', 'Edward', 'Eek', 'Eff', 'Egg', 'Eggplant', 'Eggspectations', 'Ego', 'Eight', 'Einstein', 'Einsteins', 'Either', 'El', 'Electronics', 'Elie', 'Elite', 'Elites', 'Elizabeth', 'Elle', 'Ellen', 'Ellie', 'Elliott', 'Elses', 'Email', 'Emailing', 'Embrace', 'Emergencies', 'Emergency', 'Emerils', 'Emily', 'Emina', 'Emma', 'Empenada', 'Employees', 'En', 'Encore', 'End', 'Ended', 'Ending', 'Endroit', 'Ends', 'Energy', 'England', 'English', 'Enjoy', 'Enjoyed', 'Enough', 'Ent', 'Enter', 'Entered', 'Enterprise', 'Entertain', 'Entertainment', 'Entre', 'Entrees', 'Entrées', 'Enviro', 'Envys', 'Equally', 'Equipment', 'Eric', 'Erica', 'ErmNo', 'Escape', 'Especially', 'Esplanade', 'Essence', 'Establishment', 'Establishments', 'Esthetician', 'Et', 'Ethiopian', 'Etobicoke', 'European', 'EuropeanCafe', 'Eve', 'Even', 'Eveningweekend', 'Event', 'Eventually', 'Ever', 'Everclear', 'Everest', 'Every', 'Everybody', 'Everyone', 'Everyplace', 'Everything', 'Everytime', 'Everywhere', 'Evidently', 'Ew', 'Ewww', 'Example', 'Excellent', 'Except', 'Exceptionally', 'Excuse', 'Exemplary', 'Expect', 'Expensive', 'Experience', 'Explained', 'Express', 'Extra', 'Extremely', 'Eye', 'Eyebrow', 'Eyeglass', 'F', 'FACTORY', 'FALSE', 'FAMILY', 'FANTASTIC', 'FAQ', 'FAR', 'FAST', 'FCK', 'FE', 'FEEL', 'FEES', 'FEZ', 'FEZSwitch', 'FIFTEEN', 'FILE', 'FINALLY', 'FINDINGS', 'FIRE', 'FITNESS', 'FIX', 'FK', 'FL', 'FLW', 'FOOD', 'FOOL', 'FORCE', 'FORGOT', 'FORGOTTEN', 'FORMÉ', 'FOURTH', 'FREAKIN', 'FREE', 'FREEZING', 'FRESH', 'FRIED', 'FRIES', 'FTDhubby', 'FTW', 'FUCKIN', 'FULL', 'FULLY', 'FYI', 'Fabulous', 'Face', 'Facebook', 'Facials', 'Factory', 'Fail', 'Fair', 'Fairview', 'Fairways', 'Fake', 'Falcon', 'Fall', 'False', 'Family', 'Famous', 'Fan', 'Fancy', 'Fantastic', 'Far', 'Fargo', 'Farm', 'Farmers', 'Farms', 'Fashion', 'Fast', 'FastFood', 'Fastest', 'Fat', 'Fatburger', 'Fatburgers', 'Fathers', 'Fatoush', 'Favorite', 'Favoritos', 'Faziolis', 'Feast', 'February', 'FedEx', 'FedExs', 'Federal', 'Feel', 'Feels', 'Feelsreally', 'Fees', 'Felipes', 'Fell', 'Fellow', 'Felt', 'Fentimans', 'Fest', 'Festival', 'Feta', 'Fett', 'Fettuccine', 'Fiance', 'Fiancé', 'Fidel', 'Fiesta', 'Fifi', 'Fig', 'Figure', 'Figured', 'Filed', 'Filenes', 'Filet', 'FiletOFish', 'Filipino', 'Filipinos', 'Filled', 'Filters', 'Filthy', 'Final', 'Finally', 'Find', 'Finding', 'Fine', 'Finished', 'Fire', 'Firecracker', 'Firey', 'First', 'Fish', 'Fishwich', 'Fit', 'Fitchburg', 'Fitchburgians', 'Fitness', 'Five', 'Fix', 'Fixe', 'Fixed', 'Fizz', 'Fl', 'Flamingo', 'Flan', 'Flapjacks', 'Flash', 'Flatbread', 'Flatbreads', 'Flavor', 'Flavors', 'Flee', 'Fling', 'Floral', 'Florida', 'Floridian', 'Flour', 'Flow', 'Flowers', 'Flu', 'Flyer', 'Fogo', 'Foie', 'Following', 'Fontina', 'Food', 'Foodie', 'Foodland', 'Foods', 'Fools', 'Foon', 'Ford', 'Fords', 'Forest', 'Forget', 'Forgive', 'Forno', 'Fortunately', 'Forty', 'Found', 'Foundation', 'Fountain', 'Four', 'Fours', 'Fox', 'Framed', 'Frances', 'Franchise', 'Francis', 'Franco', 'Francos', 'Frank', 'Frankie', 'Frankies', 'Frankly', 'Fred', 'Freddys', 'Free', 'Freezer', 'Fremont', 'French', 'Frequently', 'Fresh', 'Friday', 'Fridays', 'Fried', 'Friend', 'Friendliest', 'Friendly', 'Fries', 'Frisco', 'Frites', 'Fritsils', 'Fritters', 'Frogger', 'Frustrated', 'Frustration', 'Frys', 'Full', 'Fun', 'Fundido', 'Fundraiser', 'Funeral', 'Funky', 'Fur', 'Furniture', 'Furthermore', 'Fus', 'Fusion', 'Future', 'Fyresite', 'G', 'G35', 'G37', 'GARBAGE', 'GD', 'GEM', 'GEOHOLIDAY', 'GET', 'GFree', 'GG', 'GI', 'GIVE', 'GIVES', 'GLUED', 'GList', 'GM', 'GO', 'GOD', 'GOING', 'GOOD', 'GOWN', 'GOYEMON', 'GPS', 'GRATUITet', 'GREAT', 'GRITTY', 'GROSS', 'GROUPON', 'GTA', 'GUY', 'GUYS', 'Gabi', 'Gabriela', 'Gai', 'Galapagos', 'Galaxy', 'Gallagher', 'Gallo', 'Gambling', 'Gander', 'Gangplank', 'Ganosh', 'Garage', 'Garcia', 'Garcias', 'Garden', 'Gardenburger', 'Garfield', 'Garlic', 'Garretts', 'Gary', 'Gastro', 'Gave', 'Gds', 'Geez', 'Geezits', 'Geico', 'Gelato', 'Gem', 'General', 'Generation', 'Genia', 'Genmaicha', 'Gentleman', 'Genuine', 'George', 'Georges', 'Gerber', 'Gerichte', 'German', 'Germany', 'Gerry', 'Get', 'Gets', 'Getting', 'Ghenghis', 'Ghetto', 'Ghorshi', 'Ghorshis', 'Giada', 'Giant', 'Giants', 'Gibson', 'Gifts', 'Gigante', 'Gigantic', 'Gigis', 'Gilbert', 'Gilby', 'Gin', 'Ginas', 'Ginathey', 'Ginger', 'Ginza', 'Girl', 'Girls', 'Gis', 'Give', 'Glad', 'Glade', 'Glaziers', 'Glendale', 'Globe', 'Gluten', 'Gnocchi', 'Gnocci', 'Go', 'GoGo', 'Goat', 'Gobi', 'God', 'Goes', 'Goettl', 'Going', 'Gokal', 'Gold', 'Golden', 'Golds', 'Golf', 'Golfing', 'Gone', 'Gonna', 'Good', 'GoodZucchini', 'Goods', 'Goody', 'Goodyear', 'Google', 'Gordo', 'Gordon', 'Gorgeous', 'Gorgonzola', 'Got', 'Gourmet', 'Government', 'Govt', 'Goyemon', 'Grab', 'Grace', 'Gracias', 'Grade', 'Grand', 'Grande', 'Grandmas', 'Grandmother', 'Grandview', 'Granted', 'Grapes', 'Gras', 'Grateful', 'Gravy', 'Grayson', 'Great', 'Greater', 'Greek', 'Green', 'Greenland', 'Greetings', 'Greg', 'Greulichs', 'Greyhound', 'Grill', 'Grille', 'Grilled', 'Grits', 'Grocery', 'Grohl', 'Groovy', 'Gross', 'Grouchy', 'Group', 'Groupon', 'GrouponWhere', 'Groupons', 'Growing', 'Grrrr', 'Grumpys', 'Gs', 'Gtown', 'Guacamole', 'Guacit', 'Guess', 'Guinness', 'Gulbas', 'Guns', 'Guy', 'Guys', 'Gyland', 'Gym', 'Gyms', 'Gynecologist', 'Gyro', 'H', 'HAHAHAHAHAHHA', 'HAHAHHAA', 'HAIR', 'HALF', 'HAND', 'HANDS', 'HAWAII', 'HEAD', 'HEAVEN', 'HEIGHT', 'HELEN', 'HELL', 'HELP', 'HENDERSON', 'HH', 'HHGREGG', 'HIGHLY', 'HILL', 'HM', 'HMS', 'HOAs', 'HOLDING', 'HOLY', 'HOME', 'HOMEWORK', 'HORRIBLE', 'HORRID', 'HOT', 'HOUR', 'HOURS', 'HOWEVER', 'HP', 'HPN', 'HQ', 'HR', 'HSA', 'HTC', 'HUGE', 'HUGELY', 'HUGH', 'HUMAN', 'HUNDREDS', 'HUNG', 'HUNGRY', 'HWY', 'HYPER', 'Ha', 'HaagenDazs', 'Haan', 'Habanero', 'Habitat', 'Hack', 'Haha', 'Hahaha', 'Hahahaha', 'Haikal', 'Hair', 'Haizleys', 'Hake', 'Hakka', 'Hakkasan', 'Half', 'Halibut', 'Hall', 'Halloween', 'Hallows', 'Hamburger', 'Hamilton', 'Hamster', 'Hana', 'Hanas', 'Hand', 'Handcut', 'Handmade', 'Hands', 'Handsome', 'Hanger', 'Hanks', 'Happened', 'Happy', 'Harbor', 'Hard', 'Hardly', 'Hardware', 'Harkins', 'Harris', 'Harry', 'Harvest', 'Hash', 'Hatchery', 'Hate', 'Hated', 'Hater', 'Hates', 'Havarti', 'Havasu', 'Havent', 'Hawaii', 'Hawaiian', 'Hayden', 'Hays', 'Haïtienneet', 'Head', 'Heading', 'Headlight', 'Headliner', 'Heads', 'Health', 'Healthy', 'Hearing', 'Heart', 'Heath', 'Heather', 'Heaven', 'Heck', 'Hector', 'Hed', 'Heddys', 'Heiland', 'Hell', 'Hello', 'Hells', 'Helpful', 'Hen', 'Hence', 'Henderson', 'Hendricks', 'Herbed', 'Herbs', 'Heres', 'Heritage', 'Heroine', 'Hes', 'Hesitant', 'Hex', 'Hey', 'Hi', 'Hidden', 'Hier', 'High', 'Highest', 'Highestquality', 'Highland', 'Highly', 'Highstrung', 'Hiking', 'Hilary', 'Hill', 'Hills', 'Himalayan', 'Hinkleys', 'Hippie', 'Hired', 'Hispanic', 'Hmm', 'Hmmm', 'Hmmmm', 'Ho', 'Hobby', 'Hoegaarden', 'Hoisin', 'Hold', 'Hole', 'Holes', 'Hollandaise', 'Hollandaisewho', 'Hollywood', 'Holy', 'Home', 'Homemade', 'Homosexuals', 'Honda', 'Honest', 'Honestly', 'Honesty', 'Honey', 'Honeys', 'Honors', 'Hooters', 'Hoover', 'Hop', 'Hope', 'Hopefully', 'Hoping', 'Horrible', 'Horribles', 'Horse', 'Horseback', 'Horseshoe', 'Hortons', 'Hospital', 'Host', 'Hosted', 'Hot', 'Hotate', 'Hotdog', 'Hotel', 'Hotels', 'Hotwire', 'Hour', 'Hours', 'House', 'Howard', 'However', 'Howie', 'Hts', 'Huacatay', 'Hubby', 'Hudson', 'Huevos', 'Huge', 'Hugos', 'Humane', 'Hummus', 'Hump', 'Humus', 'Hungry', 'Hunt', 'Hurricane', 'Hushpuppies', 'Hut', 'Hyatt', 'Hyderabadi', 'Hélas', 'Hôtel', 'I215', 'IBCLCs', 'ID', 'IDEA', 'IDs', 'IHC', 'IHOP', 'II', 'ILLEGAL', 'IM', 'IMAGINEZ', 'IMHO', 'IMMEDIATELY', 'IMO', 'IMPORT', 'IMPROPERLYI', 'INCH', 'INCREDIBLY', 'INSISTED', 'INSISTING', 'INSPECTOR', 'IPAs', 'IPhone', 'IRONMAN', 'IV', 'IVE', 'Ians', 'Iberico', 'Ibiza', 'Ice', 'Iced', 'Ichiban', 'Ick', 'Id', 'Idiocracy', 'Idk', 'Idlis', 'Idol', 'Igal', 'Ignorant', 'Igoudala', 'Il', 'Ilios', 'Iliosonly', 'Ill', 'Illusionist', 'Illusions', 'Ils', 'Im', 'Imadake', 'Imagine', 'Imaginezvous', 'Imbuvable', 'Immediate', 'Immediately', 'Impala', 'Imperial', 'Impossible', 'Improv', 'InNOut', 'Inadequate', 'Including', 'Incorrect', 'Incredible', 'Indeed', 'India', 'IndiaGandhi', 'Indian', 'Indicated', 'Indonesia', 'Indonesian', 'Inedibly', 'Inexcusable', 'Infiniti', 'Informed', 'Infuriated', 'Inhale', 'Initially', 'Inn', 'InnOut', 'Inner', 'Inot', 'Inquired', 'Inside', 'Inspector', 'Instagramable', 'Installed', 'Instead', 'Instrument', 'Insufficient', 'Inta', 'Intense', 'Interact', 'Interestingso', 'Interior', 'Interlude', 'Internet', 'Intimate', 'Invisalign', 'Inviting', 'Invoice', 'Iphone', 'Iran', 'Iranian', 'Irish', 'Ironic', 'Ironically', 'Ironman', 'Island', 'Isle', 'Isnt', 'Isshin', 'Italian', 'ItalianI', 'Italianbar', 'Italians', 'Italy', 'Itll', 'Ive', 'IxDA', 'J', 'J2', 'JAMIE', 'JAPANESE', 'JAW', 'JC', 'JCPenney', 'JE', 'JFY', 'JGM', 'JK', 'JOB', 'JOKE', 'JOSH', 'JOURS', 'JTown', 'JUNE', 'JUSTE', 'Jack', 'Jackie', 'Jackson', 'Jacqueline', 'Jadore', 'Jai', 'Jaime', 'Jalapeno', 'Jalapenos', 'Jamaica', 'Jamaican', 'James', 'Jamie', 'Jams', 'Jan', 'Jane', 'Janelle', 'January', 'Japan', 'Japanese', 'Jarry', 'Jarvis', 'Jasmine', 'Jason', 'Javais', 'Jay', 'Jays', 'Je', 'Jean', 'Jeans', 'Jeep', 'Jeez', 'Jeeze', 'Jefe', 'Jelly', 'Jemima', 'Jen', 'Jenga', 'Jennifer', 'Jennifers', 'Jenny', 'Jerk', 'Jerks', 'Jersey', 'Jespère', 'Jess', 'Jessa', 'Jessi', 'Jessica', 'Jessicas', 'Jesus', 'Jet', 'JetBlue', 'Jewel', 'Jewish', 'Jews', 'Jiffy', 'Jim', 'Jimmy', 'Jinia', 'Jjanga', 'Jo', 'JoAnns', 'Joan', 'Joanne', 'Job', 'Jobot', 'Joe', 'Joes', 'John', 'Johns', 'Johnson', 'Joint', 'Jon', 'Jonathan', 'Jones', 'Jordan', 'Josh', 'Jour', 'Joy', 'Joyride', 'Judging', 'Judith', 'Juice', 'Juicy', 'Julian', 'Julie', 'Julies', 'Julio', 'Julios', 'July', 'Jump', 'Junction', 'June', 'Justeatca', 'Justin', 'Jy', 'K', 'KC', 'KFC', 'KG', 'KITCHS', 'KM', 'KNOW', 'KNOWS', 'KOOL', 'Ka', 'Kabocha', 'Kabuki', 'Kaizen', 'Kalbi', 'Kang', 'Kappa', 'Kara', 'Karan', 'Karaoke', 'Karate', 'Karshs', 'Kat', 'Kate', 'Katerina', 'Kattie', 'Kawali', 'Kayla', 'Kecks', 'Keep', 'Keith', 'Ken', 'Kendred', 'Kenny', 'Kent', 'Kentucky', 'Kenyon', 'Kept', 'Kerri', 'Kevin', 'Kha', 'Khai', 'Khao', 'Kiddos', 'Kids', 'Killer', 'Killing', 'Kim', 'KimmyShe', 'Kims', 'Kind', 'Kinda', 'Kine', 'King', 'KingWestPrice', 'Kings', 'Kip', 'Kirby', 'Kirklands', 'Kiss', 'Kitchen', 'Kmart', 'Knapps', 'Knew', 'Knife', 'Knight', 'Knot', 'Know', 'Kobe', 'Koi', 'Kombat', 'Kona', 'Kong', 'Koonce', 'Korean', 'Korres', 'Kostas', 'KouignAmman', 'Kraft', 'Kreme', 'Krispy', 'Kristen', 'Kritik', 'Kroran', 'Krystyna', 'Kubideh', 'Kudos', 'Kyle', 'Kyozon', 'KyozonUne', 'Küche', 'L', 'LA', 'LAIT', 'LARGE', 'LAS', 'LAST', 'LATER', 'LBS', 'LCBO', 'LD', 'LE', 'LEAK', 'LEASE', 'LEAST', 'LEFT', 'LEMONS', 'LENGTH', 'LES', 'LESS', 'LET', 'LI', 'LIARS', 'LICENSED', 'LIES', 'LIFE', 'LIKE', 'LINDSAY', 'LISTEN', 'LISTENS', 'LISTING', 'LITERALLY', 'LIVE', 'LO', 'LOCATION', 'LOL', 'LONG', 'LOOOOOVE', 'LOT', 'LOTION', 'LOTS', 'LOUD', 'LOVE', 'LOVED', 'LOW', 'LOWER', 'LUNCH', 'LUSH', 'LUV', 'LV', 'LVAC', 'LVMH', 'LVS', 'La', 'Labor', 'Lack', 'Lackluster', 'Ladies', 'Lady', 'Lago', 'Laia', 'Laissezmoi', 'Lake', 'Lakes', 'Lakeshore', 'Lakewood', 'Lalibella', 'Lamb', 'Laminated', 'Land', 'Landis', 'Lando', 'Lane', 'Lanes', 'Large', 'Larry', 'Las', 'Lasagna', 'Laser', 'Last', 'Lastly', 'Lately', 'Later', 'Latte', 'Laundry', 'Laura', 'Lauren', 'Laurie', 'Laval', 'Lavender', 'Lavenderade', 'Lavo', 'Lawn', 'Lawrence', 'LazyBoy', 'Lbs', 'Le', 'Leagues', 'Learn', 'Leave', 'Leaving', 'Lebanese', 'Lebanon', 'Lebo', 'Leche', 'Leches', 'Lechon', 'Lee', 'Lees', 'Left', 'Legally', 'Legends', 'Lego', 'Legos', 'Leigh', 'Lemon', 'Lemonade', 'Lenas', 'Lengmen', 'Lenny', 'LensCrafters', 'Les', 'Leslie', 'Less', 'Lesters', 'Let', 'Lets', 'Leur', 'Levis', 'Levy', 'Lex', 'Lhôte', 'Liberty', 'Library', 'Lie', 'Lies', 'Life', 'Lifetime', 'Lifetimes', 'Light', 'Lightening', 'Lights', 'Like', 'Limeade', 'Limit', 'Limousine', 'Lincoln', 'Linda', 'Lindsey', 'Link', 'Linq', 'LipoLaser', 'Liquor', 'Lisa', 'Listen', 'Liter', 'Literally', 'Little', 'Liu', 'Lius', 'Live', 'Lively', 'Liver', 'Living', 'Lo', 'LoMein', 'Loaf', 'Lobby', 'Lobster', 'Lobsters', 'Local', 'Locally', 'Located', 'Location', 'Locksmith', 'Loco', 'Loin', 'Lol', 'Lolos', 'Long', 'Longer', 'Longwill', 'Look', 'Looked', 'Looking', 'Lookout', 'Looks', 'Loosey', 'Lord', 'Loretta', 'Lorna', 'Los', 'Losing', 'Lots', 'Louis', 'Louisiana', 'Lounge', 'Lounges', 'Love', 'Loved', 'Lovely', 'Low', 'Lowes', 'Loyal', 'Lu', 'Luca', 'Lucas', 'Luciles', 'Lucis', 'Luck', 'Luckily', 'Lucky', 'Lucy', 'Luke', 'Lullaby', 'Lululemon', 'Lumpiang', 'Luna', 'Lunas', 'Lunch', 'Lynch', 'Lédifice', 'MACHINES', 'MAHI', 'MAIS', 'MAKE', 'MAKING', 'MAMAOH', 'MAN', 'MANAGER', 'MANGES', 'MANGÉ', 'MANY', 'MAPS', 'MARIA', 'MARIO', 'MASSAGE', 'MAY', 'MAYBE', 'MAYONNAISE', 'MB', 'MBar', 'MC', 'MCI', 'MEAT', 'MEMBER', 'MENSONGE', 'MESS', 'MET', 'MEXICAN', 'MF', 'MGM', 'MI', 'MIA', 'MINI', 'MINUTES', 'MISTAKE', 'MKT', 'MLS', 'MM', 'MODEL', 'MON', 'MONEY', 'MONTH', 'MONTHS', 'MONTHSwe', 'MOUNTAINSIDE', 'MOUTH', 'MOVIES', 'MRI', 'MSG', 'MUCH', 'MULTIPLE', 'MUSIC', 'MUST', 'MVCP', 'Mac', 'Macachoco', 'Macaroni', 'Macaroon', 'Macayos', 'Machine', 'Macys', 'Mad', 'Madagascar', 'Made', 'Madison', 'Madisonians', 'Madisons', 'Madness', 'Maestro', 'Maggie', 'Magic', 'Magical', 'Magnoliasthank', 'Magnum', 'Magnums', 'Mahi', 'Mai', 'Maids', 'Maidz', 'Mail', 'Main', 'Mainly', 'Mais', 'Maison', 'Major', 'Make', 'Makes', 'Makhani', 'Making', 'Malbec', 'Malees', 'Malgré', 'Malheuron', 'Malibu', 'Mall', 'MallI', 'Mama', 'Man', 'Management', 'Manager', 'Manakish', 'Mandalay', 'Mandarin', 'Mango', 'Manhattan', 'Mani', 'Manny', 'Many', 'Maps', 'Marathon', 'March', 'Marcus', 'Margarita', 'Margherita', 'Margo', 'Maria', 'Marie', 'Marilyn', 'Marin', 'Marines', 'Mario', 'Marios', 'Marisol', 'Mark', 'Markabawi', 'Market', 'Marlin', 'Marling', 'Marlowe', 'Marquee', 'Marsala', 'Marshalls', 'Mart', 'Martha', 'Martin', 'Martini', 'Marty', 'Marvel', 'Mary', 'Maryland', 'Maryvale', 'Marzano', 'Masala', 'Masks', 'Massage', 'Master', 'MasterCard', 'Masters', 'Mastros', 'Masturbate', 'Mat', 'Matcha', 'Matches', 'Materese', 'Mathnasium', 'Matt', 'Matthew', 'Matthews', 'Mattress', 'Maui', 'Mauvais', 'Max', 'Maxwell', 'May', 'Maybe', 'Mayfield', 'Mazda', 'McAll', 'McClintock', 'McDonald', 'McDonalds', 'McGill', 'McKenzi', 'Mcdoet', 'Mead', 'Mean', 'Meanwhile', 'Meat', 'Meatballs', 'Meats', 'Mechanic', 'Mediocre', 'Mediterranean', 'Medium', 'Meg', 'Mega', 'Megan', 'Meh', 'Mehrere', 'Mein', 'Melanie', 'Mellow', 'Melt', 'Melts', 'Melty', 'Memorial', 'Memphis', 'Menchies', 'Mendota', 'Mendoza', 'Mens', 'Mentor', 'Menu', 'Menus', 'Meraki', 'Merakis', 'Mercredi', 'Merillat', 'Mermaid', 'Mes', 'Mesa', 'Mestiza', 'Met', 'Metcalfes', 'Methinks', 'Metropolitan', 'Mettons', 'Mex', 'Mexican', 'Mexicanish', 'Mexicans', 'Mexico', 'Meximerican', 'Mexitalian', 'Mgr', 'Mi', 'Mia', 'Miami', 'Mias', 'Miata', 'Michael', 'Michaels', 'Michales', 'Michelob', 'Michigan', 'Michulada', 'Microwave', 'Middle', 'Midway', 'Midwest', 'Midwood', 'Mijana', 'Mikado', 'Mike', 'Mikes', 'Milan', 'Milano', 'Mile', 'Milios', 'Milk', 'Milky', 'Mill', 'Millennium', 'Mills', 'Mimosas', 'Mind', 'Mindboggling', 'Mindfreak', 'Mine', 'Ministrone', 'Minute', 'Minutes', 'Miracle', 'Mirage', 'Miranda', 'Mirror', 'Misoya', 'Miss', 'Mississauga', 'Mistake', 'Mistakes', 'Mitch', 'Mixed', 'Mixologist', 'Mmk', 'Mmm', 'Mmmpour', 'Mocha', 'Moco', 'Mode', 'Models', 'Modern', 'Moe', 'Mohawk', 'Moi', 'Mold', 'Mom', 'Momofuko', 'Momofuku', 'Mon', 'Monarch', 'Monday', 'Mondays', 'Mondaywell', 'MondialAdmission', 'Monopoly', 'Monsieurs', 'Monsoon', 'Monta', 'Monte', 'Montelucia', 'Montesanos', 'Montessori', 'Montour', 'Montreal', 'Montréalaise', 'Montréalmais', 'Moore', 'Moosehead', 'Morning', 'Morrison', 'Mortal', 'Moscow', 'Mother', 'Mothers', 'Mount', 'Mountain', 'Mountainside', 'Mousse', 'Moutaba', 'Move', 'Moved', 'Moving', 'Mozart', 'Mozza', 'Mozzarella', 'Mozzerella', 'Mr', 'Mrs', 'Mt', 'Mtl', 'Muah', 'Much', 'Muchas', 'Mule', 'Mumford', 'Mundos', 'Mural', 'Murals', 'Muscleman', 'Museum', 'Mushroom', 'Mushy', 'Music', 'Musical', 'Mussels', 'Must', 'Mustang', 'Myers', 'Mygod', 'MyoSymmetrix', 'Mythic', 'Même', 'N', 'NA', 'NAILS', 'NAME', 'NBA', 'NBN', 'NC', 'NEED', 'NEGATIVE', 'NEVER', 'NEW', 'NEXT', 'NFL', 'NIGHTCLUB', 'NJ', 'NJC', 'NOBODY', 'NON', 'NONE', 'NOPE', 'NOTHING', 'NSync', 'NV', 'NY', 'NYC', 'NYE', 'NYer', 'NYers', 'Nachos', 'NachosBiggest', 'Nada', 'Nah', 'Nail', 'Nails', 'Nana', 'Nanas', 'Nancy', 'Nantucket', 'Naomi', 'Nasa', 'Nasty', 'Natalie', 'Nate', 'Nation', 'National', 'Nauti', 'Navy', 'Ne', 'Nearly', 'Neck', 'Nectar', 'Need', 'Needed', 'Needless', 'Neil', 'Neiman', 'Neither', 'Nelson', 'Nemo', 'Network', 'Neutrino', 'Nevada', 'Never', 'Nevertheless', 'New', 'Newin', 'Newly', 'News', 'Next', 'Nexus', 'Ngoyong', 'Niccolis', 'Nice', 'Nicee', 'Nicely', 'Nick', 'Nicks', 'Nicole', 'Night', 'Nightclub', 'Nightclubs', 'Nightmare', 'Nikki', 'Ninja', 'Nirvana', 'Nissan', 'Nissans', 'Nite', 'NoDa', 'NoIve', 'Nobody', 'Nobu', 'Noche', 'Noise', 'Nojito', 'Nolen', 'Nom', 'Non', 'None', 'Noodle', 'Noodleoo', 'Noodles', 'Nope', 'Nopethey', 'Nordstrom', 'Nordstroms', 'Normal', 'Normalement', 'Normally', 'North', 'Nosh', 'Nota', 'Note', 'Nothern', 'Nothing', 'Notice', 'Notsopolitely', 'Nous', 'Nouveau', 'Nov', 'November', 'Novi', 'Nowhere', 'Noël', 'Numero', 'Nutella', 'Nutrition', 'Nyet', 'OB', 'OBGYN', 'OBSERVE', 'ODB', 'OH', 'OHHH', 'OJ', 'OK', 'OLD', 'OMG', 'ONE', 'ONS', 'OPA', 'ORDER', 'OUTEFFINGSTANDING', 'OUTRAGEOUSLY', 'OUTSTANDING', 'OWE', 'OWNER', 'Oakland', 'Oakmont', 'Obama', 'Obsessed', 'Obviously', 'Ochestra', 'Oct', 'October', 'Odd', 'Ode', 'Offers', 'Office', 'Often', 'Oggie', 'Oh', 'Ohh', 'Ohjahi', 'Ohmygod', 'Oil', 'Oils', 'Ok', 'Okay', 'Okra', 'Oktoberfest', 'Ol', 'Old', 'Oldies', 'Olive', 'Oliver', 'Olivos', 'Omassis', 'Omg', 'Omlets', 'One', 'Onion', 'Online', 'Ontario', 'Onto', 'Onus', 'Oookkaaaaay', 'Oooo', 'Ooooookay', 'Oops', 'Open', 'Operation', 'Opinions', 'Oprahs', 'Opt', 'Opted', 'Opus', 'Orange', 'Order', 'Ordered', 'Orderitca', 'Oregano', 'Oreganos', 'Oregon', 'Organic', 'Organized', 'Organizers', 'Orgasm', 'Original', 'Orlando', 'Orleans', 'Orthodontia', 'Osaka', 'Osborn', 'Others', 'Otherwise', 'Ottos', 'Oui', 'Outback', 'Outdoor', 'Outfitters', 'Outlets', 'Outside', 'Outstanding', 'OutstandingI', 'Ouvert', 'Overall', 'Overnight', 'Overpriced', 'Overture', 'Owner', 'Ownerdaughter', 'Owns', 'Oysters', 'P', 'PA', 'PAI', 'PAID', 'PAIN', 'PAM', 'PAPERWORKS', 'PAS', 'PAY', 'PAYING', 'PAYÉ', 'PBR', 'PBS', 'PBurgh', 'PCP', 'PEOPLE', 'PERFECT', 'PERFECTION', 'PERIOD', 'PERSONhow', 'PETIT', 'PETITE', 'PF', 'PGH', 'PHONE', 'PHONES', 'PICK', 'PICKUP', 'PIMMP', 'PIR', 'PIZZA', 'PJ', 'PK', 'PLACE', 'PLATS', 'PLAY', 'PLAYED', 'PLEASE', 'PLUS', 'PLUSAlors', 'PM', 'PNC', 'POOP', 'POOR', 'POORLY', 'POUR', 'PR', 'PRESS', 'PRICE', 'PRINTED', 'PRISON', 'PROBLEMYOUVE', 'PROMISES', 'PS', 'PTs', 'PUBLIC', 'PULLING', 'PULSE', 'PUMP', 'PUNISHED', 'PURCHASE', 'PUT', 'Pace', 'Pack', 'Package', 'Packard', 'Packed', 'Packing', 'Pad', 'Page', 'Pahrump', 'Paid', 'Pain', 'Pair', 'Palabok', 'Palace', 'Palazzo', 'Palms', 'Palo', 'Palomita', 'Pam', 'Pampas', 'Pan', 'Pancake', 'Pancakes', 'Pancit', 'Pandora', 'Panera', 'Pannacotta', 'Pantageas', 'Papa', 'Papago', 'Papaya', 'Papayas', 'Paper', 'Pappardelle', 'Par', 'Paris', 'Parisian', 'Park', 'Parking', 'Parlons', 'Parma', 'Parmatown', 'Parmesan', 'Part', 'Particularly', 'Party', 'Pas', 'Pascal', 'Passion', 'Passionfruit', 'Pasta', 'Pastas', 'Pastathe', 'Pastor', 'Pastries', 'Pasty', 'Pat', 'Patates', 'Pate', 'Pathetic', 'Patio', 'Patios', 'Patisserie', 'Patois', 'Patron', 'Pats', 'Patty', 'Paul', 'Pavilion', 'Pavlovs', 'Paw', 'Pay', 'PayPal', 'Paycheck', 'Payment', 'Paz', 'Pazzi', 'Peace', 'Peach', 'Peaches', 'Peak', 'Peaks', 'Peanut', 'Peanuts', 'Pebble', 'Pecan', 'Pecos', 'Peculiar', 'Pedicure', 'Pedis', 'Peel', 'Peggy', 'Peninsula', 'Penn', 'Penne', 'Penny', 'Penthouse', 'Penzeys', 'People', 'Pepper', 'Pepperoni', 'Pepsi', 'Peradise', 'Perazzi', 'Percocets', 'Perfect', 'Perfection', 'Perfectly', 'Perfecto', 'Perhaps', 'Perinatal', 'Period', 'Perry', 'Personal', 'Personally', 'Peruse', 'Pesto', 'Pet', 'Petal', 'Petco', 'Pete', 'Peter', 'Peters', 'Petersons', 'Petit', 'Petsmart', 'Peut', 'Pewter', 'Phenomenal', 'Phew', 'Philadelphia', 'Phillips', 'Philly', 'Pho', 'Phoenix', 'Phong', 'Photography', 'Pianos', 'Picante', 'Pick', 'Picnic', 'Pico', 'Picture', 'Pictures', 'Pie', 'Pieces', 'Pierre', 'Pies', 'Pilbil', 'Pilcro', 'Pillar', 'Pilot', 'Pimento', 'Pineapple', 'Pink', 'Pinkys', 'Pinnacle', 'Piping', 'Pirates', 'PistachiosWonderful', 'Pit', 'Pitney', 'Pitta', 'Pittsburgh', 'Pixy', 'Pizza', 'PizzaIt', 'Place', 'Placed', 'Placement', 'Places', 'Plain', 'Plan', 'Planet', 'Planning', 'Platinum', 'Plato', 'Plats', 'Playing', 'Playoffs', 'Plaza', 'Pleasant', 'Please', 'Pleins', 'Plenty', 'Plum', 'Plus', 'PoBoy', 'Poached', 'Point', 'Pokémon', 'Polenta', 'Police', 'Polonez', 'Pooh', 'Pool', 'Pools', 'Poor', 'Popeyes', 'Popped', 'Poppys', 'Pork', 'Port', 'Portebello', 'Porters', 'Portion', 'Portions', 'Portland', 'Portobello', 'Portuguese', 'Positanos', 'Possibly', 'Postino', 'Postinos', 'Pot', 'Potato', 'Potatoes', 'PotatoesKefalotyriGarlic', 'Potter', 'Pour', 'Poutine', 'Power', 'Powerhouse', 'Prefect', 'Preivously', 'Premièrement', 'Prepare', 'Pressured', 'Pretty', 'Pretzels', 'Previously', 'Price', 'Priceline', 'Prices', 'Pricy', 'Priest', 'Princess', 'Prior', 'Prism', 'Prisoner', 'Private', 'Prix', 'Prize', 'Pro', 'Probably', 'Professional', 'Project', 'Promenade', 'Prompt', 'Pronto', 'Pros', 'Prosciutto', 'Prost', 'Protein', 'Providence', 'Provigo', 'Province', 'Provisions', 'Provolone', 'Pub', 'Publix', 'Puke', 'Pulled', 'Pullis', 'Pulse', 'Pumpkin', 'Pupusas', 'Purchased', 'Purchasing', 'Pure', 'Purely', 'Purple', 'Purr', 'Pusateris', 'Put', 'QUE', 'QUIL', 'Qua', 'Quad', 'Quality', 'Quand', 'Quant', 'Quarter', 'Que', 'Quebec', 'Queen', 'Queens', 'Quelques', 'Quesada', 'Quesadillas', 'Queso', 'Quick', 'Quickly', 'Quinoa', 'Quite', 'Québecallezy', 'R', 'RAISED', 'RAM', 'RAN', 'RANT', 'RCK', 'READ', 'REAL', 'REALLY', 'RECOMMANDE', 'REI', 'REIs', 'RELIABLE', 'REMODELED', 'RENT', 'REPAIR', 'REPAS', 'REPLACED', 'REPORT', 'RESIGN', 'RESORTS', 'RETURN', 'REVIEWS', 'RI', 'RIBS', 'RIDICULOUS', 'RIDICULOUSLY', 'RIGHT', 'RING', 'RIP', 'RIPPED', 'RM', 'RN', 'ROUND', 'ROYALTY', 'RR', 'RUDE', 'RUINED', 'RUN', 'RV', 'Ra', 'Rabbies', 'Rabbit', 'Rabbitt', 'Rachel', 'Racist', 'Rack', 'Rafael', 'Ragu', 'Rail', 'Rain', 'Rainbow', 'Raising', 'Raku', 'Rama', 'Ramen', 'Ramsay', 'Ranch', 'Rancheros', 'Randall', 'Randy', 'Range', 'Raptors', 'Rarely', 'Rasam', 'Rat', 'Rather', 'Rathskeller', 'Rating', 'Ratings', 'Ravioli', 'Raw', 'Rd', 'RdP', 'Rdpjai', 'ReOpen', 'Read', 'Reading', 'Ready', 'Real', 'Reality', 'Really', 'Reason', 'Reasonable', 'Reasonably', 'Received', 'Recently', 'Recreation', 'Red', 'Redken', 'Redrock', 'Reece', 'Reeses', 'Referred', 'Refreshing', 'Refunding', 'Refurnished', 'Regal', 'Regardless', 'Regina', 'Regular', 'Rejoice', 'Remember', 'Remodel', 'Remodeled', 'Remote', 'Removed', 'Renaissance', 'Renaissances', 'Rendon', 'Rendu', 'Renting', 'Repair', 'Repaired', 'Representative', 'Republic', 'Reserve', 'Resolution', 'Resort', 'Resorts', 'Responded', 'Restaurant', 'Restaurants', 'Restraint', 'Restrooms', 'Result', 'Retro', 'Return', 'Reuben', 'Reubens', 'Reuss', 'Review', 'Reward', 'Rewards', 'Reymundo', 'Reynard', 'Reynoso', 'Rhino', 'Rhodesian', 'Rhythm', 'Rib', 'Ribeye', 'Ribs', 'Rica', 'Rice', 'Rich', 'Richard', 'Richardsons', 'Rick', 'Ricotta', 'Riddle', 'Ridge', 'Ridiculous', 'Right', 'Rikers', 'Rimrock', 'Rio', 'Rios', 'Riot', 'Risa', 'Rises', 'Ritas', 'Ritos', 'Riverview', 'Riviera', 'RivièredesPrairies', 'RnR', 'Road', 'Roast', 'Roasted', 'Robert', 'Roberta', 'Robertos', 'Robin', 'Robins', 'Robinson', 'RobinsonsMay', 'Robot', 'Rock', 'Rockefeller', 'Rocks', 'Rocoto', 'Roger', 'Rogue', 'Roll', 'Roller', 'Rolls', 'Romero', 'Romeros', 'Room', 'Rooms', 'Roosevelt', 'Rosa', 'Rose', 'Rosemary', 'Rosie', 'Ross', 'Roti', 'Rotolis', 'Rotten', 'Rouven', 'Roxanne', 'Rs', 'Rt', 'Rubbish', 'Rubios', 'Rude', 'Rueben', 'Rula', 'Rumbar', 'Run', 'Rural', 'Rushed', 'Rushing', 'Russell', 'Russos', 'Ruths', 'Rwo', 'Ryan', 'Ryans', 'Rye', 'S5', 'SAD', 'SAFE', 'SAKANA', 'SAKE', 'SALES', 'SALESMAN', 'SALTY', 'SANDBAR', 'SANS', 'SAPPHIRE', 'SASH', 'SAT', 'SAY', 'SCAM', 'SCOTTSDALE', 'SDSUKPBS', 'SEDATED', 'SEE', 'SELL', 'SEMA', 'SEO', 'SERIOUSLY', 'SERVE', 'SERVED', 'SERVEUR', 'SERVICE', 'SERVICES', 'SEVERAL', 'SF', 'SHAME', 'SHAPE', 'SHIT', 'SHOOMercy', 'SHORTER', 'SHOT', 'SHOW', 'SHOWROOM', 'SIGN', 'SIGNS', 'SINFUL', 'SINGLE', 'SIR', 'SIT', 'SKIP', 'SLS', 'SMALL', 'SMG', 'SMH', 'SNORTS', 'SNS', 'SOAP', 'SOHO', 'SOLANO', 'SOLD', 'SOLDERING', 'SOMEONE', 'SOMEWHERE', 'SON', 'SOOO', 'SOUP', 'SOURISmmmm', 'SPECTACULAR', 'SPICY', 'SPROUTS', 'SQUAT', 'SSN', 'STAFF', 'STAKE', 'STARPOINT', 'STARVING', 'STAY', 'STD', 'STEAL', 'STERNLY', 'STILL', 'STOLE', 'STOP', 'STORE', 'STORMY', 'STRAIGHT', 'STRESS', 'SUCKED', 'SUCKS', 'SUMMARY', 'SUPER', 'SUPPOSEDLY', 'SURE', 'SURPRISE20', 'SUSHI', 'SUV', 'SV', 'SVMC', 'SW', 'Saba', 'Sabado', 'Sabrosos', 'Saccos', 'Sacks', 'Sacramento', 'Sad', 'Sadly', 'Safe', 'Safelite', 'Safeway', 'Safeways', 'Sahara', 'Said', 'Saigon', 'Sakana', 'Sake', 'Saks', 'Salad', 'Salads', 'Saladthat', 'Salesman', 'Sally', 'Salmon', 'Salon', 'Salons', 'Salsa', 'Salt', 'Salted', 'Saltimbocca', 'Salvation', 'Salvatore', 'Sam', 'Sambalatte', 'Samedi', 'Sammy', 'Sams', 'San', 'Sanchez', 'Sandbar', 'Sanders', 'Sandhill', 'Sandra', 'Sandras', 'Sandwich', 'Sandwiches', 'SandwichesReally', 'Sangria', 'Santisima', 'Santos', 'Sapphire', 'Sara', 'Sarah', 'Sarita', 'Sasha', 'Sashimi', 'Sat', 'Satan', 'Saturday', 'Saturdays', 'SaturdaysI', 'Sauce', 'Sausage', 'Save', 'Savoury', 'Saw', 'Scallops', 'Scam', 'Scarborough', 'Scared', 'Scdl', 'Scheduled', 'School', 'Schreiners', 'Schwartzs', 'Scooby', 'Scoobys', 'Scoop', 'Scoops', 'Scotland', 'Scottsdale', 'ScottsdaleTempe', 'Screaming', 'Screen', 'Screw', 'Sea', 'Seabass', 'Searching', 'Sears', 'Seasoned', 'Seasoning', 'Seasons', 'Seat', 'Seating', 'Seattle', 'Seaweed', 'Second', 'Secondly', 'Secret', 'Security', 'Sedgefield', 'See', 'Seeing', 'Seems', 'Seepage', 'Seinfeld', 'Sel', 'Self', 'Selma', 'Selwyn', 'Sent', 'Sentra', 'Separate', 'Sephora', 'September', 'Serene', 'Serious', 'Seriously', 'Serrano', 'Served', 'Server', 'Servers', 'Service', 'Services', 'Set', 'Setting', 'Seven', 'Several', 'Seville', 'Sexist', 'Sfogliatelle', 'Shack', 'Shady', 'Shadyside', 'Shake', 'Shakin', 'Shaking', 'Shamacus', 'Shame', 'Shane', 'Shannon', 'Shauna', 'Shaver', 'Shea', 'Sheena', 'Sheesley', 'Sheetz', 'Shell', 'Shellac', 'Shelly', 'Sheppard', 'Sheraton', 'Sherene', 'Shes', 'Shhhhh', 'Shin', 'Shine', 'Shipping', 'Shirmp', 'Shitty', 'Shock', 'Shocker', 'Shockingly', 'Shoes', 'Shop', 'Shoppers', 'Shoppes', 'Shopping', 'Shops', 'Short', 'Shortly', 'Shorty', 'Shot', 'Shouldnt', 'Shouldve', 'Shout', 'Shoutout', 'Showbiz', 'Showed', 'Shower', 'Shredded', 'Shrimp', 'Shrimps', 'Shumai', 'Si', 'Sichuan', 'Sicilian', 'Side', 'Siege', 'Sigh', 'Sign', 'Signatures', 'Signed', 'Signs', 'Silence', 'Silver', 'Silverado', 'Similar', 'Similarly', 'SimonMed', 'Simple', 'Simply', 'Simultaneously', 'Sin', 'Sinatra', 'Since', 'Sincerely', 'Singapore', 'Sipped', 'Sir', 'Sis', 'Sisig', 'Sisky', 'Sisters', 'Sit', 'Size', 'Skewer', 'Skiing', 'Skimpy', 'Skin', 'SkinnyFats', 'Skins', 'Skip', 'Sky', 'Skye', 'Skywater', 'Slacking', 'Sleep', 'Slice', 'Slices', 'Slightly', 'Sloppy', 'Slovenia', 'Slow', 'Slowly', 'Small', 'Smarmy', 'Smart', 'Smash', 'Smashburger', 'Smells', 'Smelly', 'Smh', 'Smiles', 'Smith', 'Smiths', 'Smog', 'Smokin', 'Smoothies', 'Smores', 'Snapdragon', 'Sniffany', 'Snob', 'Snobthoughtits', 'Snooze', 'Snow', 'SoFreakinGood', 'Social', 'Society', 'Soda', 'Soft', 'Softshell', 'Soggy', 'Sole', 'Soleil', 'Solid', 'Solo', 'Somebody', 'Someday', 'Somehow', 'Someone', 'Something', 'Sometimes', 'Sonic', 'Sonoma', 'Sons', 'Sony', 'Soon', 'Sooo', 'Soooo', 'Soooowhat', 'Soothing', 'Sorbet', 'Sorry', 'Sort', 'Soterro', 'Soto', 'Sounds', 'Soup', 'Soups', 'Sour', 'Source', 'South', 'SouthEnd', 'Southend', 'Southern', 'Southwest', 'Souvli', 'Soy', 'Soyu', 'Spa', 'Spain', 'Spanish', 'Sparkle', 'Sparks', 'Sparrows', 'Speaking', 'Special', 'Specifically', 'Spectacular', 'Speed', 'Spend', 'Spending', 'Spent', 'Spice', 'Spices', 'Spicey', 'Spicy', 'Spiderman', 'Spin', 'Spinatos', 'Spirit', 'Splenda', 'Sports', 'Spring', 'Springer', 'Springs', 'Sprinkles', 'Sprite', 'Sprouts', 'Spy', 'Sq', 'Square', 'Squares', 'Squarespace', 'Squarz', 'Sri', 'Sriracha', 'Srirasha', 'St', 'StAntoine', 'StPatallezy', 'StSauveur', 'Stacy', 'Staff', 'Stale', 'Standard', 'Star', 'Starbucks', 'Starch', 'Starnes', 'Stars', 'Start', 'Started', 'Starter', 'Starting', 'Starwood', 'Stastny', 'States', 'Stay', 'SteCatherine', 'Steak', 'Steakn', 'SteaknShake', 'Steaks', 'Steamed', 'Steel', 'Steelers', 'Steer', 'Steins', 'Stephanie', 'Stephen', 'Stepping', 'Sterling', 'Steve', 'Stewart', 'Stick', 'Stickers', 'Sticky', 'Still', 'Stilwell', 'Stingray', 'Stonecrest', 'Stood', 'Stop', 'Stopped', 'Store', 'Stormtrooper', 'Stoughton', 'Straight', 'Straightforward', 'Strangely', 'Stratos', 'Stratosphere', 'Strawberries', 'Strawberry', 'Street', 'Strike', 'Strip', 'Stripsteak', 'Strong', 'Strongly', 'Strongsville', 'Stsauveur', 'Studio', 'Stuff', 'Stuffed', 'Stumpy', 'Sturbridge', 'Stylist', 'Suarez', 'Sub', 'Substandard', 'Suburb', 'Subway', 'Success', 'Successfor', 'Suck', 'Sucks', 'Suffice', 'Sugar', 'Sugarmoon', 'Suggestion', 'Suite', 'Suites', 'Summary', 'Summer', 'Summerlin', 'Sun', 'Suncoast', 'Sunday', 'Sundays', 'Sunny', 'Sunrise', 'Sunset', 'Sunshine', 'Super', 'SuperTarget', 'Superb', 'Superior', 'Superstition', 'Superstore', 'Support', 'Supposedly', 'Supreme', 'Sur', 'Sure', 'Surf', 'Surgeries', 'Surprise', 'Surprisingly', 'Surtout', 'Susan', 'Sushi', 'Suzanne', 'Suzannes', 'Suzie', 'Swaddee', 'Sweaty', 'Sweet', 'Sweethearts', 'Swing', 'Swirl', 'Swiss', 'Switched', 'Symphony', 'TACOS', 'TAMARA', 'TASTY', 'TAX', 'TB', 'TBones', 'TCM', 'TEAM', 'TECHNICIANS', 'TELL', 'TELLEMENT', 'TEN', 'TERRIBLE', 'TEXT', 'TGIChiliBees', 'TGIF', 'THANK', 'THATS', 'THEE', 'THINK', 'THIRD', 'THIRTY', 'THREE', 'TICKETMASTER', 'TIGHTEST', 'TIME', 'TIMESHARE', 'TIP', 'TJ', 'TJs', 'TL', 'TLC', 'TMobile', 'TODAY', 'TOLD', 'TON', 'TONNES', 'TONS', 'TOOK', 'TOP', 'TORTAS', 'TOTS', 'TOUS', 'TOWERS', 'TOWN', 'TOYS', 'TRADE', 'TRADITIONAL', 'TRIMURTI', 'TRU', 'TRUC', 'TRUCK', 'TRUE', 'TRUETT', 'TRUST', 'TRY', 'TRYING', 'TSA', 'TTC', 'TU', 'TURN', 'TURNIPS', 'TV', 'TVs', 'TWELVE', 'TWICE', 'TWO', 'Tabasco', 'Table', 'Taco', 'Tacos', 'Tai', 'Taiwanese', 'Taj', 'Take', 'Takeda', 'Takes', 'Taking', 'Takoyaki', 'Talk', 'Talked', 'Talon', 'Tamara', 'Tamba', 'Tammy', 'Tampa', 'Tanner', 'Tao', 'Tapatio', 'Tara', 'Target', 'Targetnow', 'Targets', 'Taro', 'Tarragon', 'Tarshay', 'Tartar', 'Tartare', 'Tarte', 'Tartes', 'Tasha', 'Taste', 'Tasted', 'Tasteless', 'Tasty', 'Tate', 'Taylor', 'Tea', 'Technically', 'Technician', 'Ted', 'Tee', 'Teenage', 'Teeter', 'Teeters', 'Tell', 'Tellement', 'Teller', 'Tellers', 'Tells', 'Tempe', 'Tempest', 'Tempted', 'Ten', 'Tender', 'Tenderloin', 'Tenders', 'Teppanyaki', 'Tequila', 'Teres', 'Terminator', 'Terrace', 'Terrible', 'Terrific', 'Terrine', 'Terry', 'Tetris', 'TexMex', 'Texas', 'Thai', 'Thanjai', 'Thank', 'Thankful', 'Thankfully', 'Thanks', 'Thanksgiving', 'Thatll', 'Thats', 'Theater', 'Theatre', 'Thee', 'Theo', 'Therefore', 'Theres', 'Theyll', 'Theyre', 'Theyve', 'Thin', 'Things', 'Think', 'Thinking', 'Third', 'Thirty', 'Thistledown', 'Thiswas', 'Thomas', 'Thompson', 'Though', 'Thought', 'Three', 'Thrift', 'Throughout', 'Throw', 'Thumbs', 'Thursday', 'Thursdays', 'Thus', 'Tibetan', 'Ticoz', 'Tidy', 'Tidys', 'Tiffany', 'Tiganites', 'Tiki', 'Tikka', 'Tile', 'Tillman', 'Tim', 'Time', 'Timely', 'Times', 'Timing', 'Timm', 'Timmy', 'Timothy', 'Tinga', 'Tinting', 'Tip', 'Tipps', 'Tips', 'Tiramisu', 'Tire', 'Tired', 'Tires', 'Tivoli', 'Today', 'Todd', 'Togo', 'Tokyo', 'Told', 'Tolleson', 'Tom', 'Tomate', 'Tomato', 'Tomatoes', 'TomatoesPerfect', 'Tommys', 'Tongue', 'Tonight', 'Tonkatsu', 'Tons', 'Tony', 'TonysI', 'Took', 'Top', 'TopGolf', 'Topofitsgame', 'Topped', 'Tops', 'Torch', 'Toronto', 'Torontonians', 'Torontos', 'Torta', 'Tortilla', 'Toss', 'Total', 'Totally', 'Tots', 'Totties', 'Touch', 'Toujours', 'Tout', 'Toward', 'Towards', 'Towing', 'Town', 'Towncenter', 'Towne', 'Township', 'Toyota', 'Toys', 'Tracy', 'Trader', 'Traditional', 'Traffic', 'Trailhawk', 'Train', 'Transport', 'Trash', 'Treasure', 'Treat', 'Trendy', 'Tres', 'Tribike', 'Tried', 'Tries', 'Trilogy', 'Trimurti', 'Trip', 'Triple', 'Trop', 'Tropicana', 'Trouble', 'Truck', 'True', 'Truett', 'Truly', 'Trump', 'Trust', 'Truth', 'Try', 'Trying', 'Très', 'Tso', 'Tu', 'Tucked', 'Tuesday', 'Tuesdays', 'Tums', 'Tuna', 'Tupelo', 'Turf', 'Turkey', 'Turns', 'Turntable', 'Turtle', 'Turtles', 'Tuscan', 'Tuscancrapsouthwestern', 'Tv', 'Twain', 'Twenty', 'Twentytwo', 'Twice', 'Twilight', 'Twins', 'Twist', 'Twisted', 'Two', 'Tyber', 'Typically', 'Tyron', 'Tzaziki', 'Tzu', 'U', 'UFC', 'ULTRA', 'UN', 'UNACCEPTABLE', 'UNE', 'UNEVEN', 'UNION', 'UNLV', 'UNPLEASANT', 'UNPROFESSIONAL', 'UNRELIABLE', 'UPDATE', 'UPS', 'US', 'USA', 'USDA', 'USE', 'USED', 'USPS', 'UV', 'Ube', 'Uber', 'UberLyft', 'Ubod', 'Udon', 'Ugh', 'Ughhh', 'Uh', 'Ulta', 'Ultimate', 'Ultimately', 'Ultra', 'Um', 'Umm', 'Ummmm', 'Umno', 'Un', 'Unabridged', 'Unacceptable', 'Unbelievable', 'Unbelievably', 'Und', 'Underground', 'Underneath', 'Understanding', 'Une', 'Unfortunately', 'Unfresh', 'Unfriendly', 'Unglaublich', 'Union', 'Unique', 'United', 'University', 'Unless', 'Unlike', 'Unlimited', 'Unmistakeable', 'Unnche', 'Unnecessarily', 'Unprofessional', 'Unreal', 'Unrelated', 'Untrue', 'Update', 'UpdateStopped', 'Upon', 'Upstairs', 'Uptown', 'Urban', 'Urbane', 'Us', 'Use', 'Used', 'Using', 'Usually', 'Uyghur', 'V', 'V6', 'VALET', 'VDay', 'VEGAS', 'VEGETARIAN', 'VEHICLE', 'VEHICLES', 'VEIL', 'VEUX', 'VIEUX', 'VIN', 'VIP', 'VOICE', 'VOIDED', 'VOUS', 'VP', 'VPN', 'VR', 'VUE', 'Valentines', 'Valerie', 'Valet', 'Valley', 'Valleys', 'Vamp', 'Vanilla', 'Various', 'Vasari', 'Veal', 'Vegan', 'Vegans', 'Vegas', 'VegasHenderson', 'Vegassuper', 'Vegetarian', 'Veggie', 'Veggies', 'Venetian', 'Venezias', 'Venture', 'Verandah', 'Verde', 'Verdict', 'Verdun', 'Verizon', 'Vermicelli', 'Veronica', 'Versa', 'Veryvery', 'Vet', 'Veterans', 'Veterinary', 'Victoria', 'Victorian', 'Vietnam', 'Vietnamese', 'View', 'Views', 'Villa', 'Village', 'Villas', 'Vin', 'Vinopoly', 'Vinyasa', 'Vinyl', 'Viola', 'Violins', 'Visa', 'Vision', 'Visit', 'Visiting', 'Vista', 'Vitamin', 'Viva', 'Vive', 'Vodka', 'Voila', 'Volcanes', 'Volcano', 'Volvo', 'Vons', 'Vous', 'Vraiment', 'Vu', 'W', 'WAC', 'WAIT', 'WALK', 'WANT', 'WARNING', 'WASHHH', 'WATCH', 'WAXHAW', 'WAY', 'WAYYYYYYYYY', 'WD', 'WEDDING', 'WEEK', 'WEIRD', 'WEIRDEST', 'WELL', 'WELLToday', 'WFs', 'WHASN', 'WHATS', 'WHIP', 'WHOLEHEARTEDLY', 'WI', 'WIFI', 'WIN', 'WINGS', 'WITHIN', 'WONT', 'WOOFSTOCK', 'WORD', 'WORK', 'WORLD', 'WORM', 'WORST', 'WORTH', 'WOULD', 'WOW', 'WRECKED', 'WRONG', 'WS', 'WSOP', 'WTF', 'WTH', 'Wachtel', 'Wagon', 'Wait', 'Waited', 'Waiter', 'Waiting', 'Waitress', 'Waitresses', 'WaitressesBartenders', 'Wake', 'WalMart', 'Waldhorn', 'Walgreens', 'Walk', 'Walked', 'Walking', 'Wall', 'Wallace', 'Wally', 'Walmart', 'Walmarts', 'Wanda', 'Want', 'Wanted', 'Warehouse', 'Warhol', 'Warm', 'Warning', 'Warningonce', 'Wars', 'Wasabi', 'Wash', 'Washington', 'Wasnt', 'Waste', 'Watch', 'Watched', 'Water', 'Watermelon', 'Wax', 'Waxes', 'Waxhaw', 'Way', 'Web', 'Website', 'Wed', 'Wedding', 'Wednesday', 'Wednesdays', 'Week', 'Weekend', 'Weekends', 'Weins', 'Weird', 'Weisss', 'Welcome', 'Well', 'Wella', 'Wellington', 'Wells', 'Wellthey', 'Welltrained', 'Welp', 'Wendy', 'Wendys', 'Went', 'West', 'Westbury', 'Western', 'Westgate', 'Westin', 'Westside', 'Wet', 'Weve', 'Wey', 'Whatever', 'Whatevs', 'Whats', 'Whatta', 'Whays', 'Wheel', 'Wheels', 'Whenever', 'Whether', 'Whisk', 'Whiskey', 'White', 'Whites', 'Whitney', 'Whiz', 'Whoever', 'Whole', 'Wholefoods', 'Whomever', 'Whoop', 'Whopper', 'Whos', 'WiFi', 'Wight', 'Wilburs', 'Wild', 'Williams', 'Willie', 'Willy', 'Win', 'Window', 'Windows', 'Windsor', 'Wine', 'Wines', 'Wing', 'Wings', 'Wink', 'Winners', 'WinstonSalem', 'Winter', 'Winterlicious', 'Wisconsin', 'Wish', 'Wishing', 'Within', 'Without', 'Witnesses', 'Wizards', 'Wok', 'Woke', 'Wonderful', 'Wondering', 'Wonka', 'Wont', 'Wonton', 'Wood', 'Woodchester', 'Wooden', 'Woodmans', 'Woodside', 'Woofstock', 'Word', 'Words', 'Workers', 'Working', 'World', 'Worse', 'Worst', 'Worth', 'Worthington', 'Would', 'Wouldnt', 'Wow', 'Wowam', 'Wowie', 'Wowthis', 'Wowwhat', 'Wowwhere', 'Wowwww', 'Wrap', 'Write', 'Wrong', 'Wrote', 'Wylie', 'Wyndham', 'Wynn', 'X', 'XL', 'XRay', 'XS', 'XXL', 'Xerox', 'Xray', 'YEAR', 'YEARS', 'YELP', 'YELPTO', 'YES', 'YET', 'YMCA', 'YORKERS', 'YUM', 'YUMMO', 'Yall', 'Yard', 'Yea', 'Yeah', 'Year', 'Years', 'Yelp', 'Yelped', 'Yelpers', 'Yelping', 'Yelps', 'Yep', 'Yeponce', 'Yepvery', 'Yes', 'Yesterday', 'Yet', 'Yiasou', 'Yikes', 'Yoda', 'Yodalike', 'Yoga', 'Yoko', 'Yonge', 'York', 'Yorkers', 'Yorkville', 'Yoself', 'Yoshi', 'YouTube', 'Youd', 'Youll', 'Young', 'Youre', 'Yous', 'Youve', 'Yuck', 'Yukon', 'Yum', 'YumTum', 'Yummy', 'Yup', 'Yuzu', 'Z', 'ZERO', 'Zaatar', 'Zablong', 'Zac', 'Zach', 'Zaru', 'Zealand', 'Zen', 'Zenith', 'Zephyr', 'Zero', 'Zilch', 'Zimbrick', 'Zone', 'Zumba', 'Zupas', 'Zurich', 'Zuzu', 'aaaaahhhMAIZEing', 'aback', 'ability', 'able', 'abordable', 'abordables', 'abortion', 'abou', 'abound', 'abounds', 'abruptly', 'absence', 'absent', 'absoluement', 'absolument', 'absolute', 'absolutely', 'absorbing', 'abstrait', 'absurd', 'abundance', 'abuse', 'abusive', 'abysmal', 'ac', 'acai', 'accent', 'accentuate', 'accentuated', 'accept', 'acceptable', 'accepted', 'accepting', 'accepts', 'access', 'accessible', 'accessories', 'accident', 'accidentally', 'accidents', 'accolades', 'accommodate', 'accommodated', 'accommodates', 'accommodating', 'accommodation', 'accommodations', 'accompanied', 'accompanies', 'accompaniments', 'accompany', 'accompanying', 'accomplish', 'accomplished', 'accordance', 'according', 'accordingly', 'accoste', 'accosted', 'account', 'accountable', 'accountants', 'accounts', 'accueil', 'accueille', 'accuracy', 'accurate', 'accurately', 'accuse', 'accused', 'accustomed', 'acetone', 'ache', 'achievement', 'achieves', 'acidity', 'acknowledge', 'acknowledged', 'acknowledgement', 'acknowledging', 'acknowledgment', 'acne', 'acoustic', 'acoustics', 'acquired', 'acrobatic', 'across', 'act', 'acted', 'action', 'actions', 'active', 'actively', 'activities', 'activity', 'acts', 'actual', 'actually', 'acumen', 'acupuncture', 'acute', 'ad', 'adamant', 'adaptable', 'add', 'added', 'addict', 'addicted', 'addicting', 'addiction', 'addictive', 'addicts', 'adding', 'addition', 'additional', 'additions', 'additives', 'addons', 'address', 'addressed', 'addressing', 'adds', 'adequate', 'adjacent', 'adjust', 'adjusted', 'adjusting', 'adjustment', 'adjustmentbut', 'adjustments', 'admin', 'administering', 'admirable', 'admirably', 'admire', 'admiring', 'admission', 'admit', 'admitted', 'adobada', 'adolescents', 'adopt', 'adoptable', 'adopted', 'adorable', 'adore', 'adored', 'adoré', 'adorés', 'adrift', 'ads', 'adult', 'adults', 'advance', 'advanced', 'advantage', 'adventure', 'adventures', 'adventurous', 'adventurousmore', 'advertise', 'advertised', 'advertisement', 'advertisements', 'advertises', 'advertising', 'advertisingDO', 'advice', 'advise', 'advised', 'advising', 'advisor', 'advisors', 'advocated', 'adéquatement', 'affair', 'affairs', 'affecting', 'affiliated', 'affirming', 'afford', 'affordable', 'afloat', 'aforementioned', 'afraid', 'aftermarket', 'afternoon', 'afternoons', 'aftertaste', 'aftertwo', 'afterward', 'afterwards', 'againOnce', 'againnothing', 'age', 'aged', 'agedashi', 'agency', 'agent', 'agents', 'ages', 'aggravating', 'aggravation', 'aggressive', 'aggressively', 'aging', 'agitated', 'ago', 'agree', 'agreed', 'agreeing', 'agreement', 'agrees', 'agréable', 'ah', 'ahead', 'ahem', 'ahh', 'ahhhhhmazing', 'ahi', 'ahold', 'ahole', 'ahwatukee', 'ai', 'aid', 'aided', 'aidé', 'aimable', 'aimed', 'aimer', 'aimez', 'aimlessly', 'aims', 'aimé', 'ainsi', 'aint', 'aioli', 'air', 'aircraft', 'airline', 'airlines', 'airplane', 'airport', 'airporthome', 'airports', 'airtransatneveragain', 'airtransatyousuck', 'airy', 'aisle', 'aisles', 'ajoutant', 'aka', 'al', 'ala', 'alarm', 'alarming', 'alarms', 'alas', 'albeit', 'alcohol', 'alcoholic', 'alcoolisé', 'alcove', 'ale', 'alelager', 'alergic', 'alert', 'alerted', 'alfredo', 'alice', 'align', 'aligned', 'aligning', 'alignment', 'alignments', 'alike', 'alive', 'allI', 'alla', 'allait', 'alland', 'allant', 'aller', 'allergic', 'allergies', 'allergy', 'alleviate', 'alleviated', 'alley', 'allez', 'allezy', 'alligator', 'allof', 'allow', 'allowance', 'allowed', 'allowing', 'allows', 'allthere', 'allure', 'allyoucaneat', 'almond', 'almonds', 'almost', 'aloha', 'alone', 'aloneYou', 'along', 'aloo', 'alors', 'alot', 'alotprob', 'already', 'alright', 'also', 'alsoI', 'alter', 'alteration', 'alterations', 'altered', 'alternate', 'alternating', 'alternative', 'alternator', 'although', 'altogether', 'always', 'alwayslikeyou', 'amalgamation', 'amaretti', 'amaretto', 'amateurish', 'amazed', 'amazing', 'amazingly', 'amazzzzing', 'ambiance', 'ambience', 'amend', 'amenities', 'amenity', 'amentities', 'amené', 'american', 'americanos', 'ametuer', 'amical', 'amicale', 'amie', 'amis', 'among', 'amongst', 'amosphere', 'amosphère', 'amoung', 'amount', 'amounted', 'amounts', 'ample', 'amuse', 'amused', 'amusement', 'amuser', 'amusing', 'analyze', 'ancienne', 'andor', 'android', 'andys', 'angel', 'angels', 'anger', 'anglais', 'angle', 'angry', 'animal', 'animals', 'anise', 'anniversaire', 'anniversary', 'annonçait', 'announce', 'announced', 'announcement', 'announcements', 'announces', 'annoy', 'annoyance', 'annoyed', 'annoying', 'annoyingly', 'annual', 'années', 'anomaly', 'another', 'answer', 'answered', 'answering', 'answers', 'ant', 'antedotes', 'antenna', 'anthro', 'anti', 'antibiotic', 'antibiotics', 'anticipated', 'anticipation', 'antics', 'antipasti', 'antique', 'antitragus', 'anxiety', 'anxious', 'anxiously', 'anybody', 'anyhow', 'anymore', 'anymoreso', 'anyone', 'anyones', 'anything', 'anytime', 'anyway', 'anyways', 'anywhere', 'aparments', 'apart', 'apartment', 'apartments', 'apathetic', 'apathetically', 'apathy', 'apiece', 'aplenty', 'aplus', 'apologetic', 'apologies', 'apologieswe', 'apologize', 'apologized', 'apologizes', 'apologizing', 'apology', 'apostrophe', 'app', 'appalled', 'appalling', 'apparel', 'apparent', 'apparently', 'appeal', 'appealed', 'appealing', 'appear', 'appearance', 'appeared', 'appearing', 'appears', 'appeler', 'appetite', 'appetizer', 'appetizerOMG', 'appetizers', 'appetizing', 'appitizer', 'applaud', 'applauded', 'apple', 'applefig', 'apples', 'appliance', 'appliances', 'applicable', 'application', 'applications', 'applied', 'applies', 'apply', 'appointed', 'appointment', 'appointments', 'appreciate', 'appreciated', 'appreciation', 'approach', 'approachable', 'approached', 'approaching', 'appropriate', 'approval', 'approvalanswer', 'approved', 'approx', 'approximately', 'apprx', 'apps', 'appt', 'appts', 'appétissant', 'appétissante', 'appétissanteEnfin', 'après', 'apt', 'aptlynamed', 'aptyou', 'aquarium', 'aquariums', 'aquatic', 'arabe', 'arancini', 'arbitrary', 'arcade', 'arcades', 'area', 'areaor', 'arearoom', 'areas', 'arena', 'arent', 'arguably', 'argue', 'argued', 'argues', 'arguing', 'argument', 'arise', 'arm', 'armed', 'armpit', 'arms', 'arnold', 'aroma', 'around', 'aroundclose', 'aroundno', 'arrange', 'arranged', 'arrangement', 'arrangements', 'array', 'arrival', 'arrive', 'arrived', 'arriveet', 'arriver', 'arrives', 'arriving', 'arrivé', 'arrogance', 'arrogant', 'arrugula', 'arses', 'art', 'arteries', 'artery', 'artful', 'artichoke', 'artichokes', 'articles', 'artifacts', 'artificial', 'artisan', 'artist', 'artistic', 'artists', 'artwork', 'arugula', 'asada', 'ash', 'ashamed', 'ashtray', 'asian', 'asiansensation', 'asiatique', 'aside', 'asidethe', 'ask', 'asked', 'asking', 'asks', 'asleep', 'asparagus', 'aspect', 'aspects', 'ass', 'assaulted', 'assembled', 'assess', 'assessed', 'asset', 'assez', 'asshat', 'asshole', 'assiette', 'assist', 'assistance', 'assistant', 'assisted', 'assisting', 'assitant', 'associate', 'associates', 'assorted', 'assortment', 'assortments', 'assume', 'assumed', 'assuming', 'assumption', 'assure', 'assured', 'asterisk', 'astonished', 'astounding', 'astray', 'astro', 'asymetrical', 'ate', 'athlete', 'athletic', 'atleast', 'atm', 'atmosphere', 'atop', 'atrocious', 'atrophied', 'attached', 'attaching', 'attack', 'attacked', 'attacking', 'attempt', 'attempted', 'attempting', 'attempts', 'attend', 'attendait', 'attendance', 'attendant', 'attendants', 'attended', 'attendent', 'attendez', 'attendezvous', 'attending', 'attendre', 'attends', 'attendset', 'attendu', 'attention', 'attentionné', 'attentive', 'attentiveness', 'attested', 'attic', 'attire', 'attiré', 'attitude', 'attitudes', 'attorney', 'attorneywhich', 'attracted', 'attracting', 'attraction', 'attractive', 'attracts', 'attrayant', 'attribute', 'atypical', 'au', 'aucun', 'audacity', 'audibly', 'audience', 'audio', 'audios', 'audiovideo', 'audit', 'auraient', 'aurait', 'aussi', 'aussie', 'autant', 'authenic', 'authentic', 'authenticity', 'authorization', 'auto', 'automatically', 'automation', 'automotive', 'automotiveelectronic', 'autre', 'autres', 'aux', 'avacodo', 'avaient', 'avail', 'availability', 'available', 'availablelo', 'avait', 'avant', 'ave', 'avec', 'aventurer', 'avenue', 'avenues', 'average', 'aversion', 'averted', 'avertie', 'avez', 'avg', 'avid', 'avis', 'avocado', 'avocados', 'avoid', 'avoided', 'avoiding', 'avoids', 'avoir', 'avondale', 'avons', 'await', 'awaiting', 'awake', 'award', 'aware', 'awareness', 'awash', 'away', 'awayexcept', 'awayit', 'awe', 'awesome', 'awesomeand', 'awesomeness', 'awesomest', 'awful', 'awfulExplanation', 'awfulso', 'awhile', 'awkawrd', 'awkward', 'awkwardly', 'awning', 'awsomeness', 'ayant', 'az', 'azure', 'b', 'baba', 'babe', 'babes', 'babies', 'baby', 'babys', 'bachelorette', 'bachelors', 'back', 'backMost', 'backShe', 'backbut', 'backed', 'background', 'backing', 'backor', 'backpack', 'backs', 'backtoback', 'backup', 'backwards', 'backyard', 'backyardAfter', 'bacon', 'bad', 'badCentury', 'badThe', 'badass', 'bademjun', 'badly', 'badnot', 'baffle', 'baffled', 'baffles', 'baffoon', 'bag', 'bagel', 'bagelMoi', 'bagelbref', 'bagels', 'baggage', 'bagged', 'baggies', 'baggy', 'bags', 'baguette', 'baguettesdûr', 'bailed', 'bait', 'baja', 'baked', 'bakeries', 'bakers', 'bakery', 'baking', 'baklava', 'balance', 'balanced', 'balances', 'balcony', 'bald', 'ball', 'balloon', 'ballot', 'ballroom', 'balls', 'baloney', 'balsamic', 'bamboo', 'banana', 'bananas', 'banchan', 'bancs', 'band', 'bandaids', 'bands', 'bang', 'banged', 'banging', 'bangs', 'banh', 'banish', 'bank', 'banking', 'bankrupt', 'bankruptcies', 'banks', 'banned', 'banner', 'banners', 'banquet', 'banquette', 'banter', 'bao', 'baos', 'bar', 'barChocolate', 'barHAHAHAHA', 'barOutstanding', 'barbacoa', 'barbecue', 'barbeque', 'barber', 'barbershops', 'barcode', 'bare', 'barefoot', 'barely', 'bargrille', 'baring', 'barista', 'baristas', 'bark', 'barked', 'barking', 'barkingmaking', 'barkitchen', 'barmaids', 'barrage', 'barrier', 'barriers', 'barriques', 'bars', 'bartender', 'bartenders', 'bartenderserver', 'bartenderwaitress', 'bartending', 'barumm', 'bas', 'base', 'based', 'baseline', 'basement', 'bases', 'basic', 'basically', 'basicly', 'basics', 'basil', 'basis', 'basket', 'basketball', 'baskets', 'bass', 'basted', 'bat', 'batch', 'batches', 'bath', 'bathouse', 'bathroom', 'bathrooms', 'baths', 'bathtub', 'batons', 'batter', 'battered', 'batteries', 'battery', 'batting', 'battle', 'battling', 'bay', 'bays', 'bbq', 'bbt', 'bc', 'beach', 'beacon', 'beam', 'beaming', 'bean', 'beandip', 'beanie', 'beans', 'beansprout', 'beard', 'bearer', 'bearings', 'bears', 'beast', 'beat', 'beaten', 'beats', 'beau', 'beaucoup', 'beautiful', 'beautifulbut', 'beautifully', 'beauty', 'beaux', 'became', 'become', 'becomes', 'becoming', 'becuase', 'bed', 'bedding', 'bedroom', 'bedrooms', 'beds', 'bedside', 'beef', 'beefy', 'beer', 'beera', 'beerbooch', 'beerincluding', 'beers', 'beet', 'beets', 'beforeTry', 'beforebut', 'beforehand', 'beg', 'began', 'begged', 'begging', 'begin', 'beginner', 'beginning', 'begrudgingly', 'begs', 'begun', 'behalf', 'behavior', 'behind', 'behold', 'beige', 'beignets', 'beim', 'beings', 'bel', 'belatedly', 'beleive', 'belgian', 'belief', 'believe', 'believed', 'believes', 'believing', 'belittled', 'bell', 'belle', 'bellecoloré', 'bellhop', 'bells', 'belly', 'belong', 'belongings', 'belongs', 'belt', 'belts', 'ben', 'bench', 'benches', 'bend', 'bender', 'bendie', 'beneath', 'benedict', 'benedicts', 'benefit', 'benefited', 'benefits', 'bent', 'bento', 'berry', 'beside', 'besides', 'besoin', 'best', 'besties', 'bestkept', 'bet', 'bets', 'better', 'beurk', 'beverage', 'beverages', 'beware', 'bewildered', 'beyond', 'bf', 'bhel', 'bi', 'biased', 'biases', 'bibliothèque', 'biblos', 'biceps', 'bicycle', 'bid', 'bidding', 'bien', 'biensûre', 'big', 'bigbox', 'bigger', 'biggest', 'bike', 'biker', 'bikers', 'bikes', 'biking', 'bill', 'billapparently', 'billed', 'billiards', 'billing', 'billoh', 'bills', 'bim', 'bin', 'bind', 'binder', 'binding', 'binds', 'binger', 'bins', 'bird', 'birds', 'birth', 'birthday', 'birthdays', 'birtthday', 'biryani', 'biscotti', 'biscuit', 'biscuits', 'bison', 'bisque', 'bit', 'bitch', 'bitches', 'bitchy', 'bite', 'bites', 'biting', 'bits', 'bitten', 'bitter', 'bitterness', 'bitty', 'bizarre', 'bièreendroit', 'bières', 'black', 'blackandwhite', 'blackberries', 'blackberry', 'blackened', 'blackjack', 'blades', 'blah', 'blame', 'blamed', 'blaming', 'blanc', 'blanche', 'blanches', 'bland', 'blandest', 'blank', 'blanket', 'blankets', 'blaring', 'blast', 'blasters', 'blasting', 'blatant', 'blatantly', 'bleach', 'bleachers', 'bleed', 'bleeding', 'blemishes', 'blend', 'blended', 'bless', 'blessing', 'blessings', 'bleu', 'blew', 'blind', 'blindside', 'blindthen', 'blink', 'bliss', 'blobs', 'block', 'blockage', 'blockbuster', 'blocked', 'blocking', 'blocks', 'blog', 'blond', 'blonde', 'blood', 'bloody', 'blossoms', 'blow', 'blown', 'blowout', 'blowouts', 'blows', 'blowyourmind', 'bluberry', 'blue', 'blueberries', 'blueberry', 'blueeyed', 'blues', 'bluff', 'blunder', 'blunt', 'bluray', 'blushing', 'bo', 'board', 'boarding', 'boards', 'boars', 'boasting', 'boasts', 'boat', 'boating', 'bob', 'boba', 'bobby', 'bobs', 'bocconcini', 'body', 'boggling', 'bogus', 'boil', 'boiled', 'boiling', 'boils', 'boisson', 'boissonun', 'bok', 'bola', 'bold', 'boldest', 'bologna', 'bolt', 'bolted', 'bomb', 'bombdotcom', 'bombers', 'bombs', 'bombsfizzy', 'bon', 'bonanza', 'bonavaitil', 'bond', 'bone', 'boneless', 'bones', 'boneyard', 'bongos', 'bonmême', 'bonne', 'bonnemais', 'bontout', 'bonus', 'boobs', 'booch', 'book', 'booked', 'booking', 'bookingsavailability', 'booklet', 'bookmark', 'books', 'boom', 'boot', 'booth', 'booths', 'booties', 'boots', 'booze', 'boozehounds', 'bop', 'boppers', 'bord', 'bordel', 'bordelaise', 'border', 'borderline', 'borders', 'bore', 'bored', 'boring', 'born', 'borrow', 'boss', 'bossboysbrefpersonne', 'boston', 'bother', 'bothered', 'bothering', 'bothers', 'bothersome', 'bottle', 'bottled', 'bottles', 'bottom', 'bottomless', 'bouché', 'bouffe', 'bouffejallais', 'bought', 'boughttransferred', 'bouillabaisse', 'bouilli', 'bouillon', 'boulder', 'bouldering', 'boulders', 'bounce', 'bouncer', 'bouncers', 'bouncing', 'bound', 'bouquet', 'bouquets', 'bourbon', 'bout', 'boutique', 'bowl', 'bowling', 'bowls', 'box', 'boxed', 'boxers', 'boxes', 'boxing', 'boxshe', 'boy', 'boyfriend', 'boyfriends', 'boys', 'boîte', 'bra', 'bracelet', 'braces', 'bracing', 'brag', 'braid', 'braiding', 'braids', 'brain', 'brainer', 'brains', 'brainstorming', 'braised', 'brake', 'brakes', 'branch', 'branches', 'brand', 'branded', 'brands', 'brandy', 'brasa', 'brass', 'brassy', 'brat', 'bratwurst', 'brave', 'braving', 'braz', 'bread', 'breading', 'breads', 'bready', 'break', 'breakage', 'breakby', 'breakdown', 'breakfast', 'breakfastbrunch', 'breakfasts', 'breaking', 'breaks', 'breakyourteeth', 'breast', 'breastfeeding', 'breasts', 'breath', 'breathe', 'breaths', 'breathtaking', 'bred', 'breeds', 'breeze', 'bref', 'brew', 'brewed', 'brewer', 'breweries', 'brewery', 'brewing', 'brews', 'brick', 'bridal', 'bride', 'bridezilla', 'bridge', 'brie', 'brief', 'bright', 'brightens', 'brilliant', 'brim', 'bring', 'bringing', 'brings', 'brining', 'bris', 'brisket', 'bro', 'broad', 'broadwalk', 'broccilli', 'broccoli', 'brocolis', 'broiler', 'broke', 'broken', 'brooches', 'broom', 'bros', 'broskis', 'broth', 'brother', 'brotherinlaw', 'brothers', 'brought', 'brow', 'brown', 'brownie', 'brownish', 'browns', 'brows', 'browse', 'browser', 'browsing', 'bruised', 'bruises', 'brule', 'brulea', 'brulee', 'brunch', 'bruncher', 'brunches', 'brunchlunchdinnerwhatever', 'brunettes', 'bruschetta', 'brush', 'brushed', 'brusque', 'brussel', 'brussels', 'brûlée', 'brûlées', 'bs', 'btc', 'btw', 'bu', 'bubbas', 'bubble', 'bubbles', 'bubbling', 'bubbly', 'buck', 'bucket', 'bucks', 'bud', 'buddhist', 'buddies', 'buddy', 'budge', 'budget', 'buds', 'buff', 'buffalo', 'buffer', 'buffet', 'buffets', 'buffoons', 'buffwax', 'bug', 'buggies', 'bugging', 'bugs', 'build', 'building', 'buildings', 'built', 'buisnes', 'bulalo', 'bulb', 'bulbs', 'bulging', 'bulgogi', 'bulk', 'bull', 'bullcrap', 'bulldog', 'bullet', 'bullets', 'bullshit', 'bullshitting', 'bullshityour', 'bully', 'bullying', 'bum', 'bummedwe', 'bummer', 'bumming', 'bump', 'bumper', 'bumping', 'bumpy', 'bums', 'bun', 'bunch', 'bunches', 'bundle', 'bundt', 'bundtinis', 'bungalow', 'bunk', 'bunkers', 'buns', 'bunt', 'burden', 'bureau', 'burg', 'burgatory', 'burger', 'burgerThe', 'burgers', 'burgerso', 'burgundy', 'buried', 'burmese', 'burn', 'burned', 'burner', 'burning', 'burnt', 'burrito', 'burritos', 'burro', 'bus', 'busboy', 'bushes', 'bushman', 'busier', 'busiest', 'busily', 'business', 'businesses', 'bussed', 'busser', 'bussers', 'bust', 'busted', 'busting', 'bustle', 'bustling', 'busy', 'busybody', 'busyness', 'butcher', 'butchered', 'butcredit', 'butt', 'butter', 'butterchicken', 'buttered', 'butterflies', 'buttermilk', 'butternut', 'buttery', 'buttfaced', 'button', 'buttons', 'buy', 'buyer', 'buyers', 'buying', 'buys', 'buyvegetables', 'buzz', 'buzzing', 'byaccording', 'byfar', 'bypassed', 'bête', 'bœuf', 'c', 'c2', 'ca', 'cab', 'cabana', 'cabbage', 'cabbies', 'cabeza', 'cabin', 'cabinet', 'cabinets', 'cabints', 'cable', 'cacao', 'cacher', 'caché', 'cackling', 'cacti', 'cactus', 'caddy', 'cadeau', 'cadet', 'caesar', 'cafe', 'cafes', 'cafeteria', 'cafeterialike', 'caffeinated', 'caffeine', 'caffeinefree', 'café', 'cage', 'cages', 'cahoots', 'caissièrecomment', 'cake', 'caked', 'cakes', 'cakesnothing', 'cakethe', 'calamari', 'calendar', 'caliber', 'calibrated', 'california', 'calimari', 'call', 'called', 'caller', 'callfree', 'calling', 'callnothing', 'callous', 'calls', 'callsmessages', 'callus', 'calluses', 'callwhich', 'calm', 'calmars', 'calmed', 'calming', 'calmly', 'calms', 'calorie', 'calories', 'calzones', 'came', 'camelback', 'camels', 'camera', 'cameras', 'camo', 'camouflaged', 'camper', 'camping', 'campingif', 'campus', 'canadian', 'canal', 'canals', 'cancel', 'canceled', 'canceling', 'cancellation', 'cancelled', 'cancelling', 'candied', 'candle', 'candles', 'candy', 'cane', 'canned', 'cannedboxed', 'cannoli', 'cannot', 'cans', 'cant', 'cantaloupe', 'cantonais', 'cantonnais', 'canvas', 'canyon', 'cap', 'capabilities', 'capability', 'capable', 'capacity', 'capers', 'capital', 'capotait', 'capps', 'cappuccino', 'cappuccinos', 'capris', 'capture', 'car', 'carafe', 'caramel', 'caramelization', 'caramelized', 'caramelizer', 'carb', 'carcasses', 'card', 'cardamom', 'cardboard', 'cardio', 'cardiologist', 'cards', 'care', 'cared', 'career', 'carefree', 'careful', 'carefully', 'carelessly', 'cares', 'cargo', 'caribbean', 'caring', 'carls', 'carmelized', 'carnations', 'carne', 'carniceria', 'carnitas', 'carnival', 'carnivore', 'carnivores', 'carpaccio', 'carpet', 'carpeting', 'carpets', 'carpool', 'carpooling', 'carrabbas', 'carried', 'carrier', 'carries', 'carrot', 'carrots', 'carry', 'carryout', 'cars', 'carscom', 'cart', 'carte', 'cartography', 'cartonsbut', 'cartoon', 'carts', 'cas', 'case', 'cases', 'cash', 'cashI', 'cashew', 'cashews', 'cashier', 'cashierbartender', 'cashiers', 'casing', 'casino', 'casinos', 'caskets', 'cassava', 'cassecroute', 'cassecroûte', 'cast', 'casual', 'casuallaid', 'casually', 'cat', 'catalog', 'catcalled', 'catch', 'catches', 'catching', 'categorized', 'category', 'cater', 'catered', 'caterer', 'catering', 'cateringticketsparking', 'caters', 'catheter', 'cats', 'caucasian', 'caught', 'cauliflower', 'caulking', 'causal', 'cause', 'caused', 'causes', 'causing', 'caution', 'cautious', 'cave', 'caviar', 'cavities', 'cavity', 'ce', 'ceasar', 'ceiling', 'ceilings', 'cela', 'celeb', 'celebeating', 'celebrate', 'celebrating', 'celebration', 'celebratory', 'celery', 'celey', 'celiac', 'cell', 'cellphone', 'cells', 'cellular', 'celui', 'cement', 'cemented', 'cent', 'center', 'centered', 'centers', 'centimeter', 'central', 'centrally', 'centre', 'cents', 'century', 'cereal', 'certain', 'certainly', 'certains', 'certificate', 'certification', 'certified', 'cest', 'cet', 'cette', 'ceux', 'ceviche', 'chacun', 'chai', 'chain', 'chains', 'chair', 'chairs', 'chairthey', 'chaise', 'chaisrs', 'chaleureuses', 'chaleureux', 'chalk', 'challenge', 'challenges', 'challenging', 'chambre', 'chambres', 'champagne', 'champignon', 'champignons', 'champion', 'chana', 'chance', 'chanceI', 'chanceand', 'chances', 'chandler', 'change', 'changed', 'changement', 'changent', 'changer', 'changes', 'changing', 'channel', 'channeling', 'channels', 'chanteurs', 'chants', 'character', 'characterfree', 'characteristic', 'characters', 'charbroiled', 'chard', 'charge', 'charged', 'charger', 'charges', 'charging', 'charismatically', 'charitable', 'charity', 'charlotte', 'charm', 'charmed', 'charming', 'charms', 'charred', 'chase', 'chased', 'chases', 'chasiu', 'chat', 'chatime', 'chats', 'chatted', 'chatter', 'chatting', 'chaud', 'chaude', 'chauffeur', 'chaîne', 'cheacked', 'cheap', 'cheaper', 'cheapest', 'cheapish', 'cheaply', 'cheat', 'cheated', 'cheats', 'check', 'checked', 'checkedin', 'checker', 'checkered', 'checkin', 'checking', 'checklist', 'checkout', 'checks', 'checkthat', 'checkup', 'cheek', 'cheerful', 'cheerfully', 'cheerleading', 'cheers', 'cheery', 'cheese', 'cheeseburger', 'cheeseburgers', 'cheesecake', 'cheesecakeno', 'cheeses', 'cheesey', 'cheesy', 'chef', 'chefI', 'chefs', 'chemical', 'chemicalfilled', 'cher', 'cheralors', 'cherchait', 'cherchant', 'cherries', 'cherry', 'chest', 'chevos', 'chevretomate', 'chew', 'chewed', 'chewing', 'chews', 'chewy', 'chez', 'chialez', 'chianti', 'chicago', 'chicken', 'chickenbeef', 'chickenetc', 'chickens', 'chickpea', 'child', 'childcare', 'childhood', 'childish', 'children', 'childrens', 'chile', 'chiles', 'chili', 'chill', 'chilled', 'chilli', 'chillies', 'chilling', 'chilly', 'chimichanga', 'chimichurri', 'chimney', 'chin', 'china', 'chinatown', 'chine', 'chinese', 'chip', 'chipotle', 'chipped', 'chips', 'chiraq', 'chiropractic', 'chiropractor', 'chit', 'chix', 'chocked', 'chocolat', 'chocolate', 'chocolately', 'chocolates', 'choice', 'choices', 'choisir', 'choix', 'choke', 'choked', 'choking', 'choose', 'choosing', 'choosy', 'chop', 'chopped', 'choppy', 'chops', 'chopstick', 'chopsticks', 'chord', 'choreographed', 'chores', 'chorizo', 'chose', 'choseje', 'chosen', 'choses', 'chotchke', 'chou', 'chow', 'chowder', 'choy', 'christmas', 'chronic', 'chuck', 'chump', 'chunk', 'chunks', 'chuntneys', 'church', 'churros', 'chute', 'chutneys', 'chutnies', 'ciabatta', 'cigarette', 'cigarettes', 'cigsare', 'cigsprobably', 'cigsthe', 'cilantro', 'cilantrocoriander', 'cindy', 'cinnabun', 'cinnamon', 'cinq', 'cinéma', 'cinémaen', 'cioppiono', 'circle', 'circleand', 'circles', 'circling', 'circular', 'circumstances', 'circus', 'cire', 'cirque', 'ciseaux', 'cities', 'citiesyou', 'citizen', 'citizens', 'citron', 'citronLe', 'citrus', 'city', 'civilized', 'clad', 'claim', 'claimed', 'claiming', 'claims', 'clair', 'clairement', 'clam', 'clams', 'clapping', 'clarify', 'clarifying', 'class', 'classes', 'classic', 'classical', 'classics', 'classiest', 'classiness', 'classique', 'classless', 'classy', 'claustrophobic', 'claw', 'clay', 'clean', 'cleanThats', 'cleaned', 'cleaner', 'cleaners', 'cleanest', 'cleaning', 'cleanliness', 'cleanly', 'cleans', 'cleanse', 'cleanses', 'clear', 'clearance', 'cleared', 'clearly', 'clerk', 'clerks', 'client', 'clientele', 'clienteles', 'clients', 'clientsgenre', 'clientèle', 'climate', 'climax', 'climb', 'climber', 'climbers', 'climbing', 'clinic', 'clinics', 'clinkc', 'clip', 'clipped', 'clipper', 'clippings', 'clock', 'clogged', 'clogs', 'clone', 'close', 'closed', 'closely', 'closer', 'closes', 'closest', 'closing', 'cloth', 'clothes', 'clothing', 'cloud', 'clouds', 'cloudy', 'cloves', 'clown', 'clowns', 'club', 'clubbing', 'clubgoers', 'clubhouse', 'clubs', 'clue', 'clueless', 'clump', 'clumps', 'clumpy', 'cluster', 'clusterfuck', 'cna', 'co', 'coach', 'coaches', 'coaching', 'coast', 'coat', 'coatcheck', 'coated', 'coating', 'coats', 'cobbler', 'cobblestone', 'cobs', 'cochonneries', 'cockroach', 'cockroaches', 'cocktail', 'cocktailcosmo', 'cocktails', 'cocktailsI', 'cocktailsall', 'cocky', 'cocoa', 'coconut', 'cod', 'code', 'codes', 'coding', 'coerce', 'coeur', 'coexist', 'coffe', 'coffee', 'coffeehouse', 'coffeemaker', 'coffees', 'cognac', 'coin', 'coincidental', 'coins', 'coke', 'cokePepsi', 'colada', 'cold', 'colder', 'coldest', 'coldhow', 'coldly', 'cole', 'coleslaw', 'collaborated', 'collaboration', 'collaborative', 'collar', 'collarand', 'collard', 'collars', 'colleague', 'collect', 'collected', 'collection', 'collections', 'collector', 'college', 'colleges', 'collegestudent', 'collegiate', 'collonade', 'colléeexcellent', 'cologne', 'colon', 'colonnade', 'color', 'colorful', 'coloring', 'colorist', 'colorists', 'colors', 'colour', 'coloured', 'column', 'com', 'coma', 'combative', 'combination', 'combinations', 'combined', 'combining', 'combo', 'combos', 'come', 'comeasyouare', 'comedian', 'comedy', 'comes', 'comfort', 'comfortable', 'comfortably', 'comforter', 'comforting', 'comfy', 'comfyathletic', 'comical', 'comics', 'coming', 'comingya', 'commande', 'commandedevinez', 'commandes', 'commandé', 'comme', 'commencions', 'commend', 'commended', 'comment', 'commented', 'comments', 'commerce', 'commercial', 'commercials', 'commission', 'commit', 'commitment', 'committing', 'commodes', 'commodity', 'common', 'communalshared', 'communicate', 'communicated', 'communication', 'communicative', 'communicator', 'community', 'commuter', 'comp', 'companies', 'companion', 'companions', 'company', 'companyI', 'companybe', 'companys', 'comparable', 'comparative', 'comparativement', 'compare', 'compareI', 'compared', 'compares', 'comparing', 'comparison', 'compassion', 'compatible', 'comped', 'compelled', 'compensate', 'compensated', 'compensatedhe', 'compensation', 'compete', 'competent', 'competing', 'competition', 'competitive', 'competitor', 'competitors', 'competly', 'comping', 'complain', 'complained', 'complaining', 'complains', 'complaint', 'complaints', 'complaintsby', 'complemented', 'complete', 'completed', 'completely', 'complex', 'complexes', 'complexity', 'complicated', 'complications', 'compliment', 'complimentary', 'complimented', 'complimenting', 'compliments', 'components', 'composition', 'comprenais', 'compressed', 'compressor', 'compris', 'comprisTu', 'comprised', 'compromise', 'compromised', 'compromises', 'compromising', 'comps', 'compte', 'comptoir', 'compton', 'computerbased', 'comrprised', 'con', 'conartists', 'conceal', 'conceded', 'concentrated', 'concept', 'concern', 'concerned', 'concerning', 'concerns', 'concert', 'concerts', 'concession', 'concessions', 'conclude', 'concluded', 'conclusion', 'concoction', 'concourses', 'concrete', 'concurrence', 'condensed', 'condescending', 'condiments', 'condition', 'conditioned', 'conditioning', 'conditions', 'condo', 'conduct', 'cone', 'cones', 'conference', 'confess', 'confidence', 'confident', 'confirm', 'confirmation', 'confirmed', 'confit', 'conflict', 'conflicts', 'confo', 'confused', 'confusing', 'confusion', 'congelée', 'conglomerates', 'congrats', 'congratulate', 'congratulated', 'conjunction', 'connaissances', 'connect', 'connected', 'connecting', 'connection', 'connections', 'connecté', 'conning', 'conniving', 'connoisseur', 'conquer', 'cons', 'conscious', 'consecutive', 'conseille', 'conservative', 'consider', 'considerable', 'considerably', 'considerate', 'consideration', 'considered', 'considering', 'considers', 'consignment', 'consignor', 'consignors', 'consist', 'consisted', 'consistency', 'consistent', 'consistentent', 'consistently', 'consisting', 'consists', 'console', 'consommer', 'conspiring', 'constant', 'constantly', 'construction', 'constructive', 'consult', 'consultant', 'consultation', 'consultations', 'consume', 'consumed', 'consumer', 'consumers', 'consuming', 'consumption', 'contact', 'contacted', 'contacting', 'contacts', 'contain', 'contained', 'container', 'containers', 'containing', 'contains', 'contaminate', 'contemplated', 'contemporary', 'contenders', 'content', 'contentment', 'contents', 'contests', 'context', 'continent', 'continually', 'continue', 'continued', 'continues', 'continuing', 'continuously', 'contract', 'contracted', 'contractor', 'contractors', 'contractunless', 'contrast', 'contre', 'contribute', 'contribution', 'control', 'controller', 'controls', 'contruction', 'convenience', 'convenient', 'convenienti', 'conveniently', 'conventions', 'conversation', 'conversational', 'conversations', 'conversing', 'converted', 'converting', 'conveying', 'conveys', 'convince', 'convinced', 'convincing', 'convinient', 'conviviale', 'convo', 'cook', 'cookbooks', 'cooked', 'cookie', 'cookies', 'cooking', 'cooks', 'cool', 'coolant', 'cooler', 'coolers', 'coolest', 'cooling', 'coolness', 'cools', 'coordinator', 'copay', 'copied', 'copies', 'copper', 'cops', 'copy', 'core', 'cores', 'coriander', 'corking', 'corn', 'cornbread', 'corner', 'corners', 'corns', 'corporate', 'corporateI', 'corporatecool', 'corporation', 'correct', 'correcte', 'corrected', 'correcting', 'corrective', 'correctly', 'correctsans', 'correspondence', 'corresponding', 'corridor', 'corrupted', 'cosby', 'cosiest', 'cosmetic', 'cost', 'costing', 'costly', 'costlyat', 'costs', 'costume', 'costumer', 'cosy', 'cotta', 'cotton', 'couch', 'couches', 'couché', 'cough', 'coughing', 'could', 'couldnt', 'couldve', 'council', 'count', 'counted', 'counter', 'counterfeits', 'counters', 'counting', 'countless', 'countries', 'country', 'countryrun', 'countryside', 'counts', 'county', 'coup', 'coupe', 'coupes', 'couple', 'coupled', 'couples', 'couplesgroups', 'couplet', 'coupon', 'coupons', 'courage', 'courant', 'couriers', 'course', 'courseEthically', 'courseIll', 'courses', 'court', 'courted', 'courteous', 'courtesy', 'courtois', 'courts', 'courtyard', 'courvosier', 'cous', 'cousins', 'cover', 'covered', 'covering', 'coverings', 'covers', 'cow', 'cowfish', 'cowork', 'coworker', 'coworkers', 'coworking', 'cows', 'coy', 'coyote', 'coz', 'cozied', 'cozy', 'coûter', 'coûté', 'crab', 'crabby', 'crack', 'cracked', 'cracker', 'crackers', 'cracklings', 'crackly', 'cracks', 'craft', 'crafted', 'crafting', 'crafts', 'craftspeople', 'crafty', 'craig', 'craigslist', 'crammed', 'cramped', 'cramps', 'cranberry', 'crank', 'cranky', 'crannies', 'crap', 'crapped', 'crapper', 'crappiest', 'crappy', 'craps', 'crave', 'craved', 'craveworthy', 'craving', 'cravings', 'craw', 'crawler', 'crawlers', 'crawling', 'craziest', 'craziness', 'crazy', 'cream', 'creambased', 'creamers', 'creamgood', 'creamlol', 'creams', 'creamsicle', 'creamy', 'create', 'created', 'creates', 'creating', 'creations', 'creationsseafood', 'creative', 'creativity', 'creators', 'creatures', 'credentials', 'credit', 'creditdebit', 'credited', 'creek', 'creep', 'creeper', 'creepers', 'creeping', 'creeps', 'creepy', 'creme', 'creole', 'crepe', 'crepelike', 'creperie', 'crepes', 'crescent', 'crest', 'crevettes', 'crew', 'crib', 'cries', 'crinkle', 'crisis', 'crisp', 'crispiness', 'crispy', 'cristo', 'criteria', 'criticism', 'critique', 'critiquing', 'critter', 'croire', 'crois', 'croissant', 'cronuts', 'crooked', 'crooks', 'croque', 'cross', 'crossed', 'crossing', 'crossreferencing', 'crosssection', 'croustillant', 'croustillantes', 'croustillants', 'crouton', 'croutons', 'crowd', 'crowded', 'crowdit', 'crowds', 'crown', 'croyais', 'cru', 'cruddy', 'cruise', 'cruising', 'crumble', 'crumbles', 'crumbling', 'crumbly', 'crumbs', 'crumpets', 'crunch', 'crunchy', 'crushed', 'crust', 'crusted', 'crustier', 'crusts', 'crusty', 'cry', 'crying', 'cryptic', 'crystal', 'crystals', 'crème', 'crêpe', 'cubby', 'cube', 'cubes', 'cucumber', 'cucumbers', 'cuddle', 'cue', 'cuillère', 'cuisine', 'cuit', 'cuitlacoche', 'cukes', 'culinary', 'cultivate', 'cultivating', 'cultlike', 'cultural', 'culture', 'cultured', 'cultures', 'culvers', 'cumin', 'cup', 'cupcake', 'cupcakes', 'cupcakesdespite', 'cups', 'curb', 'curdled', 'curds', 'cured', 'curiosity', 'curious', 'curl', 'curled', 'curly', 'currency', 'current', 'currently', 'curried', 'curry', 'curse', 'curses', 'cursing', 'cursory', 'curt', 'curtain', 'curtains', 'curtainsdirty', 'cus', 'cushions', 'cushy', 'cussing', 'custard', 'custom', 'customary', 'customer', 'customerLeft', 'customers', 'customersIm', 'customersto', 'customizable', 'customization', 'customize', 'customizing', 'customs', 'custumer', 'cut', 'cute', 'cutesy', 'cuticle', 'cuticles', 'cutlet', 'cuts', 'cutting', 'cuz', 'cycling', 'cétait', 'dAlexandre', 'da', 'dab', 'dabbed', 'dabombcom', 'dad', 'dads', 'dahi', 'daily', 'dairy', 'dalcool', 'daller', 'dam', 'damage', 'damaged', 'dambiance', 'damis', 'dammit', 'damn', 'damned', 'damp', 'dance', 'dancefloor', 'dancers', 'dancewear', 'dancing', 'dandruff', 'dandy', 'dane', 'danger', 'dangerous', 'dangers', 'danish', 'dans', 'dappeler', 'dapper', 'dare', 'daring', 'dark', 'darkened', 'darker', 'darling', 'darn', 'dart', 'darts', 'dashboard', 'dashi', 'dassiette', 'date', 'dated', 'dates', 'dattendre', 'daughter', 'daughters', 'dauto', 'dautres', 'davance', 'davanceaussi', 'davances', 'davoir', 'day', 'dayI', 'daycare', 'daycareboarding', 'daynight', 'days', 'daysoff', 'dayuuumthatssweet', 'dazzled', 'de', 'dead', 'deadlinemy', 'deadnobody', 'deaf', 'deal', 'dealer', 'dealers', 'dealership', 'dealerships', 'dealing', 'deals', 'dealt', 'dear', 'dearest', 'dearly', 'death', 'deathly', 'debate', 'debated', 'debauchery', 'debit', 'debitcredit', 'debris', 'debus', 'decade', 'decadent', 'decades', 'decaf', 'decanter', 'decapitated', 'decatur', 'deceased', 'deceive', 'deceivingly', 'decency', 'decent', 'decide', 'decided', 'decides', 'deciding', 'decision', 'decisions', 'deck', 'decked', 'declare', 'declares', 'decline', 'declined', 'deco', 'decode', 'decor', 'decorate', 'decorated', 'decorating', 'decoration', 'decorations', 'decorative', 'decorbut', 'decreased', 'dedans', 'dedicated', 'dedication', 'deduct', 'deducted', 'deductible', 'dee', 'deem', 'deemed', 'deep', 'deeper', 'deepfried', 'deeply', 'deer', 'default', 'defeated', 'defective', 'defended', 'defense', 'defensive', 'deff', 'defiantly', 'definately', 'defined', 'defines', 'definite', 'definitely', 'definition', 'definitive', 'deformed', 'degrading', 'degree', 'degrees', 'deja', 'delay', 'delayed', 'delaying', 'delcious', 'delectable', 'deli', 'deliberate', 'deliberately', 'delicate', 'delices', 'delicieux', 'delicioso', 'delicious', 'deliciousIt', 'deliciousYou', 'deliciously', 'deliciousness', 'delicioussatisfying', 'delight', 'delighted', 'delightful', 'delightfully', 'delious', 'delis', 'delish', 'deliver', 'delivered', 'deliveries', 'delivering', 'delivers', 'delivery', 'delusional', 'delusions', 'deluxe', 'demand', 'demande', 'demanded', 'demandent', 'demander', 'demanding', 'demandé', 'demeanor', 'demi', 'demonstrates', 'demonstrating', 'demoted', 'den', 'dendroit', 'dendroitset', 'denied', 'denies', 'dense', 'dental', 'dentist', 'dentists', 'deny', 'depart', 'departed', 'department', 'depend', 'dependable', 'depending', 'deplorable', 'deploy', 'deposit', 'deposits', 'depressed', 'depressing', 'dept', 'depth', 'depths', 'depts', 'depuis', 'dermatologist', 'dernière', 'derrière', 'des', 'desaster', 'descendants', 'descends', 'descent', 'describe', 'described', 'describes', 'describing', 'description', 'descriptive', 'desert', 'deserted', 'deserve', 'deserved', 'deserves', 'design', 'designated', 'designed', 'designer', 'designers', 'designs', 'desire', 'desired', 'desiredI', 'desk', 'desperate', 'desperately', 'despicable', 'despite', 'dessayer', 'dessert', 'desserts', 'destination', 'destined', 'destroy', 'destroyed', 'detach', 'detail', 'detailed', 'detailing', 'details', 'detect', 'detected', 'detector', 'deteriorated', 'deterioration', 'determine', 'determined', 'deterred', 'detour', 'detracts', 'detris', 'deux', 'deuxième', 'devaient', 'devais', 'devant', 'devastated', 'develop', 'developed', 'developing', 'development', 'devez', 'device', 'devious', 'devour', 'devoured', 'dhabitudesLes', 'dhuile', 'dhôte', 'diabetic', 'diablo', 'diagnose', 'diagnosed', 'diagnosis', 'diamond', 'diaper', 'diarrhea', 'dibs', 'dick', 'dicks', 'dictionary', 'didnt', 'die', 'died', 'diehard', 'dies', 'diet', 'dietary', 'dif', 'difference', 'differencethat', 'different', 'differentiates', 'differently', 'difficile', 'difficult', 'différente', 'différentes', 'différents', 'dig', 'digging', 'digress', 'dihareia', 'dijon', 'diligent', 'dillué', 'dilute', 'diluted', 'dim', 'dime', 'diming', 'diminished', 'dimples', 'dine', 'dined', 'dinein', 'diner', 'diners', 'dinging', 'dingrédients', 'dingy', 'dining', 'dink', 'dinky', 'dinner', 'dinners', 'dinning', 'dinterrupteurs', 'dip', 'diploma', 'dipped', 'dipping', 'dips', 'dipso', 'dipsooo', 'dirait', 'dire', 'direct', 'directed', 'directement', 'directing', 'direction', 'directions', 'directly', 'director', 'directors', 'direje', 'dirt', 'dirtier', 'dirty', 'dis', 'disabled', 'disagree', 'disappear', 'disappeared', 'disappears', 'disappoint', 'disappointed', 'disappointing', 'disappointment', 'disappoints', 'disarray', 'disaster', 'disasters', 'disastrous', 'disbelief', 'discarded', 'discharge', 'discharged', 'discharging', 'disclaimer', 'disclose', 'disclosure', 'disco', 'disconnected', 'discontinued', 'discount', 'discounted', 'discounts', 'discourage', 'discouraged', 'discouraging', 'discover', 'discovered', 'discovering', 'discrepancy', 'discriminated', 'discriminates', 'discuss', 'discussed', 'discusses', 'discussion', 'discussions', 'disease', 'diseased', 'diseaseridden', 'disenchanted', 'disenfranchised', 'disgrace', 'disgruntled', 'disguisesuch', 'disgusted', 'disgusting', 'disgusts', 'dish', 'disheartening', 'dishes', 'dishesetc', 'dishing', 'dishonest', 'dishonesty', 'disillusioned', 'disinfected', 'disjointed', 'dislike', 'disliked', 'dislikes', 'dismal', 'dismay', 'dismissed', 'dismissive', 'disorganized', 'disparatelyHe', 'dispatcher', 'display', 'displayed', 'displays', 'displeased', 'disposal', 'disposition', 'dispositions', 'disppointing', 'dispute', 'disregard', 'disrepair', 'disrespect', 'disrespected', 'disrespectful', 'disrupting', 'dissapoint', 'dissapointed', 'dissapointing', 'dissapointment', 'dissappointed', 'dissatisfaction', 'dissatisfied', 'distance', 'distasteful', 'distinct', 'distinction', 'distinctive', 'distract', 'distracted', 'distraught', 'distressed', 'district', 'disturb', 'disturbance', 'disturbed', 'disturbing', 'dit', 'ditNONNN', 'ditch', 'ditched', 'dive', 'divers', 'diverse', 'diversifier', 'diversité', 'divertissante', 'dives', 'diveworse', 'divey', 'divide', 'divider', 'divine', 'divinely', 'divots', 'divulging', 'dizziness', 'dizzy', 'dlish', 'dlu', 'doable', 'doc', 'docharge', 'docket', 'docs', 'doctor', 'doctors', 'documenting', 'documents', 'dodge', 'doesnt', 'dog', 'dogcat', 'dogdog', 'dogfriendly', 'doggie', 'doggies', 'dogs', 'dol', 'dole', 'doll', 'dollar', 'dollars', 'dollarstore', 'dolly', 'dolmade', 'dolphins', 'domestic', 'dominant', 'dominate', 'donate', 'donating', 'donation', 'donc', 'done', 'donedone', 'donethe', 'dong', 'donne', 'donner', 'donnez', 'donné', 'donnée', 'dont', 'donut', 'donuts', 'donutsso', 'doo', 'doofuses', 'door', 'doormen', 'doors', 'doorslash', 'doorwe', 'dopey', 'dormitory', 'dosa', 'dosas', 'dose', 'dosed', 'dots', 'double', 'doubled', 'doubledouble', 'doubledown', 'doubles', 'doubt', 'doubting', 'douchebaggery', 'douchebags', 'douchey', 'douchy', 'dough', 'doughnut', 'doughnuts', 'doughy', 'doula', 'douse', 'doused', 'dove', 'downCant', 'downed', 'downers', 'downerville', 'downfall', 'downhill', 'downhome', 'download', 'downpayment', 'downright', 'downside', 'downstairs', 'downtown', 'downturn', 'dozen', 'dozens', 'dr', 'drab', 'draft', 'drafted', 'drafts', 'drag', 'dragged', 'dragging', 'dragon', 'drain', 'draining', 'drains', 'drama', 'dramatic', 'drank', 'draped', 'drastic', 'drastically', 'draw', 'drawback', 'drawer', 'drawers', 'drawing', 'drawn', 'dread', 'dreading', 'dream', 'dreaming', 'dreams', 'dreamt', 'dreary', 'drenched', 'dress', 'dressed', 'dresser', 'dressers', 'dresses', 'dressing', 'dressings', 'dried', 'drier', 'dries', 'driest', 'drill', 'drilling', 'drink', 'drinkall', 'drinker', 'drinkers', 'drinkfood', 'drinking', 'drinks', 'drinkwith', 'drinkyeah', 'drip', 'dripped', 'dripping', 'drippings', 'drips', 'drive', 'driveThur', 'driven', 'driver', 'drivers', 'drivethrough', 'drivethru', 'driveway', 'driving', 'drizzle', 'drizzled', 'droit', 'drone', 'drooling', 'drop', 'dropin', 'dropouts', 'dropped', 'dropping', 'drops', 'drove', 'drown', 'drowning', 'drug', 'drugs', 'drum', 'drummers', 'drums', 'drumslots', 'drumstick', 'drumsticks', 'drunk', 'drunkcrash', 'drunken', 'drunkenly', 'drunkenness', 'drunks', 'dry', 'drycleaning', 'dryer', 'drying', 'dryness', 'du', 'dubious', 'duchess', 'duck', 'dud', 'dude', 'dudes', 'due', 'dull', 'dumb', 'dumbest', 'dumbfounded', 'dump', 'dumpavoid', 'dumped', 'dumping', 'dumplings', 'dun', 'dunces', 'dune', 'dunked', 'dur', 'durable', 'dust', 'dusty', 'dutch', 'duties', 'duty', 'dvd', 'dy', 'dye', 'dyed', 'dying', 'dynamo', 'dysfunctional', 'débauche', 'début', 'décembre', 'décider', 'décidé', 'décomais', 'décor', 'découverte', 'découvrir', 'déguster', 'déjeuner', 'déjà', 'délais', 'délice', 'délicieux', 'déplacer', 'dérange', 'déroule', 'désert', 'détestait', 'dîner', 'dû', 'e', 'e2e', 'eager', 'eagerly', 'eagerness', 'ear', 'earful', 'earlier', 'early', 'earlygot', 'earn', 'earned', 'earning', 'earpiece', 'earrings', 'ears', 'earshot', 'earth', 'earthy', 'earwigs', 'ease', 'easier', 'easiest', 'easily', 'easilyassembled', 'east', 'eastern', 'easy', 'eat', 'eaten', 'eater', 'eateries', 'eaters', 'eatery', 'eatin', 'eating', 'eats', 'eats24', 'eaves', 'eclectic', 'eco', 'economic', 'economy', 'ecrivant', 'ecstatic', 'edamame', 'edammae', 'edge', 'edges', 'edible', 'edibles', 'edit', 'edited', 'editing', 'edition', 'educates', 'education', 'eel', 'eff', 'effeciency', 'effect', 'effectivement', 'effectivementun', 'efficent', 'efficiency', 'efficient', 'efficiently', 'effin', 'effing', 'effort', 'efforts', 'eg', 'egg', 'eggplant', 'eggplantred', 'eggs', 'eggsized', 'eggspring', 'ego', 'eh', 'eher', 'eight', 'eighth', 'ein', 'either', 'eitherListed', 'el', 'elaborate', 'elated', 'elderly', 'elders', 'electric', 'electronically', 'electronics', 'elegance', 'elegant', 'element', 'elements', 'elevated', 'elevation', 'elevator', 'elevatorripped', 'elevators', 'elevatorsbarefoot', 'elf', 'eligible', 'elite', 'elle', 'elles', 'elope', 'else', 'elseparking', 'elsethis', 'elsewhere', 'em', 'email', 'emailed', 'emails', 'emailtext', 'embarassing', 'embark', 'embarrassed', 'embarrassing', 'embarrassment', 'embellishing', 'embellishments', 'embodies', 'embraced', 'embroidery', 'emerge', 'emerged', 'emergencies', 'emergency', 'emissions', 'emo', 'emoji', 'emotional', 'emotions', 'empanadas', 'empanadasAlors', 'empathetic', 'empathic', 'empathize', 'empathy', 'emphasis', 'emphatic', 'emplacement', 'employ', 'employed', 'employee', 'employeeand', 'employeeclass', 'employees', 'employers', 'employs', 'employés', 'emporter', 'empowered', 'emptied', 'empty', 'en', 'enchanting', 'enchilada', 'enchiladas', 'encore', 'encounter', 'encountered', 'encounters', 'encourage', 'encouraged', 'encouragement', 'encouraging', 'end', 'endeavors', 'ended', 'ending', 'endless', 'endormi', 'endorsement', 'endowed', 'endroit', 'ends', 'endsOh', 'endsyeah', 'endtoend', 'endure', 'endured', 'endures', 'enemies', 'enemy', 'energetic', 'energy', 'enfin', 'enforcement', 'engage', 'engaged', 'engagement', 'engagements', 'engaging', 'enganging', 'engender', 'engine', 'engineand', 'engineering', 'english', 'enhance', 'enhancements', 'enjoy', 'enjoyable', 'enjoyed', 'enjoying', 'enormous', 'enough', 'enoughFinally', 'enraged', 'enrollment', 'ensoleillé', 'ensuite', 'ensure', 'ensured', 'ensures', 'ensuring', 'entailed', 'enter', 'entered', 'entering', 'enters', 'entertained', 'entertaining', 'entertainment', 'enthusiasm', 'enthusiast', 'enthusiastic', 'enthusiasts', 'entire', 'entirely', 'entirety', 'entitlement', 'entrance', 'entre', 'entree', 'entrees', 'entres', 'entretenue', 'entry', 'entrée', 'entrées', 'envelop', 'envelope', 'enveloped', 'envelopes', 'envers', 'envie', 'enviroment', 'environment', 'environmentally', 'environs', 'eos', 'epic', 'episode', 'epitome', 'equal', 'equally', 'equates', 'equipment', 'equivalent', 'er', 'eras', 'erase', 'erasing', 'err', 'errands', 'erreur', 'error', 'errors', 'escalate', 'escalators', 'escape', 'escarole', 'escorted', 'escrow', 'esp', 'espace', 'especially', 'espresso', 'espressos', 'essayer', 'essayé', 'essence', 'essential', 'essentially', 'est', 'establish', 'established', 'establishment', 'establishments', 'estate', 'esthetician', 'esthéticiennes', 'estimate', 'estimated', 'estimating', 'et', 'eta', 'etaient', 'etc', 'etcI', 'etching', 'etcis', 'etcshe', 'etcthe', 'etcyet', 'ethical', 'ethnic', 'ethnicities', 'etiquette', 'etouffee', 'eu', 'eurotea', 'euthanize', 'evaluated', 'evaporated', 'even', 'evened', 'evening', 'eveningmost', 'evenings', 'evenly', 'evenong', 'event', 'events', 'eventsjust', 'eventsoverall', 'eventually', 'ever', 'everday', 'evermoving', 'every', 'everybody', 'everyday', 'everyone', 'everyones', 'everyoneshopshere', 'everything', 'everythings', 'everywhere', 'ew', 'ewww', 'exact', 'exactly', 'exactlyMy', 'exaggerating', 'exaggeration', 'exam', 'examine', 'examined', 'example', 'examples', 'exceed', 'exceeded', 'exceeds', 'excellent', 'excellents', 'except', 'exception', 'exceptional', 'exceptionally', 'excessive', 'exchange', 'exchanged', 'exchanges', 'exchanging', 'excite', 'excited', 'excitedIts', 'excitedly', 'excitement', 'exciting', 'excuse', 'excuses', 'excusesno', 'excusé', 'execute', 'executed', 'execution', 'exercise', 'exercising', 'exhaust', 'exhibit', 'exhibits', 'exist', 'existed', 'existedANYWAY', 'existence', 'existent', 'existing', 'exists', 'exit', 'exited', 'exits', 'exorbitant', 'exotic', 'expand', 'expanding', 'expansive', 'expect', 'expectantly', 'expectation', 'expectations', 'expectationsthis', 'expected', 'expecting', 'expediency', 'expedited', 'expense', 'expenses', 'expensive', 'experience', 'experienceIm', 'experienced', 'experiences', 'experiencing', 'experiment', 'expert', 'expertise', 'expertly', 'experts', 'expiration', 'expire', 'expired', 'expires', 'explain', 'explained', 'explaining', 'explains', 'explanation', 'explanations', 'explanationthere', 'explique', 'expliqué', 'explore', 'exploring', 'explosion', 'exposed', 'exposition', 'express', 'expressed', 'expression', 'expressions', 'expérience', 'exquisite', 'extend', 'extended', 'extension', 'extensions', 'extensive', 'exterior', 'exteriors', 'externship', 'extolling', 'extra', 'extracted', 'extracts', 'extraordinaire', 'extraordinary', 'extras', 'extravagant', 'extreme', 'extremely', 'extremes', 'extremly', 'exuberant', 'exudes', 'exuding', 'eye', 'eyeball', 'eyebrow', 'eyebrows', 'eyed', 'eyelash', 'eyelashes', 'eyes', 'f', 'fabric', 'fabrics', 'fabuleux', 'fabulous', 'face', 'faces', 'facial', 'facials', 'facile', 'facility', 'facing', 'facr', 'fact', 'factgoing', 'factly', 'factor', 'factored', 'factories', 'factors', 'factory', 'facts', 'facture', 'faculty', 'fade', 'fag', 'fagioli', 'fail', 'failed', 'failing', 'fails', 'failure', 'faim', 'fair', 'faire', 'fairly', 'fairness', 'fairways', 'fairy', 'fait', 'faites', 'faith', 'fajitas', 'fake', 'falafel', 'fall', 'fallait', 'fallen', 'falling', 'fallofthebone', 'falls', 'false', 'falsely', 'fam', 'fameux', 'familiar', 'familiarity', 'familiarize', 'families', 'family', 'familyevent', 'familyfriendly', 'familyrun', 'familys', 'familyshell', 'famous', 'fan', 'fanatic', 'fanatics', 'fancier', 'fancy', 'fangirling', 'fans', 'fantastic', 'fantasticade', 'far', 'farWe', 'fare', 'farm', 'farooj', 'farther', 'farthest', 'fary', 'fascinates', 'fashion', 'fasse', 'fast', 'faster', 'fastfood', 'fat', 'fate', 'father', 'fatherinlaw', 'fathers', 'fathom', 'fatigue', 'fattiness', 'fatty', 'fault', 'faulted', 'faut', 'faute', 'faux', 'fauxrattan', 'fav', 'fave', 'faves', 'favor', 'favorite', 'favorites', 'favoritesmake', 'favour', 'favourite', 'faxed', 'fb', 'fe', 'fear', 'fearing', 'fears', 'feast', 'feasting', 'feature', 'featured', 'features', 'featuring', 'feces', 'fed', 'fedex', 'fedora', 'fee', 'feed', 'feedback', 'feeding', 'feel', 'feeling', 'feelings', 'feels', 'fees', 'feet', 'feetand', 'felines', 'fell', 'fellow', 'felt', 'female', 'females', 'feminine', 'femur', 'fenced', 'fenders', 'fennel', 'ferait', 'fermaient', 'ferme', 'fermés', 'fertility', 'fesses', 'fest', 'festival', 'festivals', 'feta', 'fettuccine', 'fettuccineany', 'fettucine', 'fetuses', 'feuille', 'fever', 'fi', 'fiance', 'fiancee', 'fiancé', 'fiancés', 'fiasco', 'field', 'fiesta', 'fifteen', 'fifth', 'fifths', 'fifty', 'fig', 'fight', 'fighting', 'fights', 'fightwait', 'figure', 'figured', 'figures', 'fijoles', 'fil', 'file', 'filed', 'filet', 'filibertos', 'filing', 'filipino', 'fill', 'fille', 'filled', 'filler', 'filling', 'fillingno', 'fillings', 'fillout', 'fills', 'film', 'films', 'filter', 'filtering', 'filters', 'filth', 'filthy', 'final', 'finale', 'finally', 'finance', 'financed', 'financial', 'financing', 'find', 'finding', 'findings', 'finds', 'fine', 'fined', 'finer', 'finest', 'finger', 'fingerprints', 'fingers', 'fini', 'finish', 'finished', 'finishedbecause', 'finishednot', 'finishing', 'fire', 'fired', 'firey', 'firm', 'firmly', 'first', 'firstand', 'firstname', 'firstworldproblems', 'fish', 'fishballs', 'fist', 'fit', 'fitchburg', 'fitness', 'fits', 'fitted', 'fitting', 'five', 'fiveminute', 'fivestar', 'fix', 'fixation', 'fixe', 'fixed', 'fixing', 'fixreplace', 'fixso', 'fixture', 'fixtures', 'flabbergasted', 'flag', 'flagged', 'flair', 'flaked', 'flakes', 'flaky', 'flame', 'flan', 'flank', 'flap', 'flare', 'flash', 'flashes', 'flashing', 'flashlights', 'flashthis', 'flat', 'flatbread', 'flatter', 'flattering', 'flavor', 'flavorMcdonalds', 'flavored', 'flavorful', 'flavorinfuse', 'flavoring', 'flavorless', 'flavors', 'flavorsreally', 'flavour', 'flavoured', 'flavourful', 'flavouring', 'flavourless', 'flavours', 'flawless', 'flawlessly', 'flea', 'fleek', 'flesh', 'fleuve', 'flew', 'flexibility', 'flier', 'fliers', 'flies', 'flight', 'flights', 'flimsy', 'flinching', 'flings', 'flip', 'flipped', 'flirting', 'floating', 'flocking', 'flooded', 'floor', 'flooring', 'floors', 'flop', 'floppy', 'flops', 'floral', 'florentine', 'florist', 'florists', 'flossy', 'flour', 'flourescent', 'floury', 'flow', 'flower', 'flowers', 'flowing', 'flown', 'flows', 'flu', 'fluffy', 'fluids', 'fluke', 'flukes', 'flush', 'flushed', 'fly', 'flybytheseatofwhateverthecheffeelslikewhippingup', 'flyer', 'flying', 'focaccia', 'foccaccia', 'focus', 'focused', 'fodot', 'fogged', 'foie', 'foil', 'foils', 'fois', 'foisEn', 'fold', 'folded', 'folder', 'folks', 'folksthis', 'follicle', 'follow', 'followed', 'follower', 'followers', 'following', 'followup', 'fond', 'fondant', 'fondu', 'fondue', 'font', 'food', 'foodOH', 'foodSexist', 'foodcourt', 'foodeverything', 'foodhe', 'foodie', 'foodies', 'foodlike', 'foodora', 'foods', 'foodyou', 'fool', 'fooled', 'foood', 'foot', 'football', 'footlong', 'foray', 'forbid', 'force', 'forced', 'forcing', 'ford', 'forehead', 'foreign', 'foremost', 'foremostthe', 'foreseeable', 'forever', 'forewarned', 'forget', 'forgettable', 'forgetting', 'forgive', 'forgiving', 'forgot', 'forgotten', 'fork', 'forkfull', 'forks', 'form', 'formal', 'format', 'former', 'forms', 'formula', 'fortement', 'forth', 'fortunate', 'fortune', 'forty', 'forward', 'foster', 'foucest', 'fought', 'foul', 'found', 'foundations', 'foundreturned', 'fountain', 'fountains', 'four', 'fourni', 'fourth', 'fox', 'fracture', 'fractured', 'fragrant', 'frais', 'fraispour', 'frame', 'framed', 'framing', 'franchise', 'frankly', 'franklyladies', 'frantically', 'française', 'frat', 'fraud', 'frayed', 'frazzled', 'fraîcheur', 'freak', 'freaked', 'freakin', 'freaking', 'freaky', 'free', 'freely', 'freestyle', 'freeway', 'freeze', 'freezer', 'freezing', 'french', 'frenzy', 'frequent', 'frequented', 'frequenting', 'frequently', 'frequentlyor', 'fresh', 'freshcut', 'freshener', 'fresher', 'freshest', 'freshly', 'freshman', 'freshness', 'fret', 'freundlicher', 'friday', 'fridge', 'fridges', 'fried', 'friedthen', 'friend', 'friendbridetobe', 'friendgo', 'friendhes', 'friendlier', 'friendliest', 'friendliness', 'friendly', 'friends', 'friendsfamily', 'friendsit', 'fries', 'friesgood', 'friggin', 'frightening', 'frikn', 'frills', 'fringe', 'frisee', 'frisun', 'frites', 'fritter', 'frittes', 'frizzy', 'fro', 'frogs', 'froid', 'front', 'fronts', 'froozemicrowaved', 'frosting', 'frostings', 'frou', 'froyo', 'frozen', 'fruit', 'fruits', 'fruity', 'frustrated', 'frustrating', 'frustratingly', 'frustration', 'fry', 'fryer', 'frying', 'fryolator', 'fréquenté', 'ft', 'fucked', 'fuckers', 'fuckin', 'fucking', 'fudge', 'fuel', 'fulfill', 'fulfilled', 'full', 'fullblown', 'fulll', 'fullsize', 'fulltime', 'fully', 'fumes', 'fun', 'function', 'fundamentals', 'fundido', 'fundraiser', 'fundraisers', 'fundraising', 'funds', 'funghi', 'fungus', 'funk', 'funkadelic', 'funky', 'funnel', 'funneling', 'funny', 'fur', 'furious', 'furiously', 'furnished', 'furnishing', 'furnishings', 'furniture', 'furry', 'furtherat', 'furthermore', 'fuse', 'fusion', 'fuss', 'fussy', 'futher', 'future', 'fword', 'fête', 'fêté', 'gag', 'gaggle', 'gain', 'gained', 'gaining', 'galaxy', 'gall', 'gallery', 'galling', 'gallo', 'gallon', 'gals', 'gamble', 'gambler', 'gambling', 'game', 'games', 'gaming', 'gander', 'gang', 'gar', 'garage', 'garbage', 'garbagemaking', 'garden', 'gardenfarm', 'gardening', 'garlic', 'garlicky', 'garlicy', 'garment', 'garnir', 'garnish', 'garnished', 'garnishes', 'garniture', 'gars', 'gas', 'gasp', 'gasping', 'gaspthis', 'gastronomie', 'gate', 'gated', 'gather', 'gathered', 'gathering', 'gaudy', 'gaul', 'gave', 'gawk', 'gawking', 'gear', 'gee', 'geeky', 'gel', 'gelatinous', 'gelato', 'gem', 'gems', 'gender', 'general', 'generalI', 'generally', 'generations', 'generic', 'generics', 'generosity', 'generous', 'generously', 'genius', 'geniusespecially', 'genre', 'genres', 'gens', 'gentil', 'gentilsles', 'gentle', 'gentleman', 'gentlemen', 'gentrification', 'genuine', 'genuinely', 'genuineness', 'geriatric', 'gesture', 'gestures', 'get', 'getaway', 'getaways', 'getcha', 'gets', 'getting', 'gf', 'ghee', 'ghetto', 'ghost', 'giant', 'gift', 'gifts', 'gig', 'gigabytes', 'gigantic', 'giggle', 'giggled', 'gimmick', 'gimmicky', 'gin', 'ginerale', 'ginger', 'gingerbread', 'ginormous', 'giraffe', 'girl', 'girlfriend', 'girlfriends', 'girlie', 'girls', 'gist', 'give', 'giveaways', 'given', 'gives', 'giving', 'glad', 'gladly', 'gladyesterday', 'glamour', 'glance', 'glanced', 'glancing', 'glared', 'glass', 'glassencased', 'glasses', 'glassware', 'glasswhich', 'glaze', 'glazes', 'glimpse', 'glimpsed', 'glistening', 'glitch', 'glittery', 'glitz', 'glo', 'gloated', 'global', 'globe', 'globes', 'gloomy', 'glory', 'glossed', 'gloves', 'glowing', 'glue', 'glued', 'gluten', 'glutton', 'gluttony', 'gnome', 'go', 'goal', 'goals', 'goat', 'gobi', 'gobs', 'god', 'goddamn', 'godmother', 'gods', 'goer', 'goes', 'going', 'gold', 'golden', 'golf', 'gone', 'gonna', 'gonzales', 'good', 'goodNot', 'goodbye', 'goodbye9', 'goodhad', 'goodie', 'goodies', 'goodits', 'goodnatured', 'goodness', 'goodol', 'goods', 'goodvalue', 'goody', 'gooey', 'goofy', 'google', 'googling', 'goood', 'goooood', 'goop', 'goose', 'gorgeous', 'gorgozola', 'gossip', 'got', 'gothis', 'goto', 'gotos', 'gotta', 'gotten', 'gouge', 'gourgous', 'gourmet', 'goutaient', 'gouttéun', 'goving', 'gowhat', 'gown', 'goût', 'goûtait', 'goûte', 'goûter', 'goûts', 'goûté', 'grab', 'grabbed', 'grabbing', 'grabs', 'grace', 'gracefulness', 'graces', 'graciously', 'grad', 'grade', 'grader', 'graduate', 'graduation', 'graham', 'grain', 'grainy', 'graise', 'graisseusebref', 'grand', 'grande', 'grandes', 'grandfathered', 'grandmais', 'grandmother', 'grandmothers', 'granite', 'granny', 'granola', 'granted', 'grape', 'grapes', 'gras', 'grass', 'grasses', 'grasshopper', 'grateful', 'gratin', 'grating', 'gratitude', 'gratuit', 'gratuite', 'gratuiteon', 'gratuitet', 'gratuity', 'grave', 'gravel', 'gravies', 'gravy', 'gray', 'graygreen', 'grease', 'greaseheavy', 'greasy', 'great', 'greatFirst', 'greatNow', 'greated', 'greater', 'greatest', 'greati', 'greatly', 'greaton', 'greats', 'greed', 'greek', 'green', 'greenery', 'greens', 'greesy', 'greet', 'greeted', 'greeter', 'greeting', 'greets', 'grew', 'grey', 'gridlock', 'grill', 'grillade', 'grilled', 'grilling', 'grimy', 'grin', 'grinding', 'gringo', 'gringos', 'griot', 'griotest', 'gripe', 'gristle', 'gristly', 'grits', 'gritty', 'grocer', 'groceries', 'grocery', 'grody', 'groom', 'groomed', 'groomer', 'groomerowner', 'grooming', 'grooms', 'groomsmen', 'grope', 'groping', 'gros', 'gross', 'grossa', 'grosse', 'grossly', 'grossness', 'ground', 'grounds', 'group', 'groupe', 'groupes', 'groupno', 'groupon', 'groups', 'grow', 'growing', 'growling', 'grown', 'grows', 'growth', 'grudgingly', 'gruff', 'grumpy', 'grunge', 'grunts', 'gruyere', 'grâce', 'gtaI', 'guac', 'guacamole', 'guarantee', 'guaranteed', 'guarantees', 'guard', 'guess', 'guessed', 'guessing', 'guest', 'guestlist', 'guests', 'gueule', 'guidance', 'guide', 'guided', 'guidelines', 'guilty', 'guitar', 'guitars', 'gulab', 'gum', 'gummy', 'gun', 'gunna', 'guns', 'gurgled', 'guru', 'gut', 'guts', 'guy', 'guys', 'gym', 'gymnasts', 'gyms', 'gyoza', 'gyro', 'gyros', 'gâteau', 'gâteaux', 'géant', 'gérant', 'h', 'ha', 'habernero', 'habit', 'habits', 'habitual', 'habitué', 'habité', 'hadnt', 'haggle', 'haha', 'hahahah', 'hail', 'hailed', 'hair', 'haircut', 'hairdresser', 'hairdressers', 'hairdryer', 'hairs', 'hairstylists', 'hairused', 'half', 'halfa', 'halfassed', 'halfcrazed', 'halfeaten', 'halfprice', 'halfway', 'halibut', 'halibuts', 'hall', 'halls', 'hallway', 'hallways', 'halo', 'halt', 'ham', 'hamburger', 'hamburgers', 'hams', 'hamstrung', 'hand', 'handand', 'handed', 'handful', 'handicap', 'handing', 'handle', 'handled', 'handles', 'handling', 'handmade', 'hands', 'handsome', 'handwritten', 'handy', 'hang', 'hanging', 'hangout', 'hangouts', 'hangover', 'hangovers', 'hangs', 'hankering', 'hanover', 'haphazardly', 'hapless', 'happen', 'happened', 'happenedthey', 'happening', 'happenings', 'happens', 'happier', 'happily', 'happiness', 'happy', 'happyagain', 'harass', 'harassed', 'harassment', 'hard', 'hardbacks', 'harder', 'hardest', 'hardly', 'hardware', 'hardworking', 'harm', 'harmony', 'harms', 'harness', 'harnesses', 'harsh', 'hart', 'hash', 'hashbrowns', 'hasnt', 'hassle', 'hassled', 'hat', 'hatched', 'hatchet', 'hate', 'hated', 'hateful', 'hatefulness', 'hates', 'hating', 'hatred', 'hatter', 'haul', 'haunt', 'havent', 'hawaii', 'hawaiian', 'hawk', 'hawkers', 'hay', 'hazelnut', 'head', 'headache', 'headbands', 'headchef', 'headed', 'heading', 'headlights', 'headline', 'headliner', 'headphones', 'heads', 'headset', 'heal', 'healed', 'healing', 'health', 'healthclub', 'healthier', 'healthsanitation', 'healthy', 'heaping', 'hear', 'heard', 'hearing', 'heart', 'heartache', 'heartbeat', 'heartbroken', 'hearts', 'hearty', 'heat', 'heated', 'heater', 'heaters', 'heath', 'heatingcooling', 'heatlight', 'heaven', 'heavenly', 'heavily', 'heavy', 'heavyset', 'heck', 'hecklers', 'hectic', 'hed', 'heed', 'heeded', 'heel', 'heeled', 'heels', 'heheThey', 'heheheelles', 'heißer', 'held', 'helicopter', 'hell', 'hella', 'hellish', 'hello', 'help', 'helped', 'helpful', 'helpfulness', 'helping', 'helplessly', 'helps', 'hemming', 'hence', 'heraldry', 'herbal', 'herbs', 'herd', 'hereBut', 'hereYou', 'herebut', 'herego', 'herelike', 'heres', 'hereso', 'herethough', 'heritage', 'hermit', 'hes', 'heshe', 'hesitate', 'hesitation', 'heure', 'heures', 'heureuxles', 'hey', 'hi', 'hiatus', 'hibiscus', 'hidden', 'hide', 'hiding', 'high', 'highcant', 'highclass', 'highend', 'higher', 'higherpriced', 'highest', 'highlight', 'highlighted', 'highlighting', 'highlights', 'highly', 'highquality', 'highsodium', 'hihihi', 'hike', 'hiked', 'hikes', 'hiking', 'hilarious', 'hill', 'hills', 'himher', 'hindered', 'hindsight', 'hint', 'hints', 'hip', 'hippie', 'hippiehappy', 'hippy', 'hips', 'hipster', 'hipsters', 'hire', 'hired', 'hires', 'hiring', 'hissing', 'historic', 'history', 'historyfigures', 'hit', 'hitch', 'hitched', 'hits', 'hitting', 'hmmm', 'hoarding', 'hobby', 'hog', 'hohum', 'hoisin', 'hold', 'holder', 'holding', 'holds', 'hole', 'holeinthewall', 'holes', 'holey', 'holiday', 'holidays', 'hollandaise', 'hollister', 'holy', 'homage', 'home', 'homeless', 'homemade', 'homeowner', 'homestyle', 'hometheater', 'homework', 'homey', 'honda', 'honest', 'honestly', 'honesty', 'honey', 'honeydew', 'honeymoon', 'honnête', 'honor', 'honored', 'honoring', 'honors', 'hood', 'hook', 'hooked', 'hookers', 'hoop', 'hooters', 'hop', 'hope', 'hoped', 'hopeful', 'hopefully', 'hopeless', 'hopelessly', 'hopes', 'hoping', 'hopped', 'hoppers', 'hoppy', 'horaires', 'horizon', 'horrendous', 'horrendously', 'horrible', 'horribly', 'horrid', 'horridly', 'horrific', 'horror', 'horse', 'horseradish', 'horses', 'hospitable', 'hospital', 'hospitality', 'hospitals', 'host', 'hosted', 'hostess', 'hostesses', 'hostessserver', 'hosthostess', 'hostile', 'hosting', 'hosts', 'hot', 'hotbag', 'hotdog', 'hotdogs', 'hotel', 'hotelcasino', 'hotels', 'hotpiece', 'hotpot', 'hotpots', 'hotter', 'hottest', 'hotwheel', 'hotwire', 'hotwiring', 'hound', 'hour', 'hourly', 'hours', 'house', 'housefood', 'housekeeper', 'housekeeping', 'houses', 'housewares', 'housewarming', 'however', 'hr', 'hrs', 'httpeverythingmtlcomindexphp20160406amirhummusmaynotbeuptostandards', 'httpsyoutubeM62Va6Ft2cw', 'httpwwwbirdandhikecomHikeOtherAreasLoneMtLoneMthtm', 'httpwwwmeetupcomVegasHikersevents8905143', 'httpwwwyelpcombizbludsosbbqcompton', 'httpwwwyelpcombizstilwellpianostempe', 'hub', 'hubby', 'hubbys', 'hubs', 'hue', 'huevos', 'huffed', 'huffys', 'hug', 'huge', 'hugely', 'hugs', 'huh', 'human', 'humans', 'humble', 'humbly', 'humid', 'humiliated', 'humming', 'hummous', 'hummus', 'humor', 'hundred', 'hundredmonth', 'hundreds', 'hung', 'hunger', 'hungerstarved', 'hungry', 'hunk', 'hunt', 'hunted', 'hunting', 'hurriedly', 'hurry', 'hurt', 'hurtful', 'hurting', 'hurts', 'husband', 'husbandparking', 'husbands', 'hush', 'hustle', 'hut', 'hwy', 'hydrated', 'hydration', 'hydro', 'hydrographic', 'hydrographics', 'hygiene', 'hygienist', 'hygienists', 'hype', 'hyped', 'hyper', 'hyperbole', 'hypodermic', 'hâte', 'iGo', 'iGos', 'iPad', 'iPads', 'iPhone', 'iPic', 'ice', 'iceberg', 'iced', 'ices', 'icing', 'icky', 'icon', 'id', 'idea', 'ideaVin', 'ideal', 'ideally', 'ideas', 'identical', 'identification', 'identified', 'identify', 'identity', 'idiocy', 'idiot', 'idiots', 'idk', 'idle', 'idlis', 'idly', 'idéal', 'ie', 'ifwhen', 'ignorance', 'ignorant', 'ignore', 'ignored', 'ignores', 'ignoring', 'il', 'ill', 'illegal', 'illegitimate', 'illusion', 'illusionists', 'illusions', 'ils', 'im', 'image', 'imaginable', 'imaginative', 'imagine', 'imagined', 'imitate', 'immaculate', 'immature', 'immediate', 'immediately', 'immense', 'immensely', 'immortalized', 'immunization', 'immunizations', 'impact', 'impatience', 'impatient', 'impeccable', 'impeccably', 'impending', 'imperative', 'imperious', 'impersonations', 'implore', 'impolite', 'import', 'importance', 'important', 'importantly', 'importe', 'imported', 'imports', 'imposing', 'impossible', 'impound', 'impressed', 'impression', 'impressionner', 'impressions', 'impressive', 'impromptu', 'improperly', 'improv', 'improve', 'improved', 'improvement', 'improvements', 'improving', 'improvment', 'impunity', 'impécable', 'impériaux', 'inDont', 'inNot', 'inability', 'inaccessible', 'inadd', 'inappropriate', 'inat', 'inattentive', 'incase', 'inch', 'inches', 'incident', 'incidentally', 'incidents', 'incites', 'inclined', 'incluait', 'include', 'included', 'includedthe', 'includes', 'including', 'incluent', 'inclus', 'inclusive', 'incompetence', 'incompetent', 'incomplete', 'inconnus', 'inconsiderate', 'inconsistent', 'inconvenience', 'inconvenienced', 'inconveniencing', 'inconviniences', 'incorrect', 'incorrectly', 'increase', 'increased', 'increasingly', 'incredible', 'incredibleAsk', 'incredibly', 'incroyablement', 'incurred', 'indecision', 'indecisive', 'indeed', 'indentation', 'indents', 'independent', 'independently', 'indescribable', 'indescribably', 'indian', 'indicated', 'indication', 'indie', 'indifferent', 'indigenous', 'indiqué', 'indiscernible', 'individual', 'individually', 'individuals', 'indoor', 'indoors', 'indulge', 'indulged', 'indulgent', 'industrial', 'industry', 'inedible', 'ineffectiveness', 'inefficient', 'inevitably', 'inexpensive', 'inexperience', 'inexperienced', 'infamous', 'infant', 'infatuated', 'infected', 'infection', 'inferior', 'infested', 'infinitely', 'inflated', 'influence', 'influenced', 'influencing', 'info', 'inform', 'informal', 'information', 'informative', 'informed', 'informing', 'infront', 'infused', 'ingest', 'ingrediants', 'ingredient', 'ingredients', 'inhabitants', 'initailly', 'initial', 'initially', 'injections', 'injera', 'injured', 'injuring', 'injury', 'ink', 'inked', 'inking', 'inline', 'inmall', 'inmates', 'inn', 'inner', 'innocent', 'innocents', 'innovative', 'inother', 'input', 'inquire', 'inquired', 'inquiries', 'inquiring', 'inquiry', 'inquiétez', 'ins', 'insane', 'insanely', 'insanity', 'insatiable', 'inseam', 'insect', 'insects', 'inseparable', 'insert', 'inside', 'insignia', 'insignias', 'insist', 'insisted', 'insistent', 'insisting', 'inspect', 'inspected', 'inspection', 'inspector', 'inspiration', 'inspired', 'inspiring', 'instagram', 'instagramapparently', 'install', 'installation', 'installed', 'installing', 'instant', 'instantaneously', 'instantly', 'instead', 'instinct', 'instincts', 'institution', 'instructed', 'instruction', 'instructions', 'instructor', 'instructors', 'instrument', 'instruments', 'insulated', 'insulation', 'insult', 'insulted', 'insulting', 'insurance', 'insuranceWHATShe', 'insure', 'intake', 'integrate', 'integrity', 'intended', 'intense', 'intent', 'intention', 'intentionally', 'intentions', 'intently', 'interact', 'interaction', 'interactive', 'interconnect', 'interest', 'interested', 'interesting', 'interests', 'interface', 'interfaces', 'interim', 'interior', 'interiors', 'internal', 'international', 'internet', 'interpretation', 'interrupt', 'interrupted', 'interrupteurs', 'interrupting', 'interruption', 'intersection', 'interupted', 'intervention', 'interview', 'intimate', 'intimidate', 'intimidating', 'intimidation', 'intoxicated', 'intoxicating', 'intriguing', 'intro', 'introduced', 'introduction', 'introductory', 'intéressants', 'intérieur', 'invaluable', 'invention', 'inventive', 'inventory', 'invest', 'investigate', 'investigation', 'investment', 'invisible', 'invite', 'invited', 'inviting', 'invités', 'invoice', 'invoices', 'involved', 'involves', 'inwhy', 'iota', 'ipod', 'iron', 'irresistible', 'irritated', 'irritating', 'irritations', 'isSteve', 'isconfusing', 'islamic', 'isle', 'isles', 'isnt', 'isolation', 'issue', 'issueShady', 'issues', 'ist', 'iswella', 'iswow', 'itAre', 'itCheck', 'itShallon', 'itSo', 'italian', 'itbut', 'itched', 'itching', 'item', 'items', 'itemsKobe', 'itgotta', 'itit', 'itits', 'itll', 'itlow', 'itselfAHMazing', 'itselfyum', 'itthe', 'itty', 'ittybitty', 'ityou', 'iv', 'ive', 'ivory', 'jack', 'jacked', 'jackie', 'jackpots', 'jaguar', 'jai', 'jaime', 'jalapeno', 'jalapenos', 'jalapeño', 'jalapeños', 'jam', 'jamais', 'jambalaya', 'jamen', 'jameson', 'jammed', 'jams', 'japanese', 'jar', 'jargon', 'jars', 'jasmine', 'jaurai', 'jaurais', 'javais', 'jaw', 'jawdroppingcirque', 'jawed', 'jay', 'jazlynn', 'jazz', 'je', 'jealous', 'jeans', 'jellies', 'jello', 'jelly', 'jen', 'jenurose', 'jerk', 'jerks', 'jerky', 'jerseys', 'jeunes', 'jewel', 'jewellery', 'jewelry', 'jicama', 'jimmy', 'jist', 'joann', 'job', 'jobA', 'jobmaybe', 'jobs', 'jobsite', 'joe', 'john', 'johns', 'joieUne', 'join', 'joined', 'joining', 'joint', 'joints', 'jointures', 'joke', 'joked', 'joker', 'jokes', 'joking', 'jokingly', 'jones', 'joss', 'joue', 'jouer', 'jour', 'journey', 'journée', 'jours', 'joy', 'jr', 'juan', 'juciey', 'judge', 'judged', 'judging', 'judicieux', 'juice', 'juicer', 'juices', 'juicing', 'juicy', 'juifs', 'juke', 'jukebox', 'julep', 'jumble', 'jumbo', 'jump', 'jumped', 'jungle', 'junk', 'junker', 'junkie', 'jus', 'jusquà', 'jusr', 'juste', 'justeatca', 'justice', 'justify', 'jy', 'k', 'kabobs', 'kahwa', 'kale', 'kalmata', 'kalua', 'kampungki', 'karaagi', 'karaoke', 'karate', 'kare', 'karma', 'kashke', 'kathy', 'katsu', 'kawali', 'kebabs', 'kebobs', 'keep', 'keeper', 'keepers', 'keeping', 'keeps', 'keepsake', 'kells', 'kennel', 'kennels', 'kept', 'ketchup', 'kettle', 'key', 'keys', 'keywords', 'kheer', 'kia', 'kick', 'kickback', 'kicked', 'kicker', 'kickers', 'kicking', 'kicks', 'kid', 'kidding', 'kiddos', 'kidney', 'kids', 'kidsless', 'kill', 'killed', 'killer', 'killers', 'killing', 'kills', 'kiln', 'kilt', 'kimchee', 'kimchi', 'kind', 'kinda', 'kindly', 'kindlyThe', 'kinds', 'king', 'kinks', 'kippah', 'kiss', 'kitchen', 'kitchens', 'kitchenware', 'kitschy', 'kitten', 'knack', 'knew', 'knicked', 'knife', 'knives', 'knock', 'knocked', 'knocking', 'knot', 'knots', 'know', 'knowbut', 'knowing', 'knowledgable', 'knowledge', 'knowledgeable', 'known', 'knownothing', 'knowprobably', 'knows', 'knuckle', 'kokopelli', 'kombucha', 'komplett', 'koolaid', 'korean', 'korma', 'kosher', 'krab', 'kreative', 'kudos', 'kumquat', 'l', 'la', 'lab', 'label', 'labeled', 'labeling', 'labels', 'labor', 'labour', 'lachat', 'lack', 'lacked', 'lacking', 'lackluster', 'lacks', 'lactation', 'lactivité', 'laddened', 'ladder', 'ladeeda', 'laden', 'ladies', 'ladopter', 'lady', 'ladylike', 'ladys', 'lai', 'laid', 'lail', 'laissé', 'lait', 'laitue', 'laitues', 'lake', 'lalcool', 'lamb', 'lame', 'lament', 'lamented', 'lamp', 'lamps', 'lanaibroken', 'lancien', 'land', 'landed', 'landing', 'lands', 'landscaping', 'lane', 'lanes', 'lanewatch', 'language', 'languages', 'langue', 'langues', 'lappétit', 'laps', 'laptop', 'larceny', 'lard', 'large', 'largely', 'larger', 'largest', 'larmes', 'las', 'lasagna', 'laser', 'lash', 'lashes', 'lassiette', 'last', 'lasted', 'lasting', 'lastly', 'late', 'latehowever', 'lately', 'later', 'laterI', 'laterthinking', 'latest', 'latinos', 'latte', 'latter', 'lattes', 'laugh', 'laughable', 'laughed', 'laughing', 'laughs', 'laulau', 'laundry', 'lautre', 'lavait', 'laver', 'lavis', 'lavoue', 'law', 'lawn', 'laws', 'lawyer', 'layed', 'layer', 'layered', 'layers', 'laying', 'layout', 'layover', 'laziest', 'laziness', 'lazy', 'lbs', 'le', 'lea', 'lead', 'leader', 'leadership', 'leading', 'leads', 'leaf', 'leak', 'leaking', 'leaky', 'lean', 'leaned', 'leap', 'leaped', 'learn', 'learned', 'learning', 'lease', 'leash', 'leasing', 'least', 'leastI', 'leather', 'leau', 'leave', 'leaves', 'leaving', 'lechon', 'lecture', 'led', 'ledge', 'leek', 'leery', 'left', 'leftand', 'leftnever', 'leftover', 'leftovers', 'leg', 'legal', 'legendary', 'legit', 'legitimate', 'legitimately', 'legos', 'legs', 'lei', 'lemon', 'lemonade', 'lemonades', 'lemonadetes', 'lemongrass', 'lemons', 'lender', 'lenders', 'lendroit', 'length', 'lengthwise', 'lengthy', 'lengua', 'lens', 'lenses', 'lent', 'lentelle', 'lentil', 'lentrée', 'lentréedonc', 'leper', 'leprechaun', 'les', 'lesbian', 'less', 'lessen', 'lesson', 'lessons', 'lesssweet', 'let', 'lethargic', 'lets', 'letter', 'letters', 'letting', 'lettuce', 'leur', 'leurs', 'level', 'levels', 'levelyuck', 'lever', 'levers', 'lexposition', 'lf', 'lheure', 'liability', 'liable', 'liar', 'liars', 'libanais', 'libation', 'library', 'lice', 'license', 'licensed', 'licenses', 'licensing', 'licking', 'licquors', 'lid', 'lids', 'lie', 'lied', 'liers', 'lies', 'lieu', 'life', 'lifeguards', 'lifelong', 'liferepair', 'lifes', 'lifesaver', 'lifestyle', 'lifethe', 'lifetime', 'lift', 'light', 'lightbulb', 'lightbulbs', 'lightening', 'lighter', 'lighting', 'lightly', 'lights', 'lignes', 'like', 'liked', 'likehere', 'likely', 'liken', 'likes', 'likesdislikes', 'liking', 'lil', 'lilies', 'limage', 'limb', 'limbo', 'lime', 'limeade', 'limeades', 'limes', 'limit', 'limite', 'limited', 'limiting', 'limits', 'limo', 'limonade', 'limp', 'limted', 'line', 'lined', 'linens', 'lines', 'linethe', 'lineup', 'lineupmais', 'ling', 'linger', 'lingering', 'linguini', 'linguinis', 'linguistiques', 'lining', 'link', 'linoleum', 'linq', 'lion', 'lions', 'lipstick', 'lipsyncing', 'liquid', 'liquidthe', 'liquidy', 'liquor', 'lire', 'lisez', 'list', 'listed', 'listen', 'listened', 'listening', 'listens', 'listing', 'listingbuying', 'lit', 'lite', 'liter', 'literal', 'literally', 'litter', 'little', 'live', 'lived', 'lively', 'liver', 'lives', 'living', 'livingsocial', 'livingsocialcom', 'livraison', 'livres', 'ln', 'lo', 'load', 'loaded', 'loaf', 'loafers', 'loafing', 'loan', 'loans', 'loathe', 'lobbed', 'lobby', 'lobster', 'local', 'locally', 'locals', 'locate', 'located', 'location', 'locations', 'locationwhere', 'lock', 'locked', 'locker', 'locking', 'loft', 'log', 'logged', 'logic', 'logistics', 'logo', 'logoit', 'logs', 'loin', 'loitered', 'loitering', 'lol', 'lollipops', 'lonely', 'long', 'longWe', 'longer', 'longevity', 'longstemmed', 'longtemps', 'lont', 'look', 'looked', 'looking', 'lookout', 'looks', 'loose', 'loosely', 'lose', 'losers', 'loses', 'losing', 'loss', 'losses', 'lost', 'lot', 'lotbut', 'lotion', 'lots', 'louche', 'loud', 'louder', 'loudly', 'louer', 'lounge', 'loungewear', 'lousy', 'love', 'loved', 'loveliness', 'lovely', 'lover', 'lovers', 'loves', 'loveseat', 'loving', 'lovingly', 'lovley', 'low', 'lower', 'lowered', 'lowering', 'lowes', 'lowest', 'lowestThe', 'lowkey', 'lowkeyed', 'lowlights', 'lowlit', 'loyal', 'loyalty', 'lube', 'luck', 'lucked', 'luckily', 'lucky', 'ludicrous', 'lug', 'luggage', 'lui', 'luke', 'lukewarm', 'lukshmi', 'lumière', 'lumièresla', 'lump', 'lumps', 'lumpy', 'lunatic', 'lunch', 'lunchI', 'lunches', 'lundi', 'lung', 'lured', 'lush', 'luster', 'luxurious', 'luxury', 'lvac', 'lychee', 'lying', 'là', 'làbasERREUR', 'làet', 'lécoute', 'légumes', 'lépicerie', 'lépilation', 'lété', 'maam', 'mac', 'macaroni', 'macaroon', 'macaroons', 'macayosmuch', 'macbook', 'macchiato', 'machine', 'machines', 'mackerel', 'macy', 'mad', 'made', 'madetoorder', 'madeup', 'madison', 'madness', 'madras', 'magasin', 'magazine', 'magazines', 'magic', 'magical', 'magique', 'magnets', 'magnificent', 'magnifique', 'mahlbec', 'mail', 'mailed', 'mailing', 'main', 'mainly', 'mains', 'maintain', 'maintained', 'maintenance', 'maintenancerepair', 'maintenancetomboy', 'maintenant', 'mais', 'maison', 'maitre', 'majestic', 'major', 'majority', 'make', 'makeover', 'maker', 'makers', 'makes', 'makeup', 'maki', 'making', 'mal', 'malade', 'male', 'malfunction', 'malfunctions', 'mall', 'malls', 'malpractice', 'mama', 'man', 'manage', 'managed', 'management', 'managementI', 'managementownership', 'manager', 'managers', 'managerwineguy', 'manages', 'managing', 'managment', 'mandarin', 'mandate', 'mandatory', 'maneuver', 'maneuvering', 'mange', 'mangeais', 'manger', 'mangled', 'mango', 'mangé', 'mani', 'manicure', 'manicured', 'manicurepedicure', 'manicureshed', 'manicurest', 'maninated', 'manipedi', 'manipedifoot', 'manis', 'manière', 'mannequin', 'manner', 'manners', 'manqué', 'mans', 'manual', 'manually', 'manufactured', 'manufacturer', 'manufacturers', 'manufacturing', 'many', 'manynight', 'map', 'maple', 'maps', 'marathon', 'marble', 'marchaient', 'marche', 'marché', 'margarita', 'margaritas', 'margins', 'marinade', 'marinara', 'marinated', 'mariné', 'mark', 'marked', 'markers', 'market', 'marketing', 'markets', 'markham', 'marks', 'markup', 'maroon', 'married', 'marry', 'marshmallow', 'mart', 'martini', 'martinis', 'marvelous', 'marvin', 'mary', 'masala', 'masculine', 'mashed', 'mashup', 'mashups', 'mask', 'masks', 'mason', 'mass', 'massage', 'massaged', 'massages', 'massagethe', 'massaman', 'masseuse', 'massive', 'massively', 'master', 'masterpiece', 'masterpieces', 'mat', 'match', 'matcha', 'matchbox', 'matched', 'matches', 'matching', 'material', 'materials', 'maternity', 'math', 'matin', 'matriarchs', 'mats', 'matter', 'mattered', 'matters', 'matting', 'mattrayait', 'mattresscompletely', 'mature', 'matzoh', 'mauvais', 'mauvaise', 'max', 'maxs', 'may', 'maybe', 'mayo', 'mayonnaise', 'maze', 'mburger', 'mccaren', 'mcdonalds', 'me711', 'meI', 'mead', 'meal', 'meals', 'mean', 'meander', 'meandering', 'meaning', 'meaningful', 'means', 'meant', 'meantime', 'meanwhile', 'measly', 'measure', 'measuring', 'meat', 'meatballs', 'meatloaf', 'meats', 'meaty', 'mecca', 'mechanic', 'mechanical', 'mechanics', 'mechanicwell', 'mechanism', 'mechanisms', 'med', 'media', 'medical', 'medicine', 'medicines', 'mediocre', 'mediocrity', 'medium', 'mediums', 'meds', 'meet', 'meeting', 'meetings', 'meets', 'meetup', 'mega', 'meh', 'mehnothingand', 'meilleur', 'meilleurs', 'mein', 'meleaning', 'meless', 'mellow', 'melody', 'melon', 'melt', 'meltdowns', 'melted', 'melting', 'melts', 'melty', 'member', 'memberi', 'members', 'membership', 'memberships', 'memo', 'memorabilia', 'memorable', 'memories', 'memorized', 'memory', 'men', 'menopause', 'mens', 'mental', 'mentalesurtout', 'mentally', 'mention', 'mentioned', 'mentioning', 'mentions', 'menu', 'menuand', 'menudo', 'menue', 'menuimmediately', 'menus', 'menuwhy', 'mer', 'meralors', 'mercedes', 'merchandise', 'merchandised', 'merchant', 'merdique', 'mere', 'merged', 'merlot', 'mermais', 'mes', 'mesmerizing', 'mess', 'message', 'messaged', 'messages', 'messed', 'messy', 'met', 'metal', 'metel', 'metered', 'meth', 'method', 'meticulous', 'metro', 'meubles', 'meuniere', 'meunless', 'mexican', 'mezza', 'mgr', 'mgrthen', 'mhmm', 'mi', 'miam', 'miammUn', 'microbladed', 'microblading', 'microbrews', 'microphone', 'microwave', 'microwaved', 'mid', 'midafternoon', 'midcentury', 'midday', 'middle', 'middlekids', 'middleofthenight', 'midi', 'midnight', 'midwife', 'midwifery', 'miettes', 'mieux', 'miffed', 'might', 'mightve', 'mighty', 'mignon', 'mild', 'mildly', 'mile', 'mileage', 'miles', 'milieu', 'milk', 'milkshake', 'milkshakes', 'milky', 'mill', 'miller', 'million', 'mimic', 'mimosa', 'mimosas', 'min', 'minaj', 'mind', 'mindblowing', 'minded', 'mindful', 'minds', 'mine', 'miner', 'mini', 'miniature', 'minibridal', 'minimal', 'minimize', 'minimized', 'minimum', 'minimumça', 'minis', 'minor', 'mins', 'mint', 'minty', 'minuit', 'minus', 'minute', 'minuteelle', 'minutes', 'minutesthere', 'minutrs', 'miracle', 'mirage', 'mirror', 'mirrors', 'mis', 'misc', 'miscellaneous', 'miscommunication', 'miscommunications', 'misconceptions', 'miserable', 'miserably', 'misery', 'mishap', 'mishaps', 'misheard', 'misleading', 'mismanaged', 'miso', 'misplace', 'misplaced', 'misrepresented', 'miss', 'missed', 'misses', 'missing', 'missinginaction', 'missingwe', 'mission', 'mistake', 'mistakes', 'misted', 'mister', 'misters', 'mistreatment', 'misunderstanding', 'misunderstandings', 'misunderstood', 'mix', 'mixa', 'mixed', 'mixer', 'mixes', 'mixing', 'mixology', 'mixthe', 'mixture', 'mmm', 'mmmhmm', 'mmmhmmm', 'mmmiam', 'mmmm', 'mmmmjust', 'moaned', 'moaning', 'mob', 'mobile', 'mocha', 'mochi', 'mock', 'mocked', 'mode', 'model', 'models', 'modern', 'modernage', 'modest', 'modifications', 'modified', 'modify', 'modique', 'moelleuse', 'moi', 'moins', 'mois', 'moist', 'moisture', 'moisturize', 'mojito', 'mojitos', 'molar', 'molasses', 'mold', 'molding', 'moldy', 'mole', 'molecule', 'molecules', 'molelike', 'molles', 'mom', 'moment', 'moments', 'mommas', 'mommy', 'momos', 'moms', 'mon', 'monde', 'monetarily', 'money', 'moneygrab', 'moneys', 'monies', 'moniseur', 'monitored', 'monkeys', 'monologue', 'monsieur', 'monsoon', 'monster', 'monstrosities', 'mont', 'montagne', 'montas', 'monte', 'month', 'monthly', 'months', 'montreal', 'monument', 'mood', 'moods', 'moodspot', 'moon', 'moonshine', 'mopped', 'mopping', 'moquette', 'morally', 'morbid', 'moreover', 'moring', 'morning', 'mornings', 'moron', 'mortgage', 'mortified', 'mortorcycle', 'moscato', 'mosquito', 'mostly', 'motel', 'motels', 'moth', 'mother', 'motherfucker', 'motherfuckers', 'motion', 'motions', 'motivating', 'motor', 'motorhome', 'motzerella', 'moulu', 'mount', 'mountain', 'mounted', 'mousse', 'mouth', 'mouthing', 'mouthwatering', 'mouton', 'move', 'moved', 'movement', 'movements', 'movers', 'moves', 'movie', 'movies', 'moving', 'mozzarella', 'mph', 'mrs', 'msgand', 'mt', 'mtg', 'much', 'muchneeded', 'mucous', 'mud', 'muddle', 'muddy', 'muffin', 'muffins', 'mug', 'mugs', 'mulch', 'mule', 'multiple', 'multitasking', 'multitude', 'mumble', 'munch', 'munchers', 'munchies', 'munching', 'mundane', 'municipal', 'mural', 'murder', 'murdering', 'muscling', 'museum', 'museums', 'mush', 'mushed', 'mushroom', 'mushrooms', 'mushy', 'music', 'musicalit', 'musician', 'musicians', 'musique', 'mussels', 'must', 'mustache', 'mustang', 'mustard', 'muster', 'mustve', 'mustvisit', 'musty', 'musubi', 'mute', 'muted', 'mutilated', 'muttering', 'mutual', 'myselfa', 'mysore', 'mysteriously', 'mystery', 'mythical', 'métro', 'même', 'n', 'na', 'naan', 'nab', 'nacho', 'nachos', 'nada', 'nade', 'nag', 'nagger', 'nah', 'nai', 'nail', 'nails', 'naive', 'naiveté', 'naked', 'nallait', 'name', 'named', 'names', 'namesake', 'nap', 'napa', 'napkin', 'napkins', 'narrow', 'nast', 'nastiest', 'nastily', 'nasty', 'nation', 'national', 'natural', 'naturally', 'nature', 'naturel', 'naucious', 'naughty', 'naurai', 'nauseous', 'navais', 'navette', 'navigate', 'nay', 'ne', 'near', 'nearby', 'nearest', 'nearly', 'nearlythere', 'nearunusable', 'neat', 'neatly', 'necessarily', 'necessary', 'necessities', 'necessity', 'neck', 'necklace', 'necktie', 'neckties', 'need', 'needed', 'needing', 'needle', 'needless', 'neednt', 'needs', 'needsNEVER', 'needy', 'negate', 'negated', 'negative', 'negatives', 'neglect', 'neglected', 'negotiate', 'negotiated', 'negotiating', 'negotiation', 'negotiations', 'neighbor', 'neighborhood', 'neighborhoodbut', 'neighborhoods', 'neighboring', 'neighbors', 'neighbourhood', 'neither', 'neonlit', 'nephews', 'nerve', 'nerves', 'nervous', 'nest', 'nestled', 'netbook', 'never', 'nevertheless', 'new', 'newage', 'newb', 'newbie', 'newborn', 'newer', 'newest', 'newly', 'news', 'newsletter', 'newspaper', 'newused', 'next', 'nibbled', 'nibbles', 'nibbling', 'nice', 'nicely', 'nicer', 'nicest', 'niceto', 'nickel', 'nicki', 'niece', 'nifty', 'night', 'nightWe', 'nightclub', 'nightclubs', 'nightfall', 'nightlife', 'nightmare', 'nightmareBadly', 'nightmares', 'nights', 'nigiri', 'nine', 'nirvana', 'nit', 'nitrogen', 'nobody', 'nobrainer', 'nodded', 'nodding', 'noharm', 'nohistory', 'noire', 'noise', 'noises', 'noisy', 'nom', 'nomune', 'non', 'nonassertive', 'nonbusy', 'nonchain', 'nonchalant', 'nonchalantly', 'noncompliance', 'nonconcrete', 'noncondescending', 'nonconventional', 'noncustomer', 'none', 'nonetheless', 'nonexistent', 'nonfastfood', 'nonlocals', 'nonparking', 'nonprofessional', 'nonprorated', 'nonrefundable', 'nonsense', 'nonsmelly', 'nonsmoking', 'nontomato', 'nontypical', 'noodle', 'noodles', 'nooks', 'noon', 'nope', 'nori', 'norm', 'normal', 'normally', 'normaux', 'north', 'nos', 'nose', 'nosh', 'nostalgia', 'notable', 'notarize', 'notarized', 'notary', 'notates', 'notch', 'note', 'noted', 'notes', 'noteworthy', 'nothing', 'nothings', 'notice', 'noticeable', 'noticed', 'notices', 'noticing', 'notification', 'notified', 'notify', 'notifying', 'noting', 'notorious', 'notre', 'notsofave', 'notsorecently', 'notthefriendliest', 'nouilleceux', 'nouilles', 'nourriture', 'nous', 'nouvel', 'novel', 'novelty', 'novice', 'novices', 'nowadays', 'nowas', 'nowhere', 'nowwent', 'nude', 'nuff', 'nuggets', 'nuisance', 'nuit', 'numb', 'number', 'numbers', 'numerous', 'nurse', 'nursery', 'nurses', 'nursing', 'nut', 'nuts', 'nw', 'ny', 'nyuk', 'négative', 'nétaient', 'nétait', 'oasis', 'oatmeal', 'object', 'objective', 'obliged', 'obliger', 'obliging', 'obligé', 'oblivious', 'obnoxious', 'obnoxiously', 'obsequious', 'observation', 'observations', 'observed', 'obsessed', 'obtain', 'obtaining', 'obvious', 'obviously', 'occasion', 'occasional', 'occasionally', 'occasions', 'occassions', 'occupied', 'occupying', 'occurred', 'ocean', 'ocular', 'odd', 'odor', 'odorific', 'oeufs', 'oeuvres', 'ofanything', 'ofc', 'offandon', 'offby', 'offended', 'offends', 'offensive', 'offer', 'offered', 'offering', 'offerings', 'offers', 'offert', 'office', 'officean', 'officer', 'officers', 'offices', 'official', 'officially', 'officials', 'offnight', 'offpickup', 'offputting', 'offre', 'offseason', 'offwhat', 'often', 'oftwo', 'oh', 'ohso', 'oil', 'oiled', 'oiliness', 'oils', 'oily', 'oj', 'ok', 'okay', 'okaynot', 'okaythis', 'okbut', 'okmais', 'okra', 'okwe', 'ol', 'old', 'older', 'oldies', 'oldstale', 'olive', 'olives', 'omelet', 'omg', 'omlette', 'onand', 'oncall', 'onceand', 'one', 'oneAfter', 'onehalfstepabove', 'oneofakind', 'oneoff', 'ones', 'onestop', 'onion', 'onions', 'online', 'ont', 'onto', 'onward', 'ooey', 'ooh', 'oolong', 'oops', 'open', 'opened', 'openedI', 'opener', 'opening', 'openings', 'openly', 'opens', 'opentable', 'operate', 'operated', 'operating', 'operation', 'operations', 'operator', 'operators', 'opinion', 'opinionated', 'opions', 'opportunities', 'opportunity', 'opposing', 'opposite', 'ops', 'opt', 'opted', 'optical', 'optician', 'optimistic', 'opting', 'option', 'optional', 'options', 'optometrist', 'oral', 'orange', 'oranges', 'orchestra', 'orchids', 'ordeal', 'order', 'orderWe', 'orderd', 'ordered', 'ordered1', 'orderer', 'orderes', 'ordering', 'orderlol', 'orderonly', 'orders', 'ordinaire', 'ordinary', 'oreos', 'organic', 'organisé', 'organization', 'organized', 'organizer', 'organizers', 'orginally', 'orientation', 'oriented', 'origami', 'origin', 'original', 'originally', 'ornament', 'orthodontists', 'otherand', 'others', 'otherthe', 'otherwise', 'ou', 'oublié', 'ought', 'oui', 'ounce', 'ounces', 'outcomes', 'outdated', 'outdelivery', 'outdone', 'outdoor', 'outdooring', 'outdoors', 'outdoorsman', 'outed', 'outer', 'outfit', 'outfits', 'outgoing', 'outlet', 'outlets', 'outlived', 'outlives', 'outneither', 'outofstate', 'outonce', 'outraged', 'outrageous', 'outrages', 'outshone', 'outside', 'outso', 'outstanding', 'outstandingIce', 'outthen', 'outwardly', 'ouvert', 'ouvertLe', 'oven', 'ovens', 'overall', 'overboard', 'overbook', 'overbooked', 'overbooking', 'overcharged', 'overcooked', 'overcooking', 'overdone', 'overdressed', 'overdue', 'overflowed', 'overflowing', 'overglorified', 'overhaul', 'overhear', 'overhyped', 'overjoyed', 'overlay', 'overlook', 'overlooked', 'overly', 'overnight', 'overonly', 'overpowered', 'overpowering', 'overpriced', 'overrated', 'override', 'overs', 'overseas', 'overseeing', 'oversees', 'oversold', 'overstating', 'overstayed', 'overthetop', 'overtime', 'overwhelmed', 'overwhelming', 'overwhelmingly', 'overworked', 'owe', 'owed', 'owes', 'owned', 'owner', 'ownerbaker', 'ownerchef', 'ownermanager', 'owneroperators', 'owners', 'ownership', 'owns', 'ox', 'oxtail', 'oxtails', 'oy', 'oyster', 'oysters', 'oz', 'où', 'p', 'pace', 'pacify', 'pacing', 'pack', 'package', 'packaged', 'packages', 'packaging', 'packed', 'packets', 'packs', 'pad', 'pads', 'page', 'pager', 'pages', 'paid', 'paidwe', 'paies', 'pail', 'pails', 'pain', 'paincétait', 'painful', 'painfully', 'painless', 'painstaking', 'painstakingly', 'paint', 'painted', 'paintedbadly', 'paintings', 'pair', 'paired', 'pairing', 'pairs', 'pal', 'palabok', 'palace', 'palate', 'pale', 'palette', 'palettes', 'pallet', 'palm', 'palmer', 'pampering', 'pan', 'pancake', 'pancakes', 'pancarte', 'pancetta', 'panda', 'panel', 'panels', 'panic', 'panicked', 'panini', 'panko', 'panna', 'panoramic', 'pans', 'pant', 'panthers', 'panties', 'panting', 'pantry', 'pants', 'papad', 'papadam', 'papaya', 'paper', 'paperbacks', 'papers', 'paperwork', 'paperworks', 'paquet', 'par', 'paraffin', 'paramount', 'paranoid', 'parasites', 'parbut', 'parce', 'pare', 'parent', 'parental', 'parenthood', 'parenting', 'parents', 'park', 'parked', 'parking', 'parkits', 'parlaient', 'parlait', 'parle', 'parm', 'parmesan', 'parmessan', 'parmigiano', 'parsley', 'part', 'partager', 'partake', 'parted', 'partial', 'partially', 'participating', 'participation', 'particles', 'particular', 'particularly', 'particulièrement', 'partied', 'partiela', 'parties', 'partitioned', 'partly', 'partner', 'parts', 'party', 'pas', 'pasUNE', 'pascar', 'pass', 'passable', 'passanger', 'passe', 'passed', 'passenger', 'passengers', 'passent', 'passer', 'passerai', 'passes', 'passing', 'passion', 'passionate', 'passionately', 'passionfruit', 'passive', 'password', 'passé', 'past', 'pasta', 'pastas', 'pastisto', 'pastor', 'pastries', 'pastry', 'pasty', 'patates', 'patch', 'patches', 'patent', 'pathetic', 'pathetically', 'pathfinder', 'pathways', 'patience', 'patient', 'patiently', 'patients', 'patientscustomers', 'patio', 'patioor', 'patios', 'patioshe', 'patrolled', 'patron', 'patronage', 'patronize', 'patronizing', 'patrons', 'pattern', 'patties', 'patty', 'pauvre', 'paws', 'pax', 'pay', 'paycheck', 'payed', 'payer', 'paying', 'payment', 'payments', 'paypal', 'pays', 'payé', 'pcs', 'pea', 'peace', 'peaceful', 'peach', 'peak', 'peanut', 'pear', 'pearls', 'peas', 'pecan', 'pecans', 'peddle', 'pedestrian', 'pedi', 'pediatric', 'pediatrician', 'pedicure', 'pedicures', 'peed', 'peek', 'peel', 'peeled', 'peeling', 'peelyourown', 'peepers', 'peering', 'peeve', 'peeved', 'peice', 'peine', 'peinture', 'peking', 'pendant', 'pending', 'pennants', 'pennies', 'penny', 'pennys', 'people', 'peoples', 'peoplesince', 'pepper', 'peppermint', 'pepperoncini', 'pepperoni', 'peppers', 'per', 'perceive', 'perceived', 'percent', 'percentage', 'perfect', 'perfected', 'perfection', 'perfectionist', 'perfectly', 'perform', 'performance', 'performanceending', 'performances', 'performed', 'performers', 'performing', 'performres', 'perfumes', 'perhaps', 'perimeter', 'period', 'periods', 'peripherals', 'perky', 'permanent', 'permeated', 'permeates', 'permed', 'permission', 'perms', 'perogies', 'perpetual', 'perplexed', 'persistent', 'person', 'personHere', 'personable', 'personal', 'personalities', 'personality', 'personally', 'personne', 'personnel', 'personnes', 'persons', 'perspective', 'persuaded', 'persuading', 'perusal', 'peruse', 'perusing', 'pesky', 'pest', 'pesto', 'pests', 'pet', 'petit', 'petite', 'petites', 'petits', 'pets', 'petting', 'petty', 'peu', 'peut', 'peux', 'pewter', 'ph', 'pharmacies', 'pharmacy', 'pharmacys', 'phase', 'phenomenal', 'philadelphia', 'philly', 'philosophy', 'phlebotomy', 'phlegmatic', 'pho', 'phoenix', 'phone', 'phoned', 'phones', 'phoning', 'photo', 'photograph', 'photographed', 'photographer', 'photography', 'photos', 'photoshoot', 'phx', 'phyllo', 'physical', 'physician', 'physics', 'piano', 'pianos', 'pibil', 'pick', 'picked', 'pickier', 'pickiest', 'picking', 'pickins', 'pickle', 'pickled', 'pickles', 'picks', 'pickup', 'picky', 'picnic', 'pico', 'pics', 'picture', 'pictured', 'pictures', 'picturing', 'pie', 'piece', 'pieces', 'pieds', 'pierced', 'piercer', 'piercing', 'piercings', 'pierdas', 'pies', 'pig', 'pigeon', 'pigeons', 'pigment', 'pigpen', 'pigs', 'pilaf', 'pile', 'piled', 'piles', 'pillow', 'pillows', 'pills', 'pimento', 'pimps', 'pin', 'pinch', 'pine', 'pineapple', 'pineapples', 'pining', 'pink', 'pinky', 'pinnacle', 'pinot', 'pins', 'pint', 'pinto', 'pints', 'pipe', 'pipes', 'pipi', 'piping', 'pirate', 'pire', 'pis', 'piss', 'pissed', 'pistachio', 'pistachios', 'pit', 'pita', 'pitch', 'pitcher', 'pitchers', 'pits', 'pix', 'pizza', 'pizzait', 'pizzas', 'pizzawhere', 'pizzeria', 'pizzerias', 'pizzetta', 'pièce', 'pk', 'pks', 'pksshe', 'pksthats', 'placate', 'place', 'placeIt', 'placeYou', 'placed', 'placedont', 'placemaybe', 'placer', 'places', 'placeso', 'placeyou', 'placing', 'placé', 'plague', 'plain', 'plan', 'plane', 'planes', 'planet', 'planned', 'planner', 'planning', 'plans', 'plant', 'plantains', 'planted', 'plantlined', 'plants', 'plaque', 'plaques', 'plastic', 'plasticy', 'plat', 'plate', 'plates', 'platform', 'plating', 'plats', 'platsles', 'platter', 'platters', 'play', 'played', 'player', 'playing', 'playlist', 'plays', 'plaza', 'plea', 'pleaded', 'pleading', 'pleasant', 'pleasantly', 'please', 'pleased', 'pleasedand', 'pleasewarn', 'pleasing', 'pleasure', 'pleasures', 'plein', 'pleins', 'plentiful', 'plenty', 'plethora', 'plintes', 'ploce', 'plop', 'ploy', 'plugs', 'plumber', 'plumbers', 'pluming', 'plump', 'plunge', 'plus', 'plusieurs', 'plustsé', 'pm', 'poached', 'poblano', 'pocket', 'pocketbook', 'pods', 'podum', 'poetry', 'point', 'pointed', 'pointing', 'pointless', 'points', 'pointy', 'poised', 'poison', 'poisoning', 'poisson', 'poivre', 'poke', 'poker', 'pole', 'polenta', 'poles', 'police', 'policeand', 'policies', 'policy', 'polish', 'polishing', 'polite', 'politely', 'politeness', 'political', 'polka', 'pollo', 'polpette', 'pomegranate', 'pomme', 'pommes', 'pompadour', 'pompette', 'pompous', 'pompously', 'pond', 'pong', 'pony', 'ponytail', 'ponzo', 'pooch', 'poof', 'poofy', 'pool', 'pools', 'poor', 'poorer', 'poori', 'poorly', 'pop', 'popcorn', 'popdark', 'popits', 'popovers', 'popped', 'popper', 'poppin', 'popping', 'pops', 'popular', 'populated', 'population', 'popup', 'porc', 'pork', 'porsche', 'portabella', 'portabello', 'portajohns', 'porte', 'porterhouse', 'portfolio', 'portion', 'portioned', 'portions', 'portobello', 'portrait', 'pose', 'poses', 'position', 'positive', 'positives', 'possescost', 'possess', 'possessed', 'possibility', 'possibilité', 'possible', 'possibly', 'post', 'postage', 'posted', 'poster', 'posterboard', 'posters', 'posting', 'postings', 'postponements', 'pot', 'potable', 'potato', 'potatoe', 'potatoes', 'potent', 'potential', 'potentially', 'potentsmelling', 'pots', 'potted', 'potty', 'pouboire', 'poulet', 'poulets', 'pound', 'pounding', 'pounds', 'pour', 'poured', 'pouring', 'pourquoi', 'pours', 'poutine', 'poutines', 'pouvez', 'pouvoir', 'pouvons', 'powder', 'powdered', 'powdersbars', 'powdery', 'power', 'powerful', 'powering', 'powertrain', 'poêlé', 'ppl', 'practically', 'practice', 'practiced', 'practices', 'practitioner', 'praise', 'praises', 'pralines', 'prancing', 'prank', 'pratique', 'prawns', 'prayer', 'pre', 'preach', 'prearranged', 'preceremony', 'precheck', 'precious', 'precise', 'precisely', 'precooked', 'predicament', 'predictable', 'predicted', 'predicure', 'prefab', 'preface', 'prefect', 'prefer', 'preference', 'preferences', 'preferred', 'preffer', 'pregnancy', 'pregnant', 'premade', 'premier', 'premises', 'premium', 'première', 'prenatal', 'prend', 'prendre', 'prends', 'prennaient', 'prennent', 'preorder', 'prep', 'prepackaged', 'prepaid', 'preparation', 'prepare', 'prepared', 'prepares', 'preparing', 'preregistered', 'prescribed', 'prescription', 'preseason', 'presence', 'present', 'presentation', 'presentations', 'presented', 'presents', 'preservatives', 'preserves', 'preservitives', 'preshaved', 'preshredded', 'president', 'presque', 'press', 'pressed', 'pressing', 'pressure', 'presumably', 'presume', 'pretend', 'pretended', 'pretentious', 'pretentiously', 'prettier', 'pretty', 'pretzel', 'pretzels', 'prevalent', 'prevegetarian', 'prevent', 'preventative', 'prevention', 'preview', 'previous', 'previously', 'prey', 'price', 'priced', 'pricematch', 'prices', 'pricesThanks', 'pricesthis', 'pricevalue', 'pricewe', 'pricey', 'pricier', 'pricing', 'prick', 'prickly', 'pride', 'priest', 'primarily', 'primary', 'primavera', 'prime', 'primo', 'prince', 'principal', 'principle', 'print', 'printed', 'printing', 'prior', 'priorities', 'priority', 'pris', 'prison', 'pristine', 'private', 'privately', 'privilege', 'prix', 'prize', 'pro', 'proactive', 'probably', 'probally', 'probing', 'problem', 'problematic', 'problems', 'problèmes', 'procedure', 'procedures', 'proceed', 'proceeded', 'proceeding', 'proceeds', 'process', 'processed', 'proche', 'proclaimed', 'produce', 'producing', 'product', 'production', 'products', 'produits', 'professional', 'professionalism', 'professionally', 'professionals', 'professors', 'profile', 'profit', 'profitabilitynor', 'profusely', 'program', 'programs', 'progress', 'progressively', 'project', 'projects', 'prom', 'promenade', 'prominent', 'promise', 'promised', 'promises', 'promising', 'promo', 'promos', 'promote', 'promoter', 'promoters', 'promoteuse', 'promoting', 'promotions', 'prompt', 'prompted', 'prompting', 'promptly', 'prone', 'pronounced', 'proof', 'prop', 'propelled', 'proper', 'properly', 'properties', 'property', 'prophesying', 'proportioned', 'proposer', 'propre', 'propres', 'propreté', 'proprio', 'props', 'pros', 'prosciutto', 'prosper', 'prostitutes', 'protect', 'protein', 'proteins', 'protest', 'protested', 'protesting', 'protocol', 'protracted', 'proud', 'proudly', 'prove', 'proved', 'proverbial', 'proves', 'provide', 'provided', 'provider', 'provides', 'providing', 'proximité', 'préfèrable', 'préféré', 'prépare', 'préparer', 'présentement', 'prête', 'ps', 'pseudoMexican', 'psyched', 'psychic', 'psychopathic', 'pu', 'pub', 'public', 'publicity', 'publique', 'puckered', 'pud', 'pudding', 'puffed', 'puis', 'puked', 'pull', 'pulled', 'pulley', 'pulling', 'pulls', 'pulp', 'pulpy', 'pump', 'pumped', 'pumping', 'pumpkin', 'pumps', 'punch', 'punchcard', 'punctuality', 'punished', 'punishment', 'punk', 'pup', 'puppies', 'puppy', 'puppys', 'pupusas', 'purchase', 'purchased', 'purchaser', 'purchases', 'purchasing', 'pure', 'puree', 'purely', 'purest', 'purple', 'purples', 'purpose', 'purposely', 'purring', 'purse', 'purses', 'pursue', 'pursued', 'pursuing', 'purveyors', 'purée', 'push', 'pushed', 'pushes', 'pushy', 'pussies', 'put', 'putin', 'puts', 'putt', 'putted', 'putting', 'putts', 'puzzled', 'puzzling', 'pvc', 'pâte', 'pâtes', 'pétoncles', 'qua', 'quaint', 'qualified', 'qualify', 'qualifying', 'quality', 'qualité', 'qualités', 'qualm', 'quand', 'quantities', 'quantity', 'quarantaine', 'quarter', 'quarterly', 'quatre', 'que', 'queen', 'quelle', 'quelles', 'quelque', 'quelques', 'quenched', 'quesadilla', 'quesadillas', 'queso', 'quest', 'question', 'questionable', 'questioned', 'questioning', 'questions', 'questionsconcerns', 'qui', 'quibble', 'quiche', 'quiches', 'quick', 'quickDefinitely', 'quicker', 'quickly', 'quicky', 'quiet', 'quieter', 'quietly', 'quil', 'quils', 'quinoa', 'quintessential', 'quinzaine', 'quirky', 'quit', 'quite', 'quits', 'quizzically', 'quoitu', 'quon', 'quotation', 'quote', 'quoted', 'quotes', 'quoting', 'quun', 'race', 'races', 'racing', 'racist', 'racists', 'rack', 'racket', 'racking', 'racks', 'racksnot', 'racquetball', 'rad', 'radio', 'radishes', 'radius', 'raelly', 'raff', 'rag', 'rags', 'rail', 'railroad', 'rain', 'rainbow', 'raining', 'rainy', 'raise', 'raised', 'raising', 'raisins', 'rake', 'ramassé', 'ramen', 'ran', 'ranch', 'rancheros', 'rancho', 'rancid', 'random', 'randomly', 'rang', 'range', 'ranged', 'ranger', 'ranges', 'ranging', 'rangée', 'rank', 'rant', 'rape', 'rapide', 'rapides', 'rapidly', 'raping', 'rare', 'rarely', 'raremed', 'rasam', 'rash', 'raspberry', 'rassuretoi', 'ratatouille', 'rate', 'rated', 'rates', 'rather', 'rating', 'ratings', 'ratio', 'rational', 'rats', 'rattling', 'ravaged', 'ravani', 'rave', 'raved', 'raving', 'ravioli', 'raw', 'ray', 'rays', 'razor', 'rd', 'reach', 'reached', 'reachedno', 'reaching', 'reacted', 'reaction', 'read', 'readers', 'readily', 'reading', 'readingcall', 'reads', 'ready', 'real', 'realistic', 'reality', 'realize', 'realized', 'realizing', 'realllll', 'really', 'realtors', 'reappeared', 'rear', 'reason', 'reasonable', 'reasonableand', 'reasonably', 'reasoning', 'reasons', 'reassign', 'reassured', 'rebent', 'rebounding', 'rebuilt', 'recall', 'recalled', 'recap', 'recapped', 'reccomend', 'receipt', 'receipts', 'receive', 'received', 'receiver', 'receives', 'receiving', 'recemented', 'recent', 'recently', 'reception', 'receptionist', 'receptionists', 'receptive', 'recession', 'recieved', 'recipe', 'recipes', 'recipies', 'reclean', 'recline', 'recliner', 'recliners', 'recognition', 'recognizable', 'recognize', 'recognized', 'recognizes', 'recomend', 'recomended', 'recommande', 'recommend', 'recommendation', 'recommendations', 'recommended', 'recommending', 'reconcile', 'reconfirme', 'reconsider', 'reconsidered', 'record', 'recorded', 'recorder', 'recording', 'recordinglets', 'records', 'recount', 'recover', 'recoveries', 'recovery', 'rectifié', 'rectify', 'recuperating', 'recyclable', 'recycled', 'recycling', 'red', 'redact', 'redecorating', 'redeem', 'redeemed', 'redesigned', 'redesigning', 'redfish', 'rediculous', 'rediculously', 'redirected', 'redo', 'redoing', 'redone', 'reds', 'reduce', 'reduced', 'reduction', 'reductionto', 'redundant', 'reedit', 'reeks', 'reevaluation', 'refer', 'reference', 'references', 'referred', 'referring', 'refiling', 'refill', 'refillable', 'refilled', 'refilling', 'refills', 'refined', 'refit', 'reflect', 'reflective', 'reflexology', 'reformed', 'refrain', 'refreasher', 'refresh', 'refresher', 'refreshing', 'refreshingly', 'refreshments', 'refried', 'refrigerated', 'refrigerating', 'refrigeration', 'refrigerator', 'refund', 'refunded', 'refunds', 'refuse', 'refused', 'refuses', 'refusing', 'regaining', 'regard', 'regarde', 'regarder', 'regarding', 'regardless', 'regards', 'reggianoits', 'region', 'regional', 'register', 'registers', 'registration', 'registrations', 'regret', 'regretted', 'regular', 'regularly', 'regulars', 'regulated', 'rehearsed', 'reheated', 'reign', 'reimburse', 'reimbursed', 'reimbursement', 'reimburses', 'reinforce', 'reinforced', 'reiterated', 'reject', 'rejected', 'rejects', 'rejoindre', 'related', 'relation', 'relations', 'relationship', 'relative', 'relatively', 'relatives', 'relax', 'relaxation', 'relaxed', 'relaxes', 'relaxing', 'relayed', 'release', 'released', 'releases', 'reliable', 'reliably', 'relief', 'relies', 'relieve', 'relieved', 'religious', 'relish', 'relive', 'relleno', 'rellenos', 'relocate', 'relocated', 'relocation', 'reluctant', 'rely', 'remade', 'remain', 'remainder', 'remained', 'remaining', 'remake', 'remaking', 'remark', 'remarkable', 'remarkably', 'remarks', 'rembourré', 'remedy', 'remember', 'remembered', 'remembering', 'remembers', 'remettre', 'remind', 'reminded', 'reminder', 'reminding', 'reminds', 'reminiscent', 'remodel', 'remodeled', 'remodeling', 'remodling', 'remorse', 'remote', 'remotely', 'remotes', 'removal', 'remove', 'removed', 'remover', 'removing', 'rempli', 'remplie', 'remplir', 'remter', 'renaming', 'rendered', 'renders', 'rendezvous', 'rendition', 'rends', 'renegotiate', 'renew', 'renewed', 'renewing', 'renovated', 'renovation', 'renovations', 'rent', 'rental', 'rentals', 'rented', 'renter', 'renting', 'rentrait', 'rentrant', 'rentreNon', 'rentrele', 'rentrer', 'rentrercest', 'rentrons', 'rentré', 'renversé', 'reopen', 'reordered', 'reorganized', 'rep', 'repaint', 'repainted', 'repair', 'repaired', 'repairs', 'repairsnot', 'repas', 'repasse', 'repay', 'repeat', 'repeated', 'repeatedly', 'repeating', 'repetitively', 'repierced', 'replace', 'replaced', 'replacement', 'replacements', 'replacing', 'replant', 'replenished', 'replied', 'replies', 'reply', 'report', 'reported', 'reports', 'represent', 'representative', 'representatives', 'representing', 'reprinting', 'reprise', 'reprogram', 'reps', 'repulsed', 'reputable', 'reputation', 'request', 'requested', 'requesting', 'requests', 'require', 'required', 'requirement', 'requirements', 'requires', 'requiring', 'rereview', 'rering', 'reschedule', 'rescheduled', 'rescheduling', 'rescue', 'rescues', 'research', 'researched', 'researching', 'resell', 'resemblant', 'resemble', 'resembling', 'resend', 'reservation', 'reservations', 'reserve', 'reserved', 'reserver', 'reset', 'resewn', 'reshteh', 'residence', 'resident', 'residential', 'residents', 'residue', 'resist', 'resize', 'resized', 'resizing', 'resolution', 'resolve', 'resolved', 'resort', 'resorted', 'resorts', 'resounding', 'respect', 'respected', 'respectful', 'respectfully', 'respective', 'respiratory', 'respite', 'respond', 'responded', 'responder', 'responding', 'responds', 'response', 'responses', 'responsethe', 'responsibility', 'responsible', 'responsive', 'responsiveness', 'rest', 'restait', 'restant', 'restau', 'restaurant', 'restaurantI', 'restaurantnot', 'restaurants', 'restaurantshoud', 'restaurantsnot', 'restauré', 'reste', 'rester', 'resterait', 'resto', 'restocked', 'restocking', 'restocks', 'restoclub', 'restoring', 'restraining', 'restrictions', 'restroom', 'restrooms', 'result', 'resulted', 'results', 'resurrected', 'retail', 'retailer', 'retain', 'retainer', 'retard', 'rethink', 'retire', 'retirement', 'retiring', 'retorted', 'retossed', 'retourne', 'retourner', 'retournerai', 'retrained', 'retraining', 'retraintheir', 'retreat', 'retrospect', 'retrouve', 'return', 'returnable', 'returned', 'returning', 'returns', 'reunion', 'reupholstered', 'reusable', 'reuse', 'reused', 'reussi', 'reveal', 'reveling', 'revenue', 'reverse', 'reverted', 'review', 'reviewand', 'reviewed', 'reviewer', 'reviewers', 'reviewing', 'reviews', 'reviewso', 'revise', 'revised', 'revisiting', 'revitalize', 'revival', 'revolted', 'revolution', 'revolving', 'reward', 'rewards', 'rewrite', 'reçoit', 'reçu', 'rhe', 'rhinestone', 'rhubarb', 'rhythm', 'rib', 'ribbon', 'ribbons', 'ribeye', 'ribs', 'rice', 'ricebased', 'rich', 'riche', 'ricotta', 'rid', 'ride', 'rides', 'ridgebacks', 'ridgeline', 'ridges', 'ridiculous', 'ridiculously', 'ridiculousness', 'ridiculuos', 'riding', 'ridizio', 'rienles', 'riff', 'rigatta', 'right', 'rightSo', 'rightbut', 'rights', 'rightsized', 'rim', 'ring', 'ringer', 'ringing', 'rings', 'rio', 'riot', 'rip', 'ripoff', 'ripoffs', 'ripped', 'rise', 'risers', 'rising', 'risk', 'risky', 'risotto', 'risottos', 'rit', 'riz', 'ro', 'roach', 'roaches', 'roacheswhich', 'road', 'roadkill', 'roads', 'roadtrip', 'roam', 'roamed', 'roaming', 'roast', 'roasted', 'roaster', 'roasting', 'rob', 'robbed', 'robbery', 'robot', 'robots', 'robust', 'rock', 'rocket', 'rocketed', 'rockin', 'rocks', 'rockstar', 'rod', 'rode', 'roe', 'rojo', 'role', 'roll', 'rolled', 'roller', 'rollercoaster', 'rollers', 'rolling', 'rolls', 'romaine', 'romantic', 'rood', 'roof', 'rooftop', 'rookie', 'room', 'roommate', 'roommates', 'rooms', 'roomsway', 'roomtemperature', 'roomthere', 'root', 'roots', 'roped', 'ropes', 'roquefort', 'rose', 'rosemary', 'roses', 'rosti', 'rot', 'rotate', 'rotated', 'rotating', 'rotation', 'rotations', 'roteux', 'rotis', 'rotisserie', 'rotors', 'rotted', 'rotten', 'rotting', 'rough', 'roughly', 'rouleau', 'rouleaux', 'round', 'rounded', 'rounds', 'route', 'routes', 'routine', 'row', 'rowdy', 'rows', 'royal', 'royally', 'rub', 'rubber', 'rubbery', 'rubbing', 'rubs', 'rud', 'rude', 'rudedidnt', 'rudeif', 'rudely', 'rudeness', 'rudest', 'rue', 'rug', 'ruin', 'ruined', 'ruining', 'ruins', 'rule', 'rules', 'rum', 'run', 'runaround', 'rundown', 'rung', 'runner', 'runners', 'running', 'runningwork', 'runny', 'runs', 'runt', 'rush', 'rushed', 'rushing', 'rust', 'rusted', 'rustic', 'rye', 'ryokyo', 'ré', 'réalisérien', 'réception', 'régulierset', 'rénovations', 'rénové', 'réponse', 'réservé', 'résistance', 'rêve', 'sa', 'saag', 'sac', 'sachet', 'sacks', 'sad', 'saddened', 'sadly', 'safe', 'safegreasy', 'safely', 'safer', 'safety', 'saga', 'sage', 'sago', 'said', 'said6247', 'saimin', 'sais', 'sait', 'sake', 'salad', 'salade', 'saladeBref', 'salades', 'saladliked', 'salads', 'saladswell', 'salalmi', 'salami', 'sale', 'sales', 'salesman', 'salesmen', 'salespeople', 'salesperson', 'salesy', 'salivate', 'salivating', 'salle', 'salleje', 'salleles', 'salmon', 'salon', 'salons', 'saloon', 'salsa', 'salsas', 'salt', 'salted', 'saltier', 'saltwater', 'salty', 'sambar', 'sambhar', 'sameWe', 'sameday', 'samedi', 'sammich', 'samosa', 'samosas', 'samosasmuch', 'sample', 'sampled', 'sampler', 'samples', 'samplesnone', 'sampling', 'samplings', 'sancocho', 'sand', 'sandal', 'sandals', 'sanding', 'sandwhich', 'sandwhichs', 'sandwich', 'sandwiched', 'sandwiches', 'sandwichjai', 'sang', 'sangria', 'sanitation', 'sanitizing', 'sans', 'sapphire', 'sarcasm', 'sarcastic', 'sarcastically', 'sarrange', 'sashimi', 'sassoir', 'sassy', 'sat', 'sate', 'sated', 'satisfaction', 'satisfied', 'satisfies', 'satisfy', 'satisfying', 'sattend', 'saturday', 'saturdays', 'sauce', 'sauced', 'saucer', 'sauces', 'saucesTheir', 'saucy', 'saumon', 'sauna', 'saunas', 'sauntered', 'sausage', 'sausages', 'sause', 'sauses', 'sausge', 'sauteed', 'savait', 'save', 'saved', 'saver', 'savez', 'saving', 'savings', 'savor', 'savory', 'savoury', 'savvy', 'saw', 'say', 'sayNOT', 'sayWe', 'sayeth', 'sayin', 'saying', 'says', 'saythe', 'saywill', 'sbe', 'scale', 'scaled', 'scallion', 'scallions', 'scallop', 'scallops', 'scalopini', 'scalp', 'scam', 'scammed', 'scammer', 'scammers', 'scamming', 'scan', 'scandal', 'scanned', 'scans', 'scant', 'scantily', 'scar', 'scarborough', 'scarce', 'scare', 'scared', 'scares', 'scarfed', 'scariest', 'scary', 'scathing', 'scattered', 'scenario', 'scenarios', 'scene', 'scenery', 'scenic', 'scent', 'scented', 'scents', 'schedule', 'scheduled', 'schedules', 'scheduling', 'scheme', 'schlechte', 'schmear', 'schmoes', 'schmoly', 'schnitzel', 'schnitzels', 'school', 'schools', 'schvitz', 'science', 'scissors', 'scolded', 'scone', 'scones', 'scoop', 'scoops', 'scooter', 'scoping', 'scorching', 'score', 'scores', 'scorpion', 'scotch', 'scoured', 'scout', 'scraggly', 'scrambled', 'scrap', 'scrape', 'scraped', 'scrapes', 'scratch', 'scratched', 'scratches', 'scratching', 'scream', 'screaming', 'screeching', 'screen', 'screens', 'screw', 'screwdriver', 'screwed', 'screws', 'scribbled', 'scroll', 'scrolling', 'scrub', 'scrumptious', 'scull', 'sculpture', 'sculptures', 'scum', 'se', 'sea', 'seabass', 'seafood', 'seal', 'sealed', 'seam', 'seamed', 'seams', 'seamstress', 'sean', 'sear', 'search', 'searched', 'searches', 'searching', 'seared', 'season', 'seasonal', 'seasoned', 'seasonedconsistently', 'seasoning', 'seasonings', 'seat', 'seated', 'seating', 'seats', 'seaweed', 'sec', 'seccurity', 'second', 'secondly', 'secondo', 'seconds', 'secret', 'secrets', 'section', 'sectional', 'sectioned', 'sections', 'secure', 'securing', 'securities', 'security', 'securityinfo', 'sedation', 'sedentary', 'seduced', 'see', 'seeds', 'seedy', 'seeing', 'seek', 'seeking', 'seem', 'seemed', 'seemingly', 'seems', 'seen', 'seeped', 'sees', 'segments', 'seize', 'seldom', 'selection', 'selectionFor', 'selections', 'selective', 'self', 'selfemployed', 'selfies', 'selfish', 'selfless', 'selfservice', 'sell', 'sellers', 'selling', 'sells', 'selon', 'semaines', 'semiannual', 'semisoft', 'sen', 'send', 'sending', 'sends', 'senior', 'seniors', 'sens', 'sensation', 'sense', 'sensenot', 'senses', 'sensitive', 'sensitivity', 'sensor', 'sensuality', 'sent', 'sentait', 'sentence', 'sentences', 'separate', 'separated', 'separately', 'sera', 'serait', 'serene', 'serial', 'serious', 'seriously', 'seriousness', 'sermon', 'serpentine', 'servaient', 'serve', 'served', 'servedthey', 'server', 'servers', 'serversa', 'serves', 'serveur', 'serveurs', 'serveursmais', 'serveuse', 'serveuses', 'service', 'serviceHad', 'serviceOHSO', 'serviceThe', 'serviced', 'servicemanagement', 'servicequality', 'services', 'serviceservers', 'servicethe', 'servicing', 'servie', 'serving', 'servings', 'servir', 'servral', 'ses', 'sesame', 'seseme', 'seso', 'session', 'sessions', 'sest', 'set', 'sets', 'setting', 'settings', 'settle', 'settled', 'settling', 'setup', 'seule', 'seulement', 'seuls', 'seven', 'sever', 'several', 'severe', 'severely', 'sevice', 'sew', 'sewer', 'sex', 'sexcusait', 'sexcuser', 'sexist', 'sexual', 'sexy', 'sexyness', 'shabby', 'shack', 'shade', 'shades', 'shadesbut', 'shadowing', 'shady', 'shaft', 'shake', 'shaker', 'shakes', 'shaking', 'shakshuka', 'shall', 'shallot', 'shame', 'shamed', 'shameful', 'shamelessly', 'shaming', 'shampoo', 'shamrockcactus', 'shandy', 'shanks', 'shape', 'shaped', 'shapes', 'share', 'shared', 'sharing', 'sharks', 'sharp', 'sharpened', 'sharpie', 'sharply', 'shattering', 'shave', 'shaved', 'shaving', 'shavings', 'shawarma', 'shecrab', 'shed', 'sheet', 'sheets', 'shelf', 'shell', 'shellac', 'shellfish', 'shelling', 'shells', 'sheltergross', 'shelters', 'shelved', 'shelves', 'shepards', 'shes', 'shi', 'shift', 'shifting', 'shine', 'shined', 'shiner', 'shiney', 'shingle', 'shining', 'shinning', 'shins', 'shiny', 'ship', 'shipped', 'shipping', 'shippingit', 'shirt', 'shirts', 'shit', 'shitamole', 'shits', 'shitting', 'shock', 'shocked', 'shocker', 'shocking', 'shockingly', 'shocks', 'shoe', 'shoes', 'shoot', 'shoots', 'shop', 'shoplifting', 'shoppe', 'shopped', 'shopping', 'shops', 'shorba', 'short', 'shortage', 'shortbready', 'shortcake', 'shortened', 'shortening', 'shorter', 'shortest', 'shortlisted', 'shortly', 'shorts', 'shot', 'shots', 'shoulda', 'shoulder', 'shoulders', 'shouldnt', 'shouldve', 'shout', 'shouted', 'shouting', 'shove', 'shoved', 'shoves', 'shoving', 'show', 'showcase', 'showed', 'shower', 'showertub', 'showing', 'showings', 'shown', 'showroom', 'shows', 'showtimes', 'shredded', 'shrimp', 'shrimps', 'shroom', 'shrug', 'shrugged', 'sht', 'shuffle', 'shumai', 'shut', 'shutting', 'shuttle', 'shuttles', 'shw', 'shy', 'si', 'sichuan', 'sick', 'sicker', 'sickest', 'side', 'sidedishes', 'sidelined', 'sides', 'sidesTook', 'sidewall', 'sideways', 'sigh', 'sighed', 'sight', 'sighting', 'sightings', 'sightseeing', 'sign', 'signage', 'signal', 'signature', 'signe', 'signed', 'significance', 'significantly', 'signin', 'signing', 'signs', 'sil', 'silence', 'silent', 'silently', 'silk', 'silkiness', 'silky', 'silly', 'silver', 'silvers', 'silverware', 'similar', 'similarly', 'simmering', 'simple', 'simplement', 'simplicity', 'simply', 'simultaneously', 'sin', 'since', 'sincere', 'sincerely', 'sinful', 'sing', 'singer', 'singers', 'singing', 'single', 'singular', 'sinigang', 'sink', 'sinker', 'sinking', 'sinks', 'sinon', 'sinus', 'sip', 'sipping', 'sir', 'sirens', 'sirloin', 'sisig', 'sister', 'sisters', 'sit', 'site', 'sites', 'sits', 'sitted', 'sitting', 'sittings', 'situation', 'situationWe', 'situations', 'six', 'sixth', 'sizable', 'size', 'sized', 'sizes', 'sizing', 'sizzle', 'skepticalbut', 'skeptically', 'sketch', 'sketched', 'sketches', 'sketchy', 'skiing', 'skill', 'skillet', 'skills', 'skimp', 'skimping', 'skimpy', 'skin', 'skincare', 'skinny', 'skinshell', 'skip', 'skipped', 'skipping', 'skirt', 'skirts', 'sky', 'slab', 'slack', 'slam', 'slammed', 'slammedmy', 'slanging', 'slap', 'slapped', 'slathered', 'slaw', 'sleazy', 'sleekly', 'sleep', 'sleeping', 'slice', 'sliced', 'slices', 'slicing', 'slid', 'slide', 'slider', 'sliders', 'slides', 'sliding', 'slight', 'slightest', 'slightly', 'slim', 'slimiest', 'slimy', 'sling', 'slip', 'slipped', 'slippery', 'slipping', 'slips', 'slogan', 'slop', 'slope', 'sloppy', 'slot', 'slots', 'sloughing', 'slow', 'slower', 'slowest', 'slowly', 'slows', 'slurry', 'slush', 'slushies', 'slutty', 'sly', 'smack', 'small', 'smaller', 'smallest', 'smallish', 'smallregular', 'smalls', 'smart', 'smash', 'smashed', 'smashing', 'smell', 'smelled', 'smelliest', 'smelling', 'smells', 'smelly', 'smelt', 'smh', 'smidge', 'smile', 'smileand', 'smiled', 'smiles', 'smiling', 'smiths', 'smog', 'smoke', 'smoked', 'smokehouse', 'smoker', 'smokers', 'smokey', 'smoking', 'smoky', 'smokyshady', 'smooth', 'smoothie', 'smoothies', 'smores', 'smother', 'smothered', 'smothering', 'smug', 'smugly', 'snack', 'snacked', 'snacks', 'snag', 'snails', 'snake', 'snakes', 'snap', 'snapped', 'snapshots', 'snarkily', 'snarky', 'snatch', 'snatched', 'snatching', 'snausages', 'sneak', 'sneaking', 'sneeze', 'sneezing', 'sniff', 'snipped', 'snob', 'snobby', 'snoh', 'snooty', 'snot', 'snottily', 'snotty', 'snow', 'snowbird', 'snowfall', 'snowing', 'snowmans', 'soNever', 'soak', 'soaked', 'soakeddrenched', 'soaking', 'soandso', 'soap', 'soapbox', 'soapy', 'soba', 'sober', 'soccer', 'social', 'socialize', 'socializing', 'socially', 'society', 'societys', 'socks', 'soda', 'sodas', 'sode', 'soem', 'sofa', 'soft', 'softboiled', 'softener', 'softly', 'softserve', 'software', 'soggy', 'soil', 'soir', 'soirée', 'soit', 'sol', 'solar', 'sold', 'sole', 'solely', 'soliciting', 'solicits', 'solid', 'solo', 'solution', 'solutions', 'solve', 'solved', 'solver', 'solves', 'somebody', 'someday', 'somehow', 'someone', 'someones', 'someplace', 'something', 'sometime', 'sometimes', 'somewhat', 'somewhere', 'somme', 'sommes', 'somone', 'somple', 'son', 'song', 'songs', 'soninlaw', 'sons', 'sont', 'soon', 'sooner', 'sooo', 'soooo', 'sooooo', 'sooth', 'soothing', 'sop', 'sophisticated', 'sophistication', 'sophomore', 'sophomores', 'sopping', 'sopprasatta', 'sorbet', 'sorbets', 'sore', 'sorely', 'sorority', 'sorrel', 'sorry', 'sort', 'sorte', 'sortie', 'sorties', 'sorts', 'soso', 'sot', 'souffle', 'soul', 'souls', 'sound', 'sounded', 'sounding', 'sounds', 'soup', 'soupe', 'souper', 'soups', 'soupçons', 'sour', 'source', 'sourced', 'sourcils', 'sourdough', 'sous', 'south', 'southern', 'souvenir', 'souvent', 'souvlaki', 'sox', 'soy', 'soya', 'spa', 'space', 'spaces', 'spacious', 'spades', 'spaghetti', 'spalike', 'span', 'spanakopita', 'spanikopita', 'spanish', 'spanked', 'spanking', 'spanx', 'spare', 'spared', 'sparingly', 'spark', 'sparkle', 'sparkling', 'sparky', 'sparse', 'spat', 'speacial', 'speacials', 'speak', 'speaking', 'speaks', 'spec', 'special', 'specialist', 'speciality', 'specialized', 'specializes', 'specially', 'specials', 'specialsmall', 'specialty', 'speciaux', 'specific', 'specifically', 'specifics', 'specified', 'specifies', 'specify', 'specimens', 'spectacular', 'spectrum', 'speech', 'speeches', 'speechless', 'speed', 'speeds', 'speedway', 'speedy', 'spell', 'spelled', 'spelling', 'spells', 'spend', 'spendin', 'spending', 'spends', 'spendy', 'spent', 'spice', 'spiced', 'spices', 'spiciness', 'spicy', 'spiders', 'spiked', 'spikes', 'spill', 'spilled', 'spilling', 'spills', 'spin', 'spinach', 'spinneret', 'spirits', 'spit', 'spite', 'splash', 'splashed', 'splattered', 'splatters', 'split', 'splitting', 'splurge', 'splurged', 'spoil', 'spoiled', 'spoiler', 'spoiling', 'spoke', 'spoken', 'spokes', 'sponge', 'sponsored', 'spoon', 'spoonful', 'sport', 'sportifs', 'sporting', 'sports', 'spot', 'spotMy', 'spotOh', 'spotless', 'spotlight', 'spoton', 'spots', 'spotted', 'spouse', 'spouses', 'spouts', 'spray', 'sprayed', 'spraying', 'spread', 'spreading', 'spreads', 'spring', 'springs', 'sprinkle', 'sprinkled', 'sprinkles', 'sprint', 'sproingy', 'sprouts', 'spruce', 'spunky', 'spurting', 'spécial', 'spéciaux', 'spécifié', 'squandered', 'square', 'squares', 'squash', 'squat', 'squeaking', 'squealing', 'squeeze', 'squeezed', 'squinted', 'squirming', 'sriracha', 'st', 'stabilizer', 'stack', 'stadium', 'stadiums', 'staff', 'staffed', 'staffing', 'staffs', 'stage', 'stain', 'stained', 'stainless', 'stains', 'stair', 'staircase', 'staircases', 'stairs', 'stale', 'stalking', 'stall', 'stalls', 'stamp', 'stamped', 'stand', 'standard', 'standards', 'standby', 'standbys', 'standing', 'standpoint', 'stands', 'stank', 'staple', 'staples', 'stapling', 'star', 'starbucks', 'starch', 'stare', 'stared', 'stargazer', 'stargazers', 'staring', 'starring', 'stars', 'starsthis', 'start', 'startFresh', 'started', 'starter', 'starters', 'starting', 'starts', 'starvin', 'starving', 'stat', 'state', 'stated', 'statement', 'statementbut', 'states', 'stateside', 'stating', 'station', 'stationary', 'stationnement', 'stations', 'status', 'statuses', 'stay', 'staycation', 'staycations', 'stayed', 'staying', 'stays', 'staywoke', 'steady', 'steak', 'steakhouse', 'steaks', 'steal', 'stealer', 'stealing', 'steam', 'steamed', 'steamer', 'steaming', 'steamy', 'stearing', 'steel', 'steep', 'steer', 'steering', 'steins', 'stellar', 'stem', 'stemmed', 'stems', 'stenciled', 'step', 'stepchild', 'stepped', 'stepping', 'steps', 'stereotype', 'stereotypes', 'sterile', 'sterilization', 'sterilized', 'stern', 'steve', 'stevia', 'stfu', 'stick', 'sticker', 'stickers', 'sticks', 'sticky', 'stiff', 'stiffened', 'stigmata', 'stiletto', 'stilettos', 'still', 'stilton', 'stilts', 'stinging', 'stingy', 'stink', 'stinky', 'stir', 'stirfry', 'stirring', 'stitching', 'stock', 'stocked', 'stocking', 'stocks', 'stocky', 'stogie', 'stoic', 'stole', 'stolen', 'stomach', 'stomachache', 'stomachs', 'stone', 'stones', 'stonewall', 'stood', 'stools', 'stop', 'stopped', 'stopping', 'stops', 'store', 'stored', 'storefront', 'storefronts', 'stores', 'storeslike', 'storeso', 'stories', 'storm', 'story', 'storyline', 'storytellers', 'stove', 'straight', 'straighten', 'strain', 'stranded', 'strands', 'strange', 'strangers', 'strapless', 'straps', 'straw', 'strawberried', 'strawberries', 'strawberry', 'straws', 'street', 'streetjus', 'streets', 'strenuous', 'stress', 'stressed', 'stressful', 'stressing', 'stretch', 'stretched', 'stretches', 'strewn', 'strict', 'stricter', 'stride', 'strike', 'strikes', 'string', 'stringy', 'strip', 'striploin', 'stripmall', 'strips', 'stroking', 'strolled', 'stroller', 'strollers', 'strolling', 'strolls', 'strong', 'stronger', 'strongly', 'structurally', 'structure', 'struggle', 'struggled', 'struggling', 'strung', 'strutting', 'stub', 'stuck', 'stud', 'student', 'students', 'studio', 'studios', 'studiously', 'study', 'stuff', 'stuffI', 'stuffed', 'stuffs', 'stuffy', 'stumble', 'stumbled', 'stump', 'stumped', 'stunk', 'stunned', 'stunning', 'stupid', 'stupidly', 'sturdier', 'sturdy', 'style', 'styled', 'styles', 'styling', 'stylish', 'stylist', 'stylists', 'styrofoam', 'styromousse', 'sub', 'subbing', 'subject', 'subjected', 'subjugated', 'subletting', 'submit', 'subpar', 'subs', 'subsequent', 'subsequently', 'subside', 'substance', 'substantial', 'substitute', 'substituting', 'substitutions', 'subtle', 'subtleness', 'subtract', 'suburban', 'subway', 'succeed', 'success', 'successful', 'succulent', 'succulente', 'suck', 'suckdom', 'sucked', 'sucker', 'sucking', 'sucks', 'sucky', 'sudden', 'suddenly', 'sue', 'suffer', 'suffered', 'suffering', 'suffice', 'sufficient', 'sufficiently', 'suffit', 'sufganiyot', 'sugar', 'sugarcane', 'sugary', 'suggest', 'suggested', 'suggestion', 'suggestions', 'suggests', 'suing', 'suis', 'suit', 'suitable', 'suitably', 'suitcase', 'suitcases', 'suite', 'suited', 'suites', 'suits', 'suivre', 'sukiyaki', 'sullen', 'sum', 'summary', 'summer', 'summerlin', 'summers', 'summit', 'sumo', 'sums', 'sun', 'sundae', 'sunday', 'sundried', 'sunflower', 'sunglasses', 'sunk', 'sunlight', 'suns', 'sunscreen', 'sunset', 'sunshine', 'sunshiny', 'super', 'superb', 'superbe', 'superficial', 'superfluous', 'superhero', 'superior', 'supermarket', 'supernova', 'superposh', 'superpower', 'supervision', 'supervisor', 'supervisors', 'supper', 'supplements', 'supplied', 'supplier', 'supplies', 'supply', 'support', 'supporting', 'supportive', 'suppose', 'supposed', 'supposedly', 'sur', 'surcharge', 'sure', 'surely', 'surf', 'surface', 'surfaces', 'surfandturf', 'surgeons', 'surgeries', 'surgery', 'surgical', 'surpassed', 'surpasses', 'surprise', 'surprised', 'surprising', 'surprisingly', 'surround', 'surrounded', 'surrounding', 'surtout', 'survey', 'survived', 'survives', 'sushi', 'sushimy', 'sushit', 'suspect', 'suspected', 'suspend', 'suspended', 'suspension', 'suspicions', 'suspicious', 'suspiciousit', 'sustain', 'sustainable', 'sustenance', 'sux', 'svp', 'sw', 'swab', 'swallow', 'swallowed', 'swamp', 'swan', 'swanky', 'swapped', 'swarm', 'swear', 'swearing', 'sweat', 'sweater', 'sweating', 'sweaty', 'sweep', 'sweeping', 'sweet', 'sweetchocolate', 'sweetcrunchybready', 'sweetened', 'sweetener', 'sweeter', 'sweetheart', 'sweetness', 'sweets', 'sweettangy', 'swelling', 'swept', 'swiftly', 'swill', 'swim', 'swimming', 'swimmingly', 'swindled', 'swing', 'swinging', 'swipe', 'swiped', 'swirl', 'switch', 'switched', 'switching', 'swollen', 'swore', 'sworn', 'swung', 'symbol', 'sympathetically', 'sympathique', 'symptom', 'sync', 'synced', 'syrup', 'syrups', 'system', 'système', 'sève', 'sélection', 'sûr', 'sûre', 'sûrement', 'tab', 'table', 'tablemates', 'tables', 'tableside', 'tablet', 'tackling', 'taco', 'tacos', 'tacothen', 'tactic', 'tactics', 'tad', 'tag', 'tags', 'tahini', 'tail', 'tailor', 'tailors', 'tails', 'tainted', 'take', 'takehome', 'taken', 'takeout', 'takeouts', 'takes', 'takin', 'taking', 'takoyaki', 'tale', 'talen', 'talented', 'talk', 'talka', 'talked', 'talking', 'talks', 'tall', 'tamarind', 'tamisé', 'tamtams', 'tandem', 'tandoori', 'tang', 'tangled', 'tangy', 'tank', 'tantalize', 'tap', 'tapas', 'tapasstyle', 'tape', 'tapemeasures', 'tapioca', 'taps', 'taqueria', 'taquitos', 'tar', 'tard', 'tardbref', 'target', 'targeted', 'targets', 'tarnished', 'taro', 'tart', 'tartar', 'tartare', 'tarte', 'tarter', 'tartness', 'tarts', 'task', 'tasks', 'taste', 'tastebuds', 'tasted', 'tasteless', 'tastes', 'tastethat', 'tastewise', 'tastier', 'tastiest', 'tasting', 'tasty', 'tat', 'tataki', 'tater', 'tatoo', 'tattered', 'tattoo', 'tattood', 'tattoos', 'taught', 'tavlele', 'tax', 'taxes', 'taxi', 'taxiUber', 'taxis', 'tchotchke', 'te', 'tea', 'teabased', 'teach', 'teacher', 'teachers', 'teaching', 'team', 'teapot', 'tear', 'tearing', 'tears', 'teas', 'tech', 'technically', 'technician', 'technicians', 'technique', 'technology', 'techs', 'tedious', 'tee', 'teenage', 'teenager', 'teenie', 'teens', 'teeth', 'telemarket', 'television', 'televisions', 'tell', 'teller', 'tellers', 'telling', 'tells', 'temp', 'temper', 'temperature', 'temps', 'tempset', 'tempted', 'tempting', 'tempura', 'ten', 'tend', 'tendency', 'tender', 'tenderlion', 'tenderloin', 'tenderness', 'tenders', 'tending', 'tendon', 'tends', 'tennis', 'tense', 'tension', 'tent', 'tentacles', 'tenure', 'tepid', 'tequila', 'tequilas', 'terasse', 'teriyaki', 'term', 'terminal', 'terminate', 'termination', 'terminer', 'terms', 'terrace', 'terrain', 'terrasse', 'terre', 'terrible', 'terribly', 'terrific', 'terrified', 'terrorized', 'test', 'testament', 'tested', 'testify', 'testing', 'tests', 'texas', 'text', 'texted', 'texting', 'texts', 'texture', 'textures', 'thai', 'thank', 'thanked', 'thankful', 'thankfully', 'thanking', 'thanks', 'thatI', 'thatll', 'thats', 'thatthat', 'thaw', 'theaten', 'theater', 'theaters', 'theatre', 'theee', 'theft', 'themDirectv', 'themand', 'theme', 'themed', 'themjust', 'themloose', 'themthey', 'themummm', 'themwell', 'thenThis', 'theory', 'therapist', 'therapists', 'therapy', 'thereBloody', 'thereThey', 'thereafter', 'thered', 'therefore', 'therekiss', 'theres', 'thermostat', 'theyd', 'theyll', 'theyre', 'theyve', 'thibg', 'thick', 'thicker', 'thickness', 'thief', 'thier', 'thieves', 'thighs', 'thimble', 'thin', 'thing', 'things', 'thingstrawberry', 'think', 'thinking', 'thinkingsigh', 'thinks', 'third', 'thirdrate', 'thirst', 'thirties', 'thirty', 'thirtysome', 'thisYou', 'tho', 'thong', 'thorough', 'thoroughly', 'thorugh', 'though', 'thought', 'thoughtful', 'thoughts', 'thousand', 'thousands', 'thread', 'threaded', 'threading', 'threads', 'threaten', 'threatened', 'threatening', 'three', 'threw', 'thrilled', 'thrilling', 'thrive', 'throat', 'throattongue', 'throughout', 'throughthat', 'throw', 'throwback', 'throwing', 'thrown', 'thru', 'thrus', 'thumb', 'thumbs', 'thunderstorm', 'thus', 'ti', 'ticked', 'ticket', 'tickets', 'tidbits', 'tidy', 'tie', 'tied', 'tiendrais', 'tier', 'ties', 'tiff', 'tigers', 'tight', 'tightened', 'tightly', 'tightrope', 'tiki', 'tikka', 'tikki', 'til', 'tile', 'tiles', 'till', 'tilted', 'time', 'timeDefinitely', 'timeI', 'timeSamsonite', 'timeWhen', 'timebut', 'timely', 'timeour', 'timepiece', 'timer', 'times', 'timesfirst', 'timeshare', 'timethat', 'timing', 'timingbut', 'tin', 'tine', 'tiniest', 'tint', 'tinting', 'tiny', 'tip', 'tipand', 'tipped', 'tippers', 'tipping', 'tips', 'tipspayment', 'tipstax', 'tiramisu', 'tire', 'tired', 'tirelessly', 'tires', 'tiresome', 'tissue', 'titillated', 'title', 'titled', 'titties', 'tmobile', 'tmrwIll', 'toStaff', 'toal', 'toast', 'toasted', 'tobacco', 'tod', 'today', 'todays', 'toddler', 'toddlers', 'toe', 'toed', 'toeilt', 'toes', 'toffee', 'tofu', 'together', 'togo', 'toilet', 'toiletmold', 'toilettes', 'told', 'tolerable', 'tolerance', 'tolerant', 'tolerate', 'tom', 'tomates', 'tomato', 'tomatoes', 'tomatoey', 'tombe', 'tombé', 'tomorrow', 'ton', 'tone', 'toned', 'tones', 'tongue', 'tongues', 'tonic', 'tonight', 'toning', 'tonkatsu', 'tons', 'tooWas', 'took', 'toolemony', 'tools', 'toooo', 'tooth', 'toothpaste', 'toothpick', 'top', 'topWTF', 'topic', 'topics', 'topmmmmmmmmm', 'topout', 'topped', 'topper', 'toppers', 'topping', 'toppings', 'tops', 'torch', 'tord', 'tore', 'torillas', 'torn', 'toro', 'tortila', 'tortilla', 'tortillas', 'tortilliasReally', 'tortuous', 'toss', 'tossed', 'tosses', 'tostada', 'total', 'totaled', 'totaler', 'totally', 'totals', 'touch', 'touched', 'touches', 'touching', 'touchup', 'tough', 'toujours', 'tour', 'toured', 'touring', 'tourist', 'tourists', 'tournament', 'tournaments', 'tours', 'tous', 'tout', 'toute', 'toutes', 'toutmais', 'tow', 'toward', 'towards', 'towed', 'towel', 'towels', 'towelthey', 'tower', 'towers', 'towing', 'town', 'towners', 'toxins', 'toy', 'toyed', 'toying', 'toys', 'trace', 'track', 'tracking', 'tracks', 'trade', 'trading', 'traditional', 'traffic', 'tragedy', 'trail', 'trailer', 'trails', 'train', 'trained', 'trainer', 'trainers', 'training', 'trainings', 'trains', 'trampling', 'trampoline', 'tranny', 'tranquile', 'transaction', 'transactions', 'transat', 'transfer', 'transfered', 'transferred', 'transformation', 'transformed', 'transforming', 'transit', 'transitioned', 'translates', 'translating', 'translations', 'transmission', 'transpire', 'transpired', 'transplant', 'transplants', 'transplantyou', 'transport', 'transported', 'trap', 'traps', 'trash', 'trashed', 'trashy', 'traumatic', 'traumatized', 'travail', 'travaille', 'travel', 'traveled', 'traveler', 'travelers', 'traveling', 'travelled', 'travels', 'travesty', 'tray', 'trays', 'tread', 'treadmill', 'treasures', 'treat', 'treated', 'treating', 'treatment', 'treatments', 'treats', 'tree', 'trees', 'trembles', 'tremendous', 'tremendously', 'trend', 'trends', 'trendy', 'trew', 'trial', 'triangle', 'triathlon', 'tribute', 'trick', 'tricked', 'trickle', 'tricks', 'tricky', 'tried', 'triedandtrue', 'tries', 'trim', 'trimester', 'trimmed', 'trimming', 'trimmings', 'trinkets', 'trio', 'trip', 'tripe', 'triple', 'tripped', 'tripping', 'trips', 'troisième', 'trooper', 'trop', 'tropical', 'tropicana', 'trouble', 'troubled', 'troubles', 'trounced', 'troupe', 'troupes', 'trouve', 'trouver', 'trouves', 'trouvé', 'tru', 'truc', 'truck', 'trucks', 'trucs', 'true', 'truffle', 'truffles', 'truly', 'trump', 'trumps', 'trunk', 'truss', 'trust', 'trusted', 'trustworthy', 'trusty', 'truth', 'truthfully', 'try', 'trying', 'très', 'tse', 'tshirt', 'tshirts', 'tsunami', 'tsé', 'tu', 'tub', 'tube', 'tucked', 'tug', 'tulips', 'tumbling', 'tummies', 'tummy', 'tuna', 'tune', 'tuned', 'tuning', 'tunnel', 'turd', 'turf', 'turkey', 'turn', 'turnaround', 'turned', 'turning', 'turnip', 'turnips', 'turnout', 'turnover', 'turns', 'turtles', 'tutoring', 'tux', 'tuxedo', 'tuxedos', 'tv', 'tvs', 'twas', 'tweak', 'tweaks', 'tweet', 'tweezers', 'twenty', 'twice', 'twicesame', 'twin', 'twins', 'twist', 'twisted', 'twisting', 'two', 'type', 'types', 'typical', 'typically', 'typing', 'typo', 'tzatziki', 'tâches', 'téléphone', 'tête', 'tôt', 'u', 'ube', 'ubereat', 'ubered', 'ubiquitous', 'udon', 'ugh', 'uglier', 'ugliness', 'ugly', 'uhaul', 'ultimate', 'ultimately', 'ultra', 'um', 'umami', 'umbrellas', 'ummm', 'un', 'unable', 'unacceptable', 'unaccommodating', 'unagi', 'unamused', 'unannouncedas', 'unapologetic', 'unappealing', 'unappealingAYCE', 'unappetizing', 'unappreciated', 'unarmed', 'unassuming', 'unattended', 'unattentive', 'unauthentic', 'unavailable', 'unbearably', 'unbelievable', 'unbelievably', 'unbleached', 'unboxing', 'uncalled', 'uncaring', 'uncertainty', 'uncle', 'uncomfortable', 'uncommon', 'unconcerned', 'uncooked', 'uncool', 'uncooperative', 'undecided', 'underage', 'undercooked', 'undercover', 'undercut', 'underestimated', 'undergo', 'undergone', 'underground', 'underneath', 'underprivileged', 'understaffed', 'understand', 'understandable', 'understanding', 'understands', 'understated', 'understatement', 'understood', 'underwhelmed', 'underwhelming', 'undiscovered', 'undoubtedly', 'undress', 'undressing', 'une', 'uneaten', 'unessbar', 'unethical', 'uneven', 'unevenly', 'uneventful', 'unexpected', 'unfair', 'unfairly', 'unflattering', 'unfold', 'unforgettable', 'unfortunate', 'unfortunately', 'unfounded', 'unfriendly', 'ungrateful', 'unhappiness', 'unhappy', 'unhealthy', 'unheard', 'unhelpful', 'unhook', 'unhygienic', 'unicorn', 'uniform', 'uninformed', 'union', 'unique', 'uniquely', 'unit', 'units', 'universal', 'unkempt', 'unkept', 'unknown', 'unless', 'unlike', 'unlimited', 'unmanicured', 'unmemorable', 'unnatural', 'unnecessarily', 'unnecessary', 'unnoticed', 'unoccupiedfor', 'unorganised', 'unorganized', 'unpacked', 'unpaid', 'unpatriotic', 'unpersonable', 'unpleasant', 'unpleasantness', 'unplug', 'unpretentious', 'unprofessional', 'unprofessionalism', 'unprofessionally', 'unrealistic', 'unreliable', 'unresponsive', 'unresponsiveness', 'unsafe', 'unsaid', 'unsatisfied', 'unseen', 'unserved', 'unserviced', 'unsettling', 'unsettlingly', 'unsophisticated', 'unspoken', 'unsteady', 'unsuitable', 'unsure', 'unsuspecting', 'unsympathetic', 'unsympathetically', 'untill', 'untraditionally', 'untrue', 'unusual', 'unwanted', 'unwarranted', 'unwelcoming', 'unwilling', 'unwind', 'unwinding', 'unwrapped', 'upbeat', 'upcharge', 'upcoming', 'update', 'updated', 'updates', 'updating', 'upfront', 'upgrade', 'upgraded', 'upgrading', 'upholstery', 'uplifting', 'upon', 'upped', 'upper', 'ups', 'upscale', 'upsell', 'upset', 'upsetting', 'upside', 'upstairs', 'uptown', 'upwards', 'ur', 'urban', 'urgency', 'urgent', 'urine', 'us', 'use', 'used', 'useful', 'useless', 'user', 'users', 'uses', 'ushers', 'using', 'usnow', 'usright', 'ustensiles', 'usthus', 'usual', 'usual3pksof', 'usually', 'usualthey', 'uswhile', 'utensils', 'uti', 'utilities', 'utilize', 'utilized', 'utter', 'utterly', 'uturn', 'uuuggg10', 'va', 'vacation', 'vacations', 'vaccinated', 'vaccinations', 'vaccine', 'vaccines', 'vaccum', 'vacuum', 'vacuumed', 'vacuums', 'vada', 'vague', 'vais', 'valais', 'valerio', 'valet', 'valid', 'validate', 'validated', 'validation', 'valley', 'vallina', 'value', 'valued', 'valve', 'valves', 'van', 'vandalized', 'vanilla', 'vanished', 'vanquish', 'vantage', 'vapid', 'variant', 'variation', 'varieties', 'variety', 'various', 'variés', 'variété', 'vary', 'vase', 'vast', 'vastly', 'vat', 'vaut', 'veal', 'vecation', 'vedette', 'veg', 'vegan', 'veganaise', 'vegans', 'veganvegetarian', 'vegas', 'vegetable', 'vegetables', 'vegetarian', 'vegetarians', 'vegetariansvegans', 'veggie', 'veggies', 'vegheads', 'vegi', 'vehicle', 'vehicles', 'velvet', 'velvetyou', 'venait', 'vendor', 'vendors', 'vendorschefs', 'vendredi', 'venir', 'venison', 'vent', 'ventilated', 'ventilation', 'ventre', 'venture', 'ventured', 'ventures', 'venu', 'venue', 'venueits', 'venues', 'verbal', 'verbally', 'verde', 'verge', 'verified', 'verify', 'vermicelli', 'verre', 'verresIl', 'vers', 'versalzen', 'versatile', 'verse', 'versed', 'version', 'versions', 'versus', 'veryoverdue', 'vest', 'vet', 'veteran', 'veterans', 'veterinary', 'vets', 'veut', 'veux', 'vey', 'via', 'viande', 'viandes', 'vibe', 'vibes', 'vice', 'vices', 'viceversa', 'victim', 'victimized', 'victims', 'victory', 'vide', 'video', 'videos', 'vie', 'vient', 'vieuxmtl', 'view', 'viewed', 'viewing', 'views', 'vile', 'village', 'ville', 'vin', 'vinaigrette', 'vine', 'vinegar', 'vines', 'vineyard', 'vingtaine', 'vintage', 'viola', 'violence', 'violin', 'violinist', 'virgins', 'virtues', 'virtuoso', 'visible', 'visiblement', 'visibly', 'vision', 'visions', 'visit', 'visite', 'visited', 'visiterles', 'visiting', 'visitor', 'visitors', 'visits', 'visors', 'visual', 'visually', 'vital', 'vitals', 'vitamin', 'vite', 'vodka', 'voice', 'voiced', 'voicemail', 'voicemails', 'voices', 'void', 'voir', 'vois', 'voit', 'voiture', 'volcano', 'volley', 'volt', 'volume', 'volumes', 'volunteer', 'volunteering', 'volunteers', 'volé', 'vom', 'vomir', 'vomit', 'vomited', 'vomiting', 'vons', 'voodoo', 'voted', 'voting', 'votre', 'votte', 'vouch', 'voucher', 'vouchers', 'voulais', 'voulait', 'voulez', 'vous', 'vow', 'vowed', 'vowing', 'voyais', 'voyait', 'vrai', 'vraiment', 'vs', 'vu', 'vue', 'vulgur', 'vulture', 'vw', 'vélos', 'w', 'wack', 'wade', 'wafer', 'wafers', 'waffle', 'waffles', 'wafting', 'wafts', 'wages', 'wagging', 'waist', 'waisted', 'waistlines', 'wait', 'waited', 'waiter', 'waiterbussertodos', 'waiters', 'waitgo', 'waiting', 'waitingand', 'waitit', 'waitlist', 'waitlists', 'waitress', 'waitresses', 'waitresss', 'waitressthis', 'waits', 'waitslines', 'waitstaff', 'waive', 'waiver', 'wake', 'wakes', 'waking', 'walk', 'walked', 'walkin', 'walking', 'walkins', 'walks', 'walkways', 'wall', 'walled', 'wallet', 'wallets', 'wallpaper', 'walls', 'walnut', 'waltscom', 'wander', 'wandered', 'wandering', 'wanders', 'wanna', 'wannabe', 'want', 'wanted', 'wanting', 'wantneed', 'wants', 'wardrobe', 'ware', 'warehouse', 'warehouses', 'warm', 'warmed', 'warmer', 'warming', 'warmly', 'warms', 'warn', 'warned', 'warning', 'warped', 'warrant', 'warranted', 'warrants', 'warranty', 'warriors', 'wasabi', 'wasbad', 'wasgoodso', 'wash', 'washable', 'washed', 'washer', 'washes', 'washing', 'washrooms', 'washyness', 'wasis', 'wasnt', 'waste', 'wasted', 'wasting', 'watch', 'watched', 'watches', 'watching', 'water', 'waterdamaged', 'watered', 'waterfall', 'waterfalls', 'watering', 'watermelon', 'waters', 'watery', 'wave', 'waved', 'wax', 'waxdetail', 'waxed', 'waxer', 'waxes', 'waxing', 'way', 'wayfinding', 'ways', 'wayshe', 'wayyyy', 'weak', 'weaker', 'weaklings', 'wealth', 'weapons', 'wear', 'wearing', 'wears', 'weather', 'web', 'webpage', 'website', 'wed', 'wedding', 'weddings', 'wedge', 'wedged', 'wedges', 'wee', 'weed', 'weeds', 'week', 'weekday', 'weekend', 'weekendit', 'weekends', 'weekly', 'weeknight', 'weeknights', 'weeks', 'weight', 'weights', 'weird', 'weirdbut', 'weirder', 'weirdly', 'weiss', 'welcome', 'welcomed', 'welcomes', 'welcoming', 'welfare', 'well', 'wellI', 'welling', 'wellkept', 'wellness', 'welloiled', 'wellpriced', 'wellstocked', 'wellthoughtout', 'welltuned', 'wellwell', 'welp', 'went', 'werent', 'west', 'westerners', 'westgate', 'wet', 'wether', 'weve', 'wflying', 'whack', 'whatI', 'whatbrules', 'whater', 'whatever', 'whateverlike', 'whats', 'whatsoever', 'whattt', 'whatwhen', 'wheat', 'wheel', 'whenever', 'whereas', 'wheres', 'wherever', 'whether', 'whileGO', 'whim', 'whining', 'whip', 'whipped', 'whipthe', 'whirlpools', 'whiskey', 'whiskeys', 'whispered', 'white', 'whitebread', 'whitefish', 'whoever', 'whole', 'whomever', 'whoop', 'whopping', 'whore', 'whorehouse', 'whos', 'whose', 'wi', 'wich', 'wicked', 'wide', 'widely', 'widest', 'wierd', 'wife', 'wifes', 'wifey', 'wifi', 'wig', 'wilburs', 'wild', 'wilderness', 'wildest', 'willing', 'wilted', 'wily', 'win', 'window', 'windows', 'windshield', 'windshields', 'windsor', 'windy', 'wine', 'winery', 'wines', 'wing', 'wingI', 'wings', 'wingsand', 'wink', 'winner', 'winners', 'winning', 'winnings', 'wins', 'winter', 'wintermelon', 'winterspring', 'winwin', 'wipe', 'wiped', 'wipers', 'wipes', 'wiping', 'wired', 'wisdom', 'wise', 'wisely', 'wish', 'wished', 'wishes', 'wishing', 'wishy', 'wit', 'witch', 'withEVER', 'withdrawing', 'within', 'without', 'witness', 'witnessed', 'wits', 'witty', 'wobbly', 'woes', 'woke', 'woman', 'womanglasses', 'womans', 'women', 'womens', 'wonder', 'wonderbread', 'wondered', 'wonderful', 'wonderfully', 'wondering', 'wonderland', 'wonders', 'wong', 'wont', 'wonton', 'wontons', 'woo', 'wood', 'woodchester', 'wooden', 'wooed', 'word', 'wordYUM', 'wording', 'wordlessly', 'words', 'wore', 'work', 'workI', 'workday', 'worked', 'worker', 'workers', 'working', 'workmanship', 'workout', 'workplace', 'works', 'world', 'worldliness', 'worlds', 'worm', 'worn', 'worried', 'worries', 'worring', 'worry', 'worrying', 'worrythe', 'worse', 'worship', 'worst', 'worth', 'worthless', 'worthwhile', 'worthy', 'would', 'wouldnt', 'wouldt', 'wouldve', 'wound', 'woven', 'wow', 'wowed', 'wrap', 'wraparound', 'wrapped', 'wrapper', 'wrappers', 'wrapping', 'wraps', 'wreck', 'wretched', 'wrinkled', 'wristbands', 'write', 'writes', 'writhing', 'writing', 'written', 'wrong', 'wrongIt', 'wrote', 'wseaweed', 'wss', 'wtf', 'wth', 'x', 'x3', 'xtra', 'y1', 'y1nowcom', 'ya', 'yall', 'yama', 'yanked', 'yard', 'yea', 'yeaa', 'yeah', 'yeahGet', 'year', 'yearly', 'yearmakemodel', 'years', 'yearsto', 'yell', 'yelled', 'yelling', 'yellow', 'yellowfin', 'yellowish', 'yellows', 'yellowtail', 'yelp', 'yelped', 'yelpers', 'yelping', 'yep', 'yes', 'yescrab', 'yesterday', 'yesterdays', 'yet', 'yeux', 'yiasou', 'yo', 'yoga', 'yogi', 'yogis', 'yogurt', 'yolk', 'yolo', 'youd', 'youit', 'youll', 'young', 'younger', 'youngest', 'youre', 'youtry', 'youtube', 'youve', 'youvsynthetic', 'yr', 'yrsno', 'yuck', 'yum', 'yummie', 'yummy', 'yuppie', 'zap', 'zapping', 'zen', 'zero', 'zing', 'zip', 'zipper', 'ziti', 'zombie', 'zone', 'zoo', 'zucchini', '£150', '£500', 'À', 'Ça', 'ÉTAIT', 'ÉTOILE', 'ÉTÉ', 'Évidemment', 'à', 'ça', 'échanges', 'échantillons', 'écoeurantdemandé', 'élan', 'étaient', 'étais', 'était', 'étions', 'étoile', 'étudier', 'été', 'évidemment', 'éviter', 'évènements', 'êtes', 'être', '\\u200d']\n"
     ]
    }
   ],
   "source": [
    " print(vectorizer.get_feature_names())"
   ]
  },
  {
   "cell_type": "code",
   "execution_count": 142,
   "metadata": {},
   "outputs": [
    {
     "data": {
      "text/plain": [
       "(2000, 18556)"
      ]
     },
     "execution_count": 142,
     "metadata": {},
     "output_type": "execute_result"
    }
   ],
   "source": [
    "reviews_count_vectorizer.shape"
   ]
  },
  {
   "cell_type": "markdown",
   "metadata": {},
   "source": [
    "# Naive Bayes "
   ]
  },
  {
   "cell_type": "markdown",
   "metadata": {},
   "source": [
    "### Training the model with sample dataset 2000 rows"
   ]
  },
  {
   "cell_type": "code",
   "execution_count": 143,
   "metadata": {},
   "outputs": [],
   "source": [
    "from sklearn.naive_bayes import MultinomialNB\n",
    "\n",
    "NB_classifier = MultinomialNB()\n",
    "target = df['stars']"
   ]
  },
  {
   "cell_type": "code",
   "execution_count": 144,
   "metadata": {},
   "outputs": [
    {
     "data": {
      "text/plain": [
       "MultinomialNB()"
      ]
     },
     "execution_count": 144,
     "metadata": {},
     "output_type": "execute_result"
    }
   ],
   "source": [
    "NB_classifier.fit(reviews_count_vectorizer,target)"
   ]
  },
  {
   "cell_type": "code",
   "execution_count": 145,
   "metadata": {},
   "outputs": [],
   "source": [
    "test_sample_1 = [\"it was amazing food , and very good staff\"]\n",
    "test_sample_2 = [\"very bad restaurant, and bad service\"]"
   ]
  },
  {
   "cell_type": "code",
   "execution_count": 151,
   "metadata": {},
   "outputs": [],
   "source": [
    "test_sample_1_count_vectorizer = vectorizer.transform(test_sample_1)"
   ]
  },
  {
   "cell_type": "code",
   "execution_count": 152,
   "metadata": {},
   "outputs": [
    {
     "data": {
      "text/plain": [
       "array([5], dtype=int64)"
      ]
     },
     "execution_count": 152,
     "metadata": {},
     "output_type": "execute_result"
    }
   ],
   "source": [
    "NB_classifier.predict(test_sample_1_count_vectorizer)"
   ]
  },
  {
   "cell_type": "code",
   "execution_count": 153,
   "metadata": {},
   "outputs": [],
   "source": [
    "test_sample_2_count_vectorizer = vectorizer.transform(test_sample_2)"
   ]
  },
  {
   "cell_type": "code",
   "execution_count": 154,
   "metadata": {},
   "outputs": [
    {
     "data": {
      "text/plain": [
       "array([1], dtype=int64)"
      ]
     },
     "execution_count": 154,
     "metadata": {},
     "output_type": "execute_result"
    }
   ],
   "source": [
    "NB_classifier.predict(test_sample_2_count_vectorizer)"
   ]
  },
  {
   "cell_type": "markdown",
   "metadata": {},
   "source": [
    "### Apply Algorithm on test data"
   ]
  },
  {
   "cell_type": "code",
   "execution_count": 159,
   "metadata": {},
   "outputs": [],
   "source": [
    "X_vectorizer = vectorizer.transform(X)"
   ]
  },
  {
   "cell_type": "code",
   "execution_count": 160,
   "metadata": {},
   "outputs": [],
   "source": [
    "preds = NB_classifier.predict(X_vectorizer)"
   ]
  },
  {
   "cell_type": "code",
   "execution_count": 166,
   "metadata": {},
   "outputs": [],
   "source": [
    "from sklearn.metrics import accuracy_score ,classification_report ,confusion_matrix"
   ]
  },
  {
   "cell_type": "code",
   "execution_count": 165,
   "metadata": {},
   "outputs": [
    {
     "name": "stdout",
     "output_type": "stream",
     "text": [
      "Accuracy of Naive Bayes Algorithm =  87.25  %\n"
     ]
    }
   ],
   "source": [
    "print(\"Accuracy of Naive Bayes Algorithm = \",accuracy_score(Y, preds) * 100 ,\" %\")"
   ]
  },
  {
   "cell_type": "code",
   "execution_count": 167,
   "metadata": {},
   "outputs": [
    {
     "data": {
      "text/plain": [
       "<matplotlib.axes._subplots.AxesSubplot at 0x7c0642bd90>"
      ]
     },
     "execution_count": 167,
     "metadata": {},
     "output_type": "execute_result"
    },
    {
     "data": {
      "image/png": "[encoded data removed]",
      "text/plain": [
       "<Figure size 432x288 with 2 Axes>"
      ]
     },
     "metadata": {
      "needs_background": "light"
     },
     "output_type": "display_data"
    }
   ],
   "source": [
    "cm = confusion_matrix(Y,preds)\n",
    "sns.heatmap(cm,annot = True)"
   ]
  },
  {
   "cell_type": "code",
   "execution_count": 168,
   "metadata": {},
   "outputs": [
    {
     "name": "stdout",
     "output_type": "stream",
     "text": [
      "              precision    recall  f1-score   support\n",
      "\n",
      "           1       0.83      0.94      0.88       200\n",
      "           5       0.93      0.81      0.86       200\n",
      "\n",
      "    accuracy                           0.87       400\n",
      "   macro avg       0.88      0.87      0.87       400\n",
      "weighted avg       0.88      0.87      0.87       400\n",
      "\n"
     ]
    }
   ],
   "source": [
    "print(classification_report(Y,preds))"
   ]
  },
  {
   "cell_type": "markdown",
   "metadata": {},
   "source": [
    "### Applying TF-IDF"
   ]
  },
  {
   "cell_type": "code",
   "execution_count": 169,
   "metadata": {},
   "outputs": [
    {
     "data": {
      "text/plain": [
       "<2000x18556 sparse matrix of type '<class 'numpy.int64'>'\n",
       "\twith 116065 stored elements in Compressed Sparse Row format>"
      ]
     },
     "execution_count": 169,
     "metadata": {},
     "output_type": "execute_result"
    }
   ],
   "source": [
    "reviews_count_vectorizer"
   ]
  },
  {
   "cell_type": "code",
   "execution_count": 170,
   "metadata": {},
   "outputs": [],
   "source": [
    "%%time\n",
    "from sklearn.feature_extraction.text import TfidfTransformer\n",
    "reviews_tfidf = TfidfTransformer().fit_transform(reviews_count_vectorizer)"
   ]
  },
  {
   "cell_type": "code",
   "execution_count": 179,
   "metadata": {},
   "outputs": [],
   "source": [
    "reviews_tfidf_X_test = TfidfTransformer().fit_transform(reviews_count_vectorizer_X)"
   ]
  },
  {
   "cell_type": "code",
   "execution_count": 171,
   "metadata": {},
   "outputs": [
    {
     "data": {
      "text/plain": [
       "(2000, 18556)"
      ]
     },
     "execution_count": 171,
     "metadata": {},
     "output_type": "execute_result"
    }
   ],
   "source": [
    "reviews_tfidf.shape"
   ]
  },
  {
   "cell_type": "code",
   "execution_count": 180,
   "metadata": {},
   "outputs": [
    {
     "data": {
      "text/plain": [
       "(400, 6149)"
      ]
     },
     "execution_count": 180,
     "metadata": {},
     "output_type": "execute_result"
    }
   ],
   "source": [
    "reviews_tfidf_X_test.shape"
   ]
  },
  {
   "cell_type": "code",
   "execution_count": 185,
   "metadata": {},
   "outputs": [],
   "source": [
    "from sklearn.model_selection import train_test_split\n",
    "X = reviews_tfidf\n",
    "y = df['stars']\n",
    "X_train,X_test,y_train,y_test = train_test_split(X,y,test_size = 0.2)"
   ]
  },
  {
   "cell_type": "code",
   "execution_count": null,
   "metadata": {},
   "outputs": [],
   "source": []
  },
  {
   "cell_type": "code",
   "execution_count": 186,
   "metadata": {},
   "outputs": [
    {
     "data": {
      "text/plain": [
       "((1600, 18556), (1600,), (400, 18556), (400,))"
      ]
     },
     "execution_count": 186,
     "metadata": {},
     "output_type": "execute_result"
    }
   ],
   "source": [
    "X_train.shape,y_train.shape,X_test.shape,y_test.shape"
   ]
  },
  {
   "cell_type": "code",
   "execution_count": 187,
   "metadata": {},
   "outputs": [
    {
     "data": {
      "text/plain": [
       "MultinomialNB()"
      ]
     },
     "execution_count": 187,
     "metadata": {},
     "output_type": "execute_result"
    }
   ],
   "source": [
    "from sklearn.naive_bayes import MultinomialNB\n",
    "\n",
    "NB_classifier = MultinomialNB()\n",
    "NB_classifier.fit(X_train,y_train)"
   ]
  },
  {
   "cell_type": "code",
   "execution_count": 188,
   "metadata": {},
   "outputs": [],
   "source": [
    "y_preds = NB_classifier.predict(X_test)"
   ]
  },
  {
   "cell_type": "code",
   "execution_count": 189,
   "metadata": {},
   "outputs": [
    {
     "data": {
      "text/plain": [
       "<matplotlib.axes._subplots.AxesSubplot at 0x7bbe8e22e0>"
      ]
     },
     "execution_count": 189,
     "metadata": {},
     "output_type": "execute_result"
    },
    {
     "data": {
      "image/png": "[encoded data removed]",
      "text/plain": [
       "<Figure size 432x288 with 2 Axes>"
      ]
     },
     "metadata": {
      "needs_background": "light"
     },
     "output_type": "display_data"
    }
   ],
   "source": [
    "cm = confusion_matrix(y_test,y_preds)\n",
    "sns.heatmap(cm,annot = True)"
   ]
  },
  {
   "cell_type": "code",
   "execution_count": 190,
   "metadata": {},
   "outputs": [
    {
     "name": "stdout",
     "output_type": "stream",
     "text": [
      "Accuracy of Naive Bayes Algorithm =  89.75  %\n"
     ]
    }
   ],
   "source": [
    "print(\"Accuracy of Naive Bayes Algorithm = \",accuracy_score(y_test,y_preds) * 100 ,\" %\")"
   ]
  },
  {
   "cell_type": "code",
   "execution_count": 191,
   "metadata": {},
   "outputs": [
    {
     "name": "stdout",
     "output_type": "stream",
     "text": [
      "              precision    recall  f1-score   support\n",
      "\n",
      "           1       0.83      0.94      0.88       200\n",
      "           5       0.93      0.81      0.86       200\n",
      "\n",
      "    accuracy                           0.87       400\n",
      "   macro avg       0.88      0.87      0.87       400\n",
      "weighted avg       0.88      0.87      0.87       400\n",
      "\n"
     ]
    }
   ],
   "source": [
    "print(classification_report(Y,preds))"
   ]
  },
  {
   "cell_type": "markdown",
   "metadata": {},
   "source": [
    "## Bigger dataset of yelp 20K rows"
   ]
  },
  {
   "cell_type": "code",
   "execution_count": 193,
   "metadata": {},
   "outputs": [
    {
     "data": {
      "text/plain": [
       "(20000, 10)"
      ]
     },
     "execution_count": 193,
     "metadata": {},
     "output_type": "execute_result"
    }
   ],
   "source": [
    "b1 = df_stars_1.iloc[0:10000]\n",
    "b5 = df_stars_5.iloc[0:10000]\n",
    "b1_5 = pd.concat([b1,b5])\n",
    "df = b1_5.sample(frac=1).reset_index(drop=True)\n",
    "df.shape"
   ]
  },
  {
   "cell_type": "markdown",
   "metadata": {},
   "source": [
    "**split dataset to X and y**"
   ]
  },
  {
   "cell_type": "code",
   "execution_count": 194,
   "metadata": {},
   "outputs": [],
   "source": [
    "X,y = df['text'],df['stars']"
   ]
  },
  {
   "cell_type": "markdown",
   "metadata": {},
   "source": [
    "**Apply Count Vectorizer on it**"
   ]
  },
  {
   "cell_type": "markdown",
   "metadata": {},
   "source": [
    "**This cell will take much time**"
   ]
  },
  {
   "cell_type": "code",
   "execution_count": 195,
   "metadata": {},
   "outputs": [
    {
     "name": "stdout",
     "output_type": "stream",
     "text": [
      "Wall time: 12min 26s\n"
     ]
    }
   ],
   "source": [
    "%%time\n",
    "vectorizer = CountVectorizer(analyzer=text_cleaning)\n",
    "reviews_count_vectorizer_X = vectorizer.fit_transform(X)"
   ]
  },
  {
   "cell_type": "markdown",
   "metadata": {},
   "source": [
    "### Applying TF-IDF"
   ]
  },
  {
   "cell_type": "code",
   "execution_count": 196,
   "metadata": {},
   "outputs": [
    {
     "name": "stdout",
     "output_type": "stream",
     "text": [
      "Wall time: 104 ms\n"
     ]
    }
   ],
   "source": [
    "%%time\n",
    "from sklearn.feature_extraction.text import TfidfTransformer\n",
    "reviews_tfidf = TfidfTransformer().fit_transform(reviews_count_vectorizer_X)"
   ]
  },
  {
   "cell_type": "code",
   "execution_count": 197,
   "metadata": {},
   "outputs": [
    {
     "data": {
      "text/plain": [
       "(20000, 62330)"
      ]
     },
     "execution_count": 197,
     "metadata": {},
     "output_type": "execute_result"
    }
   ],
   "source": [
    "reviews_tfidf.shape"
   ]
  },
  {
   "cell_type": "markdown",
   "metadata": {},
   "source": [
    "### Data spliting to train and test"
   ]
  },
  {
   "cell_type": "code",
   "execution_count": 198,
   "metadata": {},
   "outputs": [],
   "source": [
    "from sklearn.model_selection import train_test_split\n",
    "X = reviews_tfidf\n",
    "X_train,X_test,y_train,y_test = train_test_split(X,y,test_size = 0.2)"
   ]
  },
  {
   "cell_type": "code",
   "execution_count": 199,
   "metadata": {},
   "outputs": [
    {
     "data": {
      "text/plain": [
       "((16000, 62330), (4000, 62330), (16000,), (4000,))"
      ]
     },
     "execution_count": 199,
     "metadata": {},
     "output_type": "execute_result"
    }
   ],
   "source": [
    "X_train.shape,X_test.shape,y_train.shape,y_test.shape"
   ]
  },
  {
   "cell_type": "code",
   "execution_count": 200,
   "metadata": {},
   "outputs": [
    {
     "data": {
      "text/plain": [
       "MultinomialNB()"
      ]
     },
     "execution_count": 200,
     "metadata": {},
     "output_type": "execute_result"
    }
   ],
   "source": [
    "from sklearn.naive_bayes import MultinomialNB\n",
    "\n",
    "NB_classifier = MultinomialNB()\n",
    "NB_classifier.fit(X_train,y_train)"
   ]
  },
  {
   "cell_type": "code",
   "execution_count": 201,
   "metadata": {},
   "outputs": [],
   "source": [
    "y_preds = NB_classifier.predict(X_test)"
   ]
  },
  {
   "cell_type": "code",
   "execution_count": 202,
   "metadata": {},
   "outputs": [
    {
     "data": {
      "text/plain": [
       "<matplotlib.axes._subplots.AxesSubplot at 0x7bbea4b100>"
      ]
     },
     "execution_count": 202,
     "metadata": {},
     "output_type": "execute_result"
    },
    {
     "data": {
      "image/png": "[encoded data removed]",
      "text/plain": [
       "<Figure size 432x288 with 2 Axes>"
      ]
     },
     "metadata": {
      "needs_background": "light"
     },
     "output_type": "display_data"
    }
   ],
   "source": [
    "cm = confusion_matrix(y_test,y_preds)\n",
    "sns.heatmap(cm,annot = True)"
   ]
  },
  {
   "cell_type": "code",
   "execution_count": 203,
   "metadata": {},
   "outputs": [
    {
     "name": "stdout",
     "output_type": "stream",
     "text": [
      "Accuracy of Naive Bayes Algorithm =  92.72500000000001  %\n"
     ]
    }
   ],
   "source": [
    "print(\"Accuracy of Naive Bayes Algorithm = \",accuracy_score(y_test,y_preds) * 100 ,\" %\")"
   ]
  },
  {
   "cell_type": "code",
   "execution_count": 205,
   "metadata": {},
   "outputs": [
    {
     "name": "stdout",
     "output_type": "stream",
     "text": [
      "              precision    recall  f1-score   support\n",
      "\n",
      "           1       0.90      0.96      0.93      1982\n",
      "           5       0.96      0.89      0.93      2018\n",
      "\n",
      "    accuracy                           0.93      4000\n",
      "   macro avg       0.93      0.93      0.93      4000\n",
      "weighted avg       0.93      0.93      0.93      4000\n",
      "\n"
     ]
    }
   ],
   "source": [
    "print(classification_report(y_test,y_preds))"
   ]
  },
  {
   "cell_type": "code",
   "execution_count": null,
   "metadata": {},
   "outputs": [],
   "source": []
  }
 ],
 "metadata": {
  "kernelspec": {
   "display_name": "Python 3",
   "language": "python",
   "name": "python3"
  },
  "language_info": {
   "codemirror_mode": {
    "name": "ipython",
    "version": 3
   },
   "file_extension": ".py",
   "mimetype": "text/x-python",
   "name": "python",
   "nbconvert_exporter": "python",
   "pygments_lexer": "ipython3",
   "version": "3.8.3"
  }
 },
 "nbformat": 4,
 "nbformat_minor": 4
}
