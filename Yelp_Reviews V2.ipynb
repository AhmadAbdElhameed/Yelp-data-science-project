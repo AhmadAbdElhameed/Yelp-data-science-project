{
 "cells": [
  {
   "cell_type": "markdown",
   "metadata": {},
   "source": [
    "## Introduction :\n",
    "- Yelp is a which publish crowd-sourced reviews about local businesses, as well as the online reservation service Yelp Reservations. The company also trains small businesses in how to respond to reviews, hosts social events for reviewers, and provides data about businesses, including health inspection scores.\n",
    "\n",
    "- Yelp was founded in 2004 by former PayPal employees. By 2010 it had $30 million in revenues and the website had published more than 4.5 million crowd-sourced reviews."
   ]
  },
  {
   "cell_type": "markdown",
   "metadata": {},
   "source": [
    "**Attribues of review table are as following :**\n",
    "\n",
    "    review_id: ID of the review\n",
    "    user_id: ID of the user\n",
    "    business_id: ID of the business\n",
    "    stars: ratings of the business\n",
    "    date: review date\n",
    "    text: review from the user\n",
    "    useful: number of users who vote a review as usefull\n",
    "    funny: number of users who vote a review as funny\n",
    "    cool: number of users who vote a review as cool"
   ]
  },
  {
   "cell_type": "markdown",
   "metadata": {},
   "source": [
    "### Import Libraries"
   ]
  },
  {
   "cell_type": "code",
   "execution_count": 1,
   "metadata": {},
   "outputs": [],
   "source": [
    "import json  \n",
    "import pandas as pd  \n",
    "from pandas.io.json import json_normalize  \n",
    "import numpy as np\n",
    "import matplotlib.pyplot as plt\n",
    "import seaborn as sns\n",
    "import time\n",
    "import csv\n",
    "from sklearn.model_selection import train_test_split\n",
    "from sklearn.feature_extraction.text import CountVectorizer\n",
    "from sklearn.feature_extraction.text import CountVectorizer\n",
    "from sklearn.svm import LinearSVC\n",
    "pd.set_option('display.float_format', lambda x: '%.4f' % x)"
   ]
  },
  {
   "cell_type": "markdown",
   "metadata": {},
   "source": [
    "### Import Dataset"
   ]
  },
  {
   "cell_type": "code",
   "execution_count": 2,
   "metadata": {},
   "outputs": [],
   "source": [
    "reviews = pd.read_csv('yelp_review.csv')"
   ]
  },
  {
   "cell_type": "code",
   "execution_count": 3,
   "metadata": {},
   "outputs": [
    {
     "name": "stdout",
     "output_type": "stream",
     "text": [
      "<class 'pandas.core.frame.DataFrame'>\n",
      "RangeIndex: 5261668 entries, 0 to 5261667\n",
      "Data columns (total 9 columns):\n",
      " #   Column       Dtype \n",
      "---  ------       ----- \n",
      " 0   review_id    object\n",
      " 1   user_id      object\n",
      " 2   business_id  object\n",
      " 3   stars        int64 \n",
      " 4   date         object\n",
      " 5   text         object\n",
      " 6   useful       int64 \n",
      " 7   funny        int64 \n",
      " 8   cool         int64 \n",
      "dtypes: int64(4), object(5)\n",
      "memory usage: 361.3+ MB\n"
     ]
    }
   ],
   "source": [
    "reviews.info()"
   ]
  },
  {
   "cell_type": "code",
   "execution_count": 4,
   "metadata": {},
   "outputs": [
    {
     "data": {
      "text/plain": [
       "review_id      0\n",
       "user_id        0\n",
       "business_id    0\n",
       "stars          0\n",
       "date           0\n",
       "text           0\n",
       "useful         0\n",
       "funny          0\n",
       "cool           0\n",
       "dtype: int64"
      ]
     },
     "execution_count": 4,
     "metadata": {},
     "output_type": "execute_result"
    }
   ],
   "source": [
    "reviews.isnull().sum()"
   ]
  },
  {
   "cell_type": "code",
   "execution_count": 5,
   "metadata": {},
   "outputs": [
    {
     "data": {
      "text/html": [
       "<div>\n",
       "<style scoped>\n",
       "    .dataframe tbody tr th:only-of-type {\n",
       "        vertical-align: middle;\n",
       "    }\n",
       "\n",
       "    .dataframe tbody tr th {\n",
       "        vertical-align: top;\n",
       "    }\n",
       "\n",
       "    .dataframe thead th {\n",
       "        text-align: right;\n",
       "    }\n",
       "</style>\n",
       "<table border=\"1\" class=\"dataframe\">\n",
       "  <thead>\n",
       "    <tr style=\"text-align: right;\">\n",
       "      <th></th>\n",
       "      <th>review_id</th>\n",
       "      <th>user_id</th>\n",
       "      <th>business_id</th>\n",
       "      <th>stars</th>\n",
       "      <th>date</th>\n",
       "      <th>text</th>\n",
       "      <th>useful</th>\n",
       "      <th>funny</th>\n",
       "      <th>cool</th>\n",
       "    </tr>\n",
       "  </thead>\n",
       "  <tbody>\n",
       "    <tr>\n",
       "      <th>0</th>\n",
       "      <td>vkVSCC7xljjrAI4UGfnKEQ</td>\n",
       "      <td>bv2nCi5Qv5vroFiqKGopiw</td>\n",
       "      <td>AEx2SYEUJmTxVVB18LlCwA</td>\n",
       "      <td>5</td>\n",
       "      <td>2016-05-28</td>\n",
       "      <td>Super simple place but amazing nonetheless. It...</td>\n",
       "      <td>0</td>\n",
       "      <td>0</td>\n",
       "      <td>0</td>\n",
       "    </tr>\n",
       "    <tr>\n",
       "      <th>1</th>\n",
       "      <td>n6QzIUObkYshz4dz2QRJTw</td>\n",
       "      <td>bv2nCi5Qv5vroFiqKGopiw</td>\n",
       "      <td>VR6GpWIda3SfvPC-lg9H3w</td>\n",
       "      <td>5</td>\n",
       "      <td>2016-05-28</td>\n",
       "      <td>Small unassuming place that changes their menu...</td>\n",
       "      <td>0</td>\n",
       "      <td>0</td>\n",
       "      <td>0</td>\n",
       "    </tr>\n",
       "    <tr>\n",
       "      <th>2</th>\n",
       "      <td>MV3CcKScW05u5LVfF6ok0g</td>\n",
       "      <td>bv2nCi5Qv5vroFiqKGopiw</td>\n",
       "      <td>CKC0-MOWMqoeWf6s-szl8g</td>\n",
       "      <td>5</td>\n",
       "      <td>2016-05-28</td>\n",
       "      <td>Lester's is located in a beautiful neighborhoo...</td>\n",
       "      <td>0</td>\n",
       "      <td>0</td>\n",
       "      <td>0</td>\n",
       "    </tr>\n",
       "  </tbody>\n",
       "</table>\n",
       "</div>"
      ],
      "text/plain": [
       "                review_id                 user_id             business_id  \\\n",
       "0  vkVSCC7xljjrAI4UGfnKEQ  bv2nCi5Qv5vroFiqKGopiw  AEx2SYEUJmTxVVB18LlCwA   \n",
       "1  n6QzIUObkYshz4dz2QRJTw  bv2nCi5Qv5vroFiqKGopiw  VR6GpWIda3SfvPC-lg9H3w   \n",
       "2  MV3CcKScW05u5LVfF6ok0g  bv2nCi5Qv5vroFiqKGopiw  CKC0-MOWMqoeWf6s-szl8g   \n",
       "\n",
       "   stars        date                                               text  \\\n",
       "0      5  2016-05-28  Super simple place but amazing nonetheless. It...   \n",
       "1      5  2016-05-28  Small unassuming place that changes their menu...   \n",
       "2      5  2016-05-28  Lester's is located in a beautiful neighborhoo...   \n",
       "\n",
       "   useful  funny  cool  \n",
       "0       0      0     0  \n",
       "1       0      0     0  \n",
       "2       0      0     0  "
      ]
     },
     "execution_count": 5,
     "metadata": {},
     "output_type": "execute_result"
    }
   ],
   "source": [
    "reviews.head(3)"
   ]
  },
  {
   "cell_type": "code",
   "execution_count": 6,
   "metadata": {},
   "outputs": [
    {
     "data": {
      "text/html": [
       "<div>\n",
       "<style scoped>\n",
       "    .dataframe tbody tr th:only-of-type {\n",
       "        vertical-align: middle;\n",
       "    }\n",
       "\n",
       "    .dataframe tbody tr th {\n",
       "        vertical-align: top;\n",
       "    }\n",
       "\n",
       "    .dataframe thead th {\n",
       "        text-align: right;\n",
       "    }\n",
       "</style>\n",
       "<table border=\"1\" class=\"dataframe\">\n",
       "  <thead>\n",
       "    <tr style=\"text-align: right;\">\n",
       "      <th></th>\n",
       "      <th>stars</th>\n",
       "      <th>useful</th>\n",
       "      <th>funny</th>\n",
       "      <th>cool</th>\n",
       "    </tr>\n",
       "  </thead>\n",
       "  <tbody>\n",
       "    <tr>\n",
       "      <th>count</th>\n",
       "      <td>5261668.0000</td>\n",
       "      <td>5261668.0000</td>\n",
       "      <td>5261668.0000</td>\n",
       "      <td>5261668.0000</td>\n",
       "    </tr>\n",
       "    <tr>\n",
       "      <th>mean</th>\n",
       "      <td>3.7277</td>\n",
       "      <td>1.3851</td>\n",
       "      <td>0.5092</td>\n",
       "      <td>0.5861</td>\n",
       "    </tr>\n",
       "    <tr>\n",
       "      <th>std</th>\n",
       "      <td>1.4336</td>\n",
       "      <td>4.5287</td>\n",
       "      <td>2.6862</td>\n",
       "      <td>2.2337</td>\n",
       "    </tr>\n",
       "    <tr>\n",
       "      <th>min</th>\n",
       "      <td>1.0000</td>\n",
       "      <td>-1.0000</td>\n",
       "      <td>0.0000</td>\n",
       "      <td>-1.0000</td>\n",
       "    </tr>\n",
       "    <tr>\n",
       "      <th>25%</th>\n",
       "      <td>3.0000</td>\n",
       "      <td>0.0000</td>\n",
       "      <td>0.0000</td>\n",
       "      <td>0.0000</td>\n",
       "    </tr>\n",
       "    <tr>\n",
       "      <th>50%</th>\n",
       "      <td>4.0000</td>\n",
       "      <td>0.0000</td>\n",
       "      <td>0.0000</td>\n",
       "      <td>0.0000</td>\n",
       "    </tr>\n",
       "    <tr>\n",
       "      <th>75%</th>\n",
       "      <td>5.0000</td>\n",
       "      <td>2.0000</td>\n",
       "      <td>0.0000</td>\n",
       "      <td>1.0000</td>\n",
       "    </tr>\n",
       "    <tr>\n",
       "      <th>max</th>\n",
       "      <td>5.0000</td>\n",
       "      <td>3364.0000</td>\n",
       "      <td>1481.0000</td>\n",
       "      <td>1105.0000</td>\n",
       "    </tr>\n",
       "  </tbody>\n",
       "</table>\n",
       "</div>"
      ],
      "text/plain": [
       "             stars       useful        funny         cool\n",
       "count 5261668.0000 5261668.0000 5261668.0000 5261668.0000\n",
       "mean        3.7277       1.3851       0.5092       0.5861\n",
       "std         1.4336       4.5287       2.6862       2.2337\n",
       "min         1.0000      -1.0000       0.0000      -1.0000\n",
       "25%         3.0000       0.0000       0.0000       0.0000\n",
       "50%         4.0000       0.0000       0.0000       0.0000\n",
       "75%         5.0000       2.0000       0.0000       1.0000\n",
       "max         5.0000    3364.0000    1481.0000    1105.0000"
      ]
     },
     "execution_count": 6,
     "metadata": {},
     "output_type": "execute_result"
    }
   ],
   "source": [
    "reviews.describe()"
   ]
  },
  {
   "cell_type": "code",
   "execution_count": 8,
   "metadata": {},
   "outputs": [
    {
     "data": {
      "text/plain": [
       "'Came here with my girlfriends one Sunday afternoon. This place will take a long time to serve your food - as it took them almost an hour to give us our food. So make sure you give yourself lots of time! It is definitely a lazy brunch place!\\n\\nDefinitely recommend the pancakes! Beware of the portion sizes - they are huge!'"
      ]
     },
     "execution_count": 8,
     "metadata": {},
     "output_type": "execute_result"
    }
   ],
   "source": [
    "reviews[\"text\"][17]"
   ]
  },
  {
   "cell_type": "markdown",
   "metadata": {},
   "source": [
    "### Dataset Visualization"
   ]
  },
  {
   "cell_type": "code",
   "execution_count": 9,
   "metadata": {},
   "outputs": [],
   "source": [
    "reviews['length'] = reviews['text'].apply(len)"
   ]
  },
  {
   "cell_type": "code",
   "execution_count": 13,
   "metadata": {},
   "outputs": [
    {
     "data": {
      "image/png": "[encoded data removed]",
      "text/plain": [
       "<Figure size 432x288 with 1 Axes>"
      ]
     },
     "metadata": {
      "needs_background": "light"
     },
     "output_type": "display_data"
    }
   ],
   "source": [
    "reviews['length'].plot(bins=100,kind = \"hist\");"
   ]
  },
  {
   "cell_type": "code",
   "execution_count": 14,
   "metadata": {
    "scrolled": true
   },
   "outputs": [
    {
     "data": {
      "text/plain": [
       "count   5261668.0000\n",
       "mean        611.8673\n",
       "std         572.1642\n",
       "min           1.0000\n",
       "25%         242.0000\n",
       "50%         434.0000\n",
       "75%         780.0000\n",
       "max        5056.0000\n",
       "Name: length, dtype: float64"
      ]
     },
     "execution_count": 14,
     "metadata": {},
     "output_type": "execute_result"
    }
   ],
   "source": [
    "reviews['length'].describe()"
   ]
  },
  {
   "cell_type": "code",
   "execution_count": null,
   "metadata": {},
   "outputs": [],
   "source": [
    "## The max review"
   ]
  },
  {
   "cell_type": "code",
   "execution_count": 15,
   "metadata": {},
   "outputs": [
    {
     "data": {
      "text/plain": [
       "'On the day of execution, on the day of execution\\n\"Only women kneel and smile, ah-ah, ah-ah\"\\n\\n-----------------------------------------\\xad\\xad\\xad\\xad\\xad\\xad\\xad\\xad\\xad\\xad\\xad\\xad\\xad\\xad\\xad\\xad-------------------\\n\\nIn A Sentence™\\nAll shiny and slick with a badass parking garage; however, it\\'s a slimy shitshow .\\n\\nQuick Review™\\n+   Artwork all around. Relatively vertical parking garage with sensor lights to notify of empty carports. Centrally located and accessible from the west via a bridge to avoid the boulevard.  \\n\\n+\\\\/- Venues: Book\\\\/Stage (defunct), Bond, Boulevard Pool, Chandelier, Chelsea, Rose.Rabbit.Lie.\\n\\n-    Where to start? It\\'s a fucking shitshow: bunch of nickel and diming amateurs. \\n\\nEmployee of Excellence™ \\nUnknown names: they used to work at Book\\\\/Stage and probably all got fired.\\n\\n-----------------------------------------\\xad\\xad\\xad\\xad\\xad\\xad\\xad\\xad\\xad\\xad\\xad\\xad\\xad\\xad\\xad\\xad-------------------\\n\\nI have some personal experiences here. I have enough personal experiences here to self-publish a goddamn, shitty book. \\n\\nCosmopolitan is nice and shiny and at first look: a cool, slick resort casino. I was a big fan when Book\\\\/Stage was hosting mini-residencies of eight shows. I practically lived here.\\n\\nYet, my troubles started once Deutsche Bank took over. \\n\\nBoulevard Pool\\nAs chronicled in my Blvd Pool review (linked below), they kept me from entering shows that I had tickets for because I was arriving too late (according to them). To contextualise: they basically did everything that they could to keep me from an Edward Sharpe & The Magnetic Zeros (when it was the full group with Jade still) and I had to sneak into it. Never mind that there thirty minutes of live concert still fucking remaining for me to enjoy after I wasted ten minutes sneaking in. \\n\\nCasino Floor\\\\/Identity® (Player\\'s Club)\\nIn terms of the gaming: I played and played in two promotional offers from Identity®. One of these promotions I recall vividly because it still pisses me off thinking of it today: Adele. Two tickets to Adele at Chelsea (the old Chelsea). One had to be present when they were awarded, so a gift homer if one accrued the points and showed up at the time of the stupid giveaway. Except for one little detail that was so hidden in the fine print one had to be a corporate attorney to catch wind: it was only on specific machines that no employee that I came across could tell me with certainty. Fucking scam artists. \\n\\nConcierge\\nIn terms of the concierge: this is where they earn their rating. I purchased floor tickets to Kevin Hart, early show. Something came up and I couldn\\'t go. I called the concierge and asked if I could switch them to the late show. Paraphrasing: well, those seats are sold out for the late show. \\n\\nOkay, I understand. How about you give me the shittiest tickets you have for that late show and you can give away or sell once more or so whatever the fuck you want with my much more expensive early tickets? I\\'ll paraphrase their response once more: well, tickets are nonrefundable and no exchanges. \\n\\nAlright. I understand the standard, corporate language on the back of ducats. This is not my first rodeo, asshole. I am calling you because you are supposed to be a concierge, asshole. Moreover, why didn\\'t you say this to begin with instead of sharing with me the pointless information that all tickets on the floor were sold out for the late show (if you weren\\'t capable of exchanging)? Fucking assholes. \\n\\nThe tickets went to waste; and you get a fucking one-star for it, you useless scumbags. Enjoy! \\n\\nBook & Stage - Four-stars\\nhttp:\\\\/\\\\/www.yelp.com\\\\/biz\\\\/book-and-stage-las-vegas?hrid=4QDzlC3HGQr_vMk865bYZA&utm_campaign=www_review_share_popup&utm_medium=copy_link&utm_source=(direct)\\n\\nBond - TBD\\nhttp:\\\\/\\\\/www.yelp.com\\\\/biz\\\\/bond-las-vegas\\n\\nBoulevard Pool - Two-stars\\nhttp:\\\\/\\\\/www.yelp.com\\\\/biz\\\\/boulevard-pool-las-vegas?hrid=S2BuqhJipNCkfSClnD20yg&utm_campaign=www_review_share_popup&utm_medium=copy_link&utm_source=(direct)\\n\\nThe Chandelier - TBD\\nhttp:\\\\/\\\\/www.yelp.com\\\\/biz\\\\/the-chandelier-las-vegas\\n\\nThe Chelsea - TBD\\nhttp:\\\\/\\\\/www.yelp.com\\\\/biz\\\\/the-chelsea-las-vegas\\n\\nChino Poblano - TBD\\nhttp:\\\\/\\\\/www.yelp.com\\\\/biz\\\\/china-poblano-las-vegas\\n\\nThe Henry - TBD\\nhttp:\\\\/\\\\/www.yelp.com\\\\/biz\\\\/the-henry-las-vegas\\n\\nHolstein\\'s Shakes & Buns - TBD\\nhttp:\\\\/\\\\/www.yelp.com\\\\/biz\\\\/holsteins-shakes-and-buns-las-vegas\\n\\nJaleo - TBD\\nhttp:\\\\/\\\\/www.yelp.com\\\\/biz\\\\/jaleo-las-vegas\\n\\nP3 Studio - TBD\\nhttp:\\\\/\\\\/www.yelp.com\\\\/biz\\\\/p3-studio-las-vegas\\n\\nRose.Rabbit.Lie - TBD\\nhttp:\\\\/\\\\/www.yelp.com\\\\/biz\\\\/rose-rabbit-lie-las-vegas\\n\\nSecret Pizza - Three-stars\\nhttp:\\\\/\\\\/www.yelp.com\\\\/biz\\\\/secret-pizza-las-vegas?hrid=KZSAZI08xYZ4fUIELN3EaQ&utm_campaign=www_review_share_popup&utm_medium=copy_link&utm_source=(direct)\\n\\nWicked Spoon - TBD\\nhttp:\\\\/\\\\/www.yelp.com\\\\/biz\\\\/wicked-spoon-las-vegas\\n\\n-----------------------------------------\\xad\\xad\\xad\\xad\\xad\\xad\\xad\\xad\\xad\\xad\\xad\\xad\\xad\\xad\\xad\\xad-------------------\\n\\nTourists?\\nLots of them: 98\\\\/2 tourists-to-locals ratio here. Why would locals gamble here? \\n\\nGood for Kids?\\nNo!\\n\\n-----------------------------------------\\xad\\xad\\xad\\xad\\xad\\xad\\xad\\xad\\xad\\xad\\xad\\xad\\xad\\xad\\xad\\xad-------------------\\n\\nRating: One-star, \"Eek! Methinks not.\" (5000 characters.)'"
      ]
     },
     "execution_count": 15,
     "metadata": {},
     "output_type": "execute_result"
    }
   ],
   "source": [
    "reviews[reviews['length'] == 5056]['text'].iloc[0]"
   ]
  },
  {
   "cell_type": "code",
   "execution_count": null,
   "metadata": {},
   "outputs": [],
   "source": [
    "## The min review"
   ]
  },
  {
   "cell_type": "code",
   "execution_count": 16,
   "metadata": {},
   "outputs": [
    {
     "data": {
      "text/plain": [
       "'O'"
      ]
     },
     "execution_count": 16,
     "metadata": {},
     "output_type": "execute_result"
    }
   ],
   "source": [
    "reviews[reviews['length'] == 1]['text'].iloc[0]"
   ]
  },
  {
   "cell_type": "code",
   "execution_count": null,
   "metadata": {},
   "outputs": [],
   "source": [
    "## The mean review"
   ]
  },
  {
   "cell_type": "code",
   "execution_count": 17,
   "metadata": {},
   "outputs": [
    {
     "data": {
      "text/plain": [
       "\"Kantapia is great for what it is - a quick eats restaurant in a student area. \\n\\nThe seating isn't spectacular, the ambience is bare but there is a lively buzz to the restaurant that is endearing. \\n\\nThe staff are friendly and give advice on what to order and take the time to explain the more complicated menu items. The food is okay - the portions are generous. \\n\\nThey have specifically marked vegetarian items on the menu which is a really great point and are sweet to warn that the broth for their ramen is chicken based. \\n\\nGo on a cold day when you're close by and are looking for a good meal to warm you up.\""
      ]
     },
     "execution_count": 17,
     "metadata": {},
     "output_type": "execute_result"
    }
   ],
   "source": [
    "reviews[reviews['length'] == 611]['text'].iloc[0]"
   ]
  },
  {
   "cell_type": "code",
   "execution_count": 21,
   "metadata": {},
   "outputs": [
    {
     "data": {
      "image/png": "[encoded data removed]",
      "text/plain": [
       "<Figure size 1008x576 with 1 Axes>"
      ]
     },
     "metadata": {
      "needs_background": "light"
     },
     "output_type": "display_data"
    }
   ],
   "source": [
    "plt.figure(figsize=(14,8))\n",
    "ind_reviews = reviews.stars.value_counts()\n",
    "sns.countplot(y='stars',data=reviews, \n",
    "              order = ind_reviews.index, palette= sns.color_palette(\"GnBu_r\", len(ind_reviews)))\n",
    "plt.title('Distribution of stars reviews', fontsize=15)\n",
    "plt.xlabel('Number of Reviews', fontsize=14, labelpad=10)\n",
    "plt.ylabel('Stars', fontsize=14)\n",
    "plt.tick_params(labelsize=14)\n",
    "for  m, n in enumerate(reviews.stars.value_counts()):\n",
    "    plt.text(n, m+0.15, str(n), fontweight='bold', fontsize=14)"
   ]
  },
  {
   "cell_type": "code",
   "execution_count": 25,
   "metadata": {},
   "outputs": [
    {
     "data": {
      "text/plain": [
       "<seaborn.axisgrid.FacetGrid at 0x7bb7e20d60>"
      ]
     },
     "execution_count": 25,
     "metadata": {},
     "output_type": "execute_result"
    },
    {
     "data": {
      "image/png": "[encoded data removed]",
      "text/plain": [
       "<Figure size 432x648 with 5 Axes>"
      ]
     },
     "metadata": {
      "needs_background": "light"
     },
     "output_type": "display_data"
    }
   ],
   "source": [
    "## Show the 5 stars column each one in seperate graph\n",
    "vis_5s = sns.FacetGrid(data=reviews ,col=\"stars\",col_wrap= 2)\n",
    "vis_5s.map(plt.hist,\"length\",bins = 20,color = \"b\")"
   ]
  },
  {
   "cell_type": "code",
   "execution_count": null,
   "metadata": {},
   "outputs": [],
   "source": []
  }
 ],
 "metadata": {
  "kernelspec": {
   "display_name": "Python 3",
   "language": "python",
   "name": "python3"
  },
  "language_info": {
   "codemirror_mode": {
    "name": "ipython",
    "version": 3
   },
   "file_extension": ".py",
   "mimetype": "text/x-python",
   "name": "python",
   "nbconvert_exporter": "python",
   "pygments_lexer": "ipython3",
   "version": "3.8.3"
  }
 },
 "nbformat": 4,
 "nbformat_minor": 4
}
